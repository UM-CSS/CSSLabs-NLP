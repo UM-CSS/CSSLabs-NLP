{
 "cells": [
  {
   "cell_type": "markdown",
   "metadata": {},
   "source": [
    "# Topic Modeling Lab\n",
    "This notebook uses LDA in GenSim module. The original notebook uses LDA in SKLearn instead.  \n",
    "We want to use this notebook to compare two different LDA implementations in 3_Topic_modeling.ipynb. \n",
    "Please send any comments to CMPLXSYS251-Fall2024@umich.edu.\n",
    "\n",
    "## Contents\n",
    "1. [Setup](#Section-1%3A-Setup)\n",
    "    1. [Import](#1.1-Import-Packages)\n",
    "    1. [Download](#1.2-Download-and-Prepare-Data)\n",
    "    1. [Read](#1.3-Read-Data)\n",
    "    1. [Pick Your Data](#1.4-Pick-Your-Data)\n",
    "    1. [Clean Text](#1.5-Clean-Text)\n",
    "1. [Converting Text to Numbers](#Section-2%3A-Converting-Text-to-Numbers)\n",
    "1. [LDA Topic Model](#Section-3%3A-LDA-Topic-Model)\n",
    "1. [Interpret Topics](#Section-4%3A-Interpret-Topics)\n",
    "1. [Topic Quality](#Section-5%3A-Topic-Quality)\n",
    "1. [Topic Popularity](#Section-6%3A-Topic-Popularity)\n",
    "1. [NMF Topic Model](#Section-7%3A-NMF-Topic-Model)\n",
    "1. [What We Learned](#Section-7%3A-What-We-Learned)\n",
    "\n",
    "## Section 0: Background\n",
    "- In this lab, we'll learn about topic modeling. Topic modeling uses statistics to understand what text is about, that is, to find the topics in text.\n",
    "- We'll use the online dating profile text that OKCupid made public as our example, but of course topic modeling can be used on any text.\n",
    "\n",
    "@Author: [Jeff Lockhart](http://www-personal.umich.edu/~jwlock/) & [Ed Platt](https://elplatt.com/), with some code adapted from [Aneesha Bakharia](https://medium.com/@aneesha/topic-modeling-with-scikit-learn-e80d33668730)'s example."
   ]
  },
  {
   "cell_type": "markdown",
   "metadata": {
    "jp-MarkdownHeadingCollapsed": true
   },
   "source": [
    "## Section 1: Setup\n",
    "### 1.1 Import Packages\n",
    "- Packages contain code others have written to make our work easier."
   ]
  },
  {
   "cell_type": "code",
   "execution_count": 1,
   "metadata": {},
   "outputs": [
    {
     "name": "stdout",
     "output_type": "stream",
     "text": [
      "Requirement already satisfied: lxml in /opt/conda/lib/python3.11/site-packages (5.3.0)\n",
      "Requirement already satisfied: spacy in /opt/conda/lib/python3.11/site-packages (3.7.6)\n",
      "Requirement already satisfied: spacy-legacy<3.1.0,>=3.0.11 in /opt/conda/lib/python3.11/site-packages (from spacy) (3.0.12)\n",
      "Requirement already satisfied: spacy-loggers<2.0.0,>=1.0.0 in /opt/conda/lib/python3.11/site-packages (from spacy) (1.0.5)\n",
      "Requirement already satisfied: murmurhash<1.1.0,>=0.28.0 in /opt/conda/lib/python3.11/site-packages (from spacy) (1.0.10)\n",
      "Requirement already satisfied: cymem<2.1.0,>=2.0.2 in /opt/conda/lib/python3.11/site-packages (from spacy) (2.0.8)\n",
      "Requirement already satisfied: preshed<3.1.0,>=3.0.2 in /opt/conda/lib/python3.11/site-packages (from spacy) (3.0.9)\n",
      "Requirement already satisfied: thinc<8.3.0,>=8.2.2 in /opt/conda/lib/python3.11/site-packages (from spacy) (8.2.5)\n",
      "Requirement already satisfied: wasabi<1.2.0,>=0.9.1 in /opt/conda/lib/python3.11/site-packages (from spacy) (1.1.3)\n",
      "Requirement already satisfied: srsly<3.0.0,>=2.4.3 in /opt/conda/lib/python3.11/site-packages (from spacy) (2.4.8)\n",
      "Requirement already satisfied: catalogue<2.1.0,>=2.0.6 in /opt/conda/lib/python3.11/site-packages (from spacy) (2.0.10)\n",
      "Requirement already satisfied: weasel<0.5.0,>=0.1.0 in /opt/conda/lib/python3.11/site-packages (from spacy) (0.4.1)\n",
      "Requirement already satisfied: typer<1.0.0,>=0.3.0 in /opt/conda/lib/python3.11/site-packages (from spacy) (0.12.5)\n",
      "Requirement already satisfied: tqdm<5.0.0,>=4.38.0 in /opt/conda/lib/python3.11/site-packages (from spacy) (4.66.1)\n",
      "Requirement already satisfied: requests<3.0.0,>=2.13.0 in /opt/conda/lib/python3.11/site-packages (from spacy) (2.31.0)\n",
      "Requirement already satisfied: pydantic!=1.8,!=1.8.1,<3.0.0,>=1.7.4 in /opt/conda/lib/python3.11/site-packages (from spacy) (2.9.1)\n",
      "Requirement already satisfied: jinja2 in /opt/conda/lib/python3.11/site-packages (from spacy) (3.1.2)\n",
      "Requirement already satisfied: setuptools in /opt/conda/lib/python3.11/site-packages (from spacy) (69.0.3)\n",
      "Requirement already satisfied: packaging>=20.0 in /opt/conda/lib/python3.11/site-packages (from spacy) (23.2)\n",
      "Requirement already satisfied: langcodes<4.0.0,>=3.2.0 in /opt/conda/lib/python3.11/site-packages (from spacy) (3.4.0)\n",
      "Requirement already satisfied: numpy>=1.19.0 in /opt/conda/lib/python3.11/site-packages (from spacy) (1.26.3)\n",
      "Requirement already satisfied: language-data>=1.2 in /opt/conda/lib/python3.11/site-packages (from langcodes<4.0.0,>=3.2.0->spacy) (1.2.0)\n",
      "Requirement already satisfied: annotated-types>=0.6.0 in /opt/conda/lib/python3.11/site-packages (from pydantic!=1.8,!=1.8.1,<3.0.0,>=1.7.4->spacy) (0.7.0)\n",
      "Requirement already satisfied: pydantic-core==2.23.3 in /opt/conda/lib/python3.11/site-packages (from pydantic!=1.8,!=1.8.1,<3.0.0,>=1.7.4->spacy) (2.23.3)\n",
      "Requirement already satisfied: typing-extensions>=4.6.1 in /opt/conda/lib/python3.11/site-packages (from pydantic!=1.8,!=1.8.1,<3.0.0,>=1.7.4->spacy) (4.9.0)\n",
      "Requirement already satisfied: charset-normalizer<4,>=2 in /opt/conda/lib/python3.11/site-packages (from requests<3.0.0,>=2.13.0->spacy) (3.3.2)\n",
      "Requirement already satisfied: idna<4,>=2.5 in /opt/conda/lib/python3.11/site-packages (from requests<3.0.0,>=2.13.0->spacy) (3.6)\n",
      "Requirement already satisfied: urllib3<3,>=1.21.1 in /opt/conda/lib/python3.11/site-packages (from requests<3.0.0,>=2.13.0->spacy) (2.1.0)\n",
      "Requirement already satisfied: certifi>=2017.4.17 in /opt/conda/lib/python3.11/site-packages (from requests<3.0.0,>=2.13.0->spacy) (2023.11.17)\n",
      "Requirement already satisfied: blis<0.8.0,>=0.7.8 in /opt/conda/lib/python3.11/site-packages (from thinc<8.3.0,>=8.2.2->spacy) (0.7.11)\n",
      "Requirement already satisfied: confection<1.0.0,>=0.0.1 in /opt/conda/lib/python3.11/site-packages (from thinc<8.3.0,>=8.2.2->spacy) (0.1.5)\n",
      "Requirement already satisfied: click>=8.0.0 in /opt/conda/lib/python3.11/site-packages (from typer<1.0.0,>=0.3.0->spacy) (8.1.7)\n",
      "Requirement already satisfied: shellingham>=1.3.0 in /opt/conda/lib/python3.11/site-packages (from typer<1.0.0,>=0.3.0->spacy) (1.5.4)\n",
      "Requirement already satisfied: rich>=10.11.0 in /opt/conda/lib/python3.11/site-packages (from typer<1.0.0,>=0.3.0->spacy) (13.8.0)\n",
      "Requirement already satisfied: cloudpathlib<1.0.0,>=0.7.0 in /opt/conda/lib/python3.11/site-packages (from weasel<0.5.0,>=0.1.0->spacy) (0.19.0)\n",
      "Requirement already satisfied: smart-open<8.0.0,>=5.2.1 in /opt/conda/lib/python3.11/site-packages (from weasel<0.5.0,>=0.1.0->spacy) (7.0.4)\n",
      "Requirement already satisfied: MarkupSafe>=2.0 in /opt/conda/lib/python3.11/site-packages (from jinja2->spacy) (2.1.3)\n",
      "Requirement already satisfied: marisa-trie>=0.7.7 in /opt/conda/lib/python3.11/site-packages (from language-data>=1.2->langcodes<4.0.0,>=3.2.0->spacy) (1.2.0)\n",
      "Requirement already satisfied: markdown-it-py>=2.2.0 in /opt/conda/lib/python3.11/site-packages (from rich>=10.11.0->typer<1.0.0,>=0.3.0->spacy) (3.0.0)\n",
      "Requirement already satisfied: pygments<3.0.0,>=2.13.0 in /opt/conda/lib/python3.11/site-packages (from rich>=10.11.0->typer<1.0.0,>=0.3.0->spacy) (2.17.2)\n",
      "Requirement already satisfied: wrapt in /opt/conda/lib/python3.11/site-packages (from smart-open<8.0.0,>=5.2.1->weasel<0.5.0,>=0.1.0->spacy) (1.16.0)\n",
      "Requirement already satisfied: mdurl~=0.1 in /opt/conda/lib/python3.11/site-packages (from markdown-it-py>=2.2.0->rich>=10.11.0->typer<1.0.0,>=0.3.0->spacy) (0.1.2)\n",
      "Requirement already satisfied: gensim in /opt/conda/lib/python3.11/site-packages (4.3.3)\n",
      "Requirement already satisfied: numpy<2.0,>=1.18.5 in /opt/conda/lib/python3.11/site-packages (from gensim) (1.26.3)\n",
      "Requirement already satisfied: scipy<1.14.0,>=1.7.0 in /opt/conda/lib/python3.11/site-packages (from gensim) (1.11.3)\n",
      "Requirement already satisfied: smart-open>=1.8.1 in /opt/conda/lib/python3.11/site-packages (from gensim) (7.0.4)\n",
      "Requirement already satisfied: wrapt in /opt/conda/lib/python3.11/site-packages (from smart-open>=1.8.1->gensim) (1.16.0)\n",
      "Requirement already satisfied: nltk in /opt/conda/lib/python3.11/site-packages (3.9.1)\n",
      "Requirement already satisfied: click in /opt/conda/lib/python3.11/site-packages (from nltk) (8.1.7)\n",
      "Requirement already satisfied: joblib in /opt/conda/lib/python3.11/site-packages (from nltk) (1.3.2)\n",
      "Requirement already satisfied: regex>=2021.8.3 in /opt/conda/lib/python3.11/site-packages (from nltk) (2024.7.24)\n",
      "Requirement already satisfied: tqdm in /opt/conda/lib/python3.11/site-packages (from nltk) (4.66.1)\n",
      "Requirement already satisfied: tqdm in /opt/conda/lib/python3.11/site-packages (4.66.1)\n",
      "Requirement already satisfied: pyLDAvis in /opt/conda/lib/python3.11/site-packages (3.4.1)\n",
      "Requirement already satisfied: numpy>=1.24.2 in /opt/conda/lib/python3.11/site-packages (from pyLDAvis) (1.26.3)\n",
      "Requirement already satisfied: scipy in /opt/conda/lib/python3.11/site-packages (from pyLDAvis) (1.11.3)\n",
      "Requirement already satisfied: pandas>=2.0.0 in /opt/conda/lib/python3.11/site-packages (from pyLDAvis) (2.1.4)\n",
      "Requirement already satisfied: joblib>=1.2.0 in /opt/conda/lib/python3.11/site-packages (from pyLDAvis) (1.3.2)\n",
      "Requirement already satisfied: jinja2 in /opt/conda/lib/python3.11/site-packages (from pyLDAvis) (3.1.2)\n",
      "Requirement already satisfied: numexpr in /opt/conda/lib/python3.11/site-packages (from pyLDAvis) (2.8.8)\n",
      "Requirement already satisfied: funcy in /opt/conda/lib/python3.11/site-packages (from pyLDAvis) (2.0)\n",
      "Requirement already satisfied: scikit-learn>=1.0.0 in /opt/conda/lib/python3.11/site-packages (from pyLDAvis) (1.3.2)\n",
      "Requirement already satisfied: gensim in /opt/conda/lib/python3.11/site-packages (from pyLDAvis) (4.3.3)\n",
      "Requirement already satisfied: setuptools in /opt/conda/lib/python3.11/site-packages (from pyLDAvis) (69.0.3)\n",
      "Requirement already satisfied: python-dateutil>=2.8.2 in /opt/conda/lib/python3.11/site-packages (from pandas>=2.0.0->pyLDAvis) (2.8.2)\n",
      "Requirement already satisfied: pytz>=2020.1 in /opt/conda/lib/python3.11/site-packages (from pandas>=2.0.0->pyLDAvis) (2023.3.post1)\n",
      "Requirement already satisfied: tzdata>=2022.1 in /opt/conda/lib/python3.11/site-packages (from pandas>=2.0.0->pyLDAvis) (2023.4)\n",
      "Requirement already satisfied: threadpoolctl>=2.0.0 in /opt/conda/lib/python3.11/site-packages (from scikit-learn>=1.0.0->pyLDAvis) (3.2.0)\n",
      "Requirement already satisfied: smart-open>=1.8.1 in /opt/conda/lib/python3.11/site-packages (from gensim->pyLDAvis) (7.0.4)\n",
      "Requirement already satisfied: MarkupSafe>=2.0 in /opt/conda/lib/python3.11/site-packages (from jinja2->pyLDAvis) (2.1.3)\n",
      "Requirement already satisfied: six>=1.5 in /opt/conda/lib/python3.11/site-packages (from python-dateutil>=2.8.2->pandas>=2.0.0->pyLDAvis) (1.16.0)\n",
      "Requirement already satisfied: wrapt in /opt/conda/lib/python3.11/site-packages (from smart-open>=1.8.1->gensim->pyLDAvis) (1.16.0)\n",
      "Collecting en-core-web-sm==3.7.1\n",
      "  Downloading https://github.com/explosion/spacy-models/releases/download/en_core_web_sm-3.7.1/en_core_web_sm-3.7.1-py3-none-any.whl (12.8 MB)\n",
      "\u001b[2K     \u001b[90m━━━━━━━━━━━━━━━━━━━━━━━━━━━━━━━━━━━━━━━━\u001b[0m \u001b[32m12.8/12.8 MB\u001b[0m \u001b[31m7.0 MB/s\u001b[0m eta \u001b[36m0:00:00\u001b[0m00:01\u001b[0m00:01\u001b[0m\n",
      "\u001b[?25hRequirement already satisfied: spacy<3.8.0,>=3.7.2 in /opt/conda/lib/python3.11/site-packages (from en-core-web-sm==3.7.1) (3.7.6)\n",
      "Requirement already satisfied: spacy-legacy<3.1.0,>=3.0.11 in /opt/conda/lib/python3.11/site-packages (from spacy<3.8.0,>=3.7.2->en-core-web-sm==3.7.1) (3.0.12)\n",
      "Requirement already satisfied: spacy-loggers<2.0.0,>=1.0.0 in /opt/conda/lib/python3.11/site-packages (from spacy<3.8.0,>=3.7.2->en-core-web-sm==3.7.1) (1.0.5)\n",
      "Requirement already satisfied: murmurhash<1.1.0,>=0.28.0 in /opt/conda/lib/python3.11/site-packages (from spacy<3.8.0,>=3.7.2->en-core-web-sm==3.7.1) (1.0.10)\n",
      "Requirement already satisfied: cymem<2.1.0,>=2.0.2 in /opt/conda/lib/python3.11/site-packages (from spacy<3.8.0,>=3.7.2->en-core-web-sm==3.7.1) (2.0.8)\n",
      "Requirement already satisfied: preshed<3.1.0,>=3.0.2 in /opt/conda/lib/python3.11/site-packages (from spacy<3.8.0,>=3.7.2->en-core-web-sm==3.7.1) (3.0.9)\n",
      "Requirement already satisfied: thinc<8.3.0,>=8.2.2 in /opt/conda/lib/python3.11/site-packages (from spacy<3.8.0,>=3.7.2->en-core-web-sm==3.7.1) (8.2.5)\n",
      "Requirement already satisfied: wasabi<1.2.0,>=0.9.1 in /opt/conda/lib/python3.11/site-packages (from spacy<3.8.0,>=3.7.2->en-core-web-sm==3.7.1) (1.1.3)\n",
      "Requirement already satisfied: srsly<3.0.0,>=2.4.3 in /opt/conda/lib/python3.11/site-packages (from spacy<3.8.0,>=3.7.2->en-core-web-sm==3.7.1) (2.4.8)\n",
      "Requirement already satisfied: catalogue<2.1.0,>=2.0.6 in /opt/conda/lib/python3.11/site-packages (from spacy<3.8.0,>=3.7.2->en-core-web-sm==3.7.1) (2.0.10)\n",
      "Requirement already satisfied: weasel<0.5.0,>=0.1.0 in /opt/conda/lib/python3.11/site-packages (from spacy<3.8.0,>=3.7.2->en-core-web-sm==3.7.1) (0.4.1)\n",
      "Requirement already satisfied: typer<1.0.0,>=0.3.0 in /opt/conda/lib/python3.11/site-packages (from spacy<3.8.0,>=3.7.2->en-core-web-sm==3.7.1) (0.12.5)\n",
      "Requirement already satisfied: tqdm<5.0.0,>=4.38.0 in /opt/conda/lib/python3.11/site-packages (from spacy<3.8.0,>=3.7.2->en-core-web-sm==3.7.1) (4.66.1)\n",
      "Requirement already satisfied: requests<3.0.0,>=2.13.0 in /opt/conda/lib/python3.11/site-packages (from spacy<3.8.0,>=3.7.2->en-core-web-sm==3.7.1) (2.31.0)\n",
      "Requirement already satisfied: pydantic!=1.8,!=1.8.1,<3.0.0,>=1.7.4 in /opt/conda/lib/python3.11/site-packages (from spacy<3.8.0,>=3.7.2->en-core-web-sm==3.7.1) (2.9.1)\n",
      "Requirement already satisfied: jinja2 in /opt/conda/lib/python3.11/site-packages (from spacy<3.8.0,>=3.7.2->en-core-web-sm==3.7.1) (3.1.2)\n",
      "Requirement already satisfied: setuptools in /opt/conda/lib/python3.11/site-packages (from spacy<3.8.0,>=3.7.2->en-core-web-sm==3.7.1) (69.0.3)\n",
      "Requirement already satisfied: packaging>=20.0 in /opt/conda/lib/python3.11/site-packages (from spacy<3.8.0,>=3.7.2->en-core-web-sm==3.7.1) (23.2)\n",
      "Requirement already satisfied: langcodes<4.0.0,>=3.2.0 in /opt/conda/lib/python3.11/site-packages (from spacy<3.8.0,>=3.7.2->en-core-web-sm==3.7.1) (3.4.0)\n",
      "Requirement already satisfied: numpy>=1.19.0 in /opt/conda/lib/python3.11/site-packages (from spacy<3.8.0,>=3.7.2->en-core-web-sm==3.7.1) (1.26.3)\n",
      "Requirement already satisfied: language-data>=1.2 in /opt/conda/lib/python3.11/site-packages (from langcodes<4.0.0,>=3.2.0->spacy<3.8.0,>=3.7.2->en-core-web-sm==3.7.1) (1.2.0)\n",
      "Requirement already satisfied: annotated-types>=0.6.0 in /opt/conda/lib/python3.11/site-packages (from pydantic!=1.8,!=1.8.1,<3.0.0,>=1.7.4->spacy<3.8.0,>=3.7.2->en-core-web-sm==3.7.1) (0.7.0)\n",
      "Requirement already satisfied: pydantic-core==2.23.3 in /opt/conda/lib/python3.11/site-packages (from pydantic!=1.8,!=1.8.1,<3.0.0,>=1.7.4->spacy<3.8.0,>=3.7.2->en-core-web-sm==3.7.1) (2.23.3)\n",
      "Requirement already satisfied: typing-extensions>=4.6.1 in /opt/conda/lib/python3.11/site-packages (from pydantic!=1.8,!=1.8.1,<3.0.0,>=1.7.4->spacy<3.8.0,>=3.7.2->en-core-web-sm==3.7.1) (4.9.0)\n",
      "Requirement already satisfied: charset-normalizer<4,>=2 in /opt/conda/lib/python3.11/site-packages (from requests<3.0.0,>=2.13.0->spacy<3.8.0,>=3.7.2->en-core-web-sm==3.7.1) (3.3.2)\n",
      "Requirement already satisfied: idna<4,>=2.5 in /opt/conda/lib/python3.11/site-packages (from requests<3.0.0,>=2.13.0->spacy<3.8.0,>=3.7.2->en-core-web-sm==3.7.1) (3.6)\n",
      "Requirement already satisfied: urllib3<3,>=1.21.1 in /opt/conda/lib/python3.11/site-packages (from requests<3.0.0,>=2.13.0->spacy<3.8.0,>=3.7.2->en-core-web-sm==3.7.1) (2.1.0)\n",
      "Requirement already satisfied: certifi>=2017.4.17 in /opt/conda/lib/python3.11/site-packages (from requests<3.0.0,>=2.13.0->spacy<3.8.0,>=3.7.2->en-core-web-sm==3.7.1) (2023.11.17)\n",
      "Requirement already satisfied: blis<0.8.0,>=0.7.8 in /opt/conda/lib/python3.11/site-packages (from thinc<8.3.0,>=8.2.2->spacy<3.8.0,>=3.7.2->en-core-web-sm==3.7.1) (0.7.11)\n",
      "Requirement already satisfied: confection<1.0.0,>=0.0.1 in /opt/conda/lib/python3.11/site-packages (from thinc<8.3.0,>=8.2.2->spacy<3.8.0,>=3.7.2->en-core-web-sm==3.7.1) (0.1.5)\n",
      "Requirement already satisfied: click>=8.0.0 in /opt/conda/lib/python3.11/site-packages (from typer<1.0.0,>=0.3.0->spacy<3.8.0,>=3.7.2->en-core-web-sm==3.7.1) (8.1.7)\n",
      "Requirement already satisfied: shellingham>=1.3.0 in /opt/conda/lib/python3.11/site-packages (from typer<1.0.0,>=0.3.0->spacy<3.8.0,>=3.7.2->en-core-web-sm==3.7.1) (1.5.4)\n",
      "Requirement already satisfied: rich>=10.11.0 in /opt/conda/lib/python3.11/site-packages (from typer<1.0.0,>=0.3.0->spacy<3.8.0,>=3.7.2->en-core-web-sm==3.7.1) (13.8.0)\n",
      "Requirement already satisfied: cloudpathlib<1.0.0,>=0.7.0 in /opt/conda/lib/python3.11/site-packages (from weasel<0.5.0,>=0.1.0->spacy<3.8.0,>=3.7.2->en-core-web-sm==3.7.1) (0.19.0)\n",
      "Requirement already satisfied: smart-open<8.0.0,>=5.2.1 in /opt/conda/lib/python3.11/site-packages (from weasel<0.5.0,>=0.1.0->spacy<3.8.0,>=3.7.2->en-core-web-sm==3.7.1) (7.0.4)\n",
      "Requirement already satisfied: MarkupSafe>=2.0 in /opt/conda/lib/python3.11/site-packages (from jinja2->spacy<3.8.0,>=3.7.2->en-core-web-sm==3.7.1) (2.1.3)\n",
      "Requirement already satisfied: marisa-trie>=0.7.7 in /opt/conda/lib/python3.11/site-packages (from language-data>=1.2->langcodes<4.0.0,>=3.2.0->spacy<3.8.0,>=3.7.2->en-core-web-sm==3.7.1) (1.2.0)\n",
      "Requirement already satisfied: markdown-it-py>=2.2.0 in /opt/conda/lib/python3.11/site-packages (from rich>=10.11.0->typer<1.0.0,>=0.3.0->spacy<3.8.0,>=3.7.2->en-core-web-sm==3.7.1) (3.0.0)\n",
      "Requirement already satisfied: pygments<3.0.0,>=2.13.0 in /opt/conda/lib/python3.11/site-packages (from rich>=10.11.0->typer<1.0.0,>=0.3.0->spacy<3.8.0,>=3.7.2->en-core-web-sm==3.7.1) (2.17.2)\n",
      "Requirement already satisfied: wrapt in /opt/conda/lib/python3.11/site-packages (from smart-open<8.0.0,>=5.2.1->weasel<0.5.0,>=0.1.0->spacy<3.8.0,>=3.7.2->en-core-web-sm==3.7.1) (1.16.0)\n",
      "Requirement already satisfied: mdurl~=0.1 in /opt/conda/lib/python3.11/site-packages (from markdown-it-py>=2.2.0->rich>=10.11.0->typer<1.0.0,>=0.3.0->spacy<3.8.0,>=3.7.2->en-core-web-sm==3.7.1) (0.1.2)\n",
      "\u001b[38;5;2m✔ Download and installation successful\u001b[0m\n",
      "You can now load the package via spacy.load('en_core_web_sm')\n"
     ]
    }
   ],
   "source": [
    "!pip install lxml\n",
    "!pip install spacy\n",
    "!pip install gensim\n",
    "!pip install nltk\n",
    "!pip install tqdm\n",
    "!pip install pyLDAvis\n",
    "!python -m spacy download en_core_web_sm"
   ]
  },
  {
   "cell_type": "code",
   "execution_count": 2,
   "metadata": {},
   "outputs": [
    {
     "name": "stderr",
     "output_type": "stream",
     "text": [
      "[nltk_data] Downloading package stopwords to /home/jovyan/nltk_data...\n",
      "[nltk_data]   Package stopwords is already up-to-date!\n"
     ]
    }
   ],
   "source": [
    "import re\n",
    "import warnings\n",
    "import numpy as np\n",
    "import pandas as pd\n",
    "import matplotlib.pyplot as plt\n",
    "from pprint import pprint\n",
    "\n",
    "from tqdm import tqdm\n",
    "tqdm.pandas()\n",
    "\n",
    "import nltk\n",
    "from nltk.corpus import stopwords\n",
    "nltk.download('stopwords')\n",
    "from bs4 import BeautifulSoup\n",
    "import spacy\n",
    "\n",
    "import gensim\n",
    "from gensim.utils import simple_preprocess\n",
    "from gensim.models import CoherenceModel\n",
    "import gensim.corpora as corpora\n",
    "\n",
    "import pyLDAvis\n",
    "import pyLDAvis.gensim_models as gensimvis\n",
    "\n",
    "from sklearn.metrics.pairwise import cosine_similarity\n",
    "\n",
    "import time\n",
    "\n",
    "%matplotlib inline\n"
   ]
  },
  {
   "cell_type": "markdown",
   "metadata": {},
   "source": [
    "### 1.2 Download and Prepare Data\n",
    "This code checks whether you have the data. If you don't, it will download and prepare it for you. To see how it works, look at lab `1 Data munging` which explains it in detail."
   ]
  },
  {
   "cell_type": "code",
   "execution_count": 3,
   "metadata": {},
   "outputs": [
    {
     "name": "stdout",
     "output_type": "stream",
     "text": [
      "Ready to go!\n"
     ]
    }
   ],
   "source": [
    "%run -i \"download_and_clean_data.py\"\n",
    "print('Ready to go!')"
   ]
  },
  {
   "cell_type": "markdown",
   "metadata": {},
   "source": [
    "### 1.3 Read Data"
   ]
  },
  {
   "cell_type": "code",
   "execution_count": 4,
   "metadata": {},
   "outputs": [
    {
     "data": {
      "text/html": [
       "<div>\n",
       "<style scoped>\n",
       "    .dataframe tbody tr th:only-of-type {\n",
       "        vertical-align: middle;\n",
       "    }\n",
       "\n",
       "    .dataframe tbody tr th {\n",
       "        vertical-align: top;\n",
       "    }\n",
       "\n",
       "    .dataframe thead th {\n",
       "        text-align: right;\n",
       "    }\n",
       "</style>\n",
       "<table border=\"1\" class=\"dataframe\">\n",
       "  <thead>\n",
       "    <tr style=\"text-align: right;\">\n",
       "      <th></th>\n",
       "      <th>age_group</th>\n",
       "      <th>age</th>\n",
       "      <th>body</th>\n",
       "      <th>alcohol_use</th>\n",
       "      <th>drug_use</th>\n",
       "      <th>edu</th>\n",
       "      <th>race_ethnicity</th>\n",
       "      <th>height_group</th>\n",
       "      <th>industry</th>\n",
       "      <th>kids</th>\n",
       "      <th>...</th>\n",
       "      <th>essay0</th>\n",
       "      <th>essay1</th>\n",
       "      <th>essay2</th>\n",
       "      <th>essay3</th>\n",
       "      <th>essay4</th>\n",
       "      <th>essay5</th>\n",
       "      <th>essay6</th>\n",
       "      <th>essay7</th>\n",
       "      <th>essay8</th>\n",
       "      <th>essay9</th>\n",
       "    </tr>\n",
       "  </thead>\n",
       "  <tbody>\n",
       "    <tr>\n",
       "      <th>0</th>\n",
       "      <td>20</td>\n",
       "      <td>22</td>\n",
       "      <td>overweight</td>\n",
       "      <td>yes</td>\n",
       "      <td>no</td>\n",
       "      <td>HS</td>\n",
       "      <td>multiple</td>\n",
       "      <td>over_6</td>\n",
       "      <td>other</td>\n",
       "      <td>no</td>\n",
       "      <td>...</td>\n",
       "      <td>about me:&lt;br /&gt;\\n&lt;br /&gt;\\ni would love to think...</td>\n",
       "      <td>currently working as an international agent fo...</td>\n",
       "      <td>making people laugh.&lt;br /&gt;\\nranting about a go...</td>\n",
       "      <td>the way i look. i am a six foot half asian, ha...</td>\n",
       "      <td>books:&lt;br /&gt;\\nabsurdistan, the republic, of mi...</td>\n",
       "      <td>food.&lt;br /&gt;\\nwater.&lt;br /&gt;\\ncell phone.&lt;br /&gt;\\n...</td>\n",
       "      <td>duality and humorous things</td>\n",
       "      <td>trying to find someone to hang out with. i am ...</td>\n",
       "      <td>i am new to california and looking for someone...</td>\n",
       "      <td>you want to be swept off your feet!&lt;br /&gt;\\nyou...</td>\n",
       "    </tr>\n",
       "    <tr>\n",
       "      <th>1</th>\n",
       "      <td>30</td>\n",
       "      <td>35</td>\n",
       "      <td>average</td>\n",
       "      <td>yes</td>\n",
       "      <td>yes</td>\n",
       "      <td>unknown</td>\n",
       "      <td>White</td>\n",
       "      <td>under_6</td>\n",
       "      <td>other</td>\n",
       "      <td>no</td>\n",
       "      <td>...</td>\n",
       "      <td>i am a chef: this is what that means.&lt;br /&gt;\\n1...</td>\n",
       "      <td>dedicating everyday to being an unbelievable b...</td>\n",
       "      <td>being silly. having ridiculous amonts of fun w...</td>\n",
       "      <td>NaN</td>\n",
       "      <td>i am die hard christopher moore fan. i don't r...</td>\n",
       "      <td>delicious porkness in all of its glories.&lt;br /...</td>\n",
       "      <td>NaN</td>\n",
       "      <td>NaN</td>\n",
       "      <td>i am very open and will share just about anyth...</td>\n",
       "      <td>NaN</td>\n",
       "    </tr>\n",
       "  </tbody>\n",
       "</table>\n",
       "<p>2 rows × 29 columns</p>\n",
       "</div>"
      ],
      "text/plain": [
       "   age_group  age        body alcohol_use drug_use      edu race_ethnicity  \\\n",
       "0         20   22  overweight         yes       no       HS       multiple   \n",
       "1         30   35     average         yes      yes  unknown          White   \n",
       "\n",
       "  height_group industry kids  ...  \\\n",
       "0       over_6    other   no  ...   \n",
       "1      under_6    other   no  ...   \n",
       "\n",
       "                                              essay0  \\\n",
       "0  about me:<br />\\n<br />\\ni would love to think...   \n",
       "1  i am a chef: this is what that means.<br />\\n1...   \n",
       "\n",
       "                                              essay1  \\\n",
       "0  currently working as an international agent fo...   \n",
       "1  dedicating everyday to being an unbelievable b...   \n",
       "\n",
       "                                              essay2  \\\n",
       "0  making people laugh.<br />\\nranting about a go...   \n",
       "1  being silly. having ridiculous amonts of fun w...   \n",
       "\n",
       "                                              essay3  \\\n",
       "0  the way i look. i am a six foot half asian, ha...   \n",
       "1                                                NaN   \n",
       "\n",
       "                                              essay4  \\\n",
       "0  books:<br />\\nabsurdistan, the republic, of mi...   \n",
       "1  i am die hard christopher moore fan. i don't r...   \n",
       "\n",
       "                                              essay5  \\\n",
       "0  food.<br />\\nwater.<br />\\ncell phone.<br />\\n...   \n",
       "1  delicious porkness in all of its glories.<br /...   \n",
       "\n",
       "                        essay6  \\\n",
       "0  duality and humorous things   \n",
       "1                          NaN   \n",
       "\n",
       "                                              essay7  \\\n",
       "0  trying to find someone to hang out with. i am ...   \n",
       "1                                                NaN   \n",
       "\n",
       "                                              essay8  \\\n",
       "0  i am new to california and looking for someone...   \n",
       "1  i am very open and will share just about anyth...   \n",
       "\n",
       "                                              essay9  \n",
       "0  you want to be swept off your feet!<br />\\nyou...  \n",
       "1                                                NaN  \n",
       "\n",
       "[2 rows x 29 columns]"
      ]
     },
     "execution_count": 4,
     "metadata": {},
     "output_type": "execute_result"
    }
   ],
   "source": [
    "profiles = pd.read_csv('data/clean_profiles.tsv', sep='\\t')\n",
    "profiles.head(2)"
   ]
  },
  {
   "cell_type": "markdown",
   "metadata": {},
   "source": [
    "### 1.4 Pick Your Data\n",
    "- Pick which section of the profiles you want to analyze.\n",
    "#### Options:\n",
    "- `text` - All of the text from a profile (**Recommended**)\n",
    "- `essay0` - My self summary (**Recommended**)\n",
    "- `essay1` - What I’m doing with my life\n",
    "- `essay2` - I’m really good at\n",
    "- `essay3` - The first thing people usually notice about me\n",
    "- `essay4` - Favorite books, movies, show, music, and food\n",
    "- `essay5` - The six things I could never do without\n",
    "- `essay6` - I spend a lot of time thinking about\n",
    "- `essay7` - On a typical Friday night I am\n",
    "- `essay8` - The most private thing I am willing to admit\n",
    "- `essay9` - You should message me if...\n",
    "\n",
    "#### Replace `essay0` in the cell below with the essay you want to look at.\n",
    "- `text` and `essay0` are both recommended, but it's your choice."
   ]
  },
  {
   "cell_type": "code",
   "execution_count": 5,
   "metadata": {},
   "outputs": [],
   "source": [
    "profile_section_to_use = 'essay0'"
   ]
  },
  {
   "cell_type": "markdown",
   "metadata": {},
   "source": [
    "### 1.5 Clean Text \n",
    "- For this lab, it is not so important that you understand this code. \n",
    "- For now, just run it and move on. "
   ]
  },
  {
   "cell_type": "code",
   "execution_count": 6,
   "metadata": {},
   "outputs": [],
   "source": [
    "# Some of the essays have just a link in the text. BeautifulSoup sees that and gets \n",
    "# the wrong idea. This line hides those warnings.\n",
    "warnings.filterwarnings(\"ignore\", category=UserWarning, module='bs4')\n",
    "warnings.filterwarnings(\"ignore\", category=DeprecationWarning, module='bs4.builder._lxml')\n",
    "def clean(text):\n",
    "    if pd.isnull(text):\n",
    "        t = np.nan\n",
    "    else:\n",
    "        t = BeautifulSoup(text, 'lxml').get_text()\n",
    "        t = t.lower()\n",
    "\n",
    "        bad_words = ['http', 'www', '\\nnan']\n",
    "\n",
    "        for b in bad_words:\n",
    "            t = t.replace(b, '')\n",
    "    if t == '':\n",
    "        t = np.nan\n",
    "    \n",
    "    return t"
   ]
  },
  {
   "cell_type": "code",
   "execution_count": 7,
   "metadata": {},
   "outputs": [
    {
     "name": "stdout",
     "output_type": "stream",
     "text": [
      "Cleaning up profile text for essay0 ...\n"
     ]
    },
    {
     "name": "stderr",
     "output_type": "stream",
     "text": [
      "  0%|          | 0/58785 [00:00<?, ?it/s]/tmp/ipykernel_2028/512017477.py:9: MarkupResemblesLocatorWarning: The input looks more like a filename than markup. You may want to open this file and pass the filehandle into Beautiful Soup.\n",
      "  t = BeautifulSoup(text, 'lxml').get_text()\n",
      "/tmp/ipykernel_2028/512017477.py:9: MarkupResemblesLocatorWarning: The input looks more like a URL than markup. You may want to use an HTTP client like requests to get the document behind the URL, and feed that document to Beautiful Soup.\n",
      "  t = BeautifulSoup(text, 'lxml').get_text()\n",
      "100%|██████████| 58785/58785 [00:11<00:00, 4914.78it/s]"
     ]
    },
    {
     "name": "stdout",
     "output_type": "stream",
     "text": [
      "We started with 58785 profiles.\n",
      "Dropping profiles that didn't write anything for the essay we chose...\n",
      "We have 53396 profiles left.\n"
     ]
    },
    {
     "name": "stderr",
     "output_type": "stream",
     "text": [
      "\n"
     ]
    }
   ],
   "source": [
    "print('Cleaning up profile text for', profile_section_to_use, '...')\n",
    "profiles['clean'] = profiles[profile_section_to_use].progress_apply(clean)\n",
    "\n",
    "print('We started with', profiles.shape[0], 'profiles.')\n",
    "print(\"Dropping profiles that didn't write anything for the essay we chose...\")\n",
    "profiles.dropna(axis=0, subset=['clean'], inplace=True)\n",
    "\n",
    "text_cols = ['text', 'essay0', 'essay1', 'essay2', 'essay3', 'essay4', \n",
    "             'essay5', 'essay6', 'essay7', 'essay8', 'essay9']\n",
    "profiles.drop(columns=text_cols, inplace=True)\n",
    "\n",
    "#what we will use as our documents, here the cleaned up text of each profile\n",
    "documents = profiles['clean'].values\n",
    "\n",
    "print('We have', documents.shape[0], 'profiles left.')"
   ]
  },
  {
   "cell_type": "markdown",
   "metadata": {},
   "source": [
    "#### Remove punctuation/lower casing\n",
    "\n",
    "- Next, let’s perform a simple preprocessing on the content of paper_text column to make them more amenable for analysis, and reliable results.\n",
    "- To do that, we’ll use a regular expression to remove any punctuation, and then lowercase the text"
   ]
  },
  {
   "cell_type": "code",
   "execution_count": 8,
   "metadata": {},
   "outputs": [
    {
     "data": {
      "text/plain": [
       "0    about me:\\n\\ni would love to think that i was ...\n",
       "1    i am a chef: this is what that means\\n1 i am a...\n",
       "2    i'm not ashamed of much but writing public tex...\n",
       "3               i work in a library and go to school  \n",
       "4    hey how's it going currently vague on the prof...\n",
       "Name: clean, dtype: object"
      ]
     },
     "execution_count": 8,
     "metadata": {},
     "output_type": "execute_result"
    }
   ],
   "source": [
    "# Load the regular expression library\n",
    "\n",
    "# Remove punctuation\n",
    "profiles['clean'] = profiles['clean'].map(lambda x: re.sub(r'[,.!?]', '', x))\n",
    "\n",
    "# Convert the text to lowercase\n",
    "profiles['clean'] = profiles['clean'].map(lambda x: x.lower())\n",
    "\n",
    "# Print out the first rows of profiles\n",
    "profiles['clean'].head()\n",
    "\n"
   ]
  },
  {
   "cell_type": "markdown",
   "metadata": {},
   "source": [
    "## Section 2: Converting Text to Numbers"
   ]
  },
  {
   "cell_type": "markdown",
   "metadata": {},
   "source": [
    "** **\n",
    "#### Step 1: Tokenize words and further clean-up text\n",
    "** **\n",
    "Let’s tokenize each sentence into a list of words, removing punctuations and unnecessary characters altogether.\n",
    "\n",
    "- Here we tell it to only use the 1,000 most popular words, ignoring stop words like \"a\" and \"of\"."
   ]
  },
  {
   "cell_type": "code",
   "execution_count": 9,
   "metadata": {},
   "outputs": [
    {
     "name": "stdout",
     "output_type": "stream",
     "text": [
      "The first 30 cleaned words of essay 0 from profile 0 are:\n",
      "\n",
      " ['about', 'me', 'would', 'love', 'to', 'think', 'that', 'was', 'some', 'some', 'kind', 'of', 'intellectual', 'either', 'the', 'dumbest', 'smart', 'guy', 'or', 'the', 'smartest', 'dumb', 'guy', 'can', 'say', 'can', 'tell', 'the', 'difference', 'love']\n"
     ]
    }
   ],
   "source": [
    "# [:1] selects the first profile, and [:30] selects the first 30 words from that profile\n",
    "# You can try to change the parameters and see what happens\n",
    "def sent_to_words(sentences):\n",
    "    for sentence in sentences:\n",
    "        yield(gensim.utils.simple_preprocess(str(sentence), deacc=True))  # deacc=True removes punctuations\n",
    "\n",
    "data = profiles.clean.values.tolist()\n",
    "data_words = list(sent_to_words(data))\n",
    "\n",
    "print(\"The first 30 cleaned words of essay 0 from profile 0 are:\\n\\n\", data_words[:1][0][:30])"
   ]
  },
  {
   "cell_type": "markdown",
   "metadata": {},
   "source": [
    "** **\n",
    "#### Step 2: Remove Stopwords, Make Bigrams and Lemmatize\n",
    "** **\n",
    "\n",
    "The phrase models are ready. Let’s define the functions to remove the stopwords, make trigrams and lemmatization and call them sequentially."
   ]
  },
  {
   "cell_type": "markdown",
   "metadata": {},
   "source": [
    "<div class=\"alert-info\">\n",
    " \n",
    "#### Short Answer No.1\n",
    "- (1) Why do we want to ignore stop words? (1-2 sentences)\n",
    "- (2) Give 3 more examples of stop words \n",
    "    \n",
    "    \n",
    "</div>"
   ]
  },
  {
   "cell_type": "markdown",
   "metadata": {},
   "source": [
    "🤔 **Write your response here:**\n",
    "...\n",
    "\n"
   ]
  },
  {
   "cell_type": "code",
   "execution_count": 10,
   "metadata": {},
   "outputs": [],
   "source": [
    "stop_words = stopwords.words('english')\n",
    "stop_words.extend(['from', 'subject', 're', 'edu', 'use'])\n",
    "\n",
    "def remove_stopwords(texts):\n",
    "    return [[word for word in simple_preprocess(str(doc)) if word not in stop_words] for doc in texts]"
   ]
  },
  {
   "cell_type": "code",
   "execution_count": 11,
   "metadata": {},
   "outputs": [],
   "source": [
    "# Remove Stop Words\n",
    "data_words_nostops = remove_stopwords(data_words)"
   ]
  },
  {
   "cell_type": "markdown",
   "metadata": {},
   "source": [
    "** **\n",
    "#### Step 3: Phrase Modeling: Bigram and Trigram Models\n",
    "** **\n",
    "\n",
    "Bigrams are two words frequently occurring together in the document. Trigrams are 3 words frequently occurring. Some examples in our example are: 'back_bumper', 'oil_leakage', 'maryland_college_park' etc.\n",
    "\n",
    "Gensim's Phrases model can build and implement the bigrams, trigrams, quadgrams and more. The two important arguments to Phrases are min_count and threshold.\n",
    "\n",
    "*The higher the values of these param, the harder it is for words to be combined.*"
   ]
  },
  {
   "cell_type": "code",
   "execution_count": 12,
   "metadata": {},
   "outputs": [],
   "source": [
    "# Build the bigram and trigram models\n",
    "bigram = gensim.models.Phrases(data_words, min_count=5, threshold=100) # higher threshold fewer phrases.\n",
    "trigram = gensim.models.Phrases(bigram[data_words], threshold=100)  \n",
    "\n",
    "# Faster way to get a sentence clubbed as a trigram/bigram\n",
    "bigram_mod = gensim.models.phrases.Phraser(bigram)\n",
    "trigram_mod = gensim.models.phrases.Phraser(trigram)"
   ]
  },
  {
   "cell_type": "markdown",
   "metadata": {},
   "source": [
    "#### See what words are being counted"
   ]
  },
  {
   "cell_type": "code",
   "execution_count": 13,
   "metadata": {},
   "outputs": [],
   "source": [
    "# Define functions for bigrams, trigrams and lemmatization\n",
    "\n",
    "def make_bigrams(texts):\n",
    "    return [bigram_mod[doc] for doc in texts]\n",
    "\n",
    "def make_trigrams(texts):\n",
    "    return [trigram_mod[bigram_mod[doc]] for doc in texts]\n",
    "\n",
    "def lemmatization(texts, allowed_postags=['NOUN', 'ADJ', 'VERB', 'ADV']):\n",
    "    \"\"\"https://spacy.io/api/annotation\"\"\"\n",
    "    texts_out = []\n",
    "    for sent in texts:\n",
    "        doc = nlp(\" \".join(sent)) \n",
    "        texts_out.append([token.lemma_ for token in doc if token.pos_ in allowed_postags])\n",
    "    return texts_out"
   ]
  },
  {
   "cell_type": "markdown",
   "metadata": {},
   "source": [
    "Let's call the functions in order. Note that calling these functions might take a couple of time, generally around 2 minutes."
   ]
  },
  {
   "cell_type": "code",
   "execution_count": 14,
   "metadata": {},
   "outputs": [
    {
     "name": "stdout",
     "output_type": "stream",
     "text": [
      "The first 30 words of essay 0 from profile 0 (after lemmatization) are:\n",
      "\n",
      " ['love', 'think', 'kind', 'intellectual', 'dumbest', 'smart', 'guy', 'smart', 'dumb', 'guy', 'say', 'tell', 'difference', 'love', 'talk', 'idea', 'concept', 'forge', 'odd', 'metaphor', 'instead', 'recite', 'cliche', 'simularitie', 'underwater', 'salt', 'favorite', 'word', 'salt', 'way']\n",
      "--- 214.81752371788025 seconds ---\n"
     ]
    }
   ],
   "source": [
    "start_time = time.time()\n",
    "\n",
    "# Form Bigrams\n",
    "data_words_bigrams = make_bigrams(data_words_nostops)\n",
    "\n",
    "# Initialize spacy 'en' model, keeping only tagger component (for efficiency)\n",
    "nlp = spacy.load(\"en_core_web_sm\", disable=['parser', 'ner'])\n",
    "\n",
    "# Do lemmatization keeping only noun, adj, vb, adv\n",
    "data_lemmatized = lemmatization(data_words_bigrams, allowed_postags=['NOUN', 'ADJ', 'VERB', 'ADV'])\n",
    "\n",
    "print(\"The first 30 words of essay 0 from profile 0 (after lemmatization) are:\\n\\n\", data_lemmatized[:1][0][:30])\n",
    "\n",
    "print(\"--- %s seconds ---\" % (time.time() - start_time))"
   ]
  },
  {
   "cell_type": "markdown",
   "metadata": {},
   "source": [
    "#### See an example of how a profile's text is encoded\n",
    "- `n` is the profile number you want to look at. Change the value of `n` and re-run the code to see different profiles."
   ]
  },
  {
   "cell_type": "code",
   "execution_count": 15,
   "metadata": {},
   "outputs": [
    {
     "name": "stdout",
     "output_type": "stream",
     "text": [
      "[(0, 2), (1, 1), (2, 1), (3, 1), (4, 1), (5, 1), (6, 1), (7, 1), (8, 1), (9, 1), (10, 1), (11, 1), (12, 1), (13, 1), (14, 1), (15, 1), (16, 1), (17, 1), (18, 2), (19, 1), (20, 1), (21, 1), (22, 1), (23, 1), (24, 1), (25, 1), (26, 2), (27, 1), (28, 1), (29, 1)]\n"
     ]
    }
   ],
   "source": [
    "# Create Dictionary\n",
    "id2word = corpora.Dictionary(data_lemmatized)\n",
    "\n",
    "# Create Corpus\n",
    "texts = data_lemmatized\n",
    "\n",
    "# Term Document Frequency\n",
    "corpus = [id2word.doc2bow(text) for text in texts]\n",
    "\n",
    "# View\n",
    "print(corpus[:1][0][:30])"
   ]
  },
  {
   "cell_type": "code",
   "execution_count": 16,
   "metadata": {},
   "outputs": [
    {
     "name": "stdout",
     "output_type": "stream",
     "text": [
      "Profile text:\n",
      "life is about the little things. i love to laugh. it's easy to do\n",
      "when one can find beauty and humor in the ugly. this perspective\n",
      "makes for a more gratifying life. it's a gift. we are here to play.\n",
      "\n",
      "\n",
      "BOW (Bag-of-Words) vector:\n",
      "laugh \t 1\n",
      "life \t 2\n",
      "little \t 1\n",
      "love \t 1\n",
      "make \t 1\n",
      "thing \t 1\n",
      "find \t 1\n",
      "beauty \t 1\n",
      "easy \t 1\n",
      "gift \t 1\n",
      "gratifying \t 1\n",
      "humor \t 1\n",
      "perspective \t 1\n",
      "play \t 1\n",
      "ugly \t 1\n"
     ]
    }
   ],
   "source": [
    "def show_bow_vector(bow, dictionary):\n",
    "    for word_id, count in bow:\n",
    "        print(f\"{dictionary[word_id]} \\t {count}\")\n",
    "\n",
    "# Assuming you want to show the n-th document\n",
    "n = 6\n",
    "print(f\"Profile text:\\n{documents[n]}\\n\")\n",
    "\n",
    "print(\"\\nBOW (Bag-of-Words) vector:\")\n",
    "show_bow_vector(corpus[n], id2word)\n"
   ]
  },
  {
   "cell_type": "markdown",
   "metadata": {},
   "source": [
    "<div class=\"alert-info\">\n",
    "    \n",
    "#### Short Answer No.2 \n",
    "\n",
    "- (1) Given the essay questions decribed above, list 5 words that you predict to be the most popular in essay4. \n",
    "    \n",
    "    \n",
    "</div>"
   ]
  },
  {
   "cell_type": "markdown",
   "metadata": {},
   "source": [
    "🤔 **Write your response here:**\n",
    "...\n",
    "\n"
   ]
  },
  {
   "cell_type": "code",
   "execution_count": 17,
   "metadata": {},
   "outputs": [],
   "source": [
    "profile_section_to_use = 'essay4'"
   ]
  },
  {
   "cell_type": "code",
   "execution_count": 18,
   "metadata": {},
   "outputs": [
    {
     "name": "stdout",
     "output_type": "stream",
     "text": [
      "Cleaning up profile text for essay4 ...\n"
     ]
    },
    {
     "name": "stderr",
     "output_type": "stream",
     "text": [
      "  0%|          | 0/58785 [00:00<?, ?it/s]/tmp/ipykernel_2028/512017477.py:9: MarkupResemblesLocatorWarning: The input looks more like a filename than markup. You may want to open this file and pass the filehandle into Beautiful Soup.\n",
      "  t = BeautifulSoup(text, 'lxml').get_text()\n",
      "  4%|▍         | 2452/58785 [00:00<00:09, 5774.90it/s]/tmp/ipykernel_2028/512017477.py:9: MarkupResemblesLocatorWarning: The input looks more like a URL than markup. You may want to use an HTTP client like requests to get the document behind the URL, and feed that document to Beautiful Soup.\n",
      "  t = BeautifulSoup(text, 'lxml').get_text()\n",
      "100%|██████████| 58785/58785 [00:09<00:00, 5974.53it/s]\n"
     ]
    },
    {
     "name": "stdout",
     "output_type": "stream",
     "text": [
      "We started with 58785 profiles.\n",
      "Dropping profiles that didn't write anything for the essay we chose...\n",
      "Our transformed text has 53396 rows and 53396 columns.\n",
      "The first few words (after lemmatization) are:\n",
      " ['aesop', 'cry', 'feel', 'game', 'hail', 'make', 'man', 'operation', 'rock', 'show', 'throne', 'want', 'alternative', 'die', 'draw', 'fan', 'hard', 'humor', 'involve', 'kind']\n",
      "--- 230.86880731582642 seconds ---\n"
     ]
    }
   ],
   "source": [
    "# In this cell, let's find the top 10 most popular words and list them alphabetically. \n",
    "# Look the sample codes above and try fill in the \"???\".\n",
    "# This would generally take around 140 seconds.\n",
    "start_time = time.time()\n",
    "\n",
    "profiles = pd.read_csv('data/clean_profiles.tsv', sep='\\t')\n",
    "\n",
    "print('Cleaning up profile text for', profile_section_to_use, '...')\n",
    "profiles['clean'] = profiles[profile_section_to_use].progress_apply(clean)\n",
    "\n",
    "print('We started with', profiles.shape[0], 'profiles.')\n",
    "print(\"Dropping profiles that didn't write anything for the essay we chose...\")\n",
    "profiles.dropna(axis=0, subset=['clean'], inplace=True)\n",
    "\n",
    "# Remove unused text columns\n",
    "text_cols = ['text', 'essay0', 'essay1', 'essay2', 'essay3', 'essay4', \n",
    "             'essay5', 'essay6', 'essay7', 'essay8', 'essay9']\n",
    "profiles.drop(columns=text_cols, inplace=True)\n",
    "\n",
    "# Documents we will work with (cleaned text)\n",
    "documents = profiles['clean'].values\n",
    "\n",
    "# Split each document into tokens (list of words) for Gensim\n",
    "data_words = [doc.split() for doc in documents]\n",
    "data_words_nostops = remove_stopwords(data_words)\n",
    "data_words_bigrams = make_bigrams(data_words_nostops)\n",
    "\n",
    "# Do lemmatization keeping only noun, adj, vb, adv\n",
    "data_lemmatized = lemmatization(data_words_bigrams, allowed_postags=['NOUN', 'ADJ', 'VERB', 'ADV'])\n",
    "\n",
    "# Create a Gensim dictionary\n",
    "id2word = corpora.Dictionary(data_lemmatized)\n",
    "\n",
    "# Filter out words that occur in less than 10 documents, or more than 50% of documents\n",
    "id2word.filter_extremes(no_below=10, no_above=0.5)\n",
    "\n",
    "texts = data_lemmatized\n",
    "\n",
    "#corpus = ???\n",
    "\n",
    "# Print the total number of rows and columns (dictionary size)\n",
    "print(f\"Our transformed text has {len(corpus)} rows and {len(corpus)} columns.\")\n",
    "\n",
    "print(\"The first few words (after lemmatization) are:\\n\", list(id2word.token2id.keys())[:20])\n",
    "\n",
    "print(\"--- %s seconds ---\" % (time.time() - start_time))"
   ]
  },
  {
   "cell_type": "markdown",
   "metadata": {},
   "source": [
    "<div class=\"alert-info\">\n",
    "    \n",
    "- (2) Did any of your predicted words made to top 10? (No right or wrong answer!) \n",
    "    \n",
    "</div>"
   ]
  },
  {
   "cell_type": "markdown",
   "metadata": {},
   "source": [
    "🤔 **Write your response here:**\n",
    "...\n",
    "\n"
   ]
  },
  {
   "cell_type": "code",
   "execution_count": 19,
   "metadata": {},
   "outputs": [
    {
     "name": "stdout",
     "output_type": "stream",
     "text": [
      "Cleaning up profile text for essay0 ...\n"
     ]
    },
    {
     "name": "stderr",
     "output_type": "stream",
     "text": [
      "  0%|          | 0/58785 [00:00<?, ?it/s]/tmp/ipykernel_2028/512017477.py:9: MarkupResemblesLocatorWarning: The input looks more like a filename than markup. You may want to open this file and pass the filehandle into Beautiful Soup.\n",
      "  t = BeautifulSoup(text, 'lxml').get_text()\n",
      "/tmp/ipykernel_2028/512017477.py:9: MarkupResemblesLocatorWarning: The input looks more like a URL than markup. You may want to use an HTTP client like requests to get the document behind the URL, and feed that document to Beautiful Soup.\n",
      "  t = BeautifulSoup(text, 'lxml').get_text()\n",
      "100%|██████████| 58785/58785 [00:08<00:00, 7238.71it/s]\n"
     ]
    },
    {
     "name": "stdout",
     "output_type": "stream",
     "text": [
      "We started with 58785 profiles.\n",
      "Dropping profiles that didn't write anything for the essay we chose...\n",
      "Our transformed text has 53396 rows and 53396 columns.\n",
      "The first few words (after lemmatization) are:\n",
      " ['able', 'attention_span', 'bend', 'blow', 'choice', 'cliche', 'concept', 'consider', 'conversation', 'cool', 'decide', 'deep', 'difference', 'dress', 'dumb', 'everyday', 'extra_point', 'favorite', 'forge', 'funny']\n"
     ]
    }
   ],
   "source": [
    "# Now let's focus on essay0 again. \n",
    "# This would take another 140 seconds.\n",
    "\n",
    "profile_section_to_use = 'essay0'\n",
    "\n",
    "profiles = pd.read_csv('data/clean_profiles.tsv', sep='\\t')\n",
    "\n",
    "print('Cleaning up profile text for', profile_section_to_use, '...')\n",
    "profiles['clean'] = profiles[profile_section_to_use].progress_apply(clean)\n",
    "\n",
    "print('We started with', profiles.shape[0], 'profiles.')\n",
    "print(\"Dropping profiles that didn't write anything for the essay we chose...\")\n",
    "profiles.dropna(axis=0, subset=['clean'], inplace=True)\n",
    "\n",
    "# Remove unused text columns\n",
    "text_cols = ['text', 'essay0', 'essay1', 'essay2', 'essay3', 'essay4', \n",
    "             'essay5', 'essay6', 'essay7', 'essay8', 'essay9']\n",
    "profiles.drop(columns=text_cols, inplace=True)\n",
    "\n",
    "# Documents we will work with (cleaned text)\n",
    "documents = profiles['clean'].values\n",
    "\n",
    "# Split each document into tokens (list of words) for Gensim\n",
    "data_words = [doc.split() for doc in documents]\n",
    "data_words_nostops = remove_stopwords(data_words)\n",
    "data_words_bigrams = make_bigrams(data_words_nostops)\n",
    "\n",
    "# Do lemmatization keeping only noun, adj, vb, adv\n",
    "data_lemmatized = lemmatization(data_words_bigrams, allowed_postags=['NOUN', 'ADJ', 'VERB', 'ADV'])\n",
    "\n",
    "# Create a Gensim dictionary\n",
    "id2word = corpora.Dictionary(data_lemmatized)\n",
    "\n",
    "# Filter out words that occur in less than 10 documents, or more than 50% of documents\n",
    "id2word.filter_extremes(no_below=10, no_above=0.5)\n",
    "\n",
    "texts = data_lemmatized\n",
    "\n",
    "#corpus = ???\n",
    "corpus = [id2word.doc2bow(text) for text in texts]\n",
    "\n",
    "# Print the total number of rows and columns (dictionary size)\n",
    "print(f\"Our transformed text has {len(corpus)} rows and {len(corpus)} columns.\")\n",
    "\n",
    "print(\"The first few words (after lemmatization) are:\\n\", list(id2word.token2id.keys())[:20])"
   ]
  },
  {
   "cell_type": "markdown",
   "metadata": {},
   "source": [
    "## Section 3: LDA Topic Model\n",
    "\n",
    "- LDA stands for Latent Dirichlet Allocation. The statistical math behind it is complicated, but its goals are simple:\n",
    "    - find groups of words that often show up together and call those groups topics. \n",
    "    - find topics that can be used to tell documents apart, i.e. topics that are in some documents but not others.\n",
    "- LDA is the most popular method for topic modeling.\n",
    "- [Learn more](https://en.wikipedia.org/wiki/Latent_Dirichlet_allocation) about LDA\n",
    "\n",
    "### Step 1: Decide how many topics we want to find\n",
    "\n",
    "<div class=\"alert-info\">\n",
    "    \n",
    "#### Short Answer No.3\n",
    "- How would the number of topics you choose affect the result in your opinion? (Think about extreme cases like you only pick 1 topic, vs if you pick 10,000 topics.) (1-2 sentences)\n",
    "- Choose 1 essay and describe the types of topics you would expect to find.\n",
    "    \n",
    "</div>"
   ]
  },
  {
   "cell_type": "markdown",
   "metadata": {},
   "source": [
    "🤔 **Write your response here:**\n",
    "...\n",
    "\n"
   ]
  },
  {
   "cell_type": "code",
   "execution_count": 20,
   "metadata": {},
   "outputs": [],
   "source": [
    "#how many topics we want our model to find\n",
    "ntopics = 15\n",
    "nshow = 10"
   ]
  },
  {
   "cell_type": "markdown",
   "metadata": {},
   "source": [
    "### Step 2: Run the LDA algorithm\n",
    "- LDA can be a little slow. We'll use a faster method later on.\n",
    "- We have everything required to train the base LDA model. In addition to the corpus and dictionary, you need to provide the number of topics as well. Apart from that, alpha and eta are hyperparameters that affect sparsity of the topics. According to the Gensim docs, both defaults to 1.0/num_topics prior (we'll use default for the base model).\n",
    "- chunksize controls how many documents are processed at a time in the training algorithm. Increasing chunksize will speed up training, at least as long as the chunk of documents easily fit into memory.\n",
    "- passes controls how often we train the model on the entire corpus (set to 10). Another word for passes might be \"epochs\". iterations is somewhat technical, but essentially it controls how often we repeat a particular loop over each document. It is important to set the number of \"passes\" and \"iterations\" high enough."
   ]
  },
  {
   "cell_type": "code",
   "execution_count": 21,
   "metadata": {},
   "outputs": [
    {
     "name": "stdout",
     "output_type": "stream",
     "text": [
      "Performing LDA on vectors. This may take a while...\n",
      "Done!\n"
     ]
    }
   ],
   "source": [
    "# Build LDA model\n",
    "print('Performing LDA on vectors. This may take a while...')\n",
    "lda_model = gensim.models.LdaMulticore(corpus=corpus,\n",
    "                                       id2word=id2word,\n",
    "                                       num_topics=ntopics, \n",
    "                                       random_state=100,\n",
    "                                       chunksize=100,\n",
    "                                       passes=10,\n",
    "                                       per_word_topics=True)\n",
    "\n",
    "lda_topics = lda_model.get_topics()\n",
    "\n",
    "print('Done!')"
   ]
  },
  {
   "cell_type": "markdown",
   "metadata": {},
   "source": [
    "** **\n",
    "The above LDA model is built with 15 different topics where each topic is a combination of keywords and each keyword contributes a certain weightage to the topic.\n",
    "\n",
    "You can see the keywords for each topic and the weightage(importance) of each keyword using `lda_model.print_topics()`"
   ]
  },
  {
   "cell_type": "code",
   "execution_count": 22,
   "metadata": {},
   "outputs": [
    {
     "name": "stdout",
     "output_type": "stream",
     "text": [
      "[(0,\n",
      "  '0.060*\"time\" + 0.047*\"work\" + 0.023*\"spend\" + 0.019*\"friend\" + 0.017*\"life\" '\n",
      "  '+ 0.016*\"day\" + 0.016*\"get\" + 0.016*\"enjoy\" + 0.015*\"try\" + 0.013*\"go\"'),\n",
      " (1,\n",
      "  '0.029*\"life\" + 0.025*\"love\" + 0.015*\"people\" + 0.012*\"world\" + 0.011*\"live\" '\n",
      "  '+ 0.010*\"learn\" + 0.009*\"experience\" + 0.008*\"thing\" + 0.007*\"nature\" + '\n",
      "  '0.007*\"feel\"'),\n",
      " (2,\n",
      "  '0.017*\"get\" + 0.011*\"day\" + 0.010*\"make\" + 0.009*\"love\" + 0.008*\"eat\" + '\n",
      "  '0.008*\"dog\" + 0.007*\"good\" + 0.007*\"go\" + 0.007*\"car\" + 0.007*\"ride\"'),\n",
      " (3,\n",
      "  '0.016*\"read\" + 0.012*\"book\" + 0.011*\"half\" + 0.008*\"also\" + 0.007*\"nerdy\" + '\n",
      "  '0.007*\"nerd\" + 0.007*\"geeky\" + 0.007*\"geek\" + 0.006*\"language\" + '\n",
      "  '0.006*\"speak\"'),\n",
      " (4,\n",
      "  '0.036*\"art\" + 0.023*\"work\" + 0.018*\"music\" + 0.016*\"study\" + 0.015*\"artist\" '\n",
      "  '+ 0.015*\"write\" + 0.014*\"design\" + 0.013*\"school\" + 0.011*\"creative\" + '\n",
      "  '0.011*\"film\"'),\n",
      " (5,\n",
      "  '0.012*\"word\" + 0.008*\"well\" + 0.006*\"find\" + 0.005*\"self\" + 0.005*\"however\" '\n",
      "  '+ 0.005*\"often\" + 0.004*\"say\" + 0.004*\"also\" + 0.004*\"quite\" + '\n",
      "  '0.004*\"human\"'),\n",
      " (6,\n",
      "  '0.028*\"thing\" + 0.027*\"think\" + 0.023*\"people\" + 0.021*\"make\" + 0.019*\"get\" '\n",
      "  '+ 0.016*\"say\" + 0.016*\"know\" + 0.015*\"really\" + 0.013*\"try\" + 0.013*\"good\"'),\n",
      " (7,\n",
      "  '0.071*\"play\" + 0.052*\"love\" + 0.047*\"music\" + 0.035*\"watch\" + 0.031*\"movie\" '\n",
      "  '+ 0.031*\"sport\" + 0.030*\"go\" + 0.026*\"game\" + 0.021*\"also\" + 0.015*\"enjoy\"'),\n",
      " (8,\n",
      "  '0.037*\"look\" + 0.036*\"relationship\" + 0.029*\"woman\" + 0.025*\"man\" + '\n",
      "  '0.021*\"want\" + 0.020*\"date\" + 0.013*\"open\" + 0.011*\"partner\" + 0.010*\"sex\" '\n",
      "  '+ 0.010*\"interested\"'),\n",
      " (9,\n",
      "  '0.058*\"year\" + 0.039*\"move\" + 0.038*\"live\" + 0.020*\"love\" + 0.019*\"city\" + '\n",
      "  '0.018*\"work\" + 0.017*\"go\" + 0.016*\"grow\" + 0.016*\"travel\" + 0.016*\"back\"'),\n",
      " (10,\n",
      "  '0.038*\"pretty\" + 0.028*\"go\" + 0.027*\"guy\" + 0.021*\"really\" + 0.021*\"get\" + '\n",
      "  '0.019*\"good\" + 0.016*\"person\" + 0.016*\"easy\" + 0.016*\"humor\" + '\n",
      "  '0.015*\"people\"'),\n",
      " (11,\n",
      "  '0.051*\"love\" + 0.030*\"enjoy\" + 0.029*\"new\" + 0.024*\"go\" + 0.022*\"travel\" + '\n",
      "  '0.019*\"good\" + 0.017*\"thing\" + 0.016*\"friend\" + 0.013*\"try\" + 0.012*\"food\"'),\n",
      " (12,\n",
      "  '0.013*\"heart\" + 0.012*\"come\" + 0.009*\"day\" + 0.009*\"know\" + 0.009*\"never\" + '\n",
      "  '0.009*\"man\" + 0.008*\"old\" + 0.008*\"eye\" + 0.007*\"see\" + 0.007*\"first\"'),\n",
      " (13,\n",
      "  '0.036*\"love\" + 0.034*\"life\" + 0.023*\"good\" + 0.019*\"friend\" + 0.018*\"look\" '\n",
      "  '+ 0.016*\"fun\" + 0.015*\"person\" + 0.013*\"laugh\" + 0.013*\"family\" + '\n",
      "  '0.012*\"enjoy\"'),\n",
      " (14,\n",
      "  '0.041*\"people\" + 0.039*\"new\" + 0.038*\"meet\" + 0.028*\"m\" + 0.028*\"know\" + '\n",
      "  '0.025*\"get\" + 0.025*\"look\" + 0.024*\"go\" + 0.020*\"want\" + 0.020*\"friend\"')]\n"
     ]
    }
   ],
   "source": [
    "# Print the Keyword in the 15 topics\n",
    "pprint(lda_model.print_topics())\n",
    "doc_lda = lda_model[corpus]"
   ]
  },
  {
   "cell_type": "markdown",
   "metadata": {},
   "source": [
    "#### Compute Model Perplexity and Coherence Score\n",
    "\n",
    "Let's calculate the baseline coherence score"
   ]
  },
  {
   "cell_type": "code",
   "execution_count": 23,
   "metadata": {},
   "outputs": [
    {
     "name": "stdout",
     "output_type": "stream",
     "text": [
      "Coherence Score:  0.41726468346497025\n"
     ]
    }
   ],
   "source": [
    "# Compute Coherence Score\n",
    "coherence_model_lda = CoherenceModel(model=lda_model, texts=data_lemmatized, dictionary=id2word, coherence='c_v')\n",
    "coherence_lda = coherence_model_lda.get_coherence()\n",
    "print('Coherence Score: ', coherence_lda)"
   ]
  },
  {
   "cell_type": "markdown",
   "metadata": {},
   "source": [
    "** **\n",
    "#### Step 3: Visualize Results\n",
    "** **"
   ]
  },
  {
   "cell_type": "code",
   "execution_count": 24,
   "metadata": {},
   "outputs": [
    {
     "data": {
      "text/html": [
       "\n",
       "<link rel=\"stylesheet\" type=\"text/css\" href=\"https://cdn.jsdelivr.net/gh/bmabey/pyLDAvis@3.4.0/pyLDAvis/js/ldavis.v1.0.0.css\">\n",
       "\n",
       "\n",
       "<div id=\"ldavis_el20282814713837577447699360382\" style=\"background-color:white;\"></div>\n",
       "<script type=\"text/javascript\">\n",
       "\n",
       "var ldavis_el20282814713837577447699360382_data = {\"mdsDat\": {\"x\": [0.18016434478118076, 0.13050641605542607, 0.023776621534330317, -0.024659653003948026, 0.09796172717128292, -0.03008881164503272, 0.10375454486719021, 0.14566027852009178, 0.12505469630632557, -0.03359581781847375, 0.06417374607955242, -0.1966769030793905, -0.2081631229559165, -0.12520711093752865, -0.25266095587508974], \"y\": [0.14734912972223252, -0.09259311248818088, -0.151839870051647, -0.006500314054784676, 0.07584225645119189, 0.023588931538162432, 0.054359831584362216, -0.09810809494043016, -0.08950330205426961, -0.17338800409535554, 0.26978849839900454, -0.11595029115904355, 0.24252055299593506, -0.11744184476997002, 0.03187563292279314], \"topics\": [1, 2, 3, 4, 5, 6, 7, 8, 9, 10, 11, 12, 13, 14, 15], \"cluster\": [1, 1, 1, 1, 1, 1, 1, 1, 1, 1, 1, 1, 1, 1, 1], \"Freq\": [11.554440297751572, 11.18087233626944, 10.505291995623205, 9.418998029724273, 9.030718360349928, 8.227576038925106, 6.749602919575709, 6.558255446199411, 4.913974063547979, 4.597695563875016, 4.21437608298241, 4.151539010184114, 3.4321476024015176, 3.199328717346421, 2.2651835352438963]}, \"tinfo\": {\"Term\": [\"play\", \"year\", \"new\", \"music\", \"work\", \"love\", \"look\", \"move\", \"time\", \"meet\", \"go\", \"relationship\", \"pretty\", \"life\", \"watch\", \"art\", \"people\", \"movie\", \"enjoy\", \"m\", \"woman\", \"guy\", \"live\", \"know\", \"travel\", \"sport\", \"city\", \"spend\", \"want\", \"man\", \"kayak\", \"mountain_bike\", \"bbq\", \"biking\", \"dinner_partie\", \"makeup\", \"kayaking\", \"scuba_diving\", \"flea_market\", \"casually\", \"art_gallerie\", \"golfing\", \"weekend_getaway\", \"spunky\", \"unwind\", \"bliss\", \"water_rafte\", \"moved\", \"indoor_rock\", \"canoe\", \"muscular\", \"earthy\", \"greece\", \"skiing\", \"weeknight\", \"yummy\", \"snowshoe\", \"riding_motorcycle\", \"stunning\", \"fresh_air\", \"hiking\", \"outdoor_activitie\", \"outdoors\", \"dining\", \"camping\", \"museum\", \"surfing\", \"hike\", \"restaurant\", \"scuba_dive\", \"outdoor\", \"ski\", \"wine\", \"snowboard\", \"swimming\", \"beach\", \"tahoe\", \"camp\", \"cycling\", \"backpack\", \"food\", \"bike\", \"festival\", \"travel\", \"explore\", \"enjoy\", \"cooking\", \"cook\", \"new\", \"activity\", \"active\", \"love\", \"park\", \"adventure\", \"movie\", \"go\", \"city\", \"place\", \"good\", \"friend\", \"try\", \"thing\", \"fun\", \"music\", \"also\", \"eat\", \"run\", \"live\", \"great\", \"time\", \"people\", \"always\", \"trustworthy\", \"dependable\", \"intellect\", \"hardworke\", \"faithful\", \"comedy_club\", \"ltr\", \"industrial\", \"randomness\", \"dictate\", \"upfront\", \"hectic\", \"marine\", \"ect\", \"approachable\", \"fullest\", \"financially_stable\", \"simpson\", \"custom\", \"wear_glasse\", \"descent\", \"categorize\", \"out\", \"intellectually_stimulate\", \"sence\", \"giants_niner\", \"stroke\", \"fle\", \"bagel\", \"yield\", \"loyal\", \"confident\", \"straight_forward\", \"treat\", \"caring\", \"respectful\", \"self_sufficient\", \"financially\", \"honest\", \"generous\", \"responsible\", \"sincere\", \"independent\", \"care\", \"intelligent\", \"genuine\", \"secure\", \"considerate\", \"orient\", \"family\", \"positive\", \"smile\", \"laugh\", \"life\", \"ambitious\", \"special\", \"person\", \"humor\", \"gentleman\", \"fun\", \"share\", \"look\", \"good\", \"important\", \"sense\", \"great\", \"love\", \"friend\", \"believe\", \"passionate\", \"happy\", \"earth\", \"smart\", \"funny\", \"make\", \"enjoy\", \"guy\", \"take\", \"always\", \"well\", \"time\", \"want\", \"people\", \"know\", \"thing\", \"work\", \"live\", \"find\", \"stupid\", \"hilarious\", \"dorky\", \"asshole\", \"ugly\", \"curvy\", \"loudly\", \"nut\", \"philly\", \"obnoxious\", \"piss\", \"neurotic\", \"monster\", \"gut\", \"accuse\", \"harm\", \"without_sounde\", \"danger\", \"mediocre\", \"fair_warne\", \"functional\", \"burrito\", \"procrastinate\", \"tale\", \"buck\", \"verbally\", \"interpret\", \"collector\", \"nasty\", \"miracle\", \"enemy\", \"disagree\", \"fucking\", \"fail\", \"version\", \"shit\", \"fuck\", \"terrible\", \"think\", \"crap\", \"probably\", \"bad\", \"tell\", \"giggle\", \"explain\", \"trouble\", \"mean\", \"say\", \"joke\", \"seriously\", \"hate\", \"even\", \"actually\", \"wrong\", \"thing\", \"way\", \"write\", \"sure\", \"make\", \"talk\", \"really\", \"never\", \"people\", \"know\", \"sometimes\", \"get\", \"take\", \"try\", \"well\", \"lot\", \"much\", \"want\", \"feel\", \"good\", \"laugh\", \"little\", \"always\", \"see\", \"love\", \"spiritual\", \"meditation\", \"growth\", \"spirituality\", \"awareness\", \"empathy\", \"positive_outlook\", \"personal_growth\", \"savor\", \"intuitive\", \"healing\", \"curiosity\", \"vivacious\", \"engaged\", \"gratitude\", \"restless\", \"awe\", \"superficial\", \"hot_spring\", \"evolution\", \"mindful\", \"playfulness\", \"assumption\", \"hedonist\", \"possession\", \"harmony\", \"being\", \"enrich\", \"sensuality\", \"collaborate\", \"compassion\", \"authentic\", \"exploration\", \"authenticity\", \"reflective\", \"beauty\", \"deeply\", \"joy\", \"creativity\", \"deep\", \"inspire\", \"nature\", \"perspective\", \"depth\", \"playful\", \"community\", \"value\", \"connect\", \"create\", \"curious\", \"seek\", \"experience\", \"connection\", \"world\", \"creative\", \"life\", \"other\", \"learn\", \"practice\", \"passionate\", \"share\", \"love\", \"appreciate\", \"people\", \"open\", \"live\", \"self\", \"feel\", \"dance\", \"many\", \"passion\", \"believe\", \"way\", \"find\", \"important\", \"well\", \"thing\", \"art\", \"enjoy\", \"music\", \"also\", \"travel\", \"adventure\", \"good\", \"ago\", \"san_diego\", \"socal\", \"southern_california\", \"los_angele\", \"east\", \"cali\", \"league\", \"internship\", \"winery\", \"washington_dc\", \"soma\", \"unhealthy\", \"energize\", \"ca\", \"tomatoe\", \"martini\", \"pancake\", \"pacific_northw\", \"migrate\", \"seasonal\", \"upstate_ny\", \"fiji\", \"blackberry\", \"groupon\", \"sydney\", \"entertainment_industry\", \"legit\", \"east_coast\", \"hometown\", \"originally\", \"move\", \"west_coast\", \"stint\", \"year\", \"bay_area\", \"sf\", \"bear\", \"raise\", \"month\", \"small_town\", \"relocate\", \"bay\", \"midwest\", \"transplant\", \"back\", \"city\", \"grow\", \"college\", \"recently\", \"live\", \"graduate\", \"last\", \"school\", \"country\", \"couple\", \"past\", \"job\", \"travel\", \"place\", \"work\", \"still\", \"spend\", \"go\", \"start\", \"love\", \"new\", \"life\", \"get\", \"time\", \"explore\", \"sock\", \"russian\", \"spelling\", \"sushi\", \"muni\", \"milk\", \"nail\", \"obsessed\", \"clown\", \"cheese\", \"bathroom\", \"edgy\", \"racing\", \"album\", \"cow\", \"newspaper\", \"sparkle\", \"driving\", \"itch\", \"shave\", \"grandma\", \"snake\", \"supply\", \"flip_flop\", \"sky_dive\", \"eat_meat\", \"accident\", \"campfire\", \"price\", \"surgery\", \"shoe\", \"shirt\", \"sand\", \"random_fact\", \"morning\", \"truck\", \"buy\", \"breakfast\", \"car\", \"yard\", \"bed\", \"tree\", \"wear\", \"sleep\", \"bicycle\", \"wake\", \"chicken\", \"pair\", \"meat\", \"ride\", \"dog\", \"cat\", \"fresh\", \"foot\", \"smell\", \"coffee\", \"dress\", \"horse\", \"eat\", \"beer\", \"rain\", \"drink\", \"water\", \"house\", \"walk\", \"day\", \"bike\", \"drive\", \"get\", \"night\", \"run\", \"make\", \"hand\", \"long\", \"rock\", \"food\", \"favorite\", \"good\", \"love\", \"go\", \"take\", \"old\", \"know\", \"thing\", \"live\", \"still\", \"really\", \"think\", \"want\", \"downtown\", \"exception\", \"hopeful\", \"nonsense\", \"desk\", \"down\", \"software_engineer\", \"wet\", \"weekday\", \"stressful\", \"weekly\", \"physical_activity\", \"technically\", \"conclusion\", \"deck\", \"aunt\", \"chivalrous\", \"fiercely\", \"taking_advantage\", \"choir\", \"exhaust\", \"eating\", \"disney\", \"permit\", \"awesomeness\", \"meaningful_conversation\", \"instance\", \"county\", \"angle\", \"classify\", \"schedule\", \"busy\", \"anime\", \"spend\", \"spare\", \"time\", \"work\", \"photograph\", \"week\", \"hard\", \"hour\", \"keep\", \"day\", \"gym\", \"job\", \"impact\", \"balance\", \"weekend\", \"free\", \"group\", \"much\", \"lot\", \"friend\", \"usually\", \"try\", \"enjoy\", \"possible\", \"full\", \"exercise\", \"get\", \"life\", \"find\", \"family\", \"thing\", \"go\", \"stay\", \"pretty\", \"also\", \"make\", \"take\", \"always\", \"really\", \"good\", \"people\", \"m\", \"ve\", \"hangout\", \"tumblr\", \"weed\", \"uncle\", \"cupcake\", \"bare\", \"bro\", \"complicate\", \"linguistic\", \"sonoma\", \"contradict\", \"unnecessary\", \"cult\", \"dating_site\", \"painful\", \"nuts\", \"laidback\", \"flute\", \"accounting\", \"passive\", \"first_impression\", \"psychic\", \"state_university\", \"dot\", \"re\", \"solitary\", \"adventerous\", \"diplomatic\", \"s\", \"message\", \"ill\", \"reply\", \"site\", \"lol\", \"online_date\", \"send\", \"meet\", \"lookin\", \"alot\", \"chat\", \"new\", \"ask\", \"okcupid\", \"sociable\", \"people\", \"online\", \"know\", \"website\", \"want\", \"profile\", \"look\", \"date\", \"let\", \"cool\", \"meeting\", \"name\", \"get\", \"friend\", \"see\", \"go\", \"fun\", \"girl\", \"try\", \"really\", \"guy\", \"thing\", \"person\", \"time\", \"love\", \"find\", \"say\", \"good\", \"make\", \"haha\", \"toy\", \"hi\", \"junk\", \"exact\", \"brown_hair\", \"sewing\", \"panda\", \"ba\", \"forgot\", \"texting\", \"prize\", \"testing\", \"graduating\", \"cherry\", \"bucket_list\", \"uptight\", \"narcissistic\", \"cuss\", \"apparent\", \"informed\", \"bilingual\", \"lean_toward\", \"multitude\", \"ps\", \"whistle\", \"crass\", \"human_condition\", \"nonfiction\", \"concentration\", \"shy\", \"talkative\", \"sarcastic\", \"laid_back\", \"pretty\", \"mellow\", \"kinda\", \"guy\", \"quiet\", \"funny\", \"easy\", \"asian\", \"humor\", \"quirky\", \"bit\", \"chill\", \"average\", \"nerdy\", \"sense\", \"silly\", \"nice\", \"tend\", \"friendly\", \"reserve\", \"fairly\", \"usually\", \"type\", \"really\", \"little\", \"sometimes\", \"kind\", \"person\", \"go\", \"say\", \"get\", \"good\", \"know\", \"think\", \"fun\", \"people\", \"also\", \"thing\", \"much\", \"time\", \"lot\", \"sex\", \"male\", \"poly\", \"sexual\", \"marriage\", \"polyamorous\", \"monogamous\", \"sexuality\", \"tender\", \"employ\", \"sexually\", \"bisexual\", \"polyamory\", \"soulmate\", \"non_monogamous\", \"platonic\", \"knife\", \"juggle\", \"connected\", \"colleague\", \"secondary\", \"fling\", \"cupid\", \"traveling\", \"answering_question\", \"capital\", \"eachother\", \"initiate\", \"whisper\", \"silver\", \"requirement\", \"mutual\", \"relationship\", \"woman\", \"kinky\", \"dating\", \"marry\", \"divorce\", \"date\", \"female\", \"married\", \"masculine\", \"man\", \"girlfriend\", \"gay\", \"single\", \"casual\", \"partner\", \"friendship\", \"look\", \"match\", \"boyfriend\", \"interested\", \"open\", \"want\", \"chemistry\", \"attract\", \"together\", \"age\", \"need\", \"profile\", \"right\", \"seek\", \"know\", \"connection\", \"find\", \"guy\", \"year\", \"old\", \"meet\", \"feel\", \"interest\", \"also\", \"time\", \"friend\", \"well\", \"football\", \"soccer\", \"baseball\", \"guitar\", \"basketball\", \"piano\", \"hockey\", \"softball\", \"card_game\", \"bass\", \"raider\", \"interactive\", \"frisbee\", \"recording\", \"flick\", \"dart\", \"videogame\", \"rugby\", \"hacker\", \"book_store\", \"painting_drawe\", \"instrument\", \"difficulty\", \"squash\", \"dolores_park\", \"pensive\", \"psychologist\", \"crisp\", \"taco\", \"trumpet\", \"playing\", \"sport\", \"board_game\", \"play\", \"video_game\", \"game\", \"drum\", \"band\", \"giant\", \"tv\", \"watch\", \"fan\", \"movie\", \"music\", \"team\", \"tennis\", \"cal\", \"poker\", \"genre\", \"listen\", \"comedy\", \"huge\", \"show\", \"love\", \"go\", \"also\", \"concert\", \"enjoy\", \"dance\", \"big\", \"read\", \"favorite\", \"work\", \"hang\", \"friend\", \"physics\", \"attribute\", \"idealistic\", \"outspoken\", \"scientific\", \"object\", \"animate\", \"joyful\", \"wanderlust\", \"blah\", \"fine_dine\", \"dramatic\", \"contrast\", \"acknowledge\", \"twin\", \"cerebral\", \"korean\", \"leisure\", \"ping_pong\", \"astronomy\", \"notion\", \"lust\", \"journalism\", \"brush\", \"observer\", \"recent_transplant\", \"tiger\", \"sentimental\", \"imply\", \"civilization\", \"failure\", \"blah_blah\", \"rational\", \"behavior\", \"standard\", \"scientist\", \"word\", \"insight\", \"result\", \"human\", \"appear\", \"however\", \"test\", \"exist\", \"perhaps\", \"solve\", \"self\", \"question\", \"character\", \"less\", \"ability\", \"personality\", \"quite\", \"often\", \"well\", \"become\", \"self_summary\", \"seem\", \"summarize\", \"find\", \"problem\", \"brain\", \"rather\", \"enough\", \"describe\", \"yet\", \"say\", \"come\", \"many\", \"also\", \"answer\", \"long\", \"type\", \"way\", \"use\", \"think\", \"one\", \"social\", \"make\", \"still\", \"give\", \"design\", \"designer\", \"photographer\", \"vegan\", \"essay\", \"graphic_design\", \"production\", \"painting\", \"myers_brigg\", \"poet\", \"anthropology\", \"compose\", \"datum\", \"replace\", \"application\", \"san_fran\", \"architect\", \"promote\", \"mentor\", \"sculpture\", \"proof\", \"infj\", \"entp\", \"freelance\", \"political_science\", \"filmmaker\", \"seafood\", \"abuse\", \"violence\", \"fund\", \"youtube\", \"artist\", \"literature\", \"com\", \"psychology\", \"technology\", \"digital\", \"art\", \"film\", \"study\", \"medium\", \"economic\", \"writer\", \"history\", \"software\", \"architecture\", \"degree\", \"musician\", \"program\", \"science\", \"student\", \"project\", \"video\", \"photography\", \"write\", \"currently\", \"creative\", \"major\", \"school\", \"teach\", \"music\", \"work\", \"philosophy\", \"business\", \"graduate\", \"politic\", \"college\", \"high\", \"book\", \"make\", \"interest\", \"also\", \"year\", \"punk\", \"quest\", \"wanna\", \"justice\", \"peaceful\", \"birth\", \"blind\", \"naked\", \"astrology\", \"trash\", \"frankly\", \"abstract\", \"punk_rock\", \"army\", \"extent\", \"dollar\", \"roadtrip\", \"bitter\", \"fate\", \"pour\", \"literary\", \"th_grade\", \"angel\", \"embarrass\", \"permanent\", \"portland\", \"stoke\", \"rabbit\", \"marina\", \"poetic\", \"shine\", \"shadow\", \"shower\", \"hero\", \"irish\", \"german\", \"wave\", \"eye\", \"sad\", \"baby\", \"soul\", \"heart\", \"metal\", \"italian\", \"light\", \"die\", \"sea\", \"poor\", \"remember\", \"arrive\", \"come\", \"bus\", \"dream\", \"child\", \"fight\", \"old\", \"man\", \"never\", \"first\", \"day\", \"face\", \"hold\", \"boy\", \"story\", \"name\", \"leave\", \"know\", \"see\", \"call\", \"world\", \"say\", \"life\", \"kid\", \"get\", \"make\", \"let\", \"tell\", \"bear\", \"girl\", \"go\", \"pun\", \"comic_strip\", \"comic_book\", \"ish\", \"annoying\", \"hmm\", \"tolerate\", \"pie\", \"femme\", \"pen\", \"senior\", \"poem\", \"monkey\", \"vice\", \"pickle\", \"screen_name\", \"genderqueer\", \"slim\", \"tad\", \"butch\", \"scar\", \"gossip\", \"audio\", \"insanely\", \"portuguese\", \"reddit\", \"prayer\", \"consumer\", \"introspection\", \"rewrite\", \"grammar\", \"low_key\", \"tip\", \"geeky\", \"popular\", \"cake\", \"zombie\", \"ice_cream\", \"rage\", \"sandwich\", \"nerdy\", \"half\", \"geek\", \"nerd\", \"artsy\", \"book\", \"read\", \"language\", \"debate\", \"dark\", \"speak\", \"queer\", \"black\", \"glass\", \"tea\", \"dry\", \"hair\", \"white\", \"discussion\", \"sarcasm\", \"also\", \"animal\", \"word\", \"coffee\", \"game\", \"make\", \"side\", \"conversation\", \"favorite\", \"love\"], \"Freq\": [10309.0, 16865.0, 20448.0, 11441.0, 20089.0, 50632.0, 17686.0, 10044.0, 26038.0, 10690.0, 29292.0, 5884.0, 9663.0, 28417.0, 6440.0, 5441.0, 27035.0, 6932.0, 20433.0, 4677.0, 5018.0, 8583.0, 19132.0, 17203.0, 12706.0, 4153.0, 7636.0, 7607.0, 13461.0, 5300.0, 298.0434942555505, 188.89931006238388, 173.37206518711136, 391.5600533899049, 193.42516278096238, 109.56573784539826, 97.19558772208603, 147.92104909458925, 85.1433599223458, 84.73322408480549, 81.96149782613068, 72.53617803573675, 70.6296918771484, 68.22773378942028, 60.97824502638603, 60.012534193625136, 53.82862764699218, 53.49861485801445, 48.953600217801466, 48.54906117915441, 48.23084564886073, 47.43083110875736, 45.19363795115907, 722.5442879789293, 42.324191928757365, 99.4761409795845, 40.70907132611123, 37.76826396188892, 35.57786530351166, 34.96213334391583, 2710.3328415542455, 375.35110288672684, 2779.4225556749057, 210.90871739819102, 1617.5582888352733, 1068.4621963063669, 197.26361821174388, 2973.8157145763125, 1872.8047435809951, 201.34740143130028, 767.8836367351726, 552.015120670317, 2210.0276583193804, 828.4436568679909, 675.0907462848324, 1850.2979196655854, 408.2162648758242, 699.0001331771248, 331.91394136110847, 607.7447497854566, 3596.09972331716, 2075.6088649954177, 467.4418149810065, 6400.826639981386, 3235.3439681069362, 8964.500376923697, 1052.6440041259168, 2400.6339661730217, 8503.523666671006, 1240.0160693648875, 1952.1644198199374, 14998.570527423868, 912.8892624062826, 2563.0205413562267, 2897.1260822297118, 7142.933542451158, 2848.351109583367, 2698.916682618554, 5582.267430135031, 4852.265204973271, 3927.800003215435, 4932.228818069057, 3325.936704307608, 2967.951304183449, 3499.895907331156, 1727.4146376604917, 1755.7575861438504, 2911.4086300765453, 2267.618287744476, 2735.481561516716, 2635.476958539939, 2034.298038615421, 314.2778785811559, 235.3913690248073, 169.98885261562452, 135.6371543307649, 95.45978926579795, 87.69168557640869, 92.90279962936096, 68.27679213159452, 65.73693042781308, 59.43592909375051, 55.76715929857989, 55.09081666772297, 51.912373061594415, 50.54760019430123, 50.458764429582736, 49.75913949319158, 47.90527548388825, 45.70021583716272, 44.12311501932729, 42.65579152382259, 41.00942376079474, 40.63467043572983, 37.32233688295472, 36.42380261512491, 36.13188089032264, 35.383926393895116, 34.76226171516602, 31.061628958308642, 30.38565350359634, 30.01080838449528, 1832.7888329540933, 1226.7156049237149, 155.7310357436598, 940.8263171404478, 267.4110147863751, 407.3540604549916, 130.79686314914758, 92.80498056646769, 2460.9963736127015, 482.03435030692975, 412.966014029102, 396.06870137202037, 1198.9032803949913, 2532.049363711531, 1419.8932499854604, 724.9334867896742, 164.33398950206723, 298.23682069334166, 365.38616092075694, 3705.026269775195, 966.328836682279, 1278.1329494381423, 3774.2610036058372, 9857.915222747724, 589.2221128082207, 931.9608157488083, 4165.159664583629, 2216.469478521532, 330.4446442290302, 4482.044159995133, 1915.706686231062, 5125.415808389592, 6651.668504873716, 1854.7653265994331, 2096.6526925258363, 3117.5334898488627, 10284.1920396125, 5533.448644017398, 1849.3025466789895, 1568.6232213507667, 1886.6573118914446, 1082.8740164700596, 1235.9756537725796, 1486.4419901792164, 3446.9786138529225, 3455.9013947231238, 2097.407606679187, 2352.121036171061, 2207.240405987414, 2310.023156281629, 2906.49693118691, 2291.907619935978, 2850.550769345369, 2436.4767512303843, 2362.7483154639144, 2198.415894805374, 2000.085366489249, 1872.9237224150568, 490.015862437966, 400.800427394824, 195.03468917595816, 136.02997717075777, 121.8259655621171, 120.77168301551121, 110.88257498341758, 109.60038713362648, 102.5951942350439, 100.57297080759315, 96.0108424705021, 95.17856902905633, 92.26336954698131, 81.98851530419837, 70.77611069060413, 64.9683360341687, 61.402465225751776, 59.98628784397829, 58.70733819868767, 58.56889907577545, 57.36574144938048, 56.69796566028363, 54.28163000712659, 53.44943105222502, 49.59206303359831, 49.52707156361165, 49.362785609862044, 49.18910651085438, 49.127098422980154, 48.86973957208051, 129.18278199345656, 122.36861963833579, 146.258234199627, 276.24123689845675, 216.83492480968576, 584.4224921263785, 367.3346737381007, 364.81216731704774, 7217.443168756068, 209.90002368676133, 2186.4775793663275, 1508.4993604697208, 2654.8845973857156, 133.40847421211865, 322.9858244000355, 334.3533178393429, 2219.553493972775, 4423.162664877533, 985.9322509612741, 1248.7813717421807, 1108.196189562598, 2405.26240508939, 1216.5847433476024, 597.9006990076462, 7595.305660881743, 3374.3404367214566, 2086.5662529291403, 1202.6042305750059, 5760.870997038202, 2019.897063702299, 4152.215304285698, 2042.3176703202569, 6118.991512763616, 4178.9679855888135, 1868.0789970298117, 5216.902319561964, 3048.972422868263, 3488.048490184288, 2923.077806244724, 2612.1135769117154, 2571.347012864202, 2698.291152736207, 2033.6136275250065, 3447.602578948522, 2034.480870438782, 1807.9134396756663, 1987.2090436552894, 1680.3954868299002, 1797.5387656229666, 983.1885674520852, 368.02937415997843, 282.11306845127837, 241.44792303622734, 203.767782927575, 165.19920067942027, 154.14417692923269, 137.74726651912428, 119.78351198069991, 243.43488964548126, 117.18323347417896, 544.2167721061387, 103.15355949965857, 103.07944298219716, 103.0670984308681, 102.53834249224909, 96.5510734093419, 93.11399460504023, 90.69598803864443, 85.7904137809092, 79.594004377934, 72.06597219486052, 70.68222250809654, 68.21021907452622, 66.83146063573697, 65.58409855736426, 64.16421504723391, 63.378220029894585, 63.72458451963412, 58.89664525768616, 390.67633934390034, 283.8383530681218, 278.87325642080623, 99.5299486196364, 137.93119752195653, 758.8286247427383, 605.7237381206725, 624.0921493012398, 463.1283669947896, 1261.0398412453214, 648.1232508178956, 1728.1024364324762, 493.8115788545136, 246.20265615622478, 686.0585350871041, 727.8324967846321, 1365.0030092861884, 696.8227588883864, 1025.2351778277146, 1152.269103155192, 952.8901456615794, 2209.7984146115123, 801.389207121084, 2884.870017818687, 1455.4544332039977, 6953.70117325703, 1566.2445036860229, 2399.111079429098, 609.4017395437658, 1378.752758608447, 1497.5234268663194, 5976.432029065029, 1099.8428340898433, 3607.858276456259, 1447.414671564833, 2633.026998373652, 988.5802400530723, 1660.83503598067, 1280.1910488265682, 1358.8521045989041, 1008.0370526089073, 1200.2341244814575, 1464.1974124733151, 1542.1655986676374, 1125.2831828374945, 1502.7991337960514, 1816.0785387913008, 1177.4948422997832, 1555.0269902095142, 1340.2062643900622, 1398.3822261646474, 1254.978807141289, 1152.4101516050018, 1178.9198365666425, 3153.9240105686363, 292.59597034690097, 247.5426106463935, 235.46726008019866, 168.97735596998936, 138.29676120783893, 109.72881358422688, 106.02753759574743, 79.09109280059327, 77.1167666472965, 58.0335931841393, 57.10934586797906, 54.40441638575484, 53.89811790371636, 45.07123116003229, 39.921976022397715, 39.08469325706488, 38.24543900317423, 37.77602589252912, 34.608170676538016, 32.35051971205698, 28.803666883740792, 27.250792748080023, 26.625323680337882, 25.160379619387946, 24.919581669931674, 22.580882305329595, 22.41476164639006, 471.448441731526, 128.56790665373072, 1988.1976141907696, 8932.66715434658, 420.0693874349231, 202.89812082244418, 13457.142294875659, 1312.8361899884303, 769.5529870135337, 3227.134351835201, 2613.357458165201, 1616.2322779608912, 278.29713117436256, 148.01340264308652, 500.79314236664754, 199.44383022443316, 446.82932839806665, 3620.359250093411, 4454.981254027855, 3704.434252487859, 1809.6309243953779, 2139.184978677737, 8842.8096580598, 1065.408431188276, 2046.7996633526054, 2385.302024483348, 1533.5866148810462, 940.119841310469, 713.7785579534693, 1682.0327879081299, 3655.2267608220463, 2271.3819340673476, 4223.3791090604545, 1842.353455573127, 1875.1191235945337, 3861.168954339579, 1442.6896285042194, 4746.037616503553, 2868.3589682905817, 3354.9046043286435, 2577.050686647922, 2371.4175686151975, 1505.8818691996867, 157.23745531973503, 141.45117288222784, 114.14323932854724, 111.91448394857494, 102.5070272825195, 100.496825614728, 95.84639243126104, 86.88235583085633, 86.0193354812286, 354.771815966951, 85.61438691137211, 85.47859757593747, 82.7277474608626, 82.62811457670276, 82.6146111737895, 81.76236775554547, 80.40663592817756, 79.38369328565769, 79.22870197618498, 78.33223322470708, 77.64736691114996, 75.14599508173072, 75.01532709146646, 74.27317417228053, 74.12080494240945, 73.88877239012197, 72.87411969482032, 70.40493742341438, 74.03555358149781, 67.57738994481677, 536.0047015902041, 322.23108350807354, 133.22300112252648, 162.52138170681266, 786.8502021852613, 207.3065749908736, 694.1363658832124, 237.99060490093302, 1497.4153029932888, 136.94211707269076, 535.0357479965307, 479.03289289043806, 1034.2678648718947, 873.5900691751904, 395.2766700148751, 423.40506271509486, 139.26606560953493, 226.515991559346, 230.2725535081301, 1383.749834815384, 1601.0952042896472, 789.3286384940435, 345.62470048775793, 510.9998136249745, 415.3288610396578, 1011.745441515725, 627.2384322938052, 251.4671852294081, 1654.6261076678927, 834.8282901328798, 394.91213340253205, 1354.380578252733, 768.3024339374334, 555.0194579165892, 1360.2097252573012, 2388.0685643870634, 1179.6888171453595, 1049.4530831511686, 3592.136360060571, 976.4809148732123, 1136.9261499172878, 2183.7747895619573, 669.670680647863, 1137.2069519220252, 591.9909522390539, 1042.510749752733, 860.2421488275422, 1545.1603881577603, 1902.36107268983, 1538.9465876022662, 1130.9685885599583, 848.6122494228036, 1066.9285375152658, 1077.2707563482459, 969.9714763778112, 867.893266572435, 902.2583032382614, 881.518451880674, 861.1584397639242, 248.4296681894533, 218.64787744524983, 105.3157563388454, 100.72552879886459, 100.25376694333455, 93.98187523394546, 93.86299777509105, 93.30154635784206, 93.86354183668763, 87.55133919307728, 84.23929873495386, 83.51310748130106, 82.34069504151361, 81.57753278732973, 78.07487430371295, 75.52065623595503, 75.02797319699326, 73.63112527339862, 68.1667166878858, 67.27015355278304, 66.82357469652469, 65.61858908744523, 63.904996562489046, 63.81649587611078, 63.04048268551121, 62.78193252455504, 61.26309390074775, 61.153037292408385, 56.3672397588838, 56.292552191930014, 306.9981408672719, 1106.6200784335858, 166.6853905979842, 4053.7702318773445, 327.0800186093495, 10323.761433357417, 8150.873236985961, 147.70885459109246, 1180.9571085157347, 2255.6245702843025, 743.7887043396956, 1887.361607616953, 2835.699014480194, 579.8645976230447, 1418.8196295181015, 126.28460561158224, 637.2167097743293, 780.912646630709, 1009.4867062509766, 522.3296001735887, 2308.861682625011, 2161.403418775221, 3287.98588290393, 928.9192439681414, 2611.5446694654506, 2710.223418387523, 580.4037425148337, 809.4929680157812, 405.79470935064955, 2713.488432780793, 2917.1915426806645, 1710.9876386334386, 1293.857063360583, 2232.4235269576993, 2310.8520614496238, 815.9107992108477, 1252.5740724200994, 1508.0836141659483, 1382.6592807659333, 1119.15549942412, 1052.96464317639, 1075.9410495148911, 1172.4504031966437, 1144.3902046979092, 4676.064236321984, 334.553963207369, 135.96428919688077, 118.7707476158744, 103.80644207540469, 90.95945800499793, 86.46704542218986, 84.40239193578229, 75.19127554782669, 71.43938656271905, 62.62340242202938, 61.94916412494803, 61.45568567623191, 57.00804577432493, 55.167148006954434, 54.03403256008447, 52.61521288106009, 51.78623546062392, 48.62798219947, 44.83960252494312, 44.342913091349864, 44.18525667075912, 41.773082598518336, 41.303794221849145, 40.4859475630145, 40.354096496497284, 37.8134732395832, 36.392901224299656, 33.6134560723549, 31.60285090151637, 757.4897369408544, 2116.5241276962693, 216.33707132444763, 201.63297303408206, 1327.6368324098923, 884.3513637008812, 544.4329411976858, 739.7824867274472, 6329.902516265135, 97.12869975441953, 322.2159691879278, 434.4704928958896, 6522.493316726863, 1525.3255804226442, 480.7152537297472, 106.80235949288473, 6872.405459759904, 459.783704799474, 4640.045757471452, 277.7531679066456, 3445.6038670665585, 1221.7657270584918, 4125.296374386887, 1226.2938422688821, 1500.8187173067413, 889.5794736144859, 526.381528227143, 974.460840724303, 4195.132945963369, 3357.7757556399865, 2042.546951962374, 3957.7393518277295, 2423.2693563752405, 1330.9457131674242, 2391.5629952645827, 2281.847401214804, 1693.8488744797055, 2722.6153794634397, 1758.288641961477, 2098.421691392862, 2578.7349063209813, 1451.2996916986613, 1301.1342247177956, 1446.7753356900787, 1252.7561951749578, 253.9880766925599, 181.0086388403162, 93.51048358754642, 93.1357381537136, 80.20098752632319, 61.986169166518586, 55.013229701855934, 53.53030827554182, 51.83240829856568, 48.83029680107092, 47.31012015233247, 47.166318221240154, 47.087010588861354, 46.234655257390315, 44.68818576660028, 43.96249745785707, 43.68166760589273, 43.184494865528436, 42.57870690444189, 41.3608704324875, 40.017962332740765, 38.68706553969217, 37.14324403773757, 36.70233555876447, 36.103017199209376, 35.994035221030686, 35.11991650209499, 35.030211295826355, 32.004550302054106, 30.71183662779462, 1720.255134931898, 163.4081098794382, 1285.9455321584978, 1408.2221160456788, 4731.764102743704, 292.4452953343063, 518.5006840360778, 3374.289717154343, 755.122325717051, 1716.5207811699138, 2014.2408702644107, 229.4337970171398, 1980.3381630790195, 415.2311439551903, 1760.2539965363078, 564.3053455163985, 312.0565793852204, 464.26338841449626, 1751.9781878834171, 782.9349226463054, 1417.921413079069, 1105.0439718251614, 664.4557161224219, 182.60776003155155, 477.1106967291242, 1008.7709023673411, 1054.9945475658894, 2653.827614143496, 1602.9706774980866, 1368.9149883446958, 1491.802912900854, 2018.6281109800366, 3543.0760757372823, 1787.1250537234107, 2602.1585889566213, 2400.7419661779336, 1885.5802420252103, 1606.270907794042, 1470.067633727656, 1909.3761699728173, 1547.3024116438944, 1566.0810975875154, 1208.8661420414003, 1267.9395601646836, 1067.4069108777858, 1203.1262889416007, 495.4527512239781, 407.3057791218347, 365.3564028203321, 302.0876080523404, 276.976032578081, 221.81658783229062, 168.43078502194496, 120.36984740079691, 116.90080214426968, 113.09726622223516, 105.28037076791226, 97.40955930004294, 78.89374608582189, 75.51006327538555, 74.35703885381415, 72.82606015754638, 72.59669061977465, 71.02682595956163, 64.71778076901522, 63.586402364084, 57.339728447864196, 57.38659269156349, 51.194263728661824, 50.3237184516377, 50.20406141291804, 48.07473575572482, 45.092921470137895, 42.49680982728371, 40.8789553854104, 120.56726950437076, 218.6509848648343, 4207.966308543882, 3442.547567327946, 143.8608541023075, 94.04296545011204, 462.8762236623349, 228.77342816064666, 2414.4328779751636, 421.47723542376104, 163.5675002053387, 196.52771267702843, 2917.4796063698595, 292.1876232166977, 265.64038289496546, 966.9728319053348, 302.54059590342456, 1345.116361692, 689.3639450195728, 4399.827376121735, 493.9414008116643, 214.44408084450842, 1150.31769494023, 1500.5792885484354, 2508.6888308952857, 406.84680670305545, 416.01530167263, 670.3035910493912, 538.1588459131624, 1000.8598699836168, 791.0518525483197, 915.3418800369143, 522.4245389741702, 1135.1423685856737, 462.9816948049242, 910.6885217761071, 800.1927032074864, 908.2903023548166, 633.0392253323307, 732.2243207658503, 631.8253463674655, 518.3853401100333, 617.492636163517, 634.7331874157803, 614.1597260959799, 571.2320925934964, 1056.4755982449376, 981.6632922179742, 951.5711841596597, 889.8891416608018, 804.5930071675399, 522.4624962423183, 255.8781619748876, 170.31779917158946, 100.36146368888633, 186.17692048704106, 84.9422615611122, 72.74800112318476, 71.97601309179583, 69.60445045936655, 68.16500317139845, 65.39548761614222, 65.14418700424243, 59.07467991059105, 53.04667355884027, 52.62489718450845, 50.422706270217795, 221.71914477243274, 49.155062114174086, 47.616301166605474, 47.212236682348106, 46.9350334927955, 46.33237943444114, 45.00216647758747, 44.01052395861751, 40.234698766043394, 413.42537071484327, 3330.8616988648896, 415.15449909467713, 7718.2219449979775, 827.6692062658598, 2847.324973525019, 314.006679071461, 776.7673164634787, 620.0553313858934, 1015.1400792464658, 3835.5862105841647, 1204.2054060756632, 3369.5724736546804, 5099.7339621497185, 508.5096410799969, 655.4281304809158, 214.13957559199045, 143.5779344573736, 187.30144779023675, 1146.2822726719153, 400.50917225349434, 683.7595049256071, 1110.6435467371748, 5621.279906612144, 3252.2918928933673, 2238.114162819705, 535.3625649625374, 1665.3176141203012, 882.6209444253515, 913.8183297837973, 966.3655538350259, 742.7624502659552, 976.9786718643898, 702.4078007046731, 782.0410120742363, 176.3139167954969, 153.99744893120857, 153.88317527373616, 130.48930016753695, 130.3406576540807, 120.13449556675526, 112.6371149257664, 106.61675229287334, 106.08265308230304, 102.21755112104834, 98.47272156457807, 98.30640505594225, 97.15077241390804, 93.44299503737417, 88.52464194683482, 87.70666193500891, 86.20067270409946, 85.84827108773148, 81.25541200939821, 76.95848080336862, 74.8140463833357, 74.44881686724061, 72.9921313900649, 72.95895236825865, 71.28194926253312, 70.66088061004483, 70.60485925085011, 68.23223074789385, 66.84609871921724, 65.55507286305847, 102.02640921806143, 136.6330833081426, 154.0543874542485, 154.42551656480745, 204.4660007483959, 190.3994588542081, 1299.248849736502, 114.82872751035124, 271.1214657229729, 433.16215651235035, 151.82139094967448, 543.59269916757, 236.2211256849361, 202.99247787819675, 307.56670628775805, 124.24673600197956, 554.2713121821395, 427.5864448269063, 242.46790384653912, 395.69271660278326, 238.34773118346425, 381.0466758876866, 435.4612631784166, 527.2659433119958, 873.6796696048461, 391.33115633093047, 222.5913025103467, 372.31202882538565, 220.95701569100714, 642.6218541217601, 251.5053389188239, 226.47427677247722, 354.25297356009315, 345.88871196199017, 340.0113277361038, 322.51850959828255, 455.1108292805982, 393.5279868341483, 375.0256439730686, 454.14309748282756, 245.82789641119618, 343.7739304406018, 307.87187396609704, 354.2709698020292, 283.3671895022724, 333.32520330442685, 269.43281835464484, 278.8051669597083, 305.3316771497973, 285.587122619105, 283.61675722102126, 1203.7234505717229, 395.7558604624049, 322.60885940392126, 290.22931995088, 219.50035042461016, 199.77816931020297, 199.7648899533469, 190.16094348538698, 164.30762388131407, 142.50527659964055, 120.690684849261, 115.89308683547976, 100.99803390959084, 100.67877603850961, 96.79436947618137, 94.30938785315158, 93.21441471189654, 88.35377049230098, 88.14221271374606, 88.00970604487057, 87.29157564007568, 83.93922454388019, 81.57452049064585, 80.23800343052781, 75.05266561545893, 65.9756462817595, 60.529726704433656, 60.269421595444534, 59.11727856871232, 58.33590727617389, 292.4749247723115, 1307.3523545942485, 256.6889024003351, 812.9158309506439, 412.2984553231707, 623.173781498428, 185.4718140454316, 3164.569760177348, 938.7607711080117, 1388.1928166243642, 363.4326763046633, 188.334560582481, 497.7694782717995, 694.5648745123822, 261.8843483060973, 344.2248243544128, 740.1135603567169, 434.0106136395301, 310.9939100856536, 593.0822260488836, 635.6145715604341, 540.7545105008662, 363.2143046585858, 637.0674315660939, 1302.0110201985813, 919.5020149564796, 973.8910637567159, 469.93229857691875, 1135.8971681172438, 629.7621048828165, 1586.72789058443, 2054.2327309251937, 412.0113507096622, 496.1090668367597, 510.4464277603632, 442.2511103394274, 566.442360711522, 505.3558027038584, 548.3715331992374, 652.0428164038282, 509.7363510395875, 575.7054088750056, 534.7335107510506, 251.8992571825328, 149.5087599245175, 148.54331859958975, 145.28842723910702, 165.13842391177437, 126.75788328114301, 123.23457976667065, 120.91465136006093, 106.57740975529647, 101.88584191077322, 99.40066552621977, 98.17741405039567, 94.58647739727124, 93.19893307891722, 93.04493659614819, 92.10276236990092, 89.09047540452663, 85.28396468850467, 83.99923114609345, 79.78173043718493, 77.41992889403367, 75.21307419338817, 73.47490444030058, 73.41146434611514, 70.57200913387027, 68.9224902742157, 68.33761787924455, 68.05390923160269, 67.09764675800167, 65.38592470452255, 142.11712933004122, 98.53406161391334, 223.50646250924555, 112.01119422718531, 227.41539239569065, 229.86774077607137, 225.59692918404087, 624.263172777617, 216.76118160065045, 293.47085747394175, 480.21847511760615, 1036.5896675460012, 168.4535652141604, 265.7911860033154, 383.96569713145965, 280.34112671338175, 181.15476491995918, 142.54672058511176, 287.7104739986538, 151.50474460417848, 987.4417612278552, 158.03744102372127, 454.2064318740802, 458.5357932669774, 213.712026408303, 694.4346411000278, 698.1888581521436, 699.5609674822103, 562.1470873028032, 746.4757672028621, 330.85642399265026, 335.6875371211316, 319.18260614336504, 375.8931600518304, 410.8971155189052, 395.5995139096145, 711.9489973885281, 577.7925874352212, 392.152888666163, 467.33927637608923, 480.7454424281149, 559.2921875509171, 353.19539848881806, 532.895950638539, 492.3527064417657, 375.7569577418207, 372.270828097654, 353.44717218389906, 339.1193004575441, 340.6210407659736, 257.7601886699398, 207.20858132265178, 177.78440243124456, 152.01000386746472, 145.9383571371418, 129.97594949042744, 124.7099775694875, 119.99946668946738, 115.35108997443753, 104.99569561507847, 102.77996478239093, 101.70091452462613, 95.6139777042898, 88.49509844000258, 83.48669792482555, 81.955781888819, 78.13887905146102, 78.80264884145397, 75.56486238993699, 74.20926505521177, 68.37866209686459, 67.65173023667037, 67.23112765441797, 66.47911355456888, 64.97566017028475, 62.35621280344894, 61.93834904758107, 60.542149457021985, 57.389273385959704, 56.61498349818311, 212.55268756469505, 81.57625493980028, 118.54709072662116, 406.98486696714616, 124.20612819021396, 156.97705824803677, 115.06411506961305, 150.66430012039524, 86.64804745134417, 114.3579847648727, 420.09165926226683, 620.3525345883974, 398.61141586778433, 415.70737303604847, 125.23468260448918, 696.2382318923128, 924.4170127487704, 348.3568596014021, 199.27994267827472, 221.77226695351956, 334.7725512355051, 194.93908544722046, 244.32568396347514, 254.46661807312407, 205.99777660945537, 215.900236710156, 233.09876799842152, 207.9086659217433, 166.1000551222345, 199.87110990020764, 460.0468217156857, 232.55335608344595, 261.45391194533676, 232.04843822375574, 234.87555625588175, 280.8540268445702, 212.0445913138919, 215.16017200838462, 206.31925396419064, 211.38785455955306], \"Total\": [10309.0, 16865.0, 20448.0, 11441.0, 20089.0, 50632.0, 17686.0, 10044.0, 26038.0, 10690.0, 29292.0, 5884.0, 9663.0, 28417.0, 6440.0, 5441.0, 27035.0, 6932.0, 20433.0, 4677.0, 5018.0, 8583.0, 19132.0, 17203.0, 12706.0, 4153.0, 7636.0, 7607.0, 13461.0, 5300.0, 299.01474423359207, 189.87052595095693, 174.3432851714281, 393.8126399499772, 194.9014051409817, 110.53695462935154, 98.16680089207607, 149.56676197598182, 86.11521389912346, 85.70444723592455, 82.93272250711931, 73.50739161192524, 71.6009047858017, 69.19895066808132, 61.949461352254076, 60.98375470760814, 54.80093786292806, 54.46982966155698, 49.92482200848, 49.52027520038174, 49.20206696236838, 48.40205378013847, 46.164853643671, 738.5311754432192, 43.295408129683224, 101.77356599170254, 41.680284167196746, 38.73947899712632, 36.54908528527457, 35.93338597354446, 2821.49479299568, 389.8977422589674, 2993.029143063276, 220.49346987561455, 1781.283017353907, 1175.382124966179, 208.70309378059355, 3486.7497418244757, 2162.545385797049, 215.41637977425327, 871.3188915850735, 633.8714473357182, 2794.0893175981446, 1013.7038038685896, 823.8717781863298, 2571.37835566608, 500.62648910854637, 912.7222224865405, 398.194391060595, 795.4589917603386, 6030.771875283142, 3288.32907728064, 595.0854222635043, 12706.018301632928, 5846.491176833537, 20433.212700981265, 1547.759782701873, 4194.4835506376585, 20448.936197561186, 1975.8015686891024, 3574.157294464347, 50632.80215086922, 1401.4075892130898, 5317.674132371887, 6932.336105074069, 29292.162258547232, 7636.692530150613, 7411.505679764389, 25561.956695341556, 21298.588490742615, 15684.93224357215, 25824.835514561953, 13728.390818843127, 11441.46555233531, 16567.261223862635, 4140.9694828965285, 4435.1737585074, 19132.52933298295, 9398.447775527573, 26038.812480249835, 27035.01333175709, 10778.670192947971, 315.25029067450646, 236.55161595860702, 170.96123686710047, 136.61324316414579, 96.43743712330628, 88.66406850565993, 94.15373174289206, 69.24917905962572, 66.70931575449845, 60.40831621419078, 56.73954358953089, 56.06320078139222, 52.88477684036151, 51.519985273588055, 51.43114681064687, 50.7315219406903, 48.877732869039455, 46.67260642046231, 45.09550266504305, 43.62817677210147, 41.98180729125926, 41.60705582639153, 38.29472234677115, 37.396186392807884, 37.10426567034488, 36.35631108518201, 35.73464683789575, 32.034011758993785, 31.3580395279069, 30.98319488642751, 1979.1236596866104, 1343.032223513923, 165.01754293901027, 1091.174183074972, 307.05317071578224, 493.6016461842555, 147.02257957850236, 102.42277166262605, 3734.8267628858584, 627.039460854515, 535.2943878121354, 517.8683545444469, 1894.790076543595, 4498.5586535068505, 2324.741061150345, 1094.4044845047802, 199.27467854588596, 396.0333141777651, 512.3213916300781, 7853.321886155035, 1641.6606473006805, 2340.9767069178256, 8808.298815776525, 28417.090629329305, 942.2930894276615, 1675.190202008317, 11243.665348994562, 5306.994684286768, 473.7586489256808, 13728.390818843127, 4719.2299016686065, 17686.640699646803, 25561.956695341556, 4597.810144594348, 5431.3527555890005, 9398.447775527573, 50632.80215086922, 21298.588490742615, 4781.482442468098, 3781.659903614759, 5345.028402945706, 2292.1801463112893, 2899.643660951364, 4100.036325385591, 19877.301784791547, 20433.212700981265, 8583.882038060514, 12215.19184208982, 10778.670192947971, 12655.505307863696, 26038.812480249835, 13461.44688718258, 27035.01333175709, 17203.85765772127, 25824.835514561953, 20089.68089751941, 19132.52933298295, 12915.759870238144, 491.043630518661, 401.7681225785359, 196.00253190748313, 136.99767097108665, 122.79376152570654, 121.73937584084338, 111.85026831705136, 110.56807873615263, 103.56288634853541, 101.54088970173922, 96.9785331745451, 96.14626154340766, 93.23106177463237, 82.95620696460544, 71.74380854394873, 65.93602933940328, 62.370156593123475, 60.953978829550216, 59.675029812523604, 59.536591022571876, 58.33343431157492, 57.66565760793354, 55.25726341938203, 54.41712329840055, 50.55975403241846, 50.49476436367534, 50.330477630927476, 50.156800813668944, 50.094789291510786, 49.83743098626664, 140.06081031777254, 133.5044842246886, 162.64796516750584, 330.1535380620085, 253.97180810797727, 759.0607590379011, 456.4402674632551, 460.8235945684811, 13731.622977531308, 254.45246716710474, 3762.230943791075, 2564.69964127639, 4997.916367077343, 154.55068467432693, 440.41941760527817, 469.4084614149358, 4726.501652669833, 11184.277755384, 1795.1776753493216, 2452.497724132881, 2116.891236194053, 5660.509449982201, 2402.092452671772, 979.5727039833697, 25824.835514561953, 9365.875817987768, 5071.83679503275, 2516.1169957940897, 19877.301784791547, 5361.361427211744, 14569.49778980422, 5836.9707914243545, 27035.01333175709, 17203.85765772127, 5491.649304267966, 24923.745379848573, 12215.19184208982, 15684.93224357215, 12655.505307863696, 10601.27669880355, 11442.721566398792, 13461.44688718258, 8055.613809973716, 25561.956695341556, 8808.298815776525, 6927.256551192826, 10778.670192947971, 9866.283275597272, 50632.80215086922, 984.2018200064589, 368.9981241327489, 283.0871925843364, 242.4166971351324, 204.73653304043722, 166.1875449086747, 155.1129281516841, 138.7160162860375, 120.7522627328884, 245.40938410555873, 118.15200458247985, 549.0359404187137, 104.12231027475141, 104.04819882879704, 104.03584820428499, 103.50709400172721, 97.52687429132307, 94.08274549292366, 91.66473815614602, 86.76087934387802, 80.56285026212817, 73.03474969002177, 71.6509737930578, 69.17896940689623, 67.8002168272335, 66.55284820267138, 65.13427807275016, 64.34697018147368, 64.72802401994527, 59.86539730002947, 414.16103554118865, 300.2727913485432, 296.3133469440256, 103.18364628444411, 146.42956072006294, 907.5686799083405, 724.8971123798354, 760.2846289953599, 554.800697974385, 1700.2563566039844, 850.2652147356314, 2647.8026534076853, 659.4443399560043, 296.57796712306987, 1037.245561313859, 1119.4166695373608, 2453.619271671956, 1078.0875954212877, 1750.7274040885102, 2024.125555899882, 1655.1913038340542, 4950.878559595246, 1448.0082165337744, 8070.091311221234, 3257.765033881259, 28417.090629329305, 3897.6791987158654, 7237.107925190183, 1033.8955536678968, 3781.659903614759, 4719.2299016686065, 50632.80215086922, 2927.918670237582, 27035.01333175709, 5616.591560602801, 19132.52933298295, 2666.919141253918, 8055.613809973716, 4681.652484721503, 5904.40257725732, 2891.7665013319847, 4781.482442468098, 9365.875817987768, 12915.759870238144, 4597.810144594348, 12655.505307863696, 25824.835514561953, 5441.341688285923, 20433.212700981265, 11441.46555233531, 16567.261223862635, 12706.018301632928, 5317.674132371887, 25561.956695341556, 3156.805197256068, 293.5784813647356, 248.5132510536245, 236.4379020371357, 169.94799639041642, 139.29356474516848, 110.69946125574866, 106.99862165477315, 80.06174069308408, 78.08741004192366, 59.0042341687987, 58.07998726753603, 55.37506214175629, 54.868761811002, 46.04187251137286, 40.89261999804101, 40.055343726860855, 39.21608318920853, 38.746668869909634, 35.57881174831881, 33.3211636728437, 29.774308009846806, 28.22143737967123, 27.595971135297226, 26.134092969479195, 25.890222485729833, 23.551584923531873, 23.38540626884215, 491.89781336657666, 134.2150430450213, 2161.670672403329, 10044.256235966424, 454.91510974790236, 218.36359766732778, 16865.72828059855, 1550.3851227603636, 914.1799104911222, 4137.910006269098, 3376.3305043256732, 2056.0058042165297, 325.0488686183918, 166.36035569980265, 623.2816666374612, 231.02085595083736, 565.7380030238971, 6002.208896725685, 7636.692530150613, 6358.607372639085, 2872.6242627060883, 3652.4823296128793, 19132.52933298295, 1649.1174217282055, 3589.815652969273, 4731.002677384696, 2806.3998906584143, 1719.3835542527179, 1242.9162672491216, 4168.373628842871, 12706.018301632928, 7411.505679764389, 20089.68089751941, 6275.221393323397, 7607.725632864541, 29292.162258547232, 4742.618719548523, 50632.80215086922, 20448.936197561186, 28417.090629329305, 24923.745379848573, 26038.812480249835, 5846.491176833537, 158.30607133707684, 142.42030077484765, 115.11241502973854, 112.88354210401324, 103.4760910506835, 101.46593652490533, 96.81617813749463, 87.85141550962946, 86.98839631553528, 358.78204425334576, 86.58421304156592, 86.44765683882366, 83.69680599845171, 83.59717257352017, 83.58367220829957, 82.7314267484362, 81.37569537449781, 80.35303497228294, 80.19776216868642, 79.30168295037923, 78.61642646515459, 76.1158336725334, 75.98438931566855, 75.24223174991556, 75.08986402414797, 74.85783049369965, 73.84318742674094, 71.37399589284787, 75.06907448559548, 68.54644888187029, 545.3218474562369, 336.5502191538411, 136.9880645507648, 168.7649143824694, 915.7561547315206, 222.5231568060223, 827.6544595172215, 262.5196300727201, 1898.2897471546637, 146.23427978840812, 656.2713860364545, 597.9291671722556, 1515.3827035738816, 1258.3234585832545, 515.5156994651501, 569.2247937831581, 154.43998480641068, 275.9356903233883, 281.8642165978176, 2463.138567002289, 2951.651766257431, 1264.0201904010355, 468.3420590475792, 770.1811224667791, 608.8903464732134, 1914.9308627252701, 1080.678864163886, 327.57566114139075, 4140.9694828965285, 1660.8458302153074, 607.2830196867093, 3382.8437484082906, 1538.638893581817, 1034.8897474198088, 3963.816430631392, 9563.269651372391, 3288.32907728064, 3097.521295350739, 24923.745379848573, 3285.3951109132236, 4435.1737585074, 19877.301784791547, 1675.1468507683737, 5740.370713464806, 1319.9828767132697, 6030.771875283142, 3930.2475611790605, 25561.956695341556, 50632.80215086922, 29292.162258547232, 12215.19184208982, 4780.066459215519, 17203.85765772127, 25824.835514561953, 19132.52933298295, 6275.221393323397, 14569.49778980422, 13731.622977531308, 13461.44688718258, 249.3986585225526, 219.6168685946415, 106.28474692000536, 101.69451954530959, 101.22440395136663, 94.95086487059633, 94.83198683020237, 94.27053801707324, 94.88408869798467, 88.52032838289678, 85.2082883341434, 84.48209739161058, 83.30968492142209, 82.54652225392273, 79.04386504678452, 76.4926693091399, 75.9969640755982, 74.6001156948836, 69.13570675791553, 68.2391443314012, 67.79256538301267, 66.5875780669053, 64.87398660573083, 64.78549722008506, 64.00947320560026, 63.750923164655276, 62.232085535689656, 62.122027707565174, 57.336230714230474, 57.261542809170564, 325.7677835081516, 1420.3004246597002, 190.6208879193262, 7607.725632864541, 437.0220559977384, 26038.812480249835, 20089.68089751941, 177.27276382989362, 2252.1039179483937, 5639.157553329644, 1578.880563267689, 5421.915080735552, 9563.269651372391, 1157.451850114229, 4168.373628842871, 155.07980690125405, 1530.678606054227, 2123.2554216403555, 3126.0058648084096, 1228.4333571641027, 11442.721566398792, 10601.27669880355, 21298.588490742615, 3101.5570220092923, 15684.93224357215, 20433.212700981265, 1724.3482940849035, 2999.1261063083625, 981.536059709303, 24923.745379848573, 28417.090629329305, 12915.759870238144, 7853.321886155035, 25824.835514561953, 29292.162258547232, 3466.885265694259, 9663.750980783112, 16567.261223862635, 19877.301784791547, 12215.19184208982, 10778.670192947971, 14569.49778980422, 25561.956695341556, 27035.01333175709, 4677.037257624411, 335.5251455056826, 136.93546392311586, 119.74200013340774, 104.77761765346943, 91.93063598779491, 87.43822137924292, 85.37356971340957, 76.162452632975, 72.4105645639909, 63.594580706652366, 62.92034206075829, 62.42686149449689, 57.97922351210063, 56.13832583773585, 55.00520713159494, 53.5863895430965, 52.75741261292056, 49.59916792357824, 45.81078126078447, 45.31408870060594, 45.15643386312653, 42.74425846803015, 42.27497182246634, 41.457122641262416, 41.325272273922046, 38.78465131051572, 37.364080739323654, 34.58463155273465, 32.574029707624184, 805.0726173991873, 2327.614880186153, 233.98371062279287, 218.61473744549477, 1625.3131907909199, 1103.9257222169701, 688.1345283093285, 967.0412814555764, 10690.302881813117, 112.29303126054792, 459.79096779047813, 657.8978901372158, 20448.936197561186, 3418.355402379774, 842.6053052468336, 129.71608846812683, 27035.01333175709, 854.0538424260582, 17203.85765772127, 462.71612748594663, 13461.44688718258, 3389.2351311610773, 17686.640699646803, 3742.783123118384, 5022.069660692733, 2422.7672214123827, 1146.2650297752132, 2824.6666243396867, 24923.745379848573, 21298.588490742615, 9866.283275597272, 29292.162258547232, 13728.390818843127, 5334.065965372381, 15684.93224357215, 14569.49778980422, 8583.882038060514, 25824.835514561953, 11243.665348994562, 26038.812480249835, 50632.80215086922, 12915.759870238144, 11184.277755384, 25561.956695341556, 19877.301784791547, 254.99557495430423, 181.97904162592235, 94.48088420417245, 94.10613976442511, 81.17139118745888, 62.95657005496345, 55.98363129135468, 54.50070947229159, 52.802985804137236, 49.80070330099766, 48.28052145835101, 48.13672096849191, 48.05741283737529, 47.20505672691465, 45.65858756398466, 44.932899005354855, 44.65206822622979, 44.154896114916916, 43.549109188031814, 42.331711919369454, 40.9883646805556, 39.6574694136129, 38.113645408894286, 37.6727448250019, 37.07376160543201, 36.964438752140616, 36.0917175439201, 36.00061378042536, 32.97495230765905, 31.682240493616938, 2285.7148963896, 200.24642124253432, 2033.2392676675493, 2338.5661514843073, 9663.750980783112, 416.23458855039223, 817.2090173706091, 8583.882038060514, 1435.492201489861, 4100.036325385591, 5090.8933373753725, 355.45189768409205, 5306.994684286768, 753.017707559097, 5070.545103193652, 1207.7624897833023, 562.134075386123, 943.4912588750631, 5431.3527555890005, 1927.813122131878, 4307.173687049172, 3105.2438990019814, 1693.7636488018186, 288.7354353405874, 1076.8789244962784, 3101.5570220092923, 3441.747660967628, 14569.49778980422, 6927.256551192826, 5491.649304267966, 6838.591134046213, 11243.665348994562, 29292.162258547232, 11184.277755384, 24923.745379848573, 25561.956695341556, 17203.85765772127, 13731.622977531308, 13728.390818843127, 27035.01333175709, 16567.261223862635, 25824.835514561953, 11442.721566398792, 26038.812480249835, 10601.27669880355, 1204.0947185968027, 496.42108522677364, 408.27411085115017, 366.3247345123878, 303.0562035403102, 277.94436417420087, 222.8360675117374, 169.39915525189696, 121.33818054346762, 117.86913466639538, 114.06559793428707, 106.24870376941232, 98.37789072714037, 79.86207947364849, 76.47839495693232, 75.32537053455562, 73.79439342421134, 73.56502436305252, 71.9951599062712, 65.68611462360128, 64.55473501318914, 58.308061177278226, 58.35573086702363, 52.16259868396122, 51.292051321050685, 51.1723955732878, 49.043068980219275, 46.06126639335359, 43.46518991005215, 41.847288942382384, 124.31185044094309, 241.43240981285, 5884.252930227106, 5018.774205765874, 160.33483557791584, 101.03251122022206, 579.1497445017734, 269.1266539787839, 3742.783123118384, 540.7483311671284, 187.04039046366785, 230.6166441141816, 5300.186051777809, 386.11920374954155, 348.1824745855486, 1723.529088705995, 427.489115425788, 2806.99204940583, 1232.0905448978058, 17686.640699646803, 921.6100075065003, 286.0410673493909, 3270.9289237804956, 5616.591560602801, 13461.44688718258, 797.112409586861, 865.9269815540091, 2185.9306342615205, 1467.320350063974, 5250.067149143488, 3389.2351311610773, 5813.41533828618, 1655.1913038340542, 17203.85765772127, 1448.0082165337744, 12915.759870238144, 8583.882038060514, 16865.72828059855, 4780.066459215519, 10690.302881813117, 8055.613809973716, 3207.04081143144, 16567.261223862635, 26038.812480249835, 21298.588490742615, 12655.505307863696, 1057.4468613017334, 982.633067298284, 952.5408617850719, 890.8593174062353, 805.5626841028031, 523.9317891761159, 256.84783844876256, 171.28747574835268, 101.33114639610821, 188.2038174846015, 85.91193806266399, 73.71767972421112, 72.94568995079409, 70.57412768429377, 69.13468079130028, 66.36516527595052, 66.11386669450376, 60.04435665786386, 54.01635287500526, 53.594576584574654, 51.39238657041997, 226.0697939347952, 50.12474572819945, 48.58598527497058, 48.1836617512569, 47.90471425867902, 47.302058266282785, 45.97184857301279, 44.98020291055654, 41.20437728340572, 454.25736922335005, 4153.733726929409, 467.33819969959376, 10309.906267338933, 1001.9083181428665, 3748.7632022020384, 360.9656057552072, 1011.5793283500295, 792.5132458202468, 1410.3052084476435, 6440.920124173109, 1826.9417611370675, 6932.336105074069, 11441.46555233531, 745.4428258269131, 1023.9991267026492, 270.08744572746565, 169.79826528537407, 239.2578272646435, 2686.1726941537263, 702.608845812144, 1577.2176901183939, 3568.13971044958, 50632.80215086922, 29292.162258547232, 16567.261223862635, 1331.3666600804142, 20433.212700981265, 4681.652484721503, 5418.992590758289, 6863.500051508281, 3930.2475611790605, 20089.68089751941, 3874.575364669974, 21298.588490742615, 177.28067208034864, 154.96420386842254, 154.8510787246147, 131.45605502042028, 131.31612042171665, 121.1012502678093, 113.60386989529515, 107.58361556428315, 107.04940768352772, 103.18430478222014, 99.43947718005269, 99.2731603104012, 98.11752698726607, 94.40974960807675, 89.49139705344992, 88.67341654645968, 87.16742744310831, 86.8150265157102, 82.22216816395313, 77.92523623569541, 75.78080050995624, 75.41557181010393, 73.95888652316573, 73.92570712807154, 72.24870391689896, 71.6276354425919, 71.57161441320432, 69.20117726611075, 67.81285341935013, 66.52182773714406, 103.7129391768167, 147.98054625551268, 185.0675218473217, 188.12520317969793, 268.23002974119083, 247.24897743697906, 3193.423292543229, 138.5974244263099, 490.0593538590129, 1067.0852690347756, 225.03735261481003, 1666.4114260204333, 462.29867587115837, 385.5443390570275, 829.1952145854967, 164.79487271576807, 2666.919141253918, 1730.2276775283572, 581.4848166759384, 1599.2729517099833, 642.1128312846448, 1758.4846472088657, 2564.99962024978, 3949.679417416988, 12655.505307863696, 2185.737333912221, 616.2713696472978, 2458.608444394784, 607.4479004641536, 12915.759870238144, 889.1159972711969, 667.2977220743286, 2608.0291961766857, 2969.352250774052, 2816.2522231168045, 2369.9632773900817, 11184.277755384, 7175.861676400792, 5904.40257725732, 16567.261223862635, 943.5147779925303, 5740.370713464806, 3441.747660967628, 9365.875817987768, 2527.8704046578373, 13731.622977531308, 1749.7064006716098, 2748.218772573691, 19877.301784791547, 6275.221393323397, 5064.497174281487, 1204.7277058495729, 396.7236027237065, 323.57657497683647, 291.19693906581, 220.4679692651112, 200.7458461823153, 200.7325079846214, 191.13003033122394, 165.27524282541876, 143.47289493316995, 121.65830382837328, 116.86070546600023, 101.96565214656984, 101.64639649648014, 97.76198790127336, 95.27700684921619, 94.1820338755229, 89.32161938863271, 89.10983201889874, 88.97732477168272, 88.25919497115439, 84.90684300471642, 82.54213875849965, 81.20562113154085, 76.02028336292264, 66.94326353360101, 61.497346197355746, 61.237041204697704, 60.08489851793084, 59.30352538029564, 300.8454637750437, 1473.9770744122677, 285.08602370562534, 1014.2924505990841, 492.6479454813923, 809.2205473605463, 208.42393371501143, 5441.341688285923, 1391.8154346296737, 2247.885495115202, 468.4829778646592, 216.53065756329235, 695.8125300387645, 1038.5072140591947, 328.89315279816077, 463.997263698806, 1249.807248531575, 641.864817702436, 437.5847218214912, 1065.4386930976734, 1200.785535990595, 980.5476435946185, 594.8430574524075, 1436.7599049801586, 5071.83679503275, 2841.539494092685, 3257.765033881259, 928.9892040607958, 4731.002677384696, 1749.8833517264459, 11441.46555233531, 20089.68089751941, 813.6103756310933, 1460.4065074407613, 1649.1174217282055, 1072.8385772187735, 2872.6242627060883, 2216.046299847489, 3610.3833228055933, 19877.301784791547, 3207.04081143144, 16567.261223862635, 16865.72828059855, 252.86670762817943, 150.4762105676692, 149.51076901626433, 146.25587762593526, 166.34339763750714, 127.72549039262411, 124.20441748048565, 121.88217812110598, 107.54486080636586, 102.85329239798993, 100.36811793989745, 99.14486440570805, 95.55392718363976, 94.16638411281994, 94.01238781182978, 93.07021261640224, 90.05792638744403, 86.25141601933134, 84.96668123710351, 80.74918121927372, 78.38738436585415, 76.18052497913469, 74.44248030665658, 74.38518650090325, 71.53949047449429, 69.88994061962606, 69.30506820892268, 69.02135909458276, 68.06509758503913, 66.35337538752407, 147.35939085209108, 102.5921238218048, 276.71168723238577, 123.64995801255347, 285.49688385834065, 310.5986504144891, 305.1825466235063, 1202.8888745127738, 307.3002865464358, 465.1748260584066, 1170.7296873864943, 3800.384533952313, 246.6746624340101, 522.8577822523051, 947.4007131240691, 579.7349419946944, 282.9025284813917, 195.07060514326787, 695.9041268703111, 221.33605165874917, 7175.861676400792, 239.79317822164236, 1850.1639832844833, 1921.1347824124284, 437.8803386405676, 4780.066459215519, 5300.186051777809, 5836.9707914243545, 4440.230336628094, 9563.269651372391, 1412.5368506467962, 1481.8963977333365, 1313.3744350271866, 2128.9181131406144, 2824.6666243396867, 2546.8854379757718, 17203.85765772127, 9866.283275597272, 2928.001529647031, 8070.091311221234, 11184.277755384, 28417.090629329305, 2825.711984470461, 24923.745379848573, 19877.301784791547, 5022.069660692733, 4997.916367077343, 4137.910006269098, 5334.065965372381, 29292.162258547232, 258.9181434451019, 208.17407609039944, 178.74988847535894, 152.97549050662457, 146.90384389279484, 130.94143721147194, 125.67546782025563, 120.99309893290443, 116.31657548531548, 105.96118151053778, 103.74545131877002, 102.6664008459349, 96.57946418232476, 89.46058492440177, 84.45218385369704, 82.92126859870041, 79.10436468488956, 79.80353274330302, 76.53043764331053, 75.17475103004357, 69.3441482104447, 68.61847145351203, 68.19661413424875, 67.4445998203863, 65.94114711490658, 63.32169912169966, 62.90383652671427, 61.507635762779586, 58.354760869115374, 57.580469739688866, 230.86131958443195, 85.38264936890519, 132.28233453164805, 581.4643157573347, 143.6851252079329, 199.44796164291074, 135.02909535202974, 196.42105919448022, 96.50200040151181, 143.1667627077267, 943.4912588750631, 1696.080561621312, 1108.899127645665, 1202.7848173415728, 172.3862339618722, 3610.3833228055933, 6863.500051508281, 1219.6217283290148, 482.3945255852669, 614.517150215518, 1545.454276892869, 467.5963549736891, 800.8722640944842, 940.2765747845885, 580.8313743041647, 671.5748670684627, 834.2001156001631, 655.2096380653231, 370.10049012154695, 708.0679305928551, 16567.261223862635, 1615.9273633838982, 3193.423292543229, 1914.9308627252701, 3748.7632022020384, 19877.301784791547, 2792.381492169985, 3857.7592666965775, 3930.2475611790605, 50632.80215086922], \"Category\": [\"Default\", \"Default\", \"Default\", \"Default\", \"Default\", \"Default\", \"Default\", \"Default\", \"Default\", \"Default\", \"Default\", \"Default\", \"Default\", \"Default\", \"Default\", \"Default\", \"Default\", \"Default\", \"Default\", \"Default\", \"Default\", \"Default\", \"Default\", \"Default\", \"Default\", \"Default\", \"Default\", \"Default\", \"Default\", \"Default\", \"Topic1\", \"Topic1\", \"Topic1\", \"Topic1\", \"Topic1\", \"Topic1\", \"Topic1\", \"Topic1\", \"Topic1\", \"Topic1\", \"Topic1\", \"Topic1\", \"Topic1\", \"Topic1\", \"Topic1\", \"Topic1\", \"Topic1\", \"Topic1\", \"Topic1\", \"Topic1\", \"Topic1\", \"Topic1\", \"Topic1\", \"Topic1\", \"Topic1\", \"Topic1\", \"Topic1\", \"Topic1\", \"Topic1\", \"Topic1\", \"Topic1\", \"Topic1\", \"Topic1\", \"Topic1\", \"Topic1\", \"Topic1\", \"Topic1\", \"Topic1\", \"Topic1\", \"Topic1\", \"Topic1\", \"Topic1\", \"Topic1\", \"Topic1\", \"Topic1\", \"Topic1\", \"Topic1\", \"Topic1\", \"Topic1\", \"Topic1\", \"Topic1\", \"Topic1\", \"Topic1\", \"Topic1\", \"Topic1\", \"Topic1\", \"Topic1\", \"Topic1\", \"Topic1\", \"Topic1\", \"Topic1\", \"Topic1\", \"Topic1\", \"Topic1\", \"Topic1\", \"Topic1\", \"Topic1\", \"Topic1\", \"Topic1\", \"Topic1\", \"Topic1\", \"Topic1\", \"Topic1\", \"Topic1\", \"Topic1\", \"Topic1\", \"Topic1\", \"Topic1\", \"Topic1\", \"Topic1\", \"Topic1\", \"Topic1\", \"Topic2\", \"Topic2\", \"Topic2\", \"Topic2\", \"Topic2\", \"Topic2\", \"Topic2\", \"Topic2\", \"Topic2\", \"Topic2\", \"Topic2\", \"Topic2\", \"Topic2\", \"Topic2\", \"Topic2\", \"Topic2\", \"Topic2\", \"Topic2\", \"Topic2\", \"Topic2\", \"Topic2\", \"Topic2\", \"Topic2\", \"Topic2\", \"Topic2\", \"Topic2\", \"Topic2\", \"Topic2\", \"Topic2\", \"Topic2\", \"Topic2\", \"Topic2\", \"Topic2\", \"Topic2\", \"Topic2\", \"Topic2\", \"Topic2\", \"Topic2\", \"Topic2\", \"Topic2\", \"Topic2\", \"Topic2\", \"Topic2\", \"Topic2\", \"Topic2\", \"Topic2\", \"Topic2\", \"Topic2\", \"Topic2\", \"Topic2\", \"Topic2\", \"Topic2\", \"Topic2\", \"Topic2\", \"Topic2\", \"Topic2\", \"Topic2\", \"Topic2\", \"Topic2\", \"Topic2\", \"Topic2\", \"Topic2\", \"Topic2\", \"Topic2\", \"Topic2\", \"Topic2\", \"Topic2\", \"Topic2\", \"Topic2\", \"Topic2\", \"Topic2\", \"Topic2\", \"Topic2\", \"Topic2\", \"Topic2\", \"Topic2\", \"Topic2\", \"Topic2\", \"Topic2\", \"Topic2\", \"Topic2\", \"Topic2\", \"Topic2\", \"Topic2\", \"Topic2\", \"Topic2\", \"Topic2\", \"Topic2\", \"Topic3\", \"Topic3\", \"Topic3\", \"Topic3\", \"Topic3\", \"Topic3\", \"Topic3\", \"Topic3\", \"Topic3\", \"Topic3\", \"Topic3\", \"Topic3\", \"Topic3\", \"Topic3\", \"Topic3\", \"Topic3\", \"Topic3\", \"Topic3\", \"Topic3\", \"Topic3\", \"Topic3\", \"Topic3\", \"Topic3\", \"Topic3\", \"Topic3\", \"Topic3\", \"Topic3\", \"Topic3\", \"Topic3\", \"Topic3\", \"Topic3\", \"Topic3\", \"Topic3\", \"Topic3\", \"Topic3\", \"Topic3\", \"Topic3\", \"Topic3\", \"Topic3\", \"Topic3\", \"Topic3\", \"Topic3\", \"Topic3\", \"Topic3\", \"Topic3\", \"Topic3\", \"Topic3\", \"Topic3\", \"Topic3\", \"Topic3\", \"Topic3\", \"Topic3\", \"Topic3\", \"Topic3\", \"Topic3\", \"Topic3\", \"Topic3\", \"Topic3\", \"Topic3\", \"Topic3\", \"Topic3\", \"Topic3\", \"Topic3\", \"Topic3\", \"Topic3\", \"Topic3\", \"Topic3\", \"Topic3\", \"Topic3\", \"Topic3\", \"Topic3\", \"Topic3\", \"Topic3\", \"Topic3\", \"Topic3\", \"Topic3\", \"Topic3\", \"Topic3\", \"Topic3\", \"Topic4\", \"Topic4\", \"Topic4\", \"Topic4\", \"Topic4\", \"Topic4\", \"Topic4\", \"Topic4\", \"Topic4\", \"Topic4\", \"Topic4\", \"Topic4\", \"Topic4\", \"Topic4\", \"Topic4\", \"Topic4\", \"Topic4\", \"Topic4\", \"Topic4\", \"Topic4\", \"Topic4\", \"Topic4\", \"Topic4\", \"Topic4\", \"Topic4\", \"Topic4\", \"Topic4\", \"Topic4\", \"Topic4\", \"Topic4\", \"Topic4\", \"Topic4\", \"Topic4\", \"Topic4\", \"Topic4\", \"Topic4\", \"Topic4\", \"Topic4\", \"Topic4\", \"Topic4\", \"Topic4\", \"Topic4\", \"Topic4\", \"Topic4\", \"Topic4\", \"Topic4\", \"Topic4\", \"Topic4\", \"Topic4\", \"Topic4\", \"Topic4\", \"Topic4\", \"Topic4\", \"Topic4\", \"Topic4\", \"Topic4\", \"Topic4\", \"Topic4\", \"Topic4\", \"Topic4\", \"Topic4\", \"Topic4\", \"Topic4\", \"Topic4\", \"Topic4\", \"Topic4\", \"Topic4\", \"Topic4\", \"Topic4\", \"Topic4\", \"Topic4\", \"Topic4\", \"Topic4\", \"Topic4\", \"Topic4\", \"Topic4\", \"Topic4\", \"Topic4\", \"Topic4\", \"Topic4\", \"Topic4\", \"Topic4\", \"Topic4\", \"Topic4\", \"Topic5\", \"Topic5\", \"Topic5\", \"Topic5\", \"Topic5\", \"Topic5\", \"Topic5\", \"Topic5\", \"Topic5\", \"Topic5\", \"Topic5\", \"Topic5\", \"Topic5\", \"Topic5\", \"Topic5\", \"Topic5\", \"Topic5\", \"Topic5\", \"Topic5\", \"Topic5\", \"Topic5\", \"Topic5\", \"Topic5\", \"Topic5\", \"Topic5\", \"Topic5\", \"Topic5\", \"Topic5\", \"Topic5\", \"Topic5\", \"Topic5\", \"Topic5\", \"Topic5\", \"Topic5\", \"Topic5\", \"Topic5\", \"Topic5\", \"Topic5\", \"Topic5\", \"Topic5\", \"Topic5\", \"Topic5\", \"Topic5\", \"Topic5\", \"Topic5\", \"Topic5\", \"Topic5\", \"Topic5\", \"Topic5\", \"Topic5\", \"Topic5\", \"Topic5\", \"Topic5\", \"Topic5\", \"Topic5\", \"Topic5\", \"Topic5\", \"Topic5\", \"Topic5\", \"Topic5\", \"Topic5\", \"Topic5\", \"Topic5\", \"Topic5\", \"Topic5\", \"Topic5\", \"Topic5\", \"Topic5\", \"Topic5\", \"Topic5\", \"Topic5\", \"Topic6\", \"Topic6\", \"Topic6\", \"Topic6\", \"Topic6\", \"Topic6\", \"Topic6\", \"Topic6\", \"Topic6\", \"Topic6\", \"Topic6\", \"Topic6\", \"Topic6\", \"Topic6\", \"Topic6\", \"Topic6\", \"Topic6\", \"Topic6\", \"Topic6\", \"Topic6\", \"Topic6\", \"Topic6\", \"Topic6\", \"Topic6\", \"Topic6\", \"Topic6\", \"Topic6\", \"Topic6\", \"Topic6\", \"Topic6\", \"Topic6\", \"Topic6\", \"Topic6\", \"Topic6\", \"Topic6\", \"Topic6\", \"Topic6\", \"Topic6\", \"Topic6\", \"Topic6\", \"Topic6\", \"Topic6\", \"Topic6\", \"Topic6\", \"Topic6\", \"Topic6\", \"Topic6\", \"Topic6\", \"Topic6\", \"Topic6\", \"Topic6\", \"Topic6\", \"Topic6\", \"Topic6\", \"Topic6\", \"Topic6\", \"Topic6\", \"Topic6\", \"Topic6\", \"Topic6\", \"Topic6\", \"Topic6\", \"Topic6\", \"Topic6\", \"Topic6\", \"Topic6\", \"Topic6\", \"Topic6\", \"Topic6\", \"Topic6\", \"Topic6\", \"Topic6\", \"Topic6\", \"Topic6\", \"Topic6\", \"Topic6\", \"Topic6\", \"Topic6\", \"Topic6\", \"Topic6\", \"Topic6\", \"Topic6\", \"Topic6\", \"Topic6\", \"Topic6\", \"Topic6\", \"Topic6\", \"Topic6\", \"Topic6\", \"Topic7\", \"Topic7\", \"Topic7\", \"Topic7\", \"Topic7\", \"Topic7\", \"Topic7\", \"Topic7\", \"Topic7\", \"Topic7\", \"Topic7\", \"Topic7\", \"Topic7\", \"Topic7\", \"Topic7\", \"Topic7\", \"Topic7\", \"Topic7\", \"Topic7\", \"Topic7\", \"Topic7\", \"Topic7\", \"Topic7\", \"Topic7\", \"Topic7\", \"Topic7\", \"Topic7\", \"Topic7\", \"Topic7\", \"Topic7\", \"Topic7\", \"Topic7\", \"Topic7\", \"Topic7\", \"Topic7\", \"Topic7\", \"Topic7\", \"Topic7\", \"Topic7\", \"Topic7\", \"Topic7\", \"Topic7\", \"Topic7\", \"Topic7\", \"Topic7\", \"Topic7\", \"Topic7\", \"Topic7\", \"Topic7\", \"Topic7\", \"Topic7\", \"Topic7\", \"Topic7\", \"Topic7\", \"Topic7\", \"Topic7\", \"Topic7\", \"Topic7\", \"Topic7\", \"Topic7\", \"Topic7\", \"Topic7\", \"Topic7\", \"Topic7\", \"Topic7\", \"Topic7\", \"Topic7\", \"Topic7\", \"Topic7\", \"Topic7\", \"Topic7\", \"Topic7\", \"Topic7\", \"Topic7\", \"Topic8\", \"Topic8\", \"Topic8\", \"Topic8\", \"Topic8\", \"Topic8\", \"Topic8\", \"Topic8\", \"Topic8\", \"Topic8\", \"Topic8\", \"Topic8\", \"Topic8\", \"Topic8\", \"Topic8\", \"Topic8\", \"Topic8\", \"Topic8\", \"Topic8\", \"Topic8\", \"Topic8\", \"Topic8\", \"Topic8\", \"Topic8\", \"Topic8\", \"Topic8\", \"Topic8\", \"Topic8\", \"Topic8\", \"Topic8\", \"Topic8\", \"Topic8\", \"Topic8\", \"Topic8\", \"Topic8\", \"Topic8\", \"Topic8\", \"Topic8\", \"Topic8\", \"Topic8\", \"Topic8\", \"Topic8\", \"Topic8\", \"Topic8\", \"Topic8\", \"Topic8\", \"Topic8\", \"Topic8\", \"Topic8\", \"Topic8\", \"Topic8\", \"Topic8\", \"Topic8\", \"Topic8\", \"Topic8\", \"Topic8\", \"Topic8\", \"Topic8\", \"Topic8\", \"Topic8\", \"Topic8\", \"Topic8\", \"Topic8\", \"Topic8\", \"Topic8\", \"Topic8\", \"Topic8\", \"Topic8\", \"Topic8\", \"Topic8\", \"Topic8\", \"Topic8\", \"Topic8\", \"Topic8\", \"Topic8\", \"Topic9\", \"Topic9\", \"Topic9\", \"Topic9\", \"Topic9\", \"Topic9\", \"Topic9\", \"Topic9\", \"Topic9\", \"Topic9\", \"Topic9\", \"Topic9\", \"Topic9\", \"Topic9\", \"Topic9\", \"Topic9\", \"Topic9\", \"Topic9\", \"Topic9\", \"Topic9\", \"Topic9\", \"Topic9\", \"Topic9\", \"Topic9\", \"Topic9\", \"Topic9\", \"Topic9\", \"Topic9\", \"Topic9\", \"Topic9\", \"Topic9\", \"Topic9\", \"Topic9\", \"Topic9\", \"Topic9\", \"Topic9\", \"Topic9\", \"Topic9\", \"Topic9\", \"Topic9\", \"Topic9\", \"Topic9\", \"Topic9\", \"Topic9\", \"Topic9\", \"Topic9\", \"Topic9\", \"Topic9\", \"Topic9\", \"Topic9\", \"Topic9\", \"Topic9\", \"Topic9\", \"Topic9\", \"Topic9\", \"Topic9\", \"Topic9\", \"Topic9\", \"Topic9\", \"Topic9\", \"Topic9\", \"Topic9\", \"Topic9\", \"Topic9\", \"Topic9\", \"Topic9\", \"Topic9\", \"Topic9\", \"Topic9\", \"Topic9\", \"Topic9\", \"Topic9\", \"Topic9\", \"Topic9\", \"Topic9\", \"Topic10\", \"Topic10\", \"Topic10\", \"Topic10\", \"Topic10\", \"Topic10\", \"Topic10\", \"Topic10\", \"Topic10\", \"Topic10\", \"Topic10\", \"Topic10\", \"Topic10\", \"Topic10\", \"Topic10\", \"Topic10\", \"Topic10\", \"Topic10\", \"Topic10\", \"Topic10\", \"Topic10\", \"Topic10\", \"Topic10\", \"Topic10\", \"Topic10\", \"Topic10\", \"Topic10\", \"Topic10\", \"Topic10\", \"Topic10\", \"Topic10\", \"Topic10\", \"Topic10\", \"Topic10\", \"Topic10\", \"Topic10\", \"Topic10\", \"Topic10\", \"Topic10\", \"Topic10\", \"Topic10\", \"Topic10\", \"Topic10\", \"Topic10\", \"Topic10\", \"Topic10\", \"Topic10\", \"Topic10\", \"Topic10\", \"Topic10\", \"Topic10\", \"Topic10\", \"Topic10\", \"Topic10\", \"Topic10\", \"Topic10\", \"Topic10\", \"Topic10\", \"Topic10\", \"Topic10\", \"Topic10\", \"Topic10\", \"Topic10\", \"Topic10\", \"Topic10\", \"Topic10\", \"Topic10\", \"Topic10\", \"Topic10\", \"Topic10\", \"Topic10\", \"Topic10\", \"Topic10\", \"Topic10\", \"Topic10\", \"Topic10\", \"Topic11\", \"Topic11\", \"Topic11\", \"Topic11\", \"Topic11\", \"Topic11\", \"Topic11\", \"Topic11\", \"Topic11\", \"Topic11\", \"Topic11\", \"Topic11\", \"Topic11\", \"Topic11\", \"Topic11\", \"Topic11\", \"Topic11\", \"Topic11\", \"Topic11\", \"Topic11\", \"Topic11\", \"Topic11\", \"Topic11\", \"Topic11\", \"Topic11\", \"Topic11\", \"Topic11\", \"Topic11\", \"Topic11\", \"Topic11\", \"Topic11\", \"Topic11\", \"Topic11\", \"Topic11\", \"Topic11\", \"Topic11\", \"Topic11\", \"Topic11\", \"Topic11\", \"Topic11\", \"Topic11\", \"Topic11\", \"Topic11\", \"Topic11\", \"Topic11\", \"Topic11\", \"Topic11\", \"Topic11\", \"Topic11\", \"Topic11\", \"Topic11\", \"Topic11\", \"Topic11\", \"Topic11\", \"Topic11\", \"Topic11\", \"Topic11\", \"Topic11\", \"Topic11\", \"Topic11\", \"Topic11\", \"Topic11\", \"Topic11\", \"Topic11\", \"Topic11\", \"Topic12\", \"Topic12\", \"Topic12\", \"Topic12\", \"Topic12\", \"Topic12\", \"Topic12\", \"Topic12\", \"Topic12\", \"Topic12\", \"Topic12\", \"Topic12\", \"Topic12\", \"Topic12\", \"Topic12\", \"Topic12\", \"Topic12\", \"Topic12\", \"Topic12\", \"Topic12\", \"Topic12\", \"Topic12\", \"Topic12\", \"Topic12\", \"Topic12\", \"Topic12\", \"Topic12\", \"Topic12\", \"Topic12\", \"Topic12\", \"Topic12\", \"Topic12\", \"Topic12\", \"Topic12\", \"Topic12\", \"Topic12\", \"Topic12\", \"Topic12\", \"Topic12\", \"Topic12\", \"Topic12\", \"Topic12\", \"Topic12\", \"Topic12\", \"Topic12\", \"Topic12\", \"Topic12\", \"Topic12\", \"Topic12\", \"Topic12\", \"Topic12\", \"Topic12\", \"Topic12\", \"Topic12\", \"Topic12\", \"Topic12\", \"Topic12\", \"Topic12\", \"Topic12\", \"Topic12\", \"Topic12\", \"Topic12\", \"Topic12\", \"Topic12\", \"Topic12\", \"Topic12\", \"Topic12\", \"Topic12\", \"Topic12\", \"Topic12\", \"Topic12\", \"Topic12\", \"Topic12\", \"Topic12\", \"Topic12\", \"Topic12\", \"Topic12\", \"Topic12\", \"Topic12\", \"Topic12\", \"Topic12\", \"Topic13\", \"Topic13\", \"Topic13\", \"Topic13\", \"Topic13\", \"Topic13\", \"Topic13\", \"Topic13\", \"Topic13\", \"Topic13\", \"Topic13\", \"Topic13\", \"Topic13\", \"Topic13\", \"Topic13\", \"Topic13\", \"Topic13\", \"Topic13\", \"Topic13\", \"Topic13\", \"Topic13\", \"Topic13\", \"Topic13\", \"Topic13\", \"Topic13\", \"Topic13\", \"Topic13\", \"Topic13\", \"Topic13\", \"Topic13\", \"Topic13\", \"Topic13\", \"Topic13\", \"Topic13\", \"Topic13\", \"Topic13\", \"Topic13\", \"Topic13\", \"Topic13\", \"Topic13\", \"Topic13\", \"Topic13\", \"Topic13\", \"Topic13\", \"Topic13\", \"Topic13\", \"Topic13\", \"Topic13\", \"Topic13\", \"Topic13\", \"Topic13\", \"Topic13\", \"Topic13\", \"Topic13\", \"Topic13\", \"Topic13\", \"Topic13\", \"Topic13\", \"Topic13\", \"Topic13\", \"Topic13\", \"Topic13\", \"Topic13\", \"Topic13\", \"Topic13\", \"Topic13\", \"Topic13\", \"Topic13\", \"Topic13\", \"Topic13\", \"Topic13\", \"Topic13\", \"Topic13\", \"Topic14\", \"Topic14\", \"Topic14\", \"Topic14\", \"Topic14\", \"Topic14\", \"Topic14\", \"Topic14\", \"Topic14\", \"Topic14\", \"Topic14\", \"Topic14\", \"Topic14\", \"Topic14\", \"Topic14\", \"Topic14\", \"Topic14\", \"Topic14\", \"Topic14\", \"Topic14\", \"Topic14\", \"Topic14\", \"Topic14\", \"Topic14\", \"Topic14\", \"Topic14\", \"Topic14\", \"Topic14\", \"Topic14\", \"Topic14\", \"Topic14\", \"Topic14\", \"Topic14\", \"Topic14\", \"Topic14\", \"Topic14\", \"Topic14\", \"Topic14\", \"Topic14\", \"Topic14\", \"Topic14\", \"Topic14\", \"Topic14\", \"Topic14\", \"Topic14\", \"Topic14\", \"Topic14\", \"Topic14\", \"Topic14\", \"Topic14\", \"Topic14\", \"Topic14\", \"Topic14\", \"Topic14\", \"Topic14\", \"Topic14\", \"Topic14\", \"Topic14\", \"Topic14\", \"Topic14\", \"Topic14\", \"Topic14\", \"Topic14\", \"Topic14\", \"Topic14\", \"Topic14\", \"Topic14\", \"Topic14\", \"Topic14\", \"Topic14\", \"Topic14\", \"Topic14\", \"Topic14\", \"Topic14\", \"Topic14\", \"Topic14\", \"Topic14\", \"Topic14\", \"Topic14\", \"Topic14\", \"Topic15\", \"Topic15\", \"Topic15\", \"Topic15\", \"Topic15\", \"Topic15\", \"Topic15\", \"Topic15\", \"Topic15\", \"Topic15\", \"Topic15\", \"Topic15\", \"Topic15\", \"Topic15\", \"Topic15\", \"Topic15\", \"Topic15\", \"Topic15\", \"Topic15\", \"Topic15\", \"Topic15\", \"Topic15\", \"Topic15\", \"Topic15\", \"Topic15\", \"Topic15\", \"Topic15\", \"Topic15\", \"Topic15\", \"Topic15\", \"Topic15\", \"Topic15\", \"Topic15\", \"Topic15\", \"Topic15\", \"Topic15\", \"Topic15\", \"Topic15\", \"Topic15\", \"Topic15\", \"Topic15\", \"Topic15\", \"Topic15\", \"Topic15\", \"Topic15\", \"Topic15\", \"Topic15\", \"Topic15\", \"Topic15\", \"Topic15\", \"Topic15\", \"Topic15\", \"Topic15\", \"Topic15\", \"Topic15\", \"Topic15\", \"Topic15\", \"Topic15\", \"Topic15\", \"Topic15\", \"Topic15\", \"Topic15\", \"Topic15\", \"Topic15\", \"Topic15\", \"Topic15\", \"Topic15\", \"Topic15\", \"Topic15\", \"Topic15\"], \"logprob\": [30.0, 29.0, 28.0, 27.0, 26.0, 25.0, 24.0, 23.0, 22.0, 21.0, 20.0, 19.0, 18.0, 17.0, 16.0, 15.0, 14.0, 13.0, 12.0, 11.0, 10.0, 9.0, 8.0, 7.0, 6.0, 5.0, 4.0, 3.0, 2.0, 1.0, -6.9019, -7.3579, -7.4437, -6.629, -7.3343, -7.9026, -8.0224, -7.6025, -8.1548, -8.1597, -8.1929, -8.3151, -8.3417, -8.3763, -8.4886, -8.5046, -8.6134, -8.6195, -8.7083, -8.7166, -8.7232, -8.7399, -8.7882, -6.0164, -8.8538, -7.9992, -8.8927, -8.9677, -9.0274, -9.0449, -4.6943, -6.6713, -4.6692, -7.2477, -5.2105, -5.6252, -7.3146, -4.6016, -5.064, -7.2941, -5.9555, -6.2856, -4.8984, -5.8796, -6.0843, -5.0761, -6.5874, -6.0495, -6.7943, -6.1894, -4.4116, -4.9611, -6.4519, -3.835, -4.5173, -3.4981, -5.6401, -4.8157, -3.5509, -5.4763, -5.0225, -2.9834, -5.7825, -4.7502, -4.6277, -3.7253, -4.6447, -4.6986, -3.9718, -4.112, -4.3233, -4.0956, -4.4897, -4.6035, -4.4387, -5.1448, -5.1285, -4.6228, -4.8727, -4.6851, -4.7223, -4.9813, -6.816, -7.105, -7.4306, -7.6563, -8.0076, -8.0925, -8.0347, -8.3427, -8.3806, -8.4814, -8.5451, -8.5573, -8.6167, -8.6434, -8.6451, -8.6591, -8.6971, -8.7442, -8.7793, -8.8131, -8.8525, -8.8617, -8.9467, -8.9711, -8.9791, -9.0, -9.0178, -9.1303, -9.1523, -9.1647, -5.0527, -5.4542, -7.5182, -5.7195, -6.9775, -6.5566, -7.6926, -8.0358, -4.758, -6.3883, -6.5429, -6.5847, -5.4771, -4.7295, -5.308, -5.9802, -7.4644, -6.8684, -6.6653, -4.3488, -5.6928, -5.4131, -4.3303, -3.3703, -6.1875, -5.729, -4.2318, -4.8626, -6.7659, -4.1585, -5.0085, -4.0243, -3.7637, -5.0408, -4.9182, -4.5215, -3.3279, -3.9477, -5.0437, -5.2083, -5.0237, -5.5789, -5.4467, -5.2622, -4.421, -4.4185, -4.9178, -4.8032, -4.8668, -4.8213, -4.5916, -4.8292, -4.611, -4.768, -4.7987, -4.8708, -4.9653, -5.031, -6.3095, -6.5105, -7.2308, -7.5911, -7.7014, -7.7101, -7.7955, -7.8071, -7.8732, -7.8931, -7.9395, -7.9482, -7.9793, -8.0974, -8.2444, -8.3301, -8.3865, -8.4099, -8.4314, -8.4338, -8.4545, -8.4662, -8.5098, -8.5252, -8.6001, -8.6014, -8.6048, -8.6083, -8.6096, -8.6148, -7.6427, -7.6969, -7.5186, -6.8827, -7.1248, -6.1333, -6.5977, -6.6046, -3.6197, -7.1573, -4.8139, -5.1851, -4.6198, -7.6106, -6.7264, -6.6918, -4.7989, -4.1094, -5.6104, -5.374, -5.4935, -4.7186, -5.4002, -6.1105, -3.5687, -4.38, -4.8607, -5.4117, -3.8451, -4.8932, -4.1726, -4.8821, -3.7848, -4.1661, -4.9713, -3.9443, -4.4814, -4.3469, -4.5236, -4.6361, -4.6518, -4.6036, -4.8864, -4.3585, -4.886, -5.004, -4.9095, -5.0772, -5.0098, -5.504, -6.4867, -6.7525, -6.9082, -7.0778, -7.2877, -7.3569, -7.4694, -7.6091, -6.9, -7.6311, -6.0955, -7.7586, -7.7593, -7.7594, -7.7646, -7.8247, -7.861, -7.8873, -7.9429, -8.0179, -8.1172, -8.1366, -8.1722, -8.1926, -8.2115, -8.2334, -8.2457, -8.2402, -8.319, -6.4269, -6.7464, -6.7641, -7.7944, -7.4681, -5.763, -5.9884, -5.9585, -6.2568, -5.2551, -5.9207, -4.94, -6.1927, -6.8887, -5.8639, -5.8047, -5.1759, -5.8483, -5.4621, -5.3453, -5.5353, -4.6942, -5.7085, -4.4276, -5.1117, -3.5478, -5.0384, -4.612, -5.9823, -5.1659, -5.0832, -3.6992, -5.3919, -4.2039, -5.1173, -4.5189, -5.4985, -4.9797, -5.2401, -5.1804, -5.4791, -5.3045, -5.1058, -5.0539, -5.369, -5.0797, -4.8904, -5.3237, -5.0456, -5.1942, -5.1517, -5.2599, -5.3452, -5.3225, -4.2963, -6.6739, -6.8411, -6.8911, -7.223, -7.4233, -7.6547, -7.689, -7.9821, -8.0074, -8.2917, -8.3078, -8.3563, -8.3656, -8.5445, -8.6658, -8.687, -8.7087, -8.721, -8.8086, -8.8761, -8.9922, -9.0476, -9.0709, -9.1274, -9.1371, -9.2356, -9.243, -6.1969, -7.4963, -4.7577, -3.2552, -6.3123, -7.04, -2.8455, -5.1728, -5.7069, -4.2734, -4.4843, -4.9649, -6.724, -7.3554, -6.1365, -7.0572, -6.2505, -4.1584, -3.9509, -4.1354, -4.8518, -4.6845, -3.2654, -5.3816, -4.7287, -4.5756, -5.0174, -5.5067, -5.7821, -4.925, -4.1488, -4.6246, -4.0043, -4.8339, -4.8163, -4.094, -5.0785, -3.8877, -4.3912, -4.2345, -4.4983, -4.5815, -5.0356, -7.2018, -7.3076, -7.5221, -7.5418, -7.6296, -7.6495, -7.6968, -7.795, -7.805, -6.3881, -7.8097, -7.8113, -7.844, -7.8452, -7.8454, -7.8558, -7.8725, -7.8853, -7.8872, -7.8986, -7.9074, -7.9401, -7.9419, -7.9518, -7.9539, -7.957, -7.9708, -8.0053, -7.955, -8.0463, -5.9754, -6.4843, -7.3676, -7.1688, -5.5915, -6.9254, -5.7169, -6.7873, -4.9481, -7.34, -5.9772, -6.0878, -5.3181, -5.487, -6.28, -6.2113, -7.3232, -6.8368, -6.8203, -5.027, -4.8811, -5.5884, -6.4142, -6.0232, -6.2305, -5.3401, -5.8183, -6.7323, -4.8482, -5.5324, -6.2809, -5.0485, -5.6154, -5.9406, -5.0442, -4.4813, -5.1866, -5.3036, -4.0731, -5.3756, -5.2235, -4.5708, -5.7528, -5.2232, -5.8761, -5.3102, -5.5024, -4.9167, -4.7087, -4.9207, -5.2288, -5.516, -5.287, -5.2774, -5.3823, -5.4935, -5.4547, -5.4779, -5.5013, -6.5464, -6.6741, -7.4046, -7.4492, -7.4539, -7.5185, -7.5197, -7.5257, -7.5197, -7.5893, -7.6279, -7.6366, -7.6507, -7.66, -7.7039, -7.7372, -7.7437, -7.7625, -7.8396, -7.8529, -7.8595, -7.8777, -7.9042, -7.9056, -7.9178, -7.9219, -7.9464, -7.9482, -8.0297, -8.031, -6.3347, -5.0525, -6.9455, -3.7542, -6.2714, -2.8194, -3.0557, -7.0663, -4.9875, -4.3404, -5.4498, -4.5186, -4.1115, -5.6988, -4.804, -7.223, -5.6045, -5.4011, -5.1444, -5.8033, -4.3171, -4.3831, -3.9635, -5.2276, -4.1939, -4.1568, -5.6978, -5.3652, -6.0557, -4.1556, -4.0832, -4.6167, -4.8962, -4.3507, -4.3162, -5.3573, -4.9286, -4.743, -4.8298, -5.0412, -5.1022, -5.0806, -4.9947, -5.0189, -3.5826, -6.22, -7.1204, -7.2556, -7.3903, -7.5224, -7.573, -7.5972, -7.7128, -7.764, -7.8957, -7.9065, -7.9145, -7.9896, -8.0224, -8.0432, -8.0698, -8.0857, -8.1486, -8.2297, -8.2409, -8.2444, -8.3006, -8.3119, -8.3319, -8.3351, -8.4001, -8.4384, -8.5179, -8.5796, -5.4028, -4.3753, -6.656, -6.7264, -4.8417, -5.248, -5.7331, -5.4265, -3.2798, -7.4568, -6.2576, -5.9587, -3.2498, -4.7028, -5.8575, -7.3618, -3.1975, -5.9021, -3.5903, -6.4061, -3.888, -4.9248, -3.7079, -4.9211, -4.719, -5.2421, -5.7668, -5.1509, -3.6911, -3.9138, -4.4109, -3.7494, -4.2399, -4.8392, -4.2531, -4.3001, -4.5981, -4.1235, -4.5607, -4.3839, -4.1778, -4.7526, -4.8618, -4.7557, -4.8997, -6.2069, -6.5456, -7.2061, -7.2101, -7.3596, -7.6173, -7.7366, -7.7639, -7.7962, -7.8558, -7.8874, -7.8905, -7.8922, -7.9104, -7.9445, -7.9608, -7.9672, -7.9787, -7.9928, -8.0218, -8.0548, -8.0887, -8.1294, -8.1413, -8.1578, -8.1608, -8.1854, -8.188, -8.2783, -8.3195, -4.2939, -6.6479, -4.5849, -4.4941, -3.2821, -6.0659, -5.4932, -3.6202, -5.1173, -4.2961, -4.1362, -6.3086, -4.1531, -5.7153, -4.271, -5.4086, -6.001, -5.6037, -4.2757, -5.0811, -4.4872, -4.7365, -5.2452, -6.5368, -5.5764, -4.8277, -4.7829, -3.8604, -4.3646, -4.5224, -4.4364, -4.134, -3.5714, -4.2558, -3.8801, -3.9606, -4.2022, -4.3625, -4.4511, -4.1896, -4.3999, -4.3878, -4.6467, -4.599, -4.7712, -4.585, -5.4722, -5.6681, -5.7768, -5.9669, -6.0537, -6.2758, -6.5511, -6.8871, -6.9163, -6.9494, -7.021, -7.0987, -7.3095, -7.3534, -7.3688, -7.3896, -7.3927, -7.4146, -7.5076, -7.5252, -7.6286, -7.6278, -7.742, -7.7592, -7.7615, -7.8049, -7.8689, -7.9282, -7.967, -6.8854, -6.2902, -3.3329, -3.5337, -6.7088, -7.1339, -5.5402, -6.2449, -3.8884, -5.6339, -6.5804, -6.3968, -3.6992, -6.0002, -6.0955, -4.8035, -5.9654, -4.4734, -5.1419, -3.2883, -5.4752, -6.3096, -4.6299, -4.364, -3.8501, -5.6692, -5.6469, -5.1699, -5.3895, -4.769, -5.0043, -4.8583, -5.4192, -4.6431, -5.54, -4.8634, -4.9928, -4.8661, -5.2271, -5.0816, -5.229, -5.4269, -5.252, -5.2244, -5.2574, -5.3298, -4.6279, -4.7013, -4.7325, -4.7995, -4.9003, -5.332, -6.0459, -6.4529, -6.9818, -6.3639, -7.1486, -7.3036, -7.3143, -7.3478, -7.3687, -7.4101, -7.414, -7.5118, -7.6194, -7.6274, -7.6701, -6.1892, -7.6956, -7.7274, -7.7359, -7.7418, -7.7547, -7.7839, -7.8062, -7.8959, -5.5661, -3.4796, -5.5619, -2.6393, -4.872, -3.6365, -5.8412, -4.9354, -5.1608, -4.6678, -3.3385, -4.497, -3.468, -3.0536, -5.3591, -5.1053, -6.224, -6.6237, -6.3579, -4.5463, -5.5979, -5.063, -4.5779, -2.9563, -3.5035, -3.8772, -5.3076, -4.1728, -4.8077, -4.773, -4.717, -4.9802, -4.7061, -5.0361, -4.9287, -6.4033, -6.5386, -6.5394, -6.7043, -6.7054, -6.787, -6.8514, -6.9063, -6.9113, -6.9485, -6.9858, -6.9875, -6.9993, -7.0382, -7.0923, -7.1016, -7.1189, -7.123, -7.178, -7.2323, -7.2606, -7.2655, -7.2852, -7.2857, -7.3089, -7.3177, -7.3185, -7.3527, -7.3732, -7.3927, -6.9503, -6.6583, -6.5383, -6.5359, -6.2552, -6.3264, -4.406, -6.8321, -5.973, -5.5045, -6.5529, -5.2774, -6.1108, -6.2624, -5.8469, -6.7533, -5.2579, -5.5174, -6.0847, -5.5949, -6.1018, -5.6326, -5.4992, -5.3079, -4.8029, -5.606, -6.1702, -5.6558, -6.1776, -5.11, -6.0481, -6.1529, -5.7056, -5.7295, -5.7466, -5.7994, -5.455, -5.6004, -5.6486, -5.4572, -6.0709, -5.7356, -5.8459, -5.7055, -5.9288, -5.7664, -5.9792, -5.9451, -5.8542, -5.921, -5.9279, -4.2921, -5.4045, -5.6088, -5.7146, -5.9939, -6.0881, -6.0881, -6.1374, -6.2835, -6.4259, -6.592, -6.6326, -6.7702, -6.7733, -6.8127, -6.8387, -6.8504, -6.9039, -6.9063, -6.9078, -6.916, -6.9552, -6.9838, -7.0003, -7.0671, -7.196, -7.2821, -7.2864, -7.3058, -7.3191, -5.7069, -4.2095, -5.8374, -4.6846, -5.3635, -4.9504, -6.1624, -3.3255, -4.5407, -4.1495, -5.4897, -6.1471, -5.1751, -4.842, -5.8174, -5.544, -4.7785, -5.3122, -5.6455, -4.9999, -4.9307, -5.0923, -5.4903, -4.9284, -4.2136, -4.5614, -4.504, -5.2327, -4.3501, -4.9399, -4.0158, -3.7576, -5.3642, -5.1785, -5.15, -5.2934, -5.0459, -5.16, -5.0783, -4.9052, -5.1514, -5.0297, -5.1035, -5.786, -6.3077, -6.3142, -6.3363, -6.2082, -6.4728, -6.5009, -6.5199, -6.6462, -6.6912, -6.7159, -6.7283, -6.7655, -6.7803, -6.7819, -6.7921, -6.8254, -6.869, -6.8842, -6.9357, -6.9658, -6.9947, -7.0181, -7.0189, -7.0584, -7.082, -7.0906, -7.0947, -7.1089, -7.1347, -6.3584, -6.7246, -5.9056, -6.5964, -5.8883, -5.8775, -5.8963, -4.8785, -5.9362, -5.6333, -5.1408, -4.3713, -6.1884, -5.7323, -5.3645, -5.679, -6.1157, -6.3554, -5.6531, -6.2944, -4.4199, -6.2522, -5.1965, -5.187, -5.9504, -4.7719, -4.7665, -4.7646, -4.9833, -4.6997, -5.5133, -5.4988, -5.5493, -5.3857, -5.2967, -5.3346, -4.747, -4.9558, -5.3434, -5.168, -5.1397, -4.9884, -5.448, -5.0367, -5.1158, -5.3861, -5.3954, -5.4473, -5.4887, -5.4843, -5.4177, -5.636, -5.7892, -5.9458, -5.9866, -6.1024, -6.1438, -6.1823, -6.2218, -6.3158, -6.3372, -6.3477, -6.4094, -6.4868, -6.5451, -6.5636, -6.6113, -6.6028, -6.6448, -6.6629, -6.7447, -6.7554, -6.7616, -6.7729, -6.7957, -6.8369, -6.8436, -6.8664, -6.9199, -6.9335, -5.6106, -6.5682, -6.1944, -4.961, -6.1478, -5.9136, -6.2243, -5.9547, -6.5079, -6.2304, -4.9293, -4.5395, -4.9818, -4.9398, -6.1396, -4.4241, -4.1406, -5.1165, -5.675, -5.5681, -5.1563, -5.6971, -5.4712, -5.4306, -5.6419, -5.5949, -5.5183, -5.6326, -5.8572, -5.6721, -4.8384, -5.5206, -5.4035, -5.5228, -5.5107, -5.3319, -5.6129, -5.5984, -5.6403, -5.616], \"loglift\": [30.0, 29.0, 28.0, 27.0, 26.0, 25.0, 24.0, 23.0, 22.0, 21.0, 20.0, 19.0, 18.0, 17.0, 16.0, 15.0, 14.0, 13.0, 12.0, 11.0, 10.0, 9.0, 8.0, 7.0, 6.0, 5.0, 4.0, 3.0, 2.0, 1.0, 2.1548, 2.153, 2.1525, 2.1524, 2.1505, 2.1493, 2.1482, 2.147, 2.1468, 2.1467, 2.1463, 2.1448, 2.1444, 2.144, 2.1423, 2.142, 2.1402, 2.1401, 2.1385, 2.1383, 2.1382, 2.1378, 2.1368, 2.1362, 2.1354, 2.1353, 2.1345, 2.1327, 2.1312, 2.1307, 2.1179, 2.1201, 2.0841, 2.1137, 2.0617, 2.0627, 2.1017, 1.999, 2.0143, 2.0906, 2.0317, 2.0198, 1.9236, 1.9563, 1.9589, 1.829, 1.954, 1.8913, 1.976, 1.8889, 1.6411, 1.698, 1.9167, 1.4725, 1.5664, 1.3342, 1.7726, 1.6001, 1.2807, 1.6923, 1.5533, 0.9415, 1.7295, 1.4283, 1.2856, 0.7469, 1.1719, 1.1479, 0.6366, 0.6789, 0.7735, 0.5026, 0.7404, 0.8087, 0.6034, 1.2838, 1.2314, 0.2753, 0.7363, -0.0952, -0.17, 0.4907, 2.1879, 2.186, 2.1853, 2.1838, 2.1808, 2.1799, 2.1776, 2.1768, 2.1763, 2.1747, 2.1737, 2.1735, 2.1724, 2.1719, 2.1719, 2.1716, 2.1709, 2.1699, 2.1692, 2.1684, 2.1675, 2.1673, 2.1652, 2.1646, 2.1644, 2.1639, 2.1634, 2.1601, 2.1595, 2.1591, 2.1142, 2.1004, 2.133, 2.0427, 2.0527, 1.9989, 2.074, 2.0924, 1.7738, 1.928, 1.9315, 1.9228, 1.7333, 1.6162, 1.6979, 1.7791, 1.9982, 1.9074, 1.853, 1.4397, 1.661, 1.5858, 1.3435, 1.1322, 1.7215, 1.6046, 1.1979, 1.3179, 1.8307, 1.0716, 1.2894, 0.9524, 0.8447, 1.2831, 1.2391, 1.0875, 0.597, 0.8431, 1.241, 1.311, 1.1496, 1.4411, 1.3382, 1.1764, 0.4389, 0.4139, 0.7818, 0.5436, 0.6051, 0.4901, -0.0017, 0.4205, -0.0587, 0.2364, -0.2005, -0.0215, -0.0672, 0.26, 2.2512, 2.2509, 2.2483, 2.2462, 2.2454, 2.2453, 2.2446, 2.2445, 2.2439, 2.2437, 2.2433, 2.2432, 2.2429, 2.2416, 2.2397, 2.2385, 2.2377, 2.2373, 2.2369, 2.2369, 2.2366, 2.2364, 2.2355, 2.2353, 2.234, 2.2339, 2.2339, 2.2338, 2.2338, 2.2337, 2.1724, 2.1662, 2.1471, 2.075, 2.0952, 1.9918, 2.0361, 2.0197, 1.6101, 2.0608, 1.7106, 1.7226, 1.6207, 2.1062, 1.9432, 1.914, 1.4974, 1.3256, 1.654, 1.5784, 1.6061, 1.3974, 1.573, 1.7596, 1.0295, 1.2324, 1.3651, 1.5151, 1.0148, 1.2771, 0.998, 1.2032, 0.7676, 0.8382, 1.175, 0.6894, 0.8654, 0.7499, 0.7878, 0.8525, 0.7604, 0.6461, 0.8767, 0.2499, 0.7878, 0.91, 0.5625, 0.4832, -1.0849, 2.3614, 2.3598, 2.359, 2.3584, 2.3577, 2.3565, 2.3562, 2.3554, 2.3544, 2.3544, 2.3542, 2.3536, 2.3531, 2.3531, 2.3531, 2.353, 2.3524, 2.3521, 2.3518, 2.3512, 2.3503, 2.3491, 2.3488, 2.3483, 2.3481, 2.3478, 2.3474, 2.3473, 2.3468, 2.3461, 2.3041, 2.3062, 2.3018, 2.3264, 2.3027, 2.1834, 2.1828, 2.165, 2.1818, 2.0636, 2.091, 1.9357, 2.0732, 2.1763, 1.9491, 1.9319, 1.776, 1.926, 1.8273, 1.799, 1.8103, 1.5558, 1.7708, 1.3338, 1.5567, 0.9547, 1.4507, 1.2583, 1.8338, 1.3535, 1.2146, 0.2257, 1.3833, 0.3484, 1.0065, 0.3792, 1.37, 0.7834, 1.0658, 0.8934, 1.3086, 0.9802, 0.5067, 0.2372, 0.9549, 0.2317, -0.2922, 0.8318, -0.2132, 0.218, -0.1097, 0.0475, 0.8333, -0.7141, 2.4036, 2.4012, 2.4006, 2.4004, 2.3988, 2.3974, 2.3957, 2.3954, 2.3923, 2.392, 2.388, 2.3877, 2.3869, 2.3867, 2.3832, 2.3805, 2.38, 2.3795, 2.3792, 2.3769, 2.375, 2.3714, 2.3695, 2.3687, 2.3666, 2.3663, 2.3624, 2.3621, 2.3621, 2.3616, 2.3209, 2.2873, 2.3248, 2.3311, 2.1788, 2.2382, 2.2323, 2.1559, 2.1484, 2.1639, 2.2493, 2.2877, 2.1857, 2.2576, 2.1686, 1.899, 1.8656, 1.8643, 1.9424, 1.8696, 1.6328, 1.9677, 1.8427, 1.7197, 1.8002, 1.8008, 1.8499, 1.497, 1.1586, 1.2219, 0.845, 1.179, 1.004, 0.3782, 1.2145, 0.0372, 0.4403, 0.268, 0.1354, 0.0084, 1.0481, 2.4909, 2.4909, 2.4892, 2.4891, 2.4883, 2.4881, 2.4876, 2.4866, 2.4865, 2.4864, 2.4864, 2.4864, 2.486, 2.486, 2.486, 2.4859, 2.4857, 2.4855, 2.4855, 2.4854, 2.4853, 2.4849, 2.4848, 2.4847, 2.4847, 2.4846, 2.4845, 2.484, 2.4838, 2.4834, 2.4804, 2.4542, 2.4698, 2.46, 2.346, 2.4268, 2.3218, 2.3996, 2.2605, 2.432, 2.2934, 2.276, 2.1157, 2.1328, 2.2321, 2.2017, 2.3943, 2.3003, 2.2955, 1.921, 1.886, 2.0268, 2.1938, 2.0874, 2.1151, 1.8597, 1.9537, 2.2333, 1.5803, 1.8098, 2.0673, 1.5823, 1.8032, 1.8746, 1.4281, 1.1102, 1.4725, 1.4153, 0.5606, 1.2844, 1.1364, 0.2892, 1.5808, 0.8787, 1.6958, 0.7424, 0.9784, -0.3083, -0.7838, -0.4485, 0.1181, 0.7691, -0.2827, -0.6792, -0.4842, 0.5194, -0.2841, -0.2481, -0.2516, 2.6918, 2.6913, 2.6865, 2.6861, 2.6861, 2.6854, 2.6854, 2.6854, 2.6849, 2.6847, 2.6842, 2.6842, 2.684, 2.6839, 2.6834, 2.6829, 2.6829, 2.6826, 2.6816, 2.6814, 2.6813, 2.681, 2.6806, 2.6806, 2.6804, 2.6804, 2.68, 2.68, 2.6786, 2.6786, 2.6363, 2.4461, 2.5615, 2.0662, 2.4059, 1.7705, 1.7936, 2.5132, 2.0501, 1.7794, 1.943, 1.6404, 1.48, 2.0045, 1.618, 2.4903, 1.8193, 1.6954, 1.5654, 1.8405, 1.0951, 1.1055, 0.8273, 1.49, 0.9029, 0.6756, 1.6068, 1.386, 1.8124, 0.4781, 0.4193, 0.6743, 0.8924, 0.2474, 0.156, 1.249, 0.6525, 0.2991, 0.0301, 0.3056, 0.3697, 0.09, -0.3863, -0.4666, 2.7242, 2.7215, 2.7173, 2.7163, 2.7151, 2.7138, 2.7133, 2.713, 2.7116, 2.7109, 2.7091, 2.7089, 2.7088, 2.7076, 2.707, 2.7066, 2.7062, 2.7059, 2.7047, 2.703, 2.7028, 2.7027, 2.7015, 2.7012, 2.7007, 2.7007, 2.6991, 2.6981, 2.696, 2.6942, 2.6635, 2.6294, 2.646, 2.6436, 2.5221, 2.5027, 2.4902, 2.4566, 2.2004, 2.5794, 2.3689, 2.3095, 1.5818, 1.9175, 2.1632, 2.5301, 1.3548, 2.1052, 1.414, 2.2141, 1.3617, 1.7041, 1.2688, 1.6086, 1.5166, 1.7225, 1.9462, 1.6602, 0.9425, 0.8771, 1.1495, 0.7228, 0.9901, 1.3362, 0.8437, 0.8705, 1.1016, 0.4747, 0.869, 0.206, -0.2529, 0.5385, 0.5732, -0.1473, -0.0398, 3.0091, 3.0077, 3.0028, 3.0027, 3.0011, 2.9976, 2.9956, 2.9951, 2.9945, 2.9934, 2.9928, 2.9927, 2.9927, 2.9923, 2.9916, 2.9913, 2.9911, 2.9909, 2.9906, 2.9899, 2.9891, 2.9883, 2.9873, 2.987, 2.9866, 2.9865, 2.9858, 2.9858, 2.9832, 2.982, 2.7289, 2.8098, 2.555, 2.5059, 2.299, 2.6601, 2.5581, 2.0794, 2.3707, 2.1424, 2.0859, 2.5753, 2.0273, 2.4178, 1.9551, 2.2522, 2.4245, 2.304, 1.8816, 2.112, 1.902, 1.9799, 2.0773, 2.5549, 2.199, 1.8899, 1.8306, 1.3102, 1.5495, 1.6239, 1.4905, 1.2957, 0.9008, 1.1792, 0.7536, 0.6478, 0.8022, 0.8673, 0.7789, 0.3627, 0.6422, 0.2103, 0.7654, -0.0091, 0.7173, 3.0788, 3.0777, 3.0772, 3.077, 3.0764, 3.0761, 3.075, 3.0739, 3.0716, 3.0714, 3.0711, 3.0705, 3.0697, 3.0674, 3.0669, 3.0667, 3.0664, 3.0664, 3.0661, 3.0648, 3.0645, 3.0629, 3.0629, 3.0609, 3.0606, 3.0605, 3.0597, 3.0584, 3.0571, 3.0562, 3.049, 2.9805, 2.7443, 2.7026, 2.9712, 3.0079, 2.8555, 2.9172, 2.6412, 2.8304, 2.9455, 2.9197, 2.4826, 2.8009, 2.809, 2.5017, 2.7339, 2.344, 2.4989, 1.6884, 2.4559, 2.7915, 2.0346, 1.7597, 1.3995, 2.4071, 2.3465, 1.8975, 2.0766, 1.4222, 1.6246, 1.231, 1.9264, 0.3612, 1.9394, 0.4276, 0.7068, 0.1581, 1.0579, 0.3986, 0.5341, 1.2572, -0.2099, -0.6345, -0.4665, -0.0184, 3.1657, 3.1657, 3.1657, 3.1656, 3.1655, 3.1639, 3.1629, 3.161, 3.1571, 3.1558, 3.1553, 3.1534, 3.1533, 3.1528, 3.1525, 3.1519, 3.1519, 3.1504, 3.1486, 3.1484, 3.1476, 3.1472, 3.1471, 3.1465, 3.1463, 3.1462, 3.146, 3.1454, 3.1449, 3.1429, 3.0725, 2.9459, 3.0483, 2.8771, 2.9756, 2.8916, 3.0273, 2.9025, 2.9213, 2.8379, 2.6483, 2.7498, 2.4453, 2.3586, 2.7842, 2.7205, 2.9346, 2.9989, 2.9218, 2.3151, 2.6046, 2.3309, 1.9996, 0.9686, 0.9687, 1.1649, 2.2557, 0.6595, 1.4982, 1.3866, 1.2062, 1.5006, 0.1432, 1.459, -0.1378, 3.1762, 3.1754, 3.1754, 3.1743, 3.1742, 3.1737, 3.1731, 3.1727, 3.1726, 3.1723, 3.1719, 3.1719, 3.1718, 3.1714, 3.1708, 3.1707, 3.1705, 3.1705, 3.1699, 3.1692, 3.1689, 3.1688, 3.1685, 3.1685, 3.1682, 3.1681, 3.1681, 3.1676, 3.1673, 3.1671, 3.1653, 3.1019, 2.9983, 2.9843, 2.9102, 2.9204, 2.2824, 2.9936, 2.5897, 2.2801, 2.7881, 2.0615, 2.5102, 2.5402, 2.1899, 2.8993, 1.6107, 1.7838, 2.307, 1.785, 2.1907, 1.6524, 1.4084, 1.168, 0.5086, 1.4615, 2.1633, 1.2941, 2.1704, 0.181, 1.9189, 2.1011, 1.1854, 1.0317, 1.0675, 1.1872, -0.02, 0.2784, 0.4252, -0.4151, 1.8367, 0.3664, 0.7676, -0.0931, 0.9933, -0.5366, 1.3108, 0.8935, -0.9942, 0.0919, 0.2993, 3.3712, 3.3695, 3.369, 3.3687, 3.3676, 3.3672, 3.3672, 3.3669, 3.3661, 3.3652, 3.364, 3.3637, 3.3624, 3.3624, 3.362, 3.3618, 3.3617, 3.3611, 3.3611, 3.361, 3.361, 3.3605, 3.3602, 3.36, 3.3592, 3.3574, 3.3561, 3.3561, 3.3557, 3.3555, 3.3438, 3.252, 3.2671, 3.1507, 3.1939, 3.1107, 3.2553, 2.83, 2.9782, 2.89, 3.1181, 3.2325, 3.037, 2.9697, 3.1442, 3.0734, 2.848, 2.9807, 3.0305, 2.7862, 2.7358, 2.7768, 2.8787, 2.5587, 2.0122, 2.2437, 2.1645, 2.6905, 1.9453, 2.35, 1.3964, 1.0917, 2.6916, 2.2923, 2.1993, 2.4858, 1.7484, 1.8938, 1.4874, -0.0452, 1.5328, 0.0124, -0.0793, 3.4384, 3.4358, 3.4357, 3.4356, 3.435, 3.4346, 3.4344, 3.4343, 3.4332, 3.4328, 3.4325, 3.4324, 3.4321, 3.4319, 3.4319, 3.4318, 3.4314, 3.4309, 3.4308, 3.4302, 3.4298, 3.4294, 3.4291, 3.4291, 3.4286, 3.4283, 3.4282, 3.4281, 3.4279, 3.4275, 3.406, 3.4019, 3.2287, 3.3434, 3.2148, 3.1412, 3.1401, 2.7863, 3.0932, 2.9816, 2.5511, 2.1431, 3.0608, 2.7656, 2.5391, 2.7157, 2.9965, 3.1285, 2.559, 3.0632, 1.4589, 3.0253, 2.0378, 2.0096, 2.7249, 1.5131, 1.4152, 1.3207, 1.3755, 0.8919, 1.9908, 1.9573, 2.0276, 1.7082, 1.5144, 1.58, 0.2573, 0.6046, 1.4318, 0.5934, 0.2953, -0.4858, 1.3627, -0.403, -0.2559, 0.8496, 0.8451, 0.982, 0.6867, -1.0121, 3.783, 3.7829, 3.7821, 3.7812, 3.7809, 3.7801, 3.7798, 3.7793, 3.7792, 3.7784, 3.7782, 3.7781, 3.7775, 3.7767, 3.776, 3.7758, 3.7752, 3.7749, 3.7748, 3.7746, 3.7735, 3.7733, 3.7733, 3.7731, 3.7728, 3.7721, 3.772, 3.7717, 3.7708, 3.7706, 3.7049, 3.7419, 3.6779, 3.4307, 3.6418, 3.5481, 3.6275, 3.5223, 3.6798, 3.5628, 2.9784, 2.7817, 2.7644, 2.7251, 3.468, 2.1416, 1.7827, 2.5344, 2.9035, 2.7683, 2.2579, 2.9126, 2.6003, 2.4805, 2.7509, 2.6527, 2.5125, 2.6397, 2.9863, 2.5226, 0.2037, 1.849, 1.2849, 1.677, 1.0174, -0.472, 1.2097, 0.9011, 0.8405, -1.6911]}, \"token.table\": {\"Topic\": [2, 3, 4, 6, 9, 10, 12, 14, 13, 6, 8, 3, 12, 1, 2, 4, 5, 7, 8, 11, 1, 2, 4, 5, 7, 10, 11, 12, 15, 3, 5, 6, 7, 8, 9, 10, 11, 12, 13, 14, 15, 8, 1, 2, 3, 4, 5, 6, 7, 8, 9, 11, 14, 15, 2, 3, 4, 5, 6, 7, 8, 9, 10, 11, 12, 14, 15, 5, 6, 6, 1, 2, 8, 1, 2, 3, 4, 5, 6, 7, 8, 9, 10, 11, 12, 13, 14, 15, 1, 2, 3, 4, 5, 6, 7, 8, 9, 11, 12, 13, 14, 15, 1, 2, 4, 5, 7, 9, 11, 12, 13, 14, 7, 1, 2, 3, 4, 6, 7, 8, 9, 11, 13, 14, 15, 12, 6, 7, 12, 15, 3, 8, 10, 12, 10, 13, 9, 6, 12, 14, 15, 13, 1, 2, 3, 4, 5, 6, 7, 9, 10, 12, 15, 2, 13, 1, 6, 13, 14, 4, 14, 1, 4, 6, 7, 11, 12, 13, 14, 1, 4, 12, 13, 14, 6, 7, 15, 5, 9, 10, 2, 3, 4, 6, 7, 8, 9, 10, 12, 14, 15, 3, 4, 14, 12, 1, 2, 3, 4, 10, 12, 15, 12, 15, 7, 4, 10, 4, 10, 2, 5, 6, 7, 9, 10, 11, 14, 4, 4, 7, 9, 3, 6, 10, 14, 1, 2, 3, 4, 5, 6, 7, 8, 9, 10, 11, 12, 13, 14, 15, 1, 4, 5, 6, 13, 2, 3, 5, 6, 8, 9, 11, 14, 15, 2, 1, 2, 3, 4, 5, 7, 6, 11, 13, 14, 8, 11, 11, 6, 11, 6, 1, 5, 11, 1, 4, 5, 7, 8, 11, 1, 1, 5, 6, 11, 1, 2, 4, 5, 6, 8, 9, 11, 12, 14, 15, 2, 3, 4, 12, 2, 3, 4, 5, 6, 7, 8, 9, 10, 11, 12, 13, 14, 1, 2, 4, 6, 10, 12, 14, 15, 1, 5, 6, 11, 15, 4, 12, 14, 4, 1, 2, 3, 4, 6, 7, 8, 10, 12, 14, 15, 1, 4, 6, 1, 2, 3, 4, 5, 6, 7, 8, 9, 10, 11, 12, 13, 14, 15, 1, 4, 5, 6, 11, 1, 6, 11, 9, 14, 10, 1, 2, 3, 4, 5, 6, 7, 8, 9, 10, 11, 12, 14, 15, 14, 1, 3, 6, 8, 10, 13, 14, 15, 5, 12, 9, 12, 14, 1, 11, 15, 1, 2, 3, 4, 6, 7, 8, 9, 11, 12, 13, 14, 15, 11, 1, 2, 3, 5, 6, 8, 9, 10, 11, 12, 14, 15, 8, 10, 15, 3, 4, 6, 7, 10, 12, 13, 1, 6, 8, 9, 12, 3, 9, 3, 7, 14, 1, 2, 4, 5, 6, 7, 8, 13, 1, 2, 5, 7, 8, 10, 15, 3, 5, 6, 10, 13, 14, 15, 5, 7, 15, 6, 11, 5, 1, 2, 3, 4, 5, 6, 7, 8, 9, 10, 11, 12, 13, 14, 15, 1, 6, 7, 11, 13, 6, 1, 6, 11, 1, 10, 1, 2, 3, 5, 6, 9, 11, 12, 13, 14, 11, 1, 2, 3, 4, 6, 7, 8, 9, 10, 12, 13, 14, 15, 1, 2, 4, 8, 1, 2, 8, 10, 11, 1, 1, 3, 4, 6, 9, 10, 12, 14, 15, 2, 12, 2, 3, 4, 6, 9, 12, 14, 15, 1, 2, 6, 7, 8, 9, 15, 4, 6, 2, 4, 10, 9, 6, 12, 1, 2, 3, 4, 5, 6, 7, 10, 12, 13, 14, 1, 8, 9, 11, 7, 7, 1, 4, 5, 6, 7, 8, 11, 12, 7, 6, 1, 4, 6, 7, 8, 11, 13, 15, 4, 10, 3, 5, 6, 7, 8, 11, 13, 3, 6, 8, 10, 13, 14, 1, 2, 3, 4, 5, 6, 7, 8, 9, 10, 11, 12, 13, 14, 15, 1, 9, 11, 12, 13, 15, 2, 15, 15, 4, 5, 7, 10, 13, 4, 12, 8, 13, 9, 1, 5, 11, 7, 1, 2, 3, 4, 9, 10, 1, 2, 4, 8, 10, 10, 1, 2, 4, 8, 10, 2, 4, 9, 15, 8, 12, 1, 2, 3, 4, 6, 7, 8, 9, 10, 11, 12, 13, 15, 1, 2, 3, 4, 5, 6, 7, 9, 11, 13, 15, 1, 4, 6, 7, 11, 13, 15, 1, 2, 3, 5, 6, 8, 9, 11, 12, 13, 14, 15, 1, 2, 4, 5, 6, 7, 11, 12, 13, 14, 7, 1, 2, 3, 4, 5, 6, 7, 8, 10, 11, 12, 6, 3, 6, 8, 9, 9, 1, 2, 3, 4, 6, 7, 8, 10, 11, 12, 13, 14, 1, 2, 3, 4, 7, 9, 12, 13, 4, 12, 13, 11, 8, 8, 10, 4, 12, 1, 2, 3, 4, 5, 6, 8, 9, 12, 13, 15, 1, 5, 7, 8, 10, 11, 13, 3, 9, 2, 1, 4, 6, 11, 1, 2, 3, 4, 6, 7, 8, 9, 10, 11, 12, 13, 14, 15, 3, 2, 3, 6, 9, 12, 14, 15, 11, 1, 2, 3, 6, 8, 9, 10, 15, 1, 10, 8, 13, 1, 2, 3, 4, 5, 6, 7, 8, 9, 10, 11, 12, 13, 14, 15, 1, 2, 3, 4, 6, 7, 12, 15, 7, 2, 3, 4, 6, 9, 10, 12, 14, 15, 2, 3, 4, 10, 12, 2, 3, 5, 8, 11, 12, 13, 2, 4, 12, 2, 1, 2, 3, 4, 5, 7, 8, 9, 12, 15, 13, 13, 7, 2, 2, 3, 5, 6, 11, 12, 14, 15, 11, 3, 10, 12, 13, 1, 4, 12, 1, 7, 8, 2, 3, 10, 2, 4, 7, 12, 15, 7, 2, 10, 14, 1, 2, 3, 4, 5, 6, 7, 9, 11, 12, 13, 15, 14, 11, 3, 8, 7, 7, 12, 2, 3, 4, 5, 6, 7, 8, 10, 12, 13, 14, 1, 2, 3, 6, 9, 10, 12, 14, 15, 1, 2, 3, 5, 6, 7, 8, 9, 10, 11, 15, 1, 2, 3, 4, 5, 6, 7, 9, 10, 11, 12, 14, 6, 6, 11, 13, 1, 2, 3, 4, 6, 12, 15, 10, 1, 2, 4, 5, 8, 9, 11, 14, 1, 5, 1, 4, 5, 6, 1, 2, 3, 4, 5, 7, 8, 9, 11, 12, 1, 3, 4, 5, 6, 7, 9, 11, 14, 15, 6, 7, 4, 13, 15, 2, 6, 14, 4, 10, 3, 12, 5, 4, 1, 2, 3, 4, 5, 6, 7, 8, 9, 10, 11, 12, 13, 15, 1, 2, 3, 4, 5, 6, 7, 8, 9, 10, 12, 14, 15, 4, 5, 13, 13, 1, 2, 3, 4, 5, 6, 7, 8, 9, 10, 11, 12, 13, 14, 15, 4, 9, 7, 1, 2, 4, 6, 7, 11, 7, 2, 3, 6, 10, 12, 1, 2, 3, 4, 5, 7, 8, 10, 12, 13, 14, 3, 6, 8, 10, 12, 14, 4, 11, 12, 1, 2, 4, 5, 7, 8, 10, 11, 14, 2, 3, 4, 6, 10, 12, 14, 15, 1, 2, 3, 4, 6, 8, 9, 10, 12, 14, 15, 3, 7, 15, 10, 12, 3, 1, 2, 4, 5, 7, 9, 11, 12, 2, 1, 2, 4, 5, 6, 7, 11, 1, 2, 3, 4, 5, 6, 7, 9, 11, 15, 14, 1, 2, 3, 4, 5, 6, 7, 8, 9, 11, 12, 14, 15, 1, 2, 3, 4, 5, 6, 7, 8, 9, 10, 12, 13, 14, 15, 2, 8, 10, 15, 15, 1, 5, 11, 13, 7, 2, 3, 6, 11, 12, 14, 15, 5, 1, 4, 6, 11, 12, 13, 13, 2, 15, 2, 1, 2, 3, 4, 5, 6, 7, 8, 9, 10, 11, 12, 13, 14, 15, 12, 1, 2, 3, 4, 5, 6, 7, 8, 9, 10, 11, 12, 13, 14, 15, 8, 2, 1, 11, 10, 6, 8, 1, 2, 3, 4, 5, 6, 7, 9, 11, 13, 15, 1, 2, 3, 4, 5, 6, 10, 12, 13, 14, 11, 9, 14, 1, 2, 3, 4, 5, 6, 7, 8, 10, 11, 12, 13, 14, 13, 1, 4, 5, 6, 1, 1, 2, 3, 4, 5, 6, 7, 8, 9, 10, 11, 12, 13, 14, 15, 1, 2, 3, 4, 6, 8, 9, 10, 11, 12, 13, 15, 1, 2, 4, 8, 10, 11, 3, 8, 10, 3, 13, 1, 2, 3, 4, 5, 6, 7, 8, 10, 12, 13, 14, 15, 2, 1, 2, 3, 4, 5, 6, 7, 8, 9, 10, 11, 12, 13, 15, 3, 13, 1, 2, 3, 4, 8, 9, 11, 1, 2, 3, 6, 7, 8, 10, 11, 12, 15, 9, 10, 3, 7, 9, 10, 11, 12, 13, 15, 3, 11, 12, 15, 15, 1, 2, 3, 4, 4, 11, 13, 2, 8, 10, 12, 13, 14, 15, 1, 2, 4, 8, 9, 12, 15, 5, 14, 1, 2, 3, 4, 5, 6, 7, 8, 9, 10, 11, 12, 13, 14, 15, 1, 5, 6, 11, 15, 2, 3, 4, 1, 2, 3, 5, 6, 8, 9, 10, 11, 14, 15, 6, 7, 8, 10, 1, 2, 3, 4, 5, 6, 7, 8, 9, 10, 12, 13, 14, 15, 1, 2, 4, 6, 15, 1, 2, 3, 4, 5, 6, 7, 8, 9, 10, 11, 12, 13, 14, 15, 1, 1, 2, 3, 4, 5, 6, 7, 8, 9, 10, 11, 12, 13, 14, 15, 15, 5, 11, 13, 9, 3, 6, 15, 6, 13, 4, 1, 2, 3, 4, 5, 6, 7, 8, 9, 10, 11, 12, 13, 14, 15, 1, 1, 2, 4, 5, 6, 7, 8, 10, 11, 13, 15, 5, 1, 2, 3, 4, 5, 6, 7, 9, 10, 11, 12, 13, 14, 4, 11, 3, 1, 2, 3, 5, 6, 8, 9, 10, 11, 1, 2, 5, 7, 11, 11, 9, 3, 6, 9, 10, 14, 15, 1, 2, 3, 5, 6, 7, 8, 9, 10, 12, 14, 15, 1, 2, 3, 4, 6, 7, 9, 10, 11, 12, 13, 14, 15, 1, 2, 5, 6, 7, 8, 9, 10, 11, 8, 1, 2, 3, 4, 5, 6, 7, 8, 9, 10, 11, 12, 14, 15, 1, 2, 3, 4, 5, 6, 7, 8, 9, 11, 12, 2, 3, 4, 3, 6, 7, 8, 9, 14, 4, 1, 2, 3, 4, 5, 6, 8, 10, 12, 13, 14, 15, 2, 4, 11, 14, 9, 1, 2, 3, 4, 5, 6, 7, 8, 10, 11, 12, 13, 14, 15, 1, 4, 5, 6, 7, 11, 1, 4, 6, 11, 3, 1, 4, 5, 11, 12, 13, 14, 15, 15, 11, 1, 2, 3, 4, 6, 7, 8, 9, 10, 11, 12, 14, 15, 5, 15, 1, 2, 3, 4, 8, 9, 10, 12, 7, 1, 4, 6, 15, 4, 1, 2, 3, 4, 5, 6, 7, 9, 10, 11, 12, 13, 14, 1, 2, 3, 4, 5, 6, 7, 10, 11, 13, 14, 1, 2, 3, 4, 5, 6, 7, 8, 9, 10, 11, 12, 13, 14, 15, 1, 2, 3, 4, 5, 6, 7, 8, 9, 10, 11, 14, 15, 3, 4, 9, 10, 12, 13, 14, 9, 1, 2, 3, 4, 7, 9, 12, 15, 2, 11, 15, 12, 8, 9, 6, 7, 12, 1, 2, 3, 4, 5, 6, 7, 8, 10, 11, 12, 13, 15, 1, 2, 3, 4, 5, 7, 10, 12, 13, 1, 2, 13, 9, 10, 15, 2, 3, 12, 13, 1, 2, 4, 7, 13, 7, 4, 11, 2, 2, 1, 2, 3, 4, 9, 10, 12, 11, 1, 2, 4, 5, 7, 8, 9, 10, 11, 12, 13, 15, 1, 2, 4, 7, 8, 10, 11, 12, 13, 15, 5, 3, 15, 4, 13, 1, 9, 14, 15, 1, 2, 5, 14, 15, 6, 1, 2, 3, 5, 6, 7, 8, 11, 13, 1, 2, 3, 6, 7, 9, 11, 15, 12, 2, 3, 4, 10, 12, 12, 10, 9, 14, 1, 1, 1, 2, 3, 4, 5, 6, 7, 8, 9, 10, 11, 12, 14, 15, 1, 2, 3, 4, 5, 6, 7, 8, 9, 10, 11, 12, 13, 14, 15, 1, 2, 3, 4, 5, 6, 7, 8, 9, 10, 11, 12, 13, 14, 15, 6, 8, 9, 11, 14, 10, 15, 10, 1, 2, 3, 4, 5, 6, 7, 8, 9, 10, 11, 12, 13, 14, 15, 12, 1, 2, 5, 7, 8, 9, 11, 8, 1, 3, 4, 5, 6, 7, 8, 11, 12, 13, 14, 15, 1, 2, 3, 4, 5, 6, 7, 8, 9, 10, 11, 12, 13, 14, 15, 1, 2, 3, 4, 6, 7, 8, 9, 11, 5, 9, 1, 2, 3, 4, 5, 6, 7, 8, 9, 10, 11, 12, 13, 14, 15, 2, 3, 4, 5, 6, 7, 8, 10, 12, 14, 15, 5, 12, 2, 3, 4, 5, 6, 7, 8, 9, 10, 12, 14, 15, 1, 2, 3, 4, 5, 6, 7, 8, 9, 10, 11, 12, 14, 15, 1, 2, 3, 4, 5, 6, 7, 8, 9, 10, 11, 12, 13, 14, 15, 1, 2, 4, 6, 10, 12, 13, 14, 15, 8, 1, 2, 3, 4, 6, 7, 8, 9, 10, 11, 12, 13, 14, 15, 14, 4, 13, 15, 1, 2, 3, 4, 5, 6, 7, 8, 9, 10, 11, 12, 13, 14, 15, 1, 2, 3, 4, 5, 6, 7, 8, 9, 10, 11, 12, 13, 14, 2, 8, 9, 10, 1, 2, 3, 4, 5, 6, 7, 8, 9, 10, 11, 12, 13, 14, 15, 1, 2, 3, 4, 5, 6, 7, 8, 9, 10, 11, 12, 13, 14, 15, 8, 14, 5, 1, 2, 3, 4, 5, 6, 7, 8, 9, 10, 11, 12, 13, 14, 15, 3, 1, 2, 3, 4, 5, 6, 7, 8, 9, 10, 11, 12, 13, 14, 15, 13, 15, 1, 2, 3, 4, 9, 2, 12, 8, 3, 5, 6, 7, 8, 9, 11, 12, 13, 15, 1, 2, 3, 4, 5, 6, 7, 8, 9, 10, 11, 12, 13, 14, 15, 1, 10, 1, 2, 3, 4, 6, 10, 12, 14, 15, 1, 2, 3, 4, 5, 6, 7, 8, 9, 10, 11, 12, 13, 14, 15, 14, 2, 10, 5, 8, 10, 2, 5, 10, 14, 5, 2, 10, 1, 2, 3, 4, 6, 8, 10, 12, 15, 1, 2, 3, 4, 5, 6, 7, 8, 9, 10, 11, 12, 13, 14, 15, 7, 6, 13, 15, 3, 4, 12, 13, 1, 2, 4, 5, 7, 8, 9, 10, 11, 1, 2, 4, 5, 7, 8, 10, 1, 2, 4, 9, 13, 8, 10, 15, 13, 14, 4, 5, 6, 5, 6, 4, 3, 15, 10, 3, 3, 4, 5, 6, 7, 8, 10, 14, 1, 3, 4, 6, 7, 14, 1, 1, 2, 3, 4, 5, 6, 7, 8, 10, 11, 12, 13, 1, 1, 2, 3, 6, 7, 8, 9, 11, 13, 14, 15, 1, 2, 3, 4, 5, 6, 7, 8, 9, 10, 11, 12, 13, 14, 15, 9, 6, 1, 1, 4, 7, 11, 12, 1, 2, 3, 4, 5, 6, 7, 8, 9, 11, 12, 13, 14, 4, 6, 11, 13, 2, 4, 10, 13, 6, 14, 1, 2, 3, 5, 6, 8, 9, 11, 12, 13, 14, 15, 9, 3, 1, 2, 4, 5, 6, 7, 9, 10, 11, 12, 13, 14, 1, 2, 3, 4, 5, 6, 7, 8, 9, 10, 11, 12, 13, 14, 15, 3, 6, 9, 11, 12, 13, 15, 7, 9, 11, 12, 15, 3, 1, 2, 3, 4, 5, 6, 7, 8, 9, 10, 11, 12, 14, 15, 1, 2, 3, 4, 5, 6, 7, 8, 10, 11, 12, 13, 15, 6, 1, 2, 3, 5, 6, 7, 8, 9, 10, 11, 1, 2, 3, 4, 5, 6, 7, 8, 10, 11, 14, 15, 10, 9, 7, 12, 3, 8, 12, 3, 12, 6, 1, 2, 3, 4, 5, 6, 7, 9, 10, 11, 12, 14, 15, 3, 8, 10, 12, 13, 15, 1, 2, 3, 4, 5, 6, 7, 8, 9, 10, 11, 12, 13, 14, 15, 1, 2, 3, 4, 5, 6, 7, 8, 9, 10, 11, 12, 14, 15, 5, 6, 7, 8, 9, 10, 11, 12, 15, 5, 6, 7, 8, 10, 1, 2, 3, 4, 5, 6, 7, 8, 9, 10, 11, 12, 13, 14, 15, 1, 2, 4, 5, 10, 1, 5, 11, 1, 2, 3, 4, 5, 7, 8, 9, 10, 12, 15, 2, 1, 4, 7, 11, 1, 5, 1, 2, 5, 11, 12, 5, 8, 13, 11, 6, 12, 5, 9, 1, 5, 6, 7, 11, 14, 1, 2, 4, 10, 1, 2, 4, 5, 7, 11, 12, 13, 1, 2, 3, 4, 5, 7, 9, 10, 11, 12, 13, 8, 1, 2, 4, 5, 6, 7, 8, 10, 11, 14, 15, 14, 15, 11, 1, 2, 3, 4, 5, 6, 7, 8, 9, 10, 11, 12, 13, 14, 15, 2, 3, 4, 6, 7, 8, 9, 10, 12, 13, 14, 14, 7, 1, 2, 3, 4, 5, 6, 7, 8, 9, 10, 11, 12, 13, 14, 15, 4, 1, 2, 3, 4, 7, 8, 9, 10, 12, 15, 2, 3, 4, 5, 3, 4, 7, 11, 12, 13, 15, 7, 11, 13, 1, 4, 5, 6, 11, 13, 7, 12, 11, 13, 15, 15, 12, 3, 1, 2, 3, 4, 5, 6, 7, 8, 10, 11, 12, 14, 10, 1, 2, 3, 4, 5, 6, 7, 8, 9, 10, 11, 12, 13, 14, 15, 1, 2, 4, 10, 12, 4, 1, 6, 11, 15, 13, 14, 6, 11, 1, 3, 4, 5, 6, 7, 9, 11, 12, 13, 15, 13, 10, 10, 10, 6, 10, 14, 6, 10, 15, 14, 15, 1, 2, 3, 4, 5, 7, 8, 10, 12, 13, 4, 4, 1, 2, 3, 4, 5, 6, 7, 8, 10, 12, 14, 1, 4, 6, 7, 10, 11, 12, 13, 15, 1, 2, 3, 4, 5, 6, 7, 8, 9, 10, 11, 12, 15, 6, 9, 2, 3, 5, 6, 7, 8, 9, 10, 11, 12, 13, 14, 15, 2, 3, 4, 6, 7, 8, 9, 12, 13, 15, 3, 13, 3, 6, 8, 9, 10, 12, 13, 14, 15, 7, 11, 13, 15, 4, 7, 13, 13, 13, 9, 8, 11, 4, 8, 12, 13, 15, 14, 14, 10, 15, 14, 3, 4, 8, 9, 10, 12, 14, 15, 1, 2, 4, 7, 9, 12, 1, 2, 3, 4, 9, 12, 15, 1, 2, 3, 4, 5, 6, 7, 8, 9, 10, 11, 12, 14, 15, 14, 6, 4, 15, 11, 1, 3, 4, 6, 14, 15, 1, 2, 4, 5, 6, 8, 9, 11, 12, 13, 14, 15, 6, 13, 2, 1, 2, 3, 4, 5, 6, 7, 8, 9, 10, 11, 12, 13, 14, 15, 12, 15, 8, 1, 2, 3, 4, 6, 7, 8, 9, 10, 11, 12, 13, 14, 15, 1, 2, 3, 4, 5, 6, 7, 8, 9, 10, 11, 12, 13, 14, 15, 12, 1, 2, 3, 4, 5, 6, 7, 8, 10, 11, 12, 13, 15, 11, 15, 4, 13, 2, 4, 8, 10, 2, 5, 2, 3, 5, 6, 7, 10, 12, 14, 13, 8, 15, 2, 9, 10, 4, 7, 9, 12, 2, 10, 2, 4, 6, 1, 5, 6, 7, 11, 4, 2, 3, 4, 5, 6, 7, 12, 15, 15, 1, 4, 5, 6, 11, 1, 1, 2, 3, 4, 5, 6, 7, 8, 9, 10, 11, 12, 13, 14, 15, 14, 1, 3, 4, 6, 10, 11, 14, 15, 11, 1, 2, 3, 4, 5, 6, 7, 10, 11, 12, 13, 14, 15, 6, 2, 8, 6, 11, 12, 14, 5, 13, 6, 10, 7, 14, 15, 1, 2, 3, 4, 6, 9, 11, 12, 15, 1, 2, 3, 9, 11, 15, 4, 1, 2, 3, 4, 5, 6, 7, 8, 9, 10, 11, 12, 13, 14, 15, 15, 7, 10, 5, 6, 7, 8, 9, 11, 13, 14, 1, 4, 7, 9, 11, 12, 13, 15, 12, 1, 4, 12, 15, 1, 6, 1, 7, 13, 1, 4, 5, 14, 15, 13, 5, 10, 2, 4, 12, 1, 2, 3, 4, 5, 6, 7, 8, 9, 10, 11, 12, 13, 14, 15, 1, 2, 4, 10, 12, 13, 1, 2, 3, 4, 5, 6, 7, 8, 9, 10, 12, 14, 15, 1, 2, 3, 4, 8, 9, 10, 12, 13, 14, 2, 6, 5, 7, 8, 9, 12, 14, 2, 8, 10, 15, 15, 1, 2, 3, 4, 7, 9, 10, 12, 14, 15, 4, 12, 1, 2, 3, 4, 5, 6, 7, 8, 9, 12, 15, 9, 10, 10, 10, 10, 1, 5, 12, 14, 1, 2, 4, 5, 7, 8, 10, 12, 6, 1, 7, 14, 6, 9, 3, 6, 8, 9, 14, 3, 6, 9, 1, 2, 3, 4, 5, 6, 7, 8, 9, 10, 11, 12, 13, 14, 15, 7, 14, 2, 4, 7, 8, 9, 12, 1, 2, 3, 4, 5, 6, 7, 8, 9, 10, 11, 12, 13, 14, 15, 1, 2, 3, 4, 6, 9, 11, 12, 15, 10, 2, 1, 2, 3, 4, 12, 1, 2, 5, 6, 8, 10, 12, 14, 3, 8, 10, 12, 13, 1, 5, 6, 1, 5, 11, 6, 1, 3, 4, 6, 7, 9, 10, 11, 14, 15, 5, 6, 1, 2, 3, 4, 5, 6, 9, 10, 11, 12, 13, 3, 4, 6, 15, 1, 2, 3, 4, 6, 9, 14, 15, 6, 1, 6, 11, 1, 5, 11, 8, 13, 1, 2, 3, 4, 5, 6, 7, 8, 9, 10, 11, 12, 13, 6, 11, 5, 11, 13, 7, 8, 4, 12, 15, 5, 1, 2, 3, 4, 5, 6, 7, 8, 9, 10, 11, 12, 14, 15, 8, 1, 2, 3, 4, 6, 12, 14, 10, 5, 1, 5, 7, 11, 6, 2, 3, 4, 5, 6, 8, 9, 10, 11, 12, 13, 14, 15, 1, 2, 4, 5, 6, 7, 8, 10, 12, 13, 6, 1, 2, 4, 5, 6, 7, 8, 10, 11, 12, 13, 15, 4, 4, 1, 2, 11, 1, 11, 2, 3, 4, 7, 12, 14, 1, 2, 3, 4, 5, 6, 7, 8, 9, 10, 11, 12, 13, 14, 15, 8, 1, 2, 3, 4, 5, 6, 7, 8, 9, 10, 11, 12, 14, 1, 2, 3, 4, 5, 6, 7, 8, 9, 10, 11, 12, 13, 14, 15, 5, 12, 14, 1, 2, 3, 4, 5, 6, 7, 8, 9, 11, 12, 13, 14, 15, 1, 2, 7, 2, 4, 5, 7, 8, 9, 11, 13, 15, 4, 5, 7, 8, 11, 13, 1, 3, 3, 8, 9, 12, 4, 6, 1, 2, 3, 5, 6, 7, 8, 9, 10, 11, 14, 1, 6, 6, 6, 1, 4, 6, 11, 14, 5, 11, 15, 1, 5, 6, 1, 2, 3, 4, 5, 6, 7, 8, 9, 10, 11, 12, 13, 14, 15, 7, 3, 1, 2, 3, 4, 6, 7, 8, 9, 10, 11, 12, 13, 14, 15, 2, 4, 9, 1, 4, 6, 15, 1, 2, 3, 4, 5, 6, 7, 8, 11, 12, 13, 14, 15, 2, 5, 6, 7, 11, 13, 7, 5, 7, 9, 11, 12, 13, 1, 2, 3, 4, 5, 6, 7, 8, 9, 10, 12, 13, 14, 15, 1, 2, 3, 4, 5, 6, 7, 9, 10, 11, 12, 15, 10, 1, 11, 3, 6, 8, 11, 3, 7, 8, 10, 12, 14, 9, 9, 14, 1, 2, 3, 4, 5, 6, 7, 8, 9, 10, 11, 12, 13, 14, 15, 1, 2, 3, 4, 5, 6, 7, 8, 9, 10, 11, 12, 13, 14, 15, 12, 1, 2, 3, 4, 5, 6, 7, 8, 9, 10, 11, 12, 13, 14, 15, 13, 15, 1, 2, 3, 4, 5, 6, 7, 8, 10, 13, 14, 15, 15, 5, 9, 1, 4, 5, 6, 11, 14, 1, 2, 3, 4, 5, 6, 7, 11, 12, 13, 10, 2, 10, 12, 4, 6, 14, 15, 2, 3, 6, 7, 8, 9, 14, 15, 1, 5, 6, 11, 2, 1, 2, 3, 4, 5, 6, 7, 8, 9, 11, 12, 13, 14, 15, 8, 1, 3, 6, 7, 9, 11, 12, 14, 12, 1, 2, 3, 4, 6, 7, 8, 9, 10, 11, 12, 13, 14, 15, 3, 8, 5, 8, 1, 2, 5, 9, 3, 4, 5, 6, 7, 8, 9, 10, 11, 12, 13, 14, 15, 1, 2, 3, 4, 5, 6, 7, 8, 9, 11, 12, 15, 1, 2, 4, 7, 10, 12, 8, 13, 3, 3, 9, 10, 15, 3, 6, 7, 9, 13, 15, 9, 11, 15, 11, 13, 4, 2, 3, 4, 6, 7, 14, 1, 2, 3, 4, 6, 7, 8, 9, 10, 11, 12, 14, 15, 12, 14, 1, 2, 3, 4, 5, 6, 7, 8, 9, 10, 11, 12, 13, 14, 15, 5, 1, 2, 3, 6, 7, 9, 10, 11, 14, 15, 1, 4, 6, 7, 15, 1, 1, 4, 14, 1, 2, 3, 4, 5, 6, 7, 8, 9, 10, 11, 12, 13, 14, 15, 2, 3, 6, 9, 14, 15, 2, 7, 8, 13, 8, 1, 5, 6, 7, 11, 14, 7, 1, 5, 6, 7, 11, 1, 7, 1, 1, 2, 3, 4, 5, 6, 7, 8, 9, 10, 11, 12, 13, 14, 15, 4, 5, 7, 10, 9, 1, 6, 10, 14, 15, 1, 2, 4, 5, 6, 11, 15, 5, 3, 1, 2, 4, 10, 2, 3, 4, 6, 7, 8, 9, 10, 12, 13, 14, 15, 1, 2, 3, 4, 5, 6, 7, 8, 9, 10, 11, 12, 13, 1, 2, 3, 4, 5, 6, 7, 8, 10, 11, 12, 13, 14, 15, 2, 3, 4, 6, 7, 8, 9, 10, 11, 12, 13, 14, 15, 3, 13, 14, 2, 3, 6, 8, 9, 10, 14, 1, 6, 13, 1, 2, 3, 4, 5, 6, 7, 8, 9, 10, 11, 12, 13, 14, 15, 1, 2, 3, 4, 5, 6, 7, 8, 9, 10, 12, 13, 14, 15, 2, 6, 13, 1, 8, 6, 15], \"Freq\": [0.18065360844436681, 0.05295019557852131, 0.2818819235209517, 0.06385170643292276, 0.007786793467429605, 0.04049132603063394, 0.3706513690496492, 0.9884526101016874, 0.979799134962079, 0.988581378240512, 0.9710004385327433, 0.9896324357593438, 0.985067753977433, 0.5461427237752676, 0.190814209843613, 0.05176045281681584, 0.03525306516172322, 0.12702294907478048, 0.00027978623144224777, 0.04868280427095111, 0.627593387742227, 0.027836803488566517, 0.10577985325655276, 0.0030367421987527107, 0.11084109025447395, 0.029355174587942873, 0.04403276188191431, 0.05061236997921185, 0.0005061236997921185, 0.5066416151661312, 0.06535968248240147, 0.09574985331816775, 0.023313007764423452, 0.06452707506224349, 0.1148998239818013, 0.07326945297390228, 0.004163037100789902, 0.01790105953339658, 0.0024978222604739413, 0.024978222604739413, 0.007077163071342834, 0.9830956258174038, 0.4819776346198941, 0.07051955247072193, 0.0005641564197657754, 0.21663606519005776, 0.12768740300698717, 0.01278754551469091, 0.025387038889459895, 0.05735590267618717, 0.0009402606996096257, 0.0011283128395315509, 0.004701303498048128, 0.00018805213992192514, 0.07837416007689534, 0.012267259838122747, 0.06133629919061374, 0.09336747765682314, 0.05997327031971121, 0.017719375321732858, 0.021126947498989176, 0.007496658789963901, 0.36665476627277993, 0.012948774273574012, 0.09200444878592061, 0.173104666604621, 0.0034075721772563188, 0.9991113809434595, 0.0006335519219679515, 0.992856545800099, 0.06524704072410288, 0.23271444524930027, 0.7003182371053709, 0.21126002377259429, 0.10448317175724592, 0.0745446083883297, 0.08438328949545337, 0.039354724428494706, 0.02154852242480462, 0.09102289024259205, 0.016176481820301507, 0.09337693050748667, 0.03724212419076876, 0.13508569520087602, 0.02740344308364509, 0.0347673639122898, 0.001509000169804245, 0.027765603124398106, 0.18870602436010708, 0.20475624177126664, 0.18434556067037008, 0.04796510058710687, 0.09388913306412408, 0.011225874605493095, 0.0976929418147457, 0.09379635724093818, 0.028018298602139793, 0.011782529544608455, 0.0067726350925702145, 0.0007422065854871469, 0.028389401894883367, 0.001855516463717867, 0.06791941988970003, 0.6250709111723955, 0.029714746201743764, 0.030775987137520326, 0.09551168421989067, 0.08065431111901879, 0.005306204678882815, 0.03608219181640314, 0.029714746201743764, 0.9806228876212284, 0.9766948280766766, 0.11696070274112871, 0.08106800031263418, 0.0018565190911290273, 0.11757954243817173, 0.3050879706422035, 0.017946351214247265, 0.006188396970430091, 0.09406363395053738, 0.028466626063978418, 0.04393761849005365, 0.04269993909596763, 0.1441896494110211, 0.9946844249597155, 0.11016631088659881, 0.8760844722886668, 0.010492029608247506, 0.9938473775168577, 0.3232593777163018, 0.39639018775703894, 0.01907760261932273, 0.26072723579741064, 0.9748099113259598, 0.9945889116676987, 0.9685410332115553, 0.062211894324776376, 0.6754434240975721, 0.23107275034916938, 0.031105947162388188, 0.9922056832350539, 0.13764043519941732, 0.29816401967516454, 0.022200070193454404, 0.3756934955815361, 0.019809293403390084, 0.014686200281823684, 0.030055479646522887, 0.06694175012180098, 0.003756934955815361, 0.021175451569141125, 0.009563107160257283, 0.9721735388107152, 0.9874494760106247, 0.25215665943225923, 0.0021551851233526428, 0.7413836824333091, 0.987613582874516, 0.31174315924991114, 0.6867385537099492, 0.18965910599249472, 0.21630694549725415, 0.0003675564069621991, 0.00018377820348109954, 0.010842914005384872, 0.0007351128139243982, 0.58165801401768, 0.00018377820348109954, 0.98875326314002, 0.0820908290234076, 0.02035309810497709, 0.8867166407735019, 0.010176549052488545, 0.2030324533207285, 0.0638101996150861, 0.7251159047168876, 0.10690616718488449, 0.6442503232983828, 0.24475885644960396, 0.045635980358097544, 0.28229949388182135, 0.0020477683494018128, 0.05060913206378766, 0.0005850766712576608, 0.4461209618339664, 0.040662828652407425, 0.036859830289232634, 0.040662828652407425, 0.0538270537557048, 0.0005850766712576608, 0.9927176063358244, 0.9909146553271148, 0.994933641623779, 0.9881266162235697, 0.005774158914677661, 0.23096635658710643, 0.05658675736384108, 0.21364387984307345, 0.48041002170118136, 0.006928990697613193, 0.005774158914677661, 0.9937778929304135, 0.9824534670901235, 0.9935592611214964, 0.9458066404369803, 0.05328488115137917, 0.9691458249530375, 0.029074374748591123, 0.005336805099280518, 0.024905090463309083, 0.00889467516546753, 0.02668402549640259, 0.5550277303251738, 0.34689233145323367, 0.016010415297841554, 0.016010415297841554, 0.996402532418131, 0.9945976501846123, 0.9842293155208792, 0.9847927954847902, 0.04084485861153284, 0.31815995128983476, 0.008598917602427966, 0.6298707143778486, 0.0024990799650746534, 0.01766016508652755, 0.07330634564218984, 0.0004998159930149307, 0.6031112982380163, 0.10396172654710559, 0.030821986235920727, 0.07780468957932421, 0.007830450557233914, 0.009663109198288661, 0.0029988959580895844, 0.0024990799650746534, 0.003665317282109492, 0.055646180555662283, 0.007997055888238892, 0.7643385847641313, 0.04148548239673739, 0.10434227390694556, 0.07668528564245397, 0.012571358302041634, 0.03977073898183142, 0.5879830822019784, 0.00038990920570422966, 0.16103250195584684, 0.028463372016408764, 0.0775919319351417, 0.020275278696619943, 0.027683553605000306, 0.0565368348271133, 0.9566924607420588, 0.04377143558092325, 0.16659277721097657, 0.0032665250433524815, 0.36650410986414844, 0.0032665250433524815, 0.4161552905231062, 0.1927678774516491, 0.7681058501534941, 0.02174817078941682, 0.016805404700912997, 0.9839110661763295, 0.9994321904636634, 0.9993015017776924, 0.005313388502769441, 0.9882902615151161, 0.9932526609523441, 0.19092491624531882, 0.8038099415034011, 0.003208822121770064, 0.12900020586105246, 0.010320016468884197, 0.8468863514778094, 0.010965017498189459, 0.0006450010293052623, 0.0012900020586105246, 0.992295171161268, 0.7194584942832277, 0.05172323229171313, 0.22478216740308413, 0.003888964833963393, 0.00048333578955799444, 0.009425047896380892, 0.004108354211242953, 0.779862296451824, 0.0026583468425689693, 0.003625018421684958, 0.04930025053491543, 0.043500221060219495, 0.013050066318065849, 0.08530876685698602, 0.0087000442120439, 0.10247158375869966, 0.04076826450614933, 0.8363003448693875, 0.01983320975974832, 0.09058728005784782, 0.050783778214248024, 0.08875723399607312, 0.15463889221996244, 0.02333308728762747, 0.12490064371612351, 0.05169880124513537, 0.0009150230308873518, 0.03339834062738834, 0.005947649700767786, 0.17888700253847725, 0.11209032128370058, 0.08418211884163636, 0.021332638140073242, 0.04571279601444266, 0.0030475197342961775, 0.8152115289242275, 0.04723655588159075, 0.0030475197342961775, 0.05028407561588693, 0.010666319070036621, 0.3185124051709375, 0.0006021028453136814, 0.5027558758369239, 0.14751519710185196, 0.03010514226568407, 0.09036535090814776, 0.8186037670502798, 0.0850497420311979, 0.9825855431838324, 0.00020914015936108332, 0.38670015465864305, 0.23005417529719166, 0.2509681912333, 0.0023005417529719167, 0.005855924462110333, 0.0010457007968054167, 0.0138032505178315, 0.05040277840602108, 0.052703320158993, 0.0056467843027492495, 0.22307759030290064, 0.007759220532274805, 0.766223027562137, 0.06366496986697735, 0.1620227349078438, 0.09651240359544683, 0.07012373492594606, 0.125853650577619, 0.12087117467498598, 0.0573907409525506, 0.007935054215304424, 0.06551033131239699, 0.003506186746297303, 0.16866603611135447, 0.0009226807227098166, 0.00387525903538123, 0.04096702408831586, 0.012548457828853506, 0.6313236757060812, 0.0006082116336282092, 0.002736952351326942, 0.35884486384064346, 0.006386222153096198, 0.9953972022071017, 0.002539278577058933, 0.002539278577058933, 0.9834212968367766, 0.9943199247824849, 0.988247350554767, 0.0465433193467418, 0.032146445142029294, 0.20293676104998862, 0.0457544495273055, 0.1250358663806538, 0.03254088005174745, 0.08519794049912059, 0.004141566552040584, 0.3471027205519728, 0.0007888698194363017, 0.014988526569289732, 0.0457544495273055, 0.00867756801379932, 0.008283133104081169, 0.9854910669634587, 0.0012486385717585837, 0.0012486385717585837, 0.23224677434709656, 0.011237747145827254, 0.14858799003927145, 0.01997821714813734, 0.27844640150216415, 0.30466781150909444, 0.9784036904381692, 0.9885224328959746, 0.06757645010130832, 0.925797366387924, 0.9903029416753645, 0.9838685775855416, 0.8880078715302175, 0.10912867818805083, 0.1961010609393742, 0.008863324788220304, 0.041823813844414554, 0.028805805561715987, 0.14513694340710748, 0.061489315718278356, 0.02908278446134787, 0.04320870834257398, 0.08281669098993345, 0.009140303687852187, 0.15178443699827268, 0.008863324788220304, 0.1927773141437916, 0.9889060307503991, 0.015227949826498643, 0.09365189143296666, 0.07157136418454363, 0.11497102119006476, 0.1560864857216111, 0.053297824392745254, 0.05177502941009539, 0.19034937283123304, 0.00685257742192439, 0.0007613974913249322, 0.24288579973265337, 0.0022841924739747965, 0.2062640883937592, 0.7481443206146521, 0.038456016480192395, 0.2742404086606729, 0.1348723321281998, 0.14086665800056422, 0.0014985814680911088, 0.029971629361822176, 0.33867941178859057, 0.07642765487264655, 0.0914217347988484, 0.9065988700885799, 0.9847371953923696, 0.9848058740473261, 0.987477872528594, 0.9889288616384575, 0.9792379520127629, 0.9884566024988509, 0.3377910939782081, 0.65890114627848, 0.017118521365541147, 0.1403718751974374, 0.06505038118905636, 0.2752658235579017, 0.05546400922435332, 0.09860268306551702, 0.007532149400838105, 0.3396314638923364, 0.011265222288329282, 0.03238751407894669, 0.026050826541761468, 0.7794125670737823, 0.11476445206235457, 0.03590789604404959, 0.9843730639084647, 0.12807277092644528, 0.004832934751941332, 0.838514179461821, 0.004832934751941332, 0.001208233687985333, 0.019331739007765327, 0.002416467375970666, 0.9773711959452669, 0.21058124462157352, 0.7871727477520725, 0.20363775092122677, 0.7923359763116823, 0.9936814393872009, 0.0044398883908940935, 0.021857912078247842, 0.22609277805937614, 0.06454914660607566, 0.13831959987016212, 0.10416661224789987, 0.030054629107590783, 0.04918030217605765, 0.08504093917943302, 0.045081943661386174, 0.024931680964251447, 0.0454234735376088, 0.014002724925127524, 0.13387971147926803, 0.012978135296459657, 0.7658408908854061, 0.16105666804027852, 0.0010956235921107383, 0.04492056727654027, 0.02629496621065772, 0.9807493488957713, 0.9083340402602256, 0.07522667576938828, 0.01628039997994224, 0.9894936932745937, 0.9770892966773712, 0.016857279057617327, 0.006321479646606497, 0.001053579941101083, 0.0031607398233032486, 0.7886045859141605, 0.05636652684890793, 0.10851873393341153, 0.0005267899705505415, 0.008428639528808663, 0.009482219469909745, 0.9868634033715094, 0.028008971251664513, 0.5628469461048774, 0.14182320363938064, 0.12315055613827096, 0.0068910961015999994, 0.01911723434637419, 0.01933952776900645, 0.04045740291907096, 0.04334721741329032, 0.0031121079168516127, 0.010447790863716128, 0.0013337605357935482, 0.00022229342263225806, 0.00977029480922342, 0.8695562380208844, 0.10095971302864201, 0.016283824682039035, 0.0842126704539442, 0.13567596906468787, 0.058481021148572364, 0.7087899763206971, 0.011696204229714473, 0.9917805054621569, 0.041929709986028546, 0.01265802565615956, 0.011075772449139615, 0.6241988901693684, 0.08227716676503714, 0.022942671501789202, 0.017404785277219396, 0.03955633017549862, 0.1471495482528549, 0.9854097865293686, 0.9924056546743426, 0.1599353883935183, 0.08426703259443437, 0.07222888508094374, 0.0017197353590700892, 0.08598676795350446, 0.4161759568949616, 0.10662359226234554, 0.07050914972187367, 0.11247946088498026, 0.04407978872519497, 0.007599963573309477, 0.012159941717295163, 0.6596768381632626, 0.06839967215978529, 0.09271955559437561, 0.008361622461467494, 0.9894586579403201, 0.4365758151731279, 0.05143565638533978, 0.5105929792398363, 0.9855758226628948, 0.900025988569187, 0.09065009956811956, 0.0041642054858608895, 0.1962381835211944, 0.0140541935147805, 0.12909037006168755, 0.01717734762917617, 0.057778351116319834, 0.01353366782904789, 0.18530714412080956, 0.03227259251542189, 0.11139249674677879, 0.2389212897512685, 0.16393951764102668, 0.28813612191453175, 0.46697923206837905, 0.07948582673504324, 0.9868815276014649, 0.981841150800729, 0.3729363187997607, 0.001440414152667615, 0.5833677318303842, 0.038760235380874, 0.001833254376122419, 0.0010475739292128109, 0.0005237869646064054, 0.9921555411976046, 0.977968759707108, 0.9886376073430524, 0.2402175498625273, 0.0031332723895112257, 0.5284786096975601, 0.015666361947556127, 0.06736535637449136, 0.012010877493126366, 0.011488665428207827, 0.12115319906110072, 0.9855442820216772, 0.9895546474695162, 0.9769363118280525, 0.6300858847077104, 0.0006962274969145971, 0.00034811374845729857, 0.04421044605407692, 0.12740963193537128, 0.19703238162683098, 0.018732269957030437, 0.010844998396175516, 0.1498581596562435, 0.016760452066816707, 0.8015439723718812, 0.0019718178902137303, 0.0019509852100468583, 0.104238352651075, 0.14520904206205903, 0.05866891238783767, 0.1939836723132305, 0.031355119447181654, 0.056160502832063135, 0.08444978837774259, 0.08849111488426821, 0.0377654994230499, 0.002229697382910695, 0.05490629805417587, 0.0019509852100468583, 0.1375444573083035, 0.0009754926050234291, 0.1636757075938487, 0.01138613618044165, 0.5707300760446377, 0.046967811744321804, 0.1679455086615143, 0.038428209608990564, 0.9925102861074152, 0.995804817100838, 0.9943601234483702, 0.6503387164145699, 0.049132732696155694, 0.05985260164804421, 0.005359934475944257, 0.23494379452888994, 0.944077222255049, 0.055533954250297, 0.9805199065566689, 0.9926347743446522, 0.9784661538140148, 0.5941263392852453, 0.0030044315513792427, 0.40184271999697374, 0.9933792213287731, 0.00297833509127157, 0.9136042892475541, 0.0297833509127157, 0.0498871127787988, 0.0007445837728178925, 0.00297833509127157, 0.006492978891260304, 0.07049519939082616, 0.6465151838869189, 0.10667036749927643, 0.16881745117276792, 0.9861774054316044, 0.002762415264172433, 0.08494426937330231, 0.5531736566505298, 0.038673813698414064, 0.31974956682795913, 0.7524619503758175, 0.09595152387342638, 0.14897736601400413, 0.9917467846636567, 0.9771434690077656, 0.9886103225225895, 0.24055414966176777, 0.11275975765395364, 0.0567687055775077, 0.22992621848059053, 0.0015553070021234986, 0.008554188511679241, 0.09565138063059515, 0.14982790787123035, 0.0057027923411194946, 0.0007776535010617493, 0.030069268707720972, 0.012183238183300738, 0.055731834242758696, 0.5724185042125133, 0.04339032393447622, 0.009774743303920468, 0.022648795460303524, 0.0021456753593971757, 0.179044688323031, 0.015496544262312936, 0.00834429306432235, 0.09846265815900374, 0.03599966436321928, 0.012158827036583997, 0.6803381324211776, 0.040057895736099726, 0.08463845711982361, 0.04910322703134805, 0.10466740498787348, 0.013567996942872487, 0.02842818407078045, 0.01279528620249706, 0.014033539705964517, 0.14074814822746767, 0.03549660043273378, 0.13868439238835523, 0.3673485393620124, 0.23114065398059205, 0.050355642474343265, 0.0008255023356449717, 0.002889258174757401, 0.0037147605104023724, 0.0024765070069349146, 0.193129996122128, 0.0060575829041995865, 0.06877138238297179, 0.5466077750024804, 0.13005986823722643, 0.004632269279682037, 0.03527651220680936, 0.003919612467423262, 0.003919612467423262, 0.007839224934846524, 0.9819383276919575, 0.004071226564128883, 0.005816037948755548, 0.002908018974377774, 0.008142453128257766, 0.5467075671830215, 0.11457594759048428, 0.012795283487262204, 0.04536509600029327, 0.2018165168218175, 0.042457077025915495, 0.015121698666764424, 0.9930169111636421, 0.8253014888713506, 0.14541026232495224, 0.011790021269590722, 0.011790021269590722, 0.9697515768654793, 0.0022847646016499867, 0.012566205309074926, 0.033700277874337305, 0.5854709291728091, 0.004569529203299973, 0.024561219467737355, 0.06511579114702462, 0.02227645486608737, 0.0011423823008249933, 0.021705263715674872, 0.2204797840592237, 0.00514072035371247, 0.06446137085270656, 0.08011627520264958, 0.0009208767264672366, 0.44662521233660973, 0.0003069589088224122, 0.09239463155554607, 0.016268822167587845, 0.2989779771930295, 0.8345339176580787, 0.01441959252972922, 0.14780082342972453, 0.9788599196425766, 0.9797228395975665, 0.9835515709656882, 0.9767678195974794, 0.990827667101587, 0.007285497552217551, 0.08497496585558031, 0.027666267952979638, 0.04545172592275226, 0.569134655032724, 0.015315255473970871, 0.0004940404991603507, 0.034088794442064196, 0.10967699081359784, 0.09831405933290978, 0.013339093477329467, 0.0009880809983207014, 0.0010557657235582122, 0.2727394785858715, 0.13936107550968402, 0.10874386952649587, 0.038711409863801116, 0.11543038577569788, 0.32376815522451846, 0.9939265678361124, 0.9873910351263231, 0.975707052803466, 0.8337636276485825, 0.005022672455714352, 0.08036275929142964, 0.07785142306357247, 0.29882610991858405, 0.0017087983412070566, 0.003203996889763231, 0.27340773459312906, 0.16019984448816157, 0.01644718403411792, 0.0014951985485561745, 0.0010679989632544104, 0.002563197511810585, 0.1886086169107289, 0.002349597719159703, 0.027127173666662025, 0.0083303919133844, 0.014738385692910864, 0.9843491951162385, 0.0016272938837415504, 0.0032545877674831007, 0.04393693486102186, 0.20829361711891844, 0.21968467430510932, 0.16272938837415504, 0.3612592421906242, 0.9794294903015147, 0.0026718085635879098, 0.021374468508703278, 0.0016030851381527457, 0.0008015425690763729, 0.32756372989587773, 0.00026718085635879095, 0.6449745872501214, 0.0005343617127175819, 0.05938682437499461, 0.9303935818749156, 0.981725236863665, 0.9905296330063994, 0.14126967546148014, 0.08124836257111033, 0.03816686272645466, 0.03325222560825365, 0.03931709694560809, 0.24970539230348968, 0.29655129504719296, 0.018612881000846383, 0.0018822014495237917, 0.0008365339775661296, 0.00909730700603166, 0.005332904106984076, 0.005542037601375609, 0.07800679340804159, 0.0011502342191534282, 0.2010802255318184, 0.002072992015791942, 0.2114451856107781, 0.045605824347422726, 0.002072992015791942, 0.010364960078959711, 0.11194156885276488, 0.4125254111425965, 0.9867938511588892, 0.01705625148076099, 0.0741064719508926, 0.7416528661117108, 0.03411250296152198, 0.004705172822278895, 0.045875435017219225, 0.024114010714179335, 0.0523450476478527, 0.005293319425063756, 0.015174567276019388, 0.08966789754011456, 0.8359807062970681, 0.017933579508022914, 0.04000567736405111, 0.0008001233799651276, 0.0016002467599302553, 0.3496539170447608, 0.03440530533850049, 0.01760271435923281, 0.0032004935198605105, 0.5920913011741944, 0.993440687554303, 0.829461481533179, 0.16521793737856005, 0.9766135058348554, 0.03657342874141002, 0.32845069500780844, 0.20559238098326602, 0.0585885023527442, 0.005681309319053984, 0.006746554816376605, 0.0024855728270861176, 0.2208608997782236, 0.12072782302989715, 0.014203273297634959, 0.9993959582351767, 0.9981760532553682, 0.9879040636094544, 0.97668671629255, 0.0189741883802144, 0.23114011299533907, 0.04139822919319506, 0.0758967535208576, 0.08279645838639012, 0.02069911459659753, 0.48297934058727565, 0.04312315540957818, 0.9775610686526299, 0.02398956737299063, 0.057574961695177514, 0.02398956737299063, 0.8876139928006533, 0.9569444397561069, 0.009070563410010491, 0.03174697193503672, 0.9902442717659921, 0.005130799335575089, 0.9823776882143068, 0.007490385104345977, 0.9138269827302091, 0.06741346593911379, 0.029721657478452467, 0.30802445023123465, 0.029721657478452467, 0.17832994487071482, 0.4485268310384645, 0.986527934362313, 0.14119746014824552, 0.8509004835249532, 0.003715722635480145, 0.26425881566273207, 0.06470953050202798, 0.05115779636547762, 0.0010163800602412771, 0.01829484108434299, 0.5424081588154283, 0.008808627188757736, 0.0040655202409651085, 0.043704342590374916, 0.0006775867068275182, 0.0006775867068275182, 0.0010163800602412771, 0.9885010188940555, 0.9754343752999216, 0.9948851073619991, 0.967930706780646, 0.9899857165925532, 0.9943918763202725, 0.9871751810215333, 0.11836788629471787, 0.05999468209458303, 0.11998936418916606, 0.1837674947041282, 0.13782562102809615, 0.00216197052593092, 0.00054049263148273, 0.007026404209275489, 0.018376749470412818, 0.10701754103358053, 0.2453836546931594, 0.09808649314337381, 0.1591592152892481, 0.027760328248124664, 0.5801908603858055, 0.04719255802181193, 0.03146170534787462, 0.0083280984744374, 0.0018506885498749777, 0.04626721374687444, 0.25570202596765024, 0.001478046392876591, 0.01478046392876591, 0.0035473113429038182, 0.40025496319098086, 0.06444282272941937, 0.08483986295111633, 0.03783798765764073, 0.019214603107395683, 0.10523690317281328, 0.012711198978738682, 0.12558428592044682, 0.2514914106221801, 0.03066968422221709, 0.07877266263390495, 0.050362849880693325, 0.33865788156953397, 0.048102978411687855, 0.027118457628065636, 0.0012913551251459827, 0.03518942716022803, 0.0038740653754379484, 0.008716647094735384, 0.9831613706594946, 0.12466561711842775, 0.869888972781918, 0.002770347047076172, 0.12656816710702606, 0.2173994399720683, 0.20102003011115904, 0.05956149040330638, 0.06402860218355436, 0.010423260820578617, 0.32163204817785446, 0.9787315720262127, 0.11866432070695593, 0.47247595340306353, 0.09074330407002512, 0.00043626588495204385, 0.08201798637098424, 0.20460870004250858, 0.002617595309712263, 0.027921016636930807, 0.9710331758543312, 0.9907133919105667, 0.022362368160808388, 0.016263540480587917, 0.9575159457946136, 0.0020329425600734896, 0.21096493853349998, 0.2626258126809027, 0.0005892875378030726, 0.00019642917926769086, 0.007857167170707634, 0.006678592095101489, 0.10842890695576535, 0.39560836704512936, 0.005500017019495344, 0.0015714334341415269, 0.4170520954411856, 0.007969148320532209, 0.01714574335629657, 0.004588297517882181, 0.3996648627418426, 0.06785850539604699, 0.009176595035764361, 0.07462020700134706, 0.00024148934304643057, 0.0014489360582785834, 0.9885405376025177, 0.9911758606640579, 0.11545709176398011, 0.8682373300651305, 0.009236567341118409, 0.9899071152519403, 0.98325394936357, 0.9813781941531272, 0.9928541882646663, 0.9926262743095952, 0.9210285140241758, 0.0713975592266803, 0.9841665497392762, 0.9899258339827509, 0.43874647277417483, 0.16913639820496912, 0.0009298586706870409, 0.07610159120622888, 0.05863003618331974, 0.0004893993003616005, 0.13262721039799374, 0.013556360620016333, 0.02153356921591042, 0.001027738530759361, 0.08148498351020649, 0.0007830388805785608, 0.00034257951025312033, 0.004649293353435204, 0.010439987371629251, 0.07038572131195205, 0.36640987936556857, 0.02189029610180327, 0.10608374264720045, 0.1323520979693644, 0.1047366475024741, 0.003030964075634299, 0.01919610581235056, 0.04378059220360654, 0.11652373001882971, 0.0020206427170895327, 0.0033677378618158877, 0.979067076854203, 0.9765797110758032, 0.9934319758773658, 0.9978773820674672, 0.053528750844317165, 0.08250140806698388, 0.42487341841776494, 0.03974907240914641, 0.021552830372959384, 0.12737369425330916, 0.04999549996350415, 0.048758862155219594, 0.03020929503095127, 0.05158546285987001, 0.008833127202032534, 0.03038595757499192, 0.0007066501761626028, 0.016429616595780516, 0.013073028259008152, 0.9912301563834749, 0.9855689157186718, 0.9971911602301367, 0.2974928909758856, 0.024451470491168678, 0.13346427643096237, 0.05705343114606025, 0.4136373758089368, 0.07233560020304067, 0.9883089631062808, 0.054468443373756295, 0.2541860690775294, 0.13228050533626529, 0.031124824785003596, 0.5265282859463108, 0.1945109314252154, 0.08442945933098653, 0.008079374098658998, 0.44638541895090966, 0.16340534114537825, 0.008887311508524898, 0.06362507102693961, 0.022622247476245194, 0.007069452336326624, 0.00020198435246647495, 0.0008079374098658998, 0.733391823994204, 0.015893940458078723, 0.06811688767748025, 0.011352814612913374, 0.09763420567105502, 0.0726580135226456, 0.9415708164259771, 0.01349922317456598, 0.04049766952369794, 0.5533233356818436, 0.007867967060700094, 0.16522730827470197, 0.2575903998568335, 0.000342085524378265, 0.00068417104875653, 0.013170292688563201, 0.001710427621891325, 0.9892313360463079, 0.1413264380459566, 0.04073526743677573, 0.13550711412641722, 0.038241271471258845, 0.053205247264360135, 0.047385923344820745, 0.5187511608275113, 0.023277295678157558, 0.0028317845287847976, 0.15008458002559427, 0.28671818353946077, 0.02336222236247458, 0.1260144115309235, 0.07716612840938573, 0.02477811462686698, 0.03185757594882897, 0.02194633009808218, 0.23433016975694201, 0.020530437833689782, 0.8359746850514213, 0.08480902601970941, 0.07875123844687301, 0.009641998461687925, 0.9834838430921684, 0.9909872061306224, 0.0891465120323578, 0.02785828501011181, 0.08264624552999837, 0.05478796051988656, 0.12443367304516609, 0.4429467316607778, 0.008357485503033543, 0.1708641480620191, 0.9850946150563048, 0.17648582600993856, 0.47177488121704353, 0.023047571794948686, 0.15814963629462025, 0.0015280158096098576, 0.16477103813626298, 0.004202043476427109, 0.045978477139697854, 0.0005473628230916412, 0.05254683101679755, 0.003284176938549847, 0.04762056560897278, 0.08155706064065453, 0.00437890258473313, 0.0706098041788217, 0.659024839002336, 0.03393649503168175, 0.9886228198744641, 0.31041301623096845, 0.0005088737970999483, 0.06818908881139307, 0.015011777014448476, 0.06259147704329364, 0.21881573275297778, 0.051141816608544804, 0.00025443689854997415, 0.00025443689854997415, 0.1890466156226308, 0.015520650811548424, 0.015520650811548424, 0.052414001101294676, 0.005710303533052572, 0.09732343412854817, 0.2524947257875855, 0.20619161235652872, 0.07510290516297403, 0.058965090830434164, 0.06256506479692382, 0.11507502989434204, 0.007199947932979329, 0.07845460506280924, 0.015392992132576498, 0.00012413703332722983, 0.025572228865409344, 0.00012413703332722983, 0.04438293863653617, 0.10171090104206205, 0.7785507152492387, 0.07397156439422695, 0.988681101727572, 0.7847612838904531, 0.030247758265584915, 0.13275405016562267, 0.05041293044264152, 0.9919555661637566, 0.034255934044832036, 0.3174383221487769, 0.10276780213449611, 0.018269831490577086, 0.034255934044832036, 0.48871799237293706, 0.0045674578726442715, 0.9567195191641419, 0.13076446450561566, 0.05173099694727652, 0.011495777099394783, 0.1185502013375087, 0.011495777099394783, 0.6746584185207313, 0.9859095077859842, 0.9080012041300343, 0.08787108427064848, 0.9820422753364767, 0.1262798330401235, 0.14501663230174822, 0.11931160190976721, 0.1193890267001045, 0.06356575286691686, 0.02593730476299287, 0.1324738162671069, 0.11234337077941091, 0.014323586212399049, 0.07053398399727315, 0.0037163899361900236, 0.04978414018687886, 0.0007742479033729215, 0.012310541663629453, 0.004258363468551069, 0.9855240874059881, 0.00630597916712203, 0.054501677087268975, 0.035808953127585814, 0.0011260677084146483, 0.1290473593843187, 0.0614832968794398, 0.05179911458707382, 0.19526014063910002, 0.17859433855456322, 0.11350762500819654, 0.015539734376122147, 0.017566656251268513, 0.007657260417219609, 0.12657001042580646, 0.005179911458707382, 0.9825881066907078, 0.9677214403624148, 0.987049745931888, 0.9835873865574705, 0.9775663750282961, 0.98349023253265, 0.9823015185842611, 0.5962752487352491, 0.00016581625381959094, 0.0038137738378505918, 0.09202802086987297, 0.04062498218579978, 0.17294635273383335, 0.0038137738378505918, 0.01591836036668073, 0.05903058635977437, 0.015089279097582776, 0.0003316325076391819, 0.011685562963649768, 0.05063743950914899, 0.014282354733349717, 0.08179894074554837, 0.0025967917696999485, 0.6634802971583368, 0.009088771193949819, 0.07660535720614847, 0.0025967917696999485, 0.08699252428494827, 0.9986317408896063, 0.9839218475257634, 0.9863689987619704, 0.10044766823214031, 0.09884818306920815, 0.0009596910977593024, 0.03134990919347055, 0.027511144802433336, 0.00927701394500659, 0.32277610587971206, 0.2463207150915543, 0.0684579649734969, 0.031989703258643414, 0.015035160531562404, 0.02943052699795194, 0.01695454272708101, 0.98515347688077, 0.008540766140317194, 0.2348710688587228, 0.017081532280634387, 0.7387762711374373, 0.9740245471375379, 0.2278085236544624, 0.25978247349137273, 0.0046481953507402675, 0.024743423735758798, 0.06291496737365615, 0.01333421696575996, 0.15437642740640403, 0.15766303017965475, 0.024743423735758798, 0.02882820146822752, 0.036716048124029184, 0.0002817088091357738, 0.000516466150082252, 9.390293637859127e-05, 0.0035683115823864683, 0.13638266482068567, 0.25210128951702504, 0.0005904011464098947, 0.006494412610508842, 0.0005904011464098947, 0.15468510035939242, 0.39202636121617007, 0.0059040114640989474, 0.0047232091712791574, 0.012988825221017684, 0.0047232091712791574, 0.028339255027674946, 0.0032465146466421225, 0.2069653087234353, 0.20858856604675635, 0.021102345203173795, 0.5592121478841056, 0.9870356980456007, 0.8040482537609254, 0.10516162447009378, 0.08982555423487178, 0.8976441841718669, 0.09222371755190413, 0.01600466212442244, 0.3067560240514301, 0.002000582765552805, 0.14770969418998212, 0.07935644970026128, 0.027007867334962868, 0.2697452428887032, 0.025674145491261, 0.01767181442904978, 0.002000582765552805, 0.011336635671465896, 0.05368230420900027, 0.041011946693832506, 0.9855805244410859, 0.2422716576100707, 0.32647671960563346, 0.010780578871404227, 0.00997931963096202, 0.03758634255165258, 0.001456834982622193, 0.03379857159683488, 0.17649555814467868, 0.10707737122273119, 0.011873205108370873, 0.04144695525560139, 7.284174913110965e-05, 0.00021852524739332895, 0.00036420874565554825, 0.9771411656571997, 0.9780194284920412, 0.0326826372659998, 0.36243581326325147, 0.168535092170193, 0.005121905840193998, 0.0034146038934626654, 0.4187767775053855, 0.008536509733656664, 0.039746442216589406, 0.05868602206476289, 0.0016005278744935332, 0.015471769453437489, 0.02667546457489222, 0.0008002639372467666, 0.033077576072866356, 0.7594504764471816, 0.0016005278744935332, 0.06268734175099672, 0.23550869439252192, 0.7639672281513515, 0.019839496173749204, 0.0054107716837497825, 0.15961776467061858, 0.0009017952806249639, 0.16863571747686823, 0.05771489795999769, 0.22815420599811584, 0.35981631696936056, 0.006879183969854032, 0.11522633149505503, 0.17713898722374133, 0.6999569689326477, 0.9860391434873566, 0.012758367693634119, 0.7686916535414556, 0.0015947959617042648, 0.21689225079178, 0.03761632420930198, 0.7815836252377188, 0.17554284631007588, 0.6965572042818106, 0.11609286738030175, 0.0042215588138291545, 0.016886235255316618, 0.0042215588138291545, 0.10553897034572887, 0.052769485172864436, 0.06670294304672246, 0.662460735737997, 0.13797458082267247, 0.05025564202150322, 0.07309911566764105, 0.008223650512609619, 0.0009137389458455131, 0.2575671204406112, 0.7405054712667571, 0.04497718873770692, 0.04923016108935449, 0.2093184599862774, 0.01059230849844302, 0.10339537500184721, 0.14411959138790656, 0.1088520187737724, 0.16831338693548661, 0.10439843451874523, 0.015968707509016373, 0.013802098952516663, 0.0024474652212311526, 0.0015647728463609007, 0.021385228900265642, 0.0016450176077127418, 0.0391160654582059, 0.015141702758015189, 0.13501351625896876, 0.7823213091641181, 0.027759788389694513, 0.9626939300303543, 0.8605591122437337, 0.12940738529980958, 0.0821137201608309, 0.24446641801306734, 0.004686856173563408, 0.038807169117105016, 0.11210959967163671, 0.24952822268051583, 0.16254017209917898, 0.023059332373931967, 0.002999587951080581, 0.06355376971351981, 0.015935310990115588, 0.06733671816246946, 0.02848861153027554, 0.1476228052023369, 0.7562431424400416, 0.004541418270859845, 0.19212173815420125, 0.20298165141060523, 0.11156092708851358, 0.020732561671316683, 0.09734431337103928, 0.05015305394775655, 0.15500058011412948, 0.009675195446614451, 0.039885499596247334, 0.056076642996704174, 0.001777076714684287, 0.055286831123511154, 0.002764341556175558, 0.36372276963121203, 0.14570181122653814, 0.0010635168702667018, 0.21908447527494057, 0.27013328504774226, 0.2438536266784377, 0.06148402375022628, 0.0423662817734763, 0.0004096658995017853, 0.13181000316469943, 0.05253965161110397, 0.07889482447905216, 0.1351214691856722, 0.12095385682790212, 0.008466428589703564, 0.11101945876498383, 0.0009900259237959812, 0.00020483294975089266, 0.0116413393108424, 0.0002389717747093748, 0.9930974069301225, 0.21837138942564874, 0.26023046980641623, 0.134887952479333, 0.046123229690583994, 0.038181740608999135, 0.06044138241895867, 0.04584938523949486, 0.056607560103710805, 0.09392864672357266, 0.007628523994625851, 0.019208232212109197, 0.00336437468480935, 0.004420631853296006, 0.005242165206563405, 0.005555130293522415, 0.9909868080647783, 0.6457999812311273, 0.04365971704097761, 0.30925632904025807, 0.9744718720732398, 0.04764765279779585, 0.030321233598597355, 0.9226318223573196, 0.9921590627700713, 0.9962846245812831, 0.9900433531117947, 0.24131644439261546, 0.3317569107655093, 0.05032745952279855, 0.07767240053201467, 0.14544955003734802, 0.03660178874385349, 0.03585698490313554, 0.03511218106241759, 0.00861844444259341, 0.018726496566622716, 0.00393682030093773, 0.0034048175575677668, 0.0011704060354139198, 0.006064831274417584, 0.004149621398285715, 0.9747675222223802, 0.10012753177262411, 0.1204786561166534, 0.0976853968513406, 0.05372696826823733, 0.03907415874053624, 0.4249314763033316, 0.04477247355686444, 0.017908989422745776, 0.03988820371429741, 0.061053373032087875, 0.0008140449737611716, 0.9566048467492769, 0.03255429811419327, 0.05252722497652441, 0.00235900710972415, 0.13163259672260758, 0.5825174889612168, 0.11291780698546265, 0.01226683697056558, 0.0028308085316689803, 0.0059761513446345135, 0.024848208222427715, 0.011008699845379367, 0.005032548500744854, 0.0235900710972415, 0.9961595133484802, 0.9990354061640875, 0.988473352391661, 0.04228855876519222, 0.24429506261875505, 0.00023299481413329047, 0.0012814714777330976, 0.0013979688847997429, 0.19734660757089703, 0.393062251442861, 0.0931979256533162, 0.026677906218261757, 0.3196677252392699, 0.0017279336499419996, 0.0008639668249709998, 0.5011007584831799, 0.17711319911905496, 0.9811843484257977, 0.9960957167414272, 0.007192518782718359, 0.3464396547009343, 0.046751372087669336, 0.1522416475675386, 0.16662668513297532, 0.27930947939556294, 0.01061270343361137, 0.0854912221040916, 0.014739865880015792, 0.36554867382439166, 0.006485540987206949, 0.09374554699690045, 0.005895946352006317, 0.007075135622407581, 0.0011791892704012634, 0.02712135321922906, 0.015919055150417055, 0.36554867382439166, 0.013730139533408741, 0.05909929625249849, 0.1325256946268148, 0.056114483310453114, 0.3999649342340807, 0.06865069766704371, 0.021490653182726725, 0.027460279066817483, 0.008954438826136136, 0.03044509200886286, 0.025669391301590253, 0.1253621435659059, 0.029848129420453784, 0.3192607921062762, 0.04181103340437894, 0.01600175352513268, 0.0041294847806794014, 0.10039809873026795, 0.24467197325525453, 0.08749345879064482, 0.004645670378264326, 0.18118114475230873, 0.9931685781293217, 0.15528448820638213, 0.35303834848848564, 0.10963459046860233, 0.053694756765339365, 0.08755800057902029, 0.050140051613627, 0.10664115455137085, 0.0052385128551550595, 0.03610832075160452, 0.02993435917231463, 0.00037417948965393283, 0.00729650004825169, 0.004115974386193261, 0.0011225384689617986, 0.008689241174165798, 0.28514897567466535, 0.13104794342262294, 0.0033692975981459215, 0.037239605032139134, 0.02074777994647752, 0.4000597569166947, 0.027131712237701368, 0.05373143011780075, 0.030323678383313294, 0.0023053088829419464, 0.9955111001690448, 0.9858039777526624, 0.9916930947720252, 0.5234090354080104, 0.21210348095505116, 0.00047239082618051484, 0.09117142945283936, 0.1719502607297074, 0.00047239082618051484, 0.9902498092474119, 0.04499544676921519, 0.3649630682391899, 0.01920858253890473, 0.22997672793154433, 0.03973282141609061, 0.007630806762030647, 0.0002631312676562292, 0.00947272563562425, 0.006315150423749501, 0.0002631312676562292, 0.2728671245595097, 0.003946969014843438, 0.9810356746212553, 0.9829576905090653, 0.08896080659310239, 0.9057827580388607, 0.9949102486897426, 0.000451254109658639, 0.047832935623815735, 0.03068527945678745, 0.11506979796295294, 0.18095289797311423, 0.1146185438532943, 0.060468050694257626, 0.01263511507044189, 0.05234547672040212, 0.04151537808859478, 0.05369923904937804, 0.2278833253776127, 0.05911428836528171, 0.001805016438634556, 0.8529433484503036, 0.03785760658891731, 0.001147200199664161, 0.055352409633795764, 0.0008604001497481207, 0.05191080903480328, 0.9604837856612515, 0.01488572656744375, 0.006025175039203422, 0.01842994717873988, 0.9980881445406716, 0.03562806256817298, 0.05873815720698789, 0.0038516824398024847, 0.02599885646866677, 0.05296063354728416, 0.6692298239156816, 0.03273930073832112, 0.12132799685377826, 0.992810242261573, 0.9966990633291559, 0.002024433020141427, 0.17275161771873512, 0.06613147865795328, 0.07760326577208804, 0.13698663436290323, 0.006073299060424282, 0.0006748110067138091, 0.04251309342296997, 0.14575917745018277, 0.004048866040282854, 0.06883072268480853, 0.22673649825583986, 0.04791158147668045, 0.9611441241853049, 0.03725364822423662, 0.015529502084638607, 0.6589328384533726, 0.08701876168116461, 0.03507525470840789, 0.01740375233623292, 0.12878776728812363, 0.05703075765565557, 0.00026775003594204494, 0.9879122173478729, 0.1434783031078536, 0.003052729853358587, 0.7662351931930054, 0.08242370604068185, 0.9927481584574684, 0.07917001634455301, 0.000633360130756424, 0.0183674437919363, 0.0019000803922692721, 0.022800964707231267, 0.3578484738773796, 0.4712199372827795, 0.000633360130756424, 0.002533440523025696, 0.012033842484372058, 0.000633360130756424, 0.002533440523025696, 0.029134566014795506, 0.08116806665582409, 0.016426870632726305, 0.009662865078074297, 0.019325730156148593, 0.0077302920624594375, 0.5362890118331235, 0.13141496506181044, 0.0009662865078074297, 0.12271838649154357, 0.0057977190468445775, 0.07053891506994237, 0.0252038598296823, 0.10381589882226282, 0.05460836296431165, 0.022803492226855418, 0.07741185519116707, 0.010201562312014266, 0.16322499699222826, 0.06180946577279231, 0.010801654212720987, 0.09121396890742167, 0.004200643304947051, 0.3264499939844565, 0.0018002757021201644, 0.0072011028084806574, 0.03840588164523018, 0.029165282819359584, 0.1597750276191003, 0.08495973690856921, 0.0038041673242642936, 0.13441391212400502, 0.025995143382472673, 0.02472708760771791, 0.013314585634925028, 0.07671737437266325, 0.0012680557747547644, 0.43367507496612945, 0.011412501972792881, 0.0012680557747547644, 0.1208900579394991, 0.307379372125238, 0.0018742644641782805, 0.0955874876730923, 0.40577825649459776, 0.03467389258729819, 0.03373676035520905, 0.972205646644574, 0.040889432326454964, 0.41756212919550323, 0.05765975249721299, 0.09421528185819115, 0.0001884305637163823, 0.37309251615843697, 0.007537222548655293, 0.008479375367237205, 0.056002141751555726, 0.17309752905026315, 0.7687566731349923, 0.9945038889517313, 0.9231411854486548, 0.07265463033623672, 0.18055219799073388, 0.8124848909583025, 0.9880132839371394, 0.08743292727574496, 0.40345293556345, 0.09352278290689137, 0.24468169946570417, 0.007829814382902534, 0.00021749484396951481, 0.12288458684277588, 0.00021749484396951481, 0.033494205971305285, 0.00021749484396951481, 0.005219876255268356, 0.00021749484396951481, 0.00043498968793902963, 0.14619033708752213, 0.6327877767795633, 0.004749866547970033, 0.15516230723368774, 0.0005277629497744481, 0.00844420719639117, 0.026388147488722407, 0.006333155397293377, 0.01952722914165458, 0.9814757074482325, 0.9819610993720209, 0.9893195533760919, 0.9758867013051519, 0.9769596783490363, 0.9785809416286336, 0.1298725432633874, 0.021645423877231233, 0.8297412486271973, 0.014430282584820823, 0.007056621741094688, 0.1011449116223572, 0.7621151480382263, 0.004704414494063125, 0.12349088046915704, 0.9802017636869479, 0.013270238132146409, 0.9819976217788342, 0.9943774572253025, 0.9626650060478786, 0.07140580203709168, 0.6108207162209048, 0.0030110880377086854, 0.16862093011168638, 0.09463419547084441, 0.018066528226252113, 0.033552123848753924, 0.990264482999247, 0.2332368198539187, 0.07421171540806504, 0.17461580096015303, 0.0015590696514299377, 0.04147125272803635, 0.045524833821754186, 0.011848929350867527, 0.16151961588814157, 0.030245951237740792, 0.057997391033193686, 0.15902510444585366, 0.009042603978293639, 0.07765378151550607, 0.00978315357675667, 0.19291155959167058, 0.004280129689831043, 0.23877009198271748, 0.35158208166469285, 0.00825453583038844, 0.0027515119434628134, 0.11006047773851253, 0.003668682591283751, 0.9867384760324629, 0.9735651697827339, 0.9767840558518612, 0.9901821842944589, 0.0040748238036809005, 0.052539978010557827, 0.15061460363026577, 0.7951050005597752, 0.9936232235412749, 0.2161199542889692, 0.09754086432511, 0.16065554124135764, 0.5087425472642992, 0.013387961770113137, 0.9850648928810872, 0.006237444700276911, 0.09236216190794656, 0.02063154785476209, 0.40351469176406785, 0.05349808339083658, 0.3404205396035745, 0.029268009747453198, 0.011275380804346723, 0.042462604305731275, 0.07575851787123852, 0.08188604505200046, 0.5492492545664792, 0.010026862659428627, 0.002785239627619063, 0.2690541480280015, 0.0011140958510476252, 0.010026862659428627, 0.9870348707472038, 0.15388973489389599, 0.013152968794350085, 0.8207452527674453, 0.002630593758870017, 0.007891781276610051, 0.9945752374911175, 0.9923193886232669, 0.9882458278790938, 0.9914131476538174, 0.9966063739224867, 0.9881140988453027, 0.06510614695059205, 0.17078836282223298, 0.14238511457749875, 0.06621276701207521, 0.023239021291146172, 0.032829728490666815, 0.348032009336451, 0.05606874978181298, 0.040944942274876585, 0.022870147937318456, 0.001106620061483151, 0.010144017230262217, 0.01825923101447199, 0.001844366769138585, 0.018756334789701578, 0.24029342117372401, 0.037512669579403156, 0.0035389310923965244, 0.116076939830606, 0.2098586137791139, 0.0513145008397496, 0.01592518991578436, 0.008847327730991311, 0.11572304672136635, 0.02194137277285845, 0.0007077862184793049, 0.03468152470548594, 0.12492426756159732, 0.0007077862184793049, 0.08481279091426386, 0.2452259489021043, 0.1473987814509965, 0.11098777293780392, 0.0035094947964522975, 0.046793263952697305, 0.006141615893791521, 0.039481816460088345, 0.21817359317945118, 0.03860444276097527, 0.03787329801171438, 0.006726531693200237, 0.005264242194678447, 0.0071652185427567745, 0.002047205297930507, 0.03793399159953385, 0.2190382095585987, 0.635088440005099, 0.0012236771483720597, 0.1064599119083692, 0.8981204831811, 0.0997911647979, 0.9892350436483065, 0.0047663728468014584, 0.14159614944888235, 0.2429106356924792, 0.017670455432044433, 0.01819359391522996, 0.06202097350655068, 0.0047663728468014584, 0.2697069513312045, 0.10962657547643355, 0.06597357537950799, 0.0019181744383469283, 0.016159166480619578, 0.00046501198505380083, 0.04138606666978827, 0.00284819840845453, 0.9866070678308103, 0.1539404817655062, 0.11673819867217552, 0.05174110637118402, 0.005986574290880797, 0.047464981877697744, 0.6020783286828687, 0.021808234916780043, 0.9879197988865169, 0.1098701317691276, 0.009019189921346295, 0.1680849030796355, 0.11069005812561362, 0.0016398527129720538, 0.006559410851888215, 0.0016398527129720538, 0.01311882170377643, 0.15988563951477525, 0.11888932169047389, 0.015578600773234511, 0.28533437205713735, 0.002228526691442469, 0.03064224200733395, 0.07883413170977734, 0.009749804275060801, 0.5702242671728418, 0.12702602141222072, 0.04122774379168568, 0.012535462639363889, 0.0005571316728606173, 0.10056226695134142, 0.0033427900371637035, 0.005292750892175864, 0.0047356192193152465, 0.01002837011149111, 0.0025070925278727774, 0.20639626765883376, 0.42845957873731494, 0.23091859648958626, 0.02191115492747795, 0.0024976446031322016, 0.0031788204039864382, 0.0003405879004271184, 0.09661343442115926, 0.009536461211959316, 0.9906669671129488, 0.9707809264386345, 0.1930329096153818, 0.05775787846759456, 0.041729376309123344, 0.3314860058463142, 0.07254278994135681, 0.025009990436924916, 0.12670807309756987, 0.06342312492015766, 0.0006908837137272076, 0.00013817674274544154, 0.03965672516794172, 0.017410269585925633, 0.02611540437888845, 0.0009672371992180907, 0.003178065083145155, 0.023558185658985566, 0.1558766617769545, 0.05457646344331656, 0.32667350780459986, 0.11268665473548097, 0.03651518777142763, 0.031018277784330996, 0.0023558185658985567, 0.09815910691243986, 0.15548402534930475, 0.003533727848847835, 0.940757656595087, 0.9906119188299423, 0.014381535044038489, 0.3651659332921077, 0.06440426563199846, 0.07128239108784294, 0.06440426563199846, 0.058776708440852955, 0.0018758523970484986, 0.003751704794096997, 0.060027276705551955, 0.24761251641040183, 0.004376988926446497, 0.04314460513211547, 0.01354023432455141, 0.1109104488055167, 0.2132586906116847, 0.014934081975608172, 0.018120019463737917, 0.09637460901592475, 0.013341113231543302, 0.29888076060517155, 0.053165331833165096, 0.08024580048226791, 0.001393847651056763, 0.00597363279024327, 0.07486953097104898, 0.0051771484182108335, 0.06524242837465159, 0.3469039152736329, 0.05176462359175431, 0.2447118915411689, 0.11806275469091482, 0.001548363995946424, 0.1026494949130845, 0.037336686356798994, 0.0009501324520580328, 0.005524844258263376, 0.0006686117255223194, 0.0026392568112723136, 0.0022873559031026717, 0.019671260766682977, 3.519009081696418e-05, 0.00105551957703566, 0.01688831323257056, 0.24065846356413048, 0.1741607302108839, 0.00105551957703566, 0.09605228151024506, 0.0158327936555349, 0.40531951758169343, 0.0474983809666047, 0.9906504500848109, 0.11875632594072674, 0.03797224215032642, 0.1258295867334346, 0.13997610831885032, 0.09046328276989529, 0.006328707025054403, 0.0007445537676534591, 0.022708889913430504, 0.0007445537676534591, 0.4266293088654321, 0.0007445537676534591, 0.002605938186787107, 0.02494255121639088, 0.0011168306514801887, 0.9823009228196866, 0.038584844872502064, 0.9014822847484574, 0.05963112389386683, 0.04272975857217686, 0.08286108587982946, 0.2609979847922154, 0.016889803219407747, 0.0821392994174616, 0.12299241318748205, 0.07217864623678524, 0.03479010748613049, 0.2314047398351335, 0.012703441737674202, 0.0077952937935728064, 0.004763790651627826, 0.000288714584947141, 0.02367459596566556, 0.0037532896043128328, 0.15214925059498896, 0.10453400934042525, 0.005069899453010625, 0.13761902329666986, 0.46219712229869025, 0.05069899453010625, 0.019913728779351013, 0.0099307308873404, 0.0010976070980744652, 0.0016202771447765914, 0.023363351087585044, 0.007683249686521256, 0.008467254756574446, 0.015627834396393574, 0.12682012673718987, 0.8007785145405417, 0.06975106970545442, 0.0018117160962455693, 0.12020129612561657, 0.04581585634932921, 0.12298857255751493, 0.036931412722653205, 0.10800696173606127, 0.19807083144177687, 0.14267371235779708, 0.021949801901199547, 0.02560810221806614, 0.07839214964714124, 0.002613071654904708, 0.05992644328581464, 0.0003484095539872944, 0.03327311240578662, 0.003309890762879297, 0.10425948213200396, 0.2897667277258787, 0.007745959355794221, 0.008820216492729186, 0.06513390640784629, 0.013399944287030879, 0.0044666480956769596, 0.23322687841351214, 0.01718811419095944, 0.24877533697441293, 0.00214851427386993, 0.0006219383424360324, 0.00045231879449893263, 0.001074257136934965, 0.002940072164243062, 0.8638113951607178, 0.12467380961082525, 0.9944218442667684, 0.062067996024880785, 0.05895516339749315, 0.24638541887080337, 0.040749808940347264, 0.0972524375405047, 0.060841728626212926, 0.20384337296317231, 0.05150323074405001, 0.1006482549522003, 0.00886685657498297, 0.050654276391126116, 0.005282382640415386, 0.01188536094093462, 9.432826143598904e-05, 0.0008489543529239013, 0.9923981557680203, 0.2962308891241665, 0.20310943821274274, 0.03551057661479108, 0.11802625464404422, 0.09373370223236845, 0.037564581046347405, 0.013035028123338217, 0.05093535989407464, 0.017044286773395274, 0.005727512357224368, 0.11101498951709715, 0.001619503494111718, 0.007208765553058256, 0.005056010908446339, 0.004167258990946006, 0.03513594415462757, 0.9603824735598203, 0.01212657929813256, 0.9261674938948743, 0.00454746723679971, 0.01212657929813256, 0.04446412409315272, 0.9877462982981643, 0.9812297145519452, 0.9997782233565234, 0.04951618361001924, 0.16254225489375881, 0.01076438774130853, 0.002152877548261706, 0.04951618361001924, 0.04736330606175754, 0.15716006102310456, 0.005382193870654265, 0.505926223841501, 0.009687948967177678, 0.06348950243164175, 0.1734138786702608, 0.2898280693412743, 0.05352839190750145, 0.047591972504225914, 0.10987406759960824, 0.06957684775194972, 0.06303672468054447, 0.023041356666950813, 0.005936419403275537, 0.013583332532918602, 0.01534413489829694, 0.03280123263504788, 0.02475185039331834, 0.014136727562037507, 0.9951423066507302, 0.9971373391077366, 0.00018867262209872353, 0.28527300461327, 0.0007546904883948941, 0.008112922750245112, 0.0192446074540698, 0.5503580386619765, 0.003962125064073194, 0.13169349022490903, 0.00018867262209872353, 0.1041595643171195, 0.04996271784317114, 0.11398274274052264, 0.23016723236904943, 0.16411482572892486, 0.013041116182793824, 0.08806987552016608, 0.06114081742842299, 0.002371112033235241, 0.05385811618348618, 0.011347464730482938, 0.06351192946165823, 0.03201001244867575, 0.004742224066470482, 0.007790796680630077, 0.9843517805332106, 0.9832697253685629, 0.9965148262006466, 0.07485014314445343, 0.04811794916429149, 0.8768159625493116, 0.07942678113338811, 0.10360014930441927, 0.7994478187991021, 0.017266691550736547, 0.9736528605507098, 0.14309461542446705, 0.8542314920793942, 0.01627586492966137, 0.13997243839508777, 0.08029426698632942, 0.005425288309887123, 0.03689196050723244, 0.11935634281751671, 0.5360184850168478, 0.05425288309887123, 0.010850576619774246, 0.0063471891484591075, 0.07320424817889504, 0.46969199698597397, 0.04189144837983011, 0.010367075609149876, 0.094784691283656, 0.07024222657628079, 0.028139205224835376, 0.03892942677721586, 0.09838143180111616, 0.001481010801307125, 0.04675762672698209, 0.0006347189148459108, 0.004866178347151982, 0.01417538909822534, 0.9882209836755493, 0.8159957399919946, 0.07805176643401687, 0.10288641939029497, 0.988688236693902, 0.9972950427997573, 0.22199312443331662, 0.7748413862432109, 0.1362917417876646, 0.1309598067966578, 0.003273995169916445, 0.06398321989208139, 0.002899824293354566, 0.5921254121591742, 0.0018708543828093972, 0.06847327041082395, 9.354271914046986e-05, 0.1640109356183251, 0.04536472687315375, 0.05321631421658421, 0.030533950780007334, 0.06804709030973063, 0.4588816602938245, 0.17971411030518603, 0.15135695526748083, 0.10090463684498721, 0.04324484436213737, 0.7015274752080063, 0.9875453471995844, 0.9095147217097577, 0.08893223778645244, 0.0012888730113978617, 0.3121520436684448, 0.681059004367516, 0.025971681107773387, 0.8613940900744841, 0.10821533794905579, 0.9837315604463333, 0.9855524270005086, 0.9930135259577235, 0.9831967465077122, 0.9940001304911898, 0.9962480601947735, 0.9867955834547051, 0.006322939348390524, 0.002918279699257165, 0.7859899989999298, 0.13034982656682004, 0.0014591398496285825, 0.04523333533848606, 0.02188709774442874, 0.005350179448638136, 0.026207850065759337, 0.01856389379657953, 0.04586373761507884, 0.8593990834063583, 0.016379906291099585, 0.03275981258219917, 0.9954151601645546, 0.0001991187752497203, 9.955938762486015e-05, 0.0029867816287458045, 0.0018916283648723429, 0.8893640096528757, 0.03215768220282983, 9.955938762486015e-05, 0.056051935232796266, 0.0041814942802441265, 0.008462547948113113, 0.003484578566870105, 0.0010951532638734617, 0.9730157103356184, 0.4178966449534326, 0.005193054614540412, 0.008510839507163453, 0.01918545177038541, 0.013992397155845, 0.000144251517070567, 0.03303359740915984, 0.4861276125278108, 0.000144251517070567, 0.000144251517070567, 0.015579163843621237, 0.09263530479607737, 0.04928897349527136, 0.22468431002897635, 0.041948062549167116, 0.09857794699054272, 0.0505124586529554, 0.2017876592208893, 0.06764125086053197, 0.10565668254571467, 0.026042755499274584, 0.013633120328479312, 0.018352277365260614, 0.0006991343758194519, 0.006816560164239656, 0.001835227736526061, 0.9821423995483487, 0.9953990236213088, 0.9755687710581801, 0.9086406686937928, 0.0008507871429717162, 0.02382204000320805, 0.06465982286585042, 0.0017015742859434323, 0.25940732735888045, 0.00157322503115224, 0.0017480278123913778, 0.11711786343022232, 0.00026220417185870667, 0.03059048671684911, 0.0009614152968152578, 0.00043700695309784445, 0.0018354292030109468, 0.44574709215980135, 0.0006992111249565511, 0.13870600691325582, 0.0008740139061956889, 0.07634006203268187, 0.0031159208992931372, 0.24304183014486472, 0.6761548351466108, 0.00828389196607999, 0.0828389196607999, 0.9070861702857589, 0.9922841267474899, 0.991569816603011, 0.9927620417135192, 0.0007080481578839534, 0.01380693907873709, 0.07115883986733731, 0.10408307920894114, 0.06761859907791755, 0.3448194528894853, 0.05204153960447057, 0.1426717038136166, 0.00637243342095558, 0.03894264868361744, 0.1455038964451524, 0.012036818684027208, 0.9738444381816413, 0.9781456453456665, 0.2639924841454467, 0.016239880998933056, 0.6526166131664262, 0.008686447976173496, 0.004154388162517759, 0.0026437015579658467, 0.006042746418207649, 0.00037767165113797806, 0.010574806231863387, 0.006420418069345627, 0.0026437015579658467, 0.025304000626244532, 0.01238079402672103, 0.16552169244954731, 0.2493301443227358, 0.05657070501440224, 0.023809219282155826, 0.09942729972228273, 0.06952292030389501, 0.0592373375740037, 0.017142637883152196, 0.19066422801150387, 0.00019047375425724662, 0.027999641875815252, 0.0011428425255434796, 0.02361874552789858, 0.0032380538223731924, 0.006651231279824279, 0.0016628078199560697, 0.3317301600812359, 0.22115344005415727, 0.0016628078199560697, 0.09228583400756186, 0.34586402655086246, 0.05087487514959177, 0.49179045977938707, 0.007419252625982133, 0.0031796796968494856, 0.445155157558928, 0.9880779395370443, 0.006338904428708158, 0.08703144458874984, 0.34983899576816374, 0.003940400050278044, 0.10844666225330442, 0.13380227996813707, 0.017132174131643668, 0.11667010583649338, 0.01661820890769436, 0.015076313235846428, 0.0018845391544808035, 0.02175786114718746, 0.11992521892150568, 0.0017132174131643668, 0.4158651539542784, 0.026162730169983415, 4.890229938314657e-05, 0.050711684460322995, 0.14025179463086437, 9.780459876629314e-05, 0.0385350119139195, 0.31894079657688196, 0.00024451149691573284, 0.007579856404387719, 0.00014670689814943972, 0.0012225574845786643, 9.780459876629314e-05, 0.9911590217021123, 0.10795942624699903, 0.1901478926801983, 0.003482562136999969, 0.011608540456666563, 0.10563771815566572, 0.002553878900466644, 0.19966689585466488, 0.3292182073510637, 0.04736284506319958, 0.002089537282199981, 0.298594222880948, 0.04109094810288275, 0.002739396540192184, 0.0009131321800640612, 0.0006087547867093742, 0.2970723359141746, 0.20088907961409347, 0.004870038293674993, 0.004261283506965619, 0.06544113957125772, 0.08035563184563739, 0.002739396540192184, 0.9937447045377754, 0.9704335491204759, 0.9931705312300517, 0.9896965919507058, 0.9948621813578924, 0.9856434844809833, 0.9909063674786681, 0.9946731833517709, 0.9827165907593964, 0.9903084599753986, 0.11773107405868924, 0.02329302970623529, 0.26483162035567515, 0.10481863367805881, 0.03164813818781969, 0.07544916143976213, 0.19140793975993348, 0.016710216963168795, 0.0002531851055025575, 0.018482512701686698, 0.13342855059984782, 0.0002531851055025575, 0.02126754886221483, 0.03560385842955471, 0.5708485301538606, 0.15428338652807042, 0.17801929214777357, 0.015428338652807043, 0.04509822067743597, 0.012552126735461102, 0.057948985095378755, 0.025522657695437573, 0.006066861255472866, 0.21924381364605391, 0.1776125933067746, 0.00502085069418444, 0.06192382522827477, 0.015062552082553322, 0.13242493705911462, 0.07196552661664365, 0.018618987990933967, 0.0349367527470334, 0.14518626590683342, 0.01569015841932638, 0.07601275273894471, 0.0874432418726206, 0.3452007718370121, 0.03543451631439528, 0.01543116033046246, 0.0674398858886878, 0.05029415218817394, 0.0662968369753202, 0.003429146740102769, 0.040006711967865635, 0.02343250272403559, 0.1537400788479408, 0.030290796204241126, 0.005143720110154153, 0.05503165920604021, 0.001170886366085962, 0.057373431938212135, 0.5386077283995425, 0.005854431830429809, 0.09952534111730676, 0.0772785001616735, 0.1287975002694558, 0.03629747734866482, 0.015985246412537676, 0.004359612657964821, 0.07411341518540196, 0.7905430953109542, 0.11334992910708534, 0.07050539383666689, 0.13104032793885564, 0.0019584831621296357, 0.2576295577819621, 0.008190020496178478, 0.005341317714899007, 0.010504591505968046, 0.13798404096822434, 0.1005948169639313, 0.2672439296687803, 0.001424351390639735, 0.00284870278127947, 0.0037389224004293047, 0.0001780439238299669, 0.0007121756953198676, 0.08588358932271604, 0.7124434114270762, 0.09954688762405724, 0.03903799514668911, 0.06050889247736812, 0.0638395116156027, 0.9196590513899867, 0.016191180482218074, 0.02129472328747458, 0.3391761950125469, 0.14649743370057813, 0.4017775502190987, 0.0005131258623487851, 0.011545331902847664, 0.0015393775870463553, 0.01513721293928916, 0.028735048291531964, 0.03155724053445028, 0.0020525034493951403, 0.9661905801262373, 0.8814224130993885, 0.05738427168615811, 0.025249079541909566, 0.03557824844541803, 0.9617906424062532, 0.035906850649833455, 0.9284907921597371, 0.0016705483845983033, 0.05379165798406537, 0.015369045138304392, 0.9889236367225983, 0.9807294693534419, 0.989057117896982, 0.9940876358923524, 0.9729067540283994, 0.8226554518335879, 0.1739535757181155, 0.9689901925355163, 0.9908127898308158, 0.6514878376765909, 0.011417092445591954, 0.23119612202323708, 0.021407048335484916, 0.08063321539699318, 0.0028542731113979885, 0.05664426446582074, 0.2636273943692286, 0.2002143184263601, 0.4791606019278547, 0.17982088102911536, 0.21336439152877726, 0.3485758616872082, 0.06189988020040702, 0.003803903252538979, 0.05671273940149023, 0.015561422396750369, 0.1196500477616806, 0.11952423314638863, 0.4148971721386809, 0.0097840633327796, 0.364654684754137, 0.02617898026878866, 0.007668590179746173, 0.0031732097295501405, 0.0002644341441291784, 0.010048497476908778, 0.0015866048647750703, 0.04204502891653936, 0.9743904962329002, 0.008045594271714258, 0.04022797135857129, 0.08608785870734256, 0.574455431000398, 0.003218237708685703, 0.1062018443866282, 0.020113985679285646, 0.04907812505745697, 0.0008045594271714258, 0.1029836066779425, 0.00965471312605711, 0.9919239497534212, 0.9909289279636601, 0.9811142958959387, 0.09746619939353819, 0.10545583850890983, 0.22633611919888433, 0.1334565644826891, 0.03920841417728671, 0.008803398654900225, 0.04231549605548679, 0.2541888888927493, 0.07061213458909466, 0.002922136528307217, 0.003181060018157224, 0.0073238358557573295, 0.002700202108435783, 0.0004808579097214408, 0.005548360496785856, 0.037385647498576646, 0.12059886289863433, 0.16763241942910173, 0.03859163612756299, 0.0892431585449894, 0.04341559064350836, 0.00361796588695903, 0.11456891975370262, 0.37144449772779375, 0.00723593177391806, 0.006029943144931717, 0.9924588437670432, 0.9878754157366946, 0.10628206753831036, 0.37043080443268844, 0.07043966317183414, 0.04402478948239634, 0.0023124131849339494, 0.0011562065924669747, 0.03166227283986484, 0.1563547068889955, 0.1795677777069863, 0.013696601172301084, 0.0018677183416774207, 0.0201002069151951, 0.0008004507178617517, 0.0007115117492104459, 0.0005336338119078344, 0.9948382580093632, 0.013648114607138436, 0.2701189349329482, 0.06539721582587167, 0.023884200562492262, 0.010804757397317928, 0.06255385861605117, 0.31902467894186093, 0.013079443165174336, 0.2166638193883227, 0.00398070009374871, 0.0015164282099482669, 0.1546756774147232, 0.7491155357144438, 0.09250212080684428, 0.9945647869774404, 0.22615247483450132, 0.07620355130292979, 0.001229089537144029, 0.12290895371440289, 0.5063848893033399, 0.06759992454292159, 0.8348716227046417, 0.1635897098542879, 0.998218118920142, 0.49416746495985003, 0.009048136682363452, 0.0020880315420838736, 0.0006960105140279578, 0.05080876752404092, 0.44335869743580913, 0.9942934964152719, 0.9927760197131462, 0.9963128994727469, 0.0019086454012887872, 0.9828046619112566, 0.9917921026764085, 0.9851357828278611, 0.9899097960908121, 0.3641635204259603, 0.018754623689962387, 0.048708051453787204, 0.10173371411677438, 0.3064154705029107, 0.040342679735962256, 0.05289073731269968, 0.040342679735962256, 0.0005397014011499968, 0.0013492535028749918, 0.004317611209199974, 0.02023880254312488, 0.9824047259887344, 0.013094202459208637, 0.04073751876198243, 0.001648899568937384, 0.04073751876198243, 9.699409229043436e-05, 0.05906940220487452, 0.07245458694095447, 9.699409229043436e-05, 0.0002909822768713031, 0.019398818458086872, 0.7486004042975724, 0.0022308641226799902, 9.699409229043436e-05, 9.699409229043436e-05, 0.0014549113843565153, 0.030850939443371743, 0.24487933183176322, 0.6613670143172817, 0.021210020867318075, 0.04049185801942541, 0.9858320909647323, 0.011006976086152587, 0.07704883260306811, 0.9091762247162036, 0.993509065863379, 0.9967039423482029, 0.9796035185908789, 0.14723354186206417, 0.8480652011254896, 0.07643274742466549, 0.018642133518211097, 0.17150762836754208, 0.0009321066759105548, 0.0009321066759105548, 0.013049493462747768, 0.037284267036422195, 0.08295749415603938, 0.027963200277316642, 0.41199115075246523, 0.15752602822888376, 0.986578800843825, 0.9968792759146693, 0.9966023265950844, 0.9859938984566963, 0.13328507378599933, 0.13328507378599933, 0.7330679058229964, 0.1043949398261849, 0.020878987965236982, 0.8629981692297952, 0.9872665420554649, 0.9857274682639874, 0.06274134679987545, 0.588428553482327, 0.06822360040374806, 0.23390948709856477, 0.000609139289319179, 0.023756432283447985, 0.016446760811617837, 0.004263975025234254, 0.001218278578638358, 0.000609139289319179, 0.9928250458234161, 0.9881974296738226, 0.1217851409256302, 0.08177002319292313, 0.14788195683826524, 0.10148761743802516, 0.1229449994106362, 0.002899646212515005, 0.33635896065174054, 0.01797780651759303, 0.03711547152019206, 0.028996462125150047, 0.9907221199278873, 0.004836078443573689, 0.5890343544272754, 0.0638362354551727, 0.09575435318275904, 0.015475451019435805, 0.1025248630037622, 0.003868862754858951, 0.12380360815548644, 0.9856314562573552, 0.06736514644205428, 0.021316774450173857, 0.11724225947595622, 0.0007243564133554224, 0.0778165746918968, 0.02359332317786233, 0.1296597979906206, 0.04656576942999144, 0.4896649354282655, 0.0003104384628666096, 0.025455953955061984, 0.0002069589752444064, 0.0001034794876222032, 0.9857587895825115, 0.9763855753856613, 0.0029237971204701396, 0.5810382277588841, 0.050501950262666045, 0.10631989528982326, 0.019403380890392743, 0.036414564136764464, 0.10977529188674251, 0.03163016884872242, 0.02711157329890493, 0.003986996073368372, 0.0007973992146736744, 0.0010631989528982326, 0.02870637172825228, 0.08660287323175175, 0.29917356207332424, 0.023618965426841387, 0.07535574683801775, 0.08772758587112515, 0.09222643642861875, 0.025868390705588187, 0.28342758512209665, 0.003374137918120198, 0.023618965426841387, 0.9772470922086773, 0.9963508253248272, 0.35406218617499885, 0.000295051821812499, 0.36055332625487385, 0.0035406218617499885, 0.23338599105368674, 0.029505182181249905, 0.0032455700399374892, 0.002360414574499992, 0.012982280159749957, 0.25595043522952204, 0.009141086972482929, 0.7107195121105477, 0.022852717431207325, 0.07036883975066308, 0.37734015518471503, 0.5517324971754888, 0.985203812943847, 0.9857329882561706, 0.9710371551487054, 0.9698409775925911, 0.9724735389112887, 0.1542683790667926, 0.004059694185968226, 0.002029847092984113, 0.8362970023094546, 0.9964539238815584, 0.996572472365742, 0.9942029888256169, 0.5816982897895023, 0.4170263474593859, 0.9968353099412013, 0.27568626152218184, 0.051438317139358876, 0.3774069785618129, 0.006935503434520298, 0.036989351650774924, 0.2473662891645573, 0.0017338758586300745, 0.0017338758586300745, 0.12469590556759587, 0.059909764686107515, 0.17903266888755384, 0.07384226810148135, 0.5259520039303625, 0.03622450887997199, 0.07702342111981231, 0.03187176046337061, 0.07171146104258387, 0.20583845299260187, 0.5511158580124502, 0.05311960077228435, 0.007967940115842653, 0.013645226191726178, 0.010916180953380943, 0.16023394185141313, 0.10955167313928732, 0.1485380336870764, 0.028070179594408138, 0.1348928074953502, 0.006237817687646253, 0.18518521260199813, 0.013255362586248287, 0.0003898636054778908, 0.1695906683828825, 0.0007797272109557816, 0.01832358945746087, 0.9852022749482062, 0.9916746405058205, 0.0932623154188937, 0.9015357157159724, 0.9893851997379127, 0.18607469060849993, 0.039520288270831844, 0.026346858847221228, 0.6504380777907741, 0.059280432406247766, 0.03787360959288052, 0.0005923590707241628, 0.06456713870893376, 0.013328079091293665, 0.7739171259011188, 0.005627411171879548, 0.0011847181414483257, 0.04176131448605348, 0.03731862145562226, 0.01658605398027656, 0.0008885386060862444, 0.035541544243449776, 0.009181565596224524, 0.9658405634633009, 0.02962701114918101, 0.9893670659565922, 0.016870976776066405, 0.010736076130224077, 0.2473131822855189, 0.10582703614078018, 0.0003834312903651456, 0.05981528129696271, 0.1825132942138093, 0.08167086484777601, 0.0640330254909793, 0.054063811941485525, 0.007668625807302912, 0.13573467678926154, 0.0015337251614605824, 0.0034508816132863105, 0.02799048419665563, 0.8321287196304925, 0.16210299733061542, 0.979769025013692, 0.1711954529295573, 0.0011655860624991134, 0.164347634812375, 0.025642893374980498, 0.06629270730463709, 0.07080935329682114, 0.03962992612496986, 0.03409339232809907, 0.06104757002339107, 0.14074451704676796, 0.018212282226548648, 0.06789538814057336, 0.004079551218746897, 0.1346251902186476, 0.061704254530250385, 0.029376441533867814, 0.2849789374967737, 0.009540479843943052, 0.0766670214797438, 0.06191016416717002, 0.0738529231085088, 0.15662859715020175, 0.1821613921282364, 0.021140056057082447, 0.03493600173069794, 0.0010981847302380492, 0.0005490923651190246, 0.0006863654563987807, 0.004804558194791465, 0.9912375239149849, 0.06844660081531376, 0.0021902912260900404, 0.0019165048228287852, 0.008761164904360162, 0.5856291165758245, 0.04900776618376465, 0.06844660081531376, 0.050102911796809674, 0.011225242533711457, 0.05667378547507979, 0.022176698664161658, 0.056399999071818537, 0.018617475421765343, 0.9918648986089906, 0.979127232212145, 0.9424326571860844, 0.054633777228178804, 0.17164455912689983, 0.1034965708002792, 0.009516926050600385, 0.7151290146594005, 0.10218780747665933, 0.8896350297967989, 0.00862187730799039, 0.33194227635762996, 0.01580677506464905, 0.0819078344259087, 0.08909273218256736, 0.0014369795513317315, 0.05747918205326926, 0.41385011078353867, 0.9936407337715851, 0.9239999204095873, 0.07318811250769008, 0.008044285371450332, 0.016088570742900665, 0.9733585299454902, 0.1073647228766117, 0.03117040341579049, 0.63379820278774, 0.22511958022515355, 0.8245515450490857, 0.17220363962941593, 0.7715380721401187, 0.15879112864869271, 0.0691208442353133, 0.8661089900361414, 0.08323524730726399, 0.02358332007039146, 0.006011434527746843, 0.020346393786220086, 0.9951008768373041, 0.006121707455181198, 0.17548894704852766, 0.03468967557936012, 0.0714199203104473, 0.006121707455181198, 0.11631244164844276, 0.5529942401180349, 0.03468967557936012, 0.989918982211971, 0.4266913823200362, 0.0032478887331686868, 0.002435916549876515, 0.5618847508381829, 0.005277819191399117, 0.9809114883248385, 0.023222149484299293, 0.11679881110992014, 0.24753091191041987, 0.028038595303265072, 0.07104257582974524, 0.09392069346983269, 0.05194880847598805, 0.12281936838362736, 0.028898674913794675, 0.15739456872691743, 0.0063645891179190655, 0.023394165406405213, 0.011009019014778923, 0.015481432989532862, 0.0018921751431651276, 0.9882528231563688, 0.005303099095823013, 0.01818205404282176, 0.00454551351070544, 0.4484906663896034, 0.04848547744752469, 0.36061073851596487, 0.11288025218251842, 0.0007575855851175733, 0.982606914021668, 0.39592586347529235, 0.0036075249519388823, 0.0306639620914805, 0.009018812379847207, 0.04937799777966345, 0.2563597418971568, 0.17789607419248615, 0.0004509406189923603, 0.055014755517067956, 0.002705643713954162, 0.018263095069190594, 0.0004509406189923603, 0.00022547030949618014, 0.9900273994148278, 0.05837982684324179, 0.9402878493688093, 0.20826534436156158, 0.029287314050844594, 0.05532048209603979, 0.7061496832259196, 0.9980295512053662, 0.9865969042117668, 0.9708875034927813, 0.02189971812389732, 0.13969722875434273, 0.055878891501737096, 0.7962742038997536, 0.12993103631027283, 0.08473763237626489, 0.2838710684604874, 0.007061469364688741, 0.0028245877458754963, 0.1991334360842225, 0.0014122938729377481, 0.007061469364688741, 0.28245877458754964, 0.038854256484346594, 0.1637780684719926, 0.14607233133988531, 0.6324882764413889, 0.0004918260314474253, 0.01770573713210731, 0.993770197627249, 0.005632907316672498, 0.09656412542867139, 0.39546585812130886, 0.0075999543161454335, 0.0284327702651088, 0.05096439953179879, 0.007510543088896664, 0.11632400665064953, 0.15977786309355166, 0.04130798698893165, 0.0006258785907413887, 0.04068210839819027, 8.941122724876981e-05, 0.04300680030665828, 0.0060799634529163475, 0.9806162705126106, 0.9423890744933593, 0.05525408254358458, 0.5041214648642792, 0.004650177034387482, 0.12999358527946825, 0.0507292040114998, 0.004016061984243734, 0.04734725707739981, 0.24011823232109905, 0.019023451504312425, 0.02815741552691082, 0.04880618691331209, 0.02815741552691082, 0.006570063622945857, 0.051621928466003164, 0.11826114521302544, 0.5565782469152705, 0.16049726850339166, 0.9899774649335513, 0.06471209776419891, 0.1617802444104973, 0.7684561609498621, 0.9888898395517933, 0.933076677876766, 0.06034824284775103, 0.9895246647364512, 0.006685977464435481, 0.9890160243164138, 0.1767393181969698, 0.11664795001000007, 0.02827829091151517, 0.6397963318730306, 0.03534786363939396, 0.9919127209853954, 0.9603506142277848, 0.9914067494340143, 0.8229846420865587, 0.12043677689071591, 0.05018199037113163, 0.11899111014820624, 0.08736825975106795, 0.17027688675382152, 0.06121859499958821, 0.10074715799601107, 0.07125276868329555, 0.022804940190243955, 0.2070688569274151, 0.009223331365832, 0.034764864378905226, 0.021994097872368612, 0.0242239142465258, 0.0009121976076097582, 0.05858335746649336, 0.010642305422113845, 0.04531198286643447, 0.05135358058195907, 0.5757642622894941, 0.31537140075038395, 0.009666556344839355, 0.0018124793146573788, 0.00040673414356801415, 0.002440404861408085, 0.4234102434543027, 0.03253873148544113, 0.04108014850036943, 0.051248502089569783, 0.07321214584224255, 0.10249700417913957, 0.06467072882731426, 0.04840136308459369, 0.15130510140730127, 0.008134682871360283, 0.0008134682871360283, 0.001874822495611594, 0.12898778769807767, 0.22610359297075824, 0.3708398896319733, 0.02774737293505159, 0.008624183479813332, 0.011248934973669564, 0.20773033251376463, 0.014998579964892752, 0.001874822495611594, 0.8910195996802849, 0.10202514500155933, 0.0016226617838377214, 0.029207912109078984, 0.29370178287462756, 0.2596258854140354, 0.3618535777958119, 0.053547838866644805, 0.970238848542219, 0.7652206934601208, 0.12926025227366905, 0.10444228383712459, 0.9928146120211138, 0.026512731998823005, 0.38609165973286, 0.07051650246909175, 0.14563590979909025, 0.0003682323888725417, 0.3225715726523466, 0.0005523485833088126, 0.03608677410950909, 0.00018411619443627086, 0.011783436443921335, 0.9887525684436013, 0.9826422423206521, 0.08114176744867707, 0.2328238653929377, 0.5092767213236064, 0.01712539815499717, 0.006116213626784704, 0.020387378755949013, 0.04770646628892069, 0.023649359356900854, 0.061162136267847035, 0.00040774757511898024, 0.00040774757511898024, 0.9824300198349838, 0.999090836808853, 0.9963837153553086, 0.9917404827089226, 0.9906580252627882, 0.15751822846625377, 0.8422849716598292, 0.02924201087025731, 0.9649863587184913, 0.16634069887598457, 0.4059984446450783, 0.31742467123085977, 0.015468625500569266, 0.0033903836713576473, 0.006145070404335736, 0.0851833897428609, 0.00021189897945985295, 0.9835856831538654, 0.013572260230143449, 0.013572260230143449, 0.9636304763401848, 0.9567665735282436, 0.03862722191263095, 0.7693718757642166, 0.038205110269113496, 0.06982313256079363, 0.05401412141495356, 0.06587087977433362, 0.012836456182074683, 0.9829057876560043, 0.0036675589091641953, 0.20318711116517665, 0.026624518014747283, 0.10733884631208641, 0.017656259315042937, 0.023261421002358153, 0.10621781397462338, 0.01597471080884837, 0.04315974499232718, 0.0019618065905603263, 0.03587303479881739, 0.31136673173036034, 0.01849703356814022, 0.03699406713628044, 0.04624258392035054, 0.005605161687315218, 0.18792122775909273, 0.809506827269938, 0.06737498199939573, 0.007874997896033268, 0.0008749997662259187, 0.16362495628424678, 0.75249979895429, 0.006999998129807349, 0.03258867037156985, 0.20842424347531488, 0.07986014827318766, 0.1783423939015581, 0.02900749780326547, 0.042257836305991676, 0.047629595158448244, 0.0014324690273217516, 0.15900406203271444, 0.004297407081965255, 0.011817869475404452, 0.05407570578139612, 0.01575715930053927, 0.0594474646338527, 0.07592085844805284, 0.04927863541822143, 0.16754736042195287, 0.16650991546577978, 0.18259031228646258, 0.0031123348685192483, 0.4061597003417619, 0.0015561674342596241, 0.016599119298769324, 0.006743392215125038, 0.9797528355170396, 0.9855888395346307, 0.030895882823492305, 0.7646730998814345, 0.003861985352936538, 0.12165253861750094, 0.07723970705873076, 0.020307171041875238, 0.14911265593605533, 0.017986351494232354, 0.020887375928785958, 0.16593859765646624, 0.5610581256426673, 0.04757680072667913, 0.01566553194658947, 0.0030763301672134154, 0.8170732924118831, 0.17227448936395126, 0.006767926367869514, 0.001230532066885366, 0.8708390357700454, 0.05363863626119845, 0.07414752659636256, 0.9789701830340494, 0.012186350826149992, 0.008124233884099994, 0.9854858703193619, 0.02384124669643923, 0.05801370029466879, 0.000794708223214641, 0.6945749870895962, 0.17483580910722102, 0.001589416446429282, 0.009536498678575691, 0.019867705580366022, 0.01668887268750746, 0.9899311131264367, 0.8552560148313352, 0.14151718231022092, 0.052075364305439305, 0.4262592733875694, 0.15864018265233165, 0.04034978558765827, 0.0010346098868630326, 0.00137947984915071, 0.24968585269627852, 0.060352243400343564, 0.0003448699622876775, 0.008966619019479614, 0.0003448699622876775, 0.003284663669878013, 0.08375892358188933, 0.6815677114996876, 0.2299264568914609, 0.09824958929336053, 0.5459259787691946, 0.1853927032752977, 0.026911844023833537, 0.0679203682506275, 0.0021358606368121857, 0.07091057314216456, 0.0025630327641746227, 0.9853403212091987, 0.8168066419797483, 0.011837777419996351, 0.17066129113828074, 0.9836785141754829, 0.9979347135356025, 0.9993557439502574, 0.8248784037786607, 0.16960116713206108, 0.11170871950361372, 0.055672423726556675, 0.0014554882020014817, 0.23578908872424004, 0.04148141375704223, 0.00036387205050037043, 0.2423387856332467, 0.040389797605541115, 0.060038888332561116, 0.004366464606004445, 0.00982454536351, 0.10152030208960335, 0.09497060518059668, 0.9917497078536182, 0.9924835383163438, 0.17330856393650879, 0.02736451009523823, 0.7966112938836017, 0.9912267278371796, 0.9634921905655761, 0.13349929908283473, 0.752450594830523, 0.10315854929128138, 0.9814051738241393, 0.024218589467582333, 0.03386960632308507, 0.34015282049205864, 0.07010644319563307, 0.000182094657650995, 0.108710510617644, 0.12291389391442162, 0.0005462839729529849, 0.24928758632421213, 0.0009104732882549749, 0.012382436720267658, 0.015842235215636564, 0.020940885629864424, 0.000182094657650995, 0.9853729011856044, 0.0017083362808239248, 0.11189602639396708, 0.0008541681404119624, 0.43989659231216066, 0.0025625044212358875, 0.03245838933565457, 0.41000070739774197, 0.9892053966121312, 0.9939184791239187, 0.11212248747521698, 0.002288214030106469, 0.7482459878448154, 0.13500462777628167, 0.9830945177406258, 0.04270588977416581, 0.11000001911527559, 0.09317648677999814, 0.06017648104541547, 0.06729412934110977, 0.006470589359722093, 0.07311765976485965, 0.023294121694999535, 0.00905882510361093, 0.0692353061490264, 0.03947059509430477, 0.19023532717582953, 0.21676474355069011, 0.08118481103635584, 0.5563547344550268, 0.03223514555855306, 0.031041251278606647, 0.014923678499330118, 0.0029847356998660237, 0.13968563075372992, 0.1384917364737835, 0.0005969471399732047, 0.0017908414199196143, 0.9903362723347333, 0.15655138703412366, 0.03049531636600897, 0.0169564474621343, 0.2464599921821846, 0.013801759562202337, 0.532879364430174, 0.0005257813166553271, 0.00013144532916383177, 0.0014458986208021496, 0.0003943359874914953, 0.00013144532916383177, 0.00013144532916383177, 0.9987788886567482, 0.9941559424252749, 0.19115332185410777, 0.006740923188809846, 0.8019291122116284, 0.9826738605642708, 0.9879392118600823, 0.12302873034701209, 0.014912573375395404, 0.04100957678233736, 0.044737720126186216, 0.7605412421451656, 0.014912573375395404, 0.004006225489239565, 0.02256137512361229, 0.1303077553868448, 0.0021085397311787183, 0.3042622832090891, 0.10205332298904997, 0.14085045404273838, 0.12714494579007674, 0.0065364731666540275, 0.05250263930635009, 0.01918771155372634, 0.0065364731666540275, 0.048074705870874784, 0.03078468007520929, 0.002741101650532334, 0.9648522968207124, 0.2872895765705551, 0.10903158628882512, 0.002884433499704368, 0.015864384248374025, 0.15777851243382895, 0.0383629655460681, 0.23536977357587643, 0.030574995096866304, 0.02249858129769407, 0.00028844334997043684, 0.07961036459184057, 0.001442216749852184, 0.018748817748078392, 0.011314341845459248, 0.05274714296967621, 0.21003243031429986, 0.02804681922254687, 0.2935354602723371, 0.13832181298392432, 0.04828514900245285, 0.054500069171085394, 0.017529262014091794, 0.04286701347082448, 0.015776335812682615, 0.045576081236638664, 0.006852347878235882, 0.03298688397197274, 0.0015935692740083449, 0.9296421297714014, 0.06869276820970946, 0.9811692240892326, 0.025364996270494558, 0.0032880550721011465, 0.40583994032791293, 0.13997720164087737, 0.04039610517152837, 0.05495749191940488, 0.0046972215315730665, 0.06576110144202293, 0.014561386747876506, 0.00046972215315730666, 0.010803609522618053, 0.05026027038783181, 0.1766155295871473, 0.006576110144202293, 0.048479694082930104, 0.945354034617137, 0.9941219334315381, 0.9794416091131849, 0.017488551760973643, 0.10076736967037195, 0.18904291665433415, 0.12991495593866134, 0.000832788179093983, 0.03164595080557135, 0.5296532819037731, 0.000832788179093983, 0.004448625173181924, 0.270476410529461, 0.08496874080777474, 0.002669175103909154, 0.019573950762000466, 0.617469174037651, 0.9849767708004502, 0.9978746684534759, 0.4329589414977656, 0.11029752502034332, 0.09218897613640636, 0.3638172093954608, 0.9884915614733512, 0.9870448479676659, 0.00039743779866818107, 0.012320571758713613, 0.47811767179782183, 0.0902183802976771, 0.058423356404222616, 0.034974526282799935, 0.16255205965528605, 0.07074392816293623, 0.035371964081468116, 0.001987188993340905, 0.05484641621620899, 0.9439246751516926, 0.052706453942480296, 0.992028049727098, 0.9921729767905482, 0.8193022480827588, 0.010924029974436783, 0.050978806547371656, 0.08981980201203578, 0.027916965490227336, 0.9656154949529497, 0.9782081260836977, 0.9930689323144501, 0.8149788492544928, 0.171784757440898, 0.011984983077271954, 0.12418961729056775, 0.19254711922703713, 0.24960721365783853, 0.04699066600183645, 0.08800516716371808, 0.09258962238340944, 0.091607239122047, 0.05092019904728618, 0.012607251854151241, 0.0200569915861497, 0.004093263589010143, 0.007940931362679678, 0.0031108803276477088, 0.014408287833315703, 0.001227979076703043, 0.9835727902241269, 0.9739581364742557, 0.03002968596424779, 0.03879611602834497, 0.37676997296758097, 0.03543875983358435, 0.059686332351299956, 0.02350149336332436, 0.19584577802770298, 0.14231459870013083, 0.03431964110199747, 0.03133532448443248, 0.002611277040369373, 0.006155153023727808, 0.004103435349151872, 0.018838498648379047, 0.12484617625061332, 0.05493231755026986, 0.8139970691539988, 0.1101868852671258, 0.018938370905287247, 0.5147793546073534, 0.3546640369535612, 0.004571733305598427, 0.0657186662679774, 0.012572266590395675, 0.15829626570634556, 0.17429733227594005, 0.11257893265036127, 0.07200479956317524, 0.010857866600796264, 0.016572533232794298, 0.0011429333263996068, 0.36002399781587613, 0.010286399937596462, 0.0011429333263996068, 0.024146721084923932, 0.048293442169847864, 0.10061133785384971, 0.11536766740574766, 0.68281561290146, 0.029512659103795916, 0.9842793197134596, 0.027186655197718245, 0.09144602202868864, 0.003707271163325215, 0.07538118032094604, 0.03089392636104346, 0.769876644917203, 0.0018007504205723585, 0.12485202915968352, 0.5312213740688457, 0.001000416900317977, 0.0006002501401907862, 0.04842017797539008, 0.005602334641780671, 0.07603168442416625, 0.10144227369224286, 0.021809088426931897, 0.010204252383243365, 0.00020008338006359538, 0.07443101738365748, 0.0022009171806995492, 0.006762753807116199, 0.032203589557696186, 0.21898440899233407, 0.10369555837578172, 0.0006440717911539237, 0.0016101794778848094, 0.17518752719386727, 0.35584966461254286, 0.007406825598270123, 0.00032203589557696185, 0.08147508158097136, 0.016101794778848093, 0.9889714800611483, 0.35937530648584287, 0.6396489830114866, 0.7920601382005817, 0.1345417221053043, 0.02170027775892005, 0.04991063884551611, 0.28120348766958336, 0.09950277256000642, 0.00865241500521795, 0.0346096600208718, 0.5104924853078591, 0.06273000878783014, 0.9779968838323957, 0.9734774724946654, 0.9845035856676227, 0.1909789511425532, 0.09150106681870503, 0.29409674248331136, 0.07031990577349485, 0.028809476814691724, 0.04170404103417068, 0.08642843044407517, 0.10544113624516877, 0.06063930200511726, 0.002439512149631154, 0.011306945201465031, 0.007705760599628565, 0.004685412223894756, 0.0005421138110291453, 0.003330127696321893, 0.010559567520697274, 0.060080297962587945, 0.5255751641163602, 0.03874268911042034, 0.03262542240877503, 0.06423130036727584, 0.03728619703860003, 0.06109984241286216, 0.11695631336717119, 0.013545376267928918, 0.0008738952430921883, 0.024250592995808225, 0.004587950026233988, 0.00422382700827891, 0.005389020665735161, 0.9920133922101545, 0.1050355119717717, 0.11160263173307809, 0.04957983398740668, 0.029763262076096187, 0.09105637984828911, 0.02991687891261797, 0.39648505506273163, 0.08057203075567716, 0.04869653717740641, 0.024386672797833648, 0.01428636579652617, 0.00998509437391614, 0.0013057431104351875, 0.006797545016089064, 0.000499254718695807, 0.09827464903781086, 0.8995910181153456, 0.1102505249812823, 0.22278840525263266, 0.0494068742654709, 0.1363263752880586, 0.0013724131740408584, 0.10155857487902352, 0.01601148703047668, 0.04208733733725299, 0.30650560886912503, 0.0018298842320544778, 0.011436776450340486, 0.00045747105801361945, 0.994625300928088, 0.9781716114525365, 0.9946200308718249, 0.13787300761675228, 0.005302807985259703, 0.7901183898036959, 0.061866093161363205, 0.0017676026617532345, 0.9917037911174673, 0.5037770171618097, 0.05926325479188294, 7.870286160940629e-05, 0.0987720913198049, 0.28765895918238, 0.005194388866220816, 0.03580980203227987, 0.008657314777034693, 7.870286160940629e-05, 0.0006296228928752503, 0.9777120252193514, 0.8623737755123795, 0.12646926782221932, 0.010997327636714722, 0.17393364583942258, 0.8010982342027252, 0.021741705729927823, 0.0016724389023021402, 0.031955112088916264, 0.7115338291798688, 0.1256901075497373, 0.0021303408059277513, 0.06391022417783253, 0.05325852014819378, 0.006391022417783253, 0.0021303408059277513, 0.05842088610729331, 0.004493914315945639, 0.9302402634007474, 0.9707706471299893, 0.9960339745545315, 0.25043142928524514, 0.08014060758949927, 0.22237902885614436, 0.011157204716119628, 0.07586899206961346, 0.004399126430927168, 0.16652924982002554, 0.15250304960547514, 0.018170304823394823, 0.014599999314236542, 0.003060261864992812, 6.375545552068358e-05, 0.0005737990996861523, 0.00019126636656205075, 0.9938033427487343, 0.07870636748351822, 0.007799730110979283, 0.16166713320938877, 0.017726659343134735, 0.0007090663737253895, 0.7197023693312703, 0.004963464616077726, 0.009217862858430062, 0.9945090023216822, 0.10227362220420227, 0.12813257781833295, 0.044163609588178256, 0.011912552586284923, 0.011040902397044564, 0.013655852964765644, 0.12580817731369198, 0.30653031654952667, 0.07990126734703303, 0.06101551324682522, 0.08948941942867698, 0.023825105172569847, 0.0014527503154006004, 0.0011622002523204804, 0.9935358155345672, 0.9898767589520596, 0.975168205893183, 0.9831107860232681, 0.9846736140794624, 0.9869659933311952, 0.9739940888100328, 0.9853966848091765, 0.21361854587363321, 0.0035603090978938872, 0.09612834564313495, 0.21361854587363321, 0.06408556376208997, 0.040745759675896706, 0.008702977794851723, 0.014241236391575549, 0.07714003045436756, 0.11195194163377445, 0.12817112752417995, 0.0035603090978938872, 0.024526573785491224, 0.08060467636930359, 0.001934512232863286, 0.19022703623155646, 0.006125955404067072, 0.00032241870547721434, 0.044816200061332793, 0.2995269773883321, 0.009994979869793644, 0.32532047382650925, 0.029984939609380933, 0.008060467636930359, 0.0029017683492949292, 0.017932692536286335, 0.4055233880364751, 0.5563210298188829, 0.016710008954266813, 0.002037805970032538, 0.0008151223880130152, 0.9984348549945754, 0.9958895891225714, 0.9902016700164809, 0.854425542805686, 0.031499559181776444, 0.11024845713621755, 0.9836734252784505, 0.013448925560739301, 0.05715793363314203, 0.058839049328234444, 0.011767809865646888, 0.6102449973185458, 0.24712400717858465, 0.124761914574878, 0.8264229221439918, 0.04890667051335217, 0.9831522984482111, 0.9819439069601311, 0.9892212315325127, 0.012297426388399021, 0.04743293035525337, 0.08432520952045043, 0.7431159088989694, 0.07554133352873685, 0.035135503966854345, 0.4127335431977619, 0.008577591973547618, 0.05852945111361905, 0.07013442848959524, 0.34310367894190474, 0.023966801102559523, 0.00529792445425, 0.0015136927012142857, 0.038599163880964286, 0.019678005115785713, 0.0017659748180833333, 0.014884644895273809, 0.0015136927012142857, 0.9901969781408777, 0.9965837309270427, 0.024811597356449156, 0.17026401539216007, 0.2004242205619755, 0.01069721562673257, 0.05363465057292303, 0.06396043510150516, 0.005868611350776896, 0.2559903128452808, 0.0023771590281627935, 0.186384125051889, 0.006240042448927332, 0.001485724392601746, 0.002228586588902619, 0.015525819902688243, 0.0002228586588902619, 0.9829803033130504, 0.2411146187283879, 0.0001552573204947765, 0.009004924588697037, 0.10293560348803682, 0.029498890894007535, 0.0035709183713798593, 0.0001552573204947765, 0.5955670814179627, 0.016146761331456757, 0.0020183451664320946, 0.344460290332455, 0.14493329197007068, 0.49914245844401023, 0.0006499250760989717, 0.010398801217583548, 0.9853845956992302, 0.25230800664034164, 0.003276727358965476, 0.7405403831261975, 0.013132781428061492, 0.06694515410889883, 0.3602439393356055, 0.15631213016814655, 0.058617048813054955, 0.05594778429515628, 0.08466907050774605, 0.06513005423672773, 0.03235148595693197, 0.03587491512055822, 0.0008541646457275768, 0.03779678557344527, 0.002242182195034889, 0.025411398210395408, 0.004377593809353831, 0.05213204546527174, 0.13527935848583172, 0.6823358862163414, 0.004619295167808888, 0.05543154201370666, 0.06928942751713332, 0.9856015809374101, 0.14911950524589318, 0.6008003254834537, 0.24853250874315533, 0.9925783991764229, 0.10123866762227468, 0.14342144579822247, 0.22023850500284317, 0.5243985371136246, 0.009768643367061592, 0.0004440292439573451, 0.9906824346408731, 0.5208982342527314, 0.03767799162768401, 0.06499453555775492, 0.36783139326526515, 0.008006573220882853, 0.9916075811108903, 0.9858195915237129, 0.9700797801512098, 0.06898183666025155, 0.1825292585168168, 0.23096667646954788, 0.11876254352847432, 0.04077276943492532, 0.06005291622198303, 0.06447786794360283, 0.03800717460891294, 0.04195802436035919, 0.04511870416151619, 0.016593568956074257, 0.06906085365528047, 0.017067670926247808, 0.002449526845896676, 0.0030816628061280764, 0.07473921896953825, 0.9232491755060608, 0.986522427432809, 0.9662904979114494, 0.973909011344457, 0.04426064318227986, 0.29608844059869976, 0.24877533926591786, 0.09157374451506178, 0.3174556476522142, 0.7909553878899478, 0.0035789836556106235, 0.010021154235709746, 0.0035789836556106235, 0.15568578901906213, 0.0007157967311221247, 0.03507403982498411, 0.9860744511651769, 0.9780318558110764, 0.00019925184098761387, 0.305453072234012, 0.008169325480492168, 0.6860240885203545, 0.02567777350139372, 0.3197195944502803, 0.036324655197093554, 0.028182922135676032, 0.0003131435792852892, 0.009081163799273389, 0.044779531837796364, 0.019101758336402645, 0.40677350949159075, 0.0003131435792852892, 0.027556634977105452, 0.0817304741934605, 0.034345991034889875, 0.10940940332563469, 0.007118082199984423, 0.024938176099246125, 0.21020742049324628, 0.030712284736995728, 0.4057306853991121, 0.021852014585966164, 0.0018417415482477179, 0.0023395095342606145, 0.048631932233460004, 0.0005475447846141864, 0.10224154432704897, 0.09206835106895005, 0.0719942287632032, 0.10929244366462174, 0.35749285711160284, 0.15848643474722357, 0.017471921266112998, 0.03618298588443259, 0.03073075513472357, 0.002478286704413191, 0.000867400346544617, 0.0330851275039161, 0.03122641247560621, 0.057867994548048016, 0.0006195716761032978, 0.0003943344553118818, 0.41148800411794867, 0.012815869797636159, 0.02740624464417579, 0.0001971672276559409, 0.09956944996625017, 0.05757283047553475, 0.004534846236086641, 0.05224931532882434, 0.006112184057334168, 0.2567117304080351, 0.035687268205725306, 0.035095766522757484, 0.14084253411553296, 0.7157100203013819, 0.14227970283099758, 0.06227204959054841, 0.6104702566417697, 0.09902276738169175, 0.11229385991738239, 0.006125119631857221, 0.053084370142762585, 0.056146929958691194, 0.006838341881581648, 0.9368528377766858, 0.05470673505265319, 0.0041504285397817265, 0.00515838975658586, 0.0024902571238690357, 0.01031677951317172, 0.7978902408548956, 0.049390099623402545, 0.00924952646008499, 0.004743346902607687, 5.929183628259609e-05, 0.05383698734459725, 0.02288664880508209, 0.0016601714159126906, 0.03172113241118891, 0.005929183628259609, 0.0004743346902607687, 0.023629058109993127, 0.19240804460994404, 0.16666924916870152, 0.18228130541994697, 0.09367233750747275, 0.03459969223248994, 0.005063369594998527, 0.056540960477483554, 0.029114375171241533, 0.03164605996874079, 0.13628903159871036, 0.008017001858747668, 0.03924111436123859, 0.0008438949324997546, 0.9682668333581632, 0.023267759839763546, 0.9705979818872793, 0.9727476779979521, 0.009825734121191436, 0.14071041467370976, 0.8516682993408748], \"Term\": [\"ability\", \"ability\", \"ability\", \"ability\", \"ability\", \"ability\", \"ability\", \"abstract\", \"abuse\", \"accident\", \"accounting\", \"accuse\", \"acknowledge\", \"active\", \"active\", \"active\", \"active\", \"active\", \"active\", \"active\", \"activity\", \"activity\", \"activity\", \"activity\", \"activity\", \"activity\", \"activity\", \"activity\", \"activity\", \"actually\", \"actually\", \"actually\", \"actually\", \"actually\", \"actually\", \"actually\", \"actually\", \"actually\", \"actually\", \"actually\", \"actually\", \"adventerous\", \"adventure\", \"adventure\", \"adventure\", \"adventure\", \"adventure\", \"adventure\", \"adventure\", \"adventure\", \"adventure\", \"adventure\", \"adventure\", \"adventure\", \"age\", \"age\", \"age\", \"age\", \"age\", \"age\", \"age\", \"age\", \"age\", \"age\", \"age\", \"age\", \"age\", \"ago\", \"ago\", \"album\", \"alot\", \"alot\", \"alot\", \"also\", \"also\", \"also\", \"also\", \"also\", \"also\", \"also\", \"also\", \"also\", \"also\", \"also\", \"also\", \"also\", \"also\", \"also\", \"always\", \"always\", \"always\", \"always\", \"always\", \"always\", \"always\", \"always\", \"always\", \"always\", \"always\", \"always\", \"always\", \"always\", \"ambitious\", \"ambitious\", \"ambitious\", \"ambitious\", \"ambitious\", \"ambitious\", \"ambitious\", \"ambitious\", \"ambitious\", \"angel\", \"angle\", \"animal\", \"animal\", \"animal\", \"animal\", \"animal\", \"animal\", \"animal\", \"animal\", \"animal\", \"animal\", \"animal\", \"animal\", \"animate\", \"anime\", \"anime\", \"anime\", \"annoying\", \"answer\", \"answer\", \"answer\", \"answer\", \"answering_question\", \"anthropology\", \"apparent\", \"appear\", \"appear\", \"appear\", \"appear\", \"application\", \"appreciate\", \"appreciate\", \"appreciate\", \"appreciate\", \"appreciate\", \"appreciate\", \"appreciate\", \"appreciate\", \"appreciate\", \"appreciate\", \"appreciate\", \"approachable\", \"architect\", \"architecture\", \"architecture\", \"architecture\", \"army\", \"arrive\", \"arrive\", \"art\", \"art\", \"art\", \"art\", \"art\", \"art\", \"art\", \"art\", \"art_gallerie\", \"artist\", \"artist\", \"artist\", \"artist\", \"artsy\", \"artsy\", \"artsy\", \"asian\", \"asian\", \"asian\", \"ask\", \"ask\", \"ask\", \"ask\", \"ask\", \"ask\", \"ask\", \"ask\", \"ask\", \"ask\", \"ask\", \"asshole\", \"assumption\", \"astrology\", \"astronomy\", \"attract\", \"attract\", \"attract\", \"attract\", \"attract\", \"attract\", \"attract\", \"attribute\", \"audio\", \"aunt\", \"authentic\", \"authentic\", \"authenticity\", \"authenticity\", \"average\", \"average\", \"average\", \"average\", \"average\", \"average\", \"average\", \"average\", \"awareness\", \"awe\", \"awesomeness\", \"ba\", \"baby\", \"baby\", \"baby\", \"baby\", \"back\", \"back\", \"back\", \"back\", \"back\", \"back\", \"back\", \"back\", \"back\", \"back\", \"back\", \"back\", \"back\", \"back\", \"back\", \"backpack\", \"backpack\", \"backpack\", \"backpack\", \"backpack\", \"bad\", \"bad\", \"bad\", \"bad\", \"bad\", \"bad\", \"bad\", \"bad\", \"bad\", \"bagel\", \"balance\", \"balance\", \"balance\", \"balance\", \"balance\", \"balance\", \"band\", \"band\", \"band\", \"band\", \"bare\", \"baseball\", \"basketball\", \"bass\", \"bass\", \"bathroom\", \"bay\", \"bay\", \"bay\", \"bay_area\", \"bay_area\", \"bay_area\", \"bay_area\", \"bay_area\", \"bay_area\", \"bbq\", \"beach\", \"beach\", \"beach\", \"beach\", \"bear\", \"bear\", \"bear\", \"bear\", \"bear\", \"bear\", \"bear\", \"bear\", \"bear\", \"bear\", \"bear\", \"beauty\", \"beauty\", \"beauty\", \"beauty\", \"become\", \"become\", \"become\", \"become\", \"become\", \"become\", \"become\", \"become\", \"become\", \"become\", \"become\", \"become\", \"become\", \"bed\", \"bed\", \"bed\", \"bed\", \"bed\", \"bed\", \"bed\", \"bed\", \"beer\", \"beer\", \"beer\", \"beer\", \"beer\", \"behavior\", \"behavior\", \"behavior\", \"being\", \"believe\", \"believe\", \"believe\", \"believe\", \"believe\", \"believe\", \"believe\", \"believe\", \"believe\", \"believe\", \"believe\", \"bicycle\", \"bicycle\", \"bicycle\", \"big\", \"big\", \"big\", \"big\", \"big\", \"big\", \"big\", \"big\", \"big\", \"big\", \"big\", \"big\", \"big\", \"big\", \"big\", \"bike\", \"bike\", \"bike\", \"bike\", \"bike\", \"biking\", \"biking\", \"biking\", \"bilingual\", \"birth\", \"bisexual\", \"bit\", \"bit\", \"bit\", \"bit\", \"bit\", \"bit\", \"bit\", \"bit\", \"bit\", \"bit\", \"bit\", \"bit\", \"bit\", \"bit\", \"bitter\", \"black\", \"black\", \"black\", \"black\", \"black\", \"black\", \"black\", \"black\", \"blackberry\", \"blah\", \"blah_blah\", \"blah_blah\", \"blind\", \"bliss\", \"board_game\", \"board_game\", \"book\", \"book\", \"book\", \"book\", \"book\", \"book\", \"book\", \"book\", \"book\", \"book\", \"book\", \"book\", \"book\", \"book_store\", \"boy\", \"boy\", \"boy\", \"boy\", \"boy\", \"boy\", \"boy\", \"boy\", \"boy\", \"boy\", \"boy\", \"boy\", \"boyfriend\", \"boyfriend\", \"boyfriend\", \"brain\", \"brain\", \"brain\", \"brain\", \"brain\", \"brain\", \"brain\", \"breakfast\", \"breakfast\", \"bro\", \"brown_hair\", \"brush\", \"buck\", \"bucket_list\", \"burrito\", \"bus\", \"bus\", \"business\", \"business\", \"business\", \"business\", \"business\", \"business\", \"business\", \"business\", \"busy\", \"busy\", \"busy\", \"busy\", \"busy\", \"busy\", \"butch\", \"buy\", \"buy\", \"buy\", \"buy\", \"buy\", \"buy\", \"buy\", \"ca\", \"cake\", \"cake\", \"cal\", \"cal\", \"cali\", \"call\", \"call\", \"call\", \"call\", \"call\", \"call\", \"call\", \"call\", \"call\", \"call\", \"call\", \"call\", \"call\", \"call\", \"call\", \"camp\", \"camp\", \"camp\", \"camp\", \"camp\", \"campfire\", \"camping\", \"camping\", \"camping\", \"canoe\", \"capital\", \"car\", \"car\", \"car\", \"car\", \"car\", \"car\", \"car\", \"car\", \"car\", \"car\", \"card_game\", \"care\", \"care\", \"care\", \"care\", \"care\", \"care\", \"care\", \"care\", \"care\", \"care\", \"care\", \"care\", \"care\", \"caring\", \"caring\", \"caring\", \"caring\", \"casual\", \"casual\", \"casual\", \"casual\", \"casual\", \"casually\", \"cat\", \"cat\", \"cat\", \"cat\", \"cat\", \"cat\", \"cat\", \"cat\", \"cat\", \"categorize\", \"cerebral\", \"character\", \"character\", \"character\", \"character\", \"character\", \"character\", \"character\", \"character\", \"chat\", \"chat\", \"chat\", \"chat\", \"chat\", \"chat\", \"chat\", \"cheese\", \"cheese\", \"chemistry\", \"chemistry\", \"chemistry\", \"cherry\", \"chicken\", \"chicken\", \"child\", \"child\", \"child\", \"child\", \"child\", \"child\", \"child\", \"child\", \"child\", \"child\", \"child\", \"chill\", \"chill\", \"chill\", \"chill\", \"chivalrous\", \"choir\", \"city\", \"city\", \"city\", \"city\", \"city\", \"city\", \"city\", \"civilization\", \"classify\", \"clown\", \"coffee\", \"coffee\", \"coffee\", \"coffee\", \"coffee\", \"coffee\", \"coffee\", \"coffee\", \"collaborate\", \"colleague\", \"collector\", \"college\", \"college\", \"college\", \"college\", \"college\", \"college\", \"com\", \"com\", \"com\", \"com\", \"com\", \"com\", \"come\", \"come\", \"come\", \"come\", \"come\", \"come\", \"come\", \"come\", \"come\", \"come\", \"come\", \"come\", \"come\", \"come\", \"come\", \"comedy\", \"comedy\", \"comedy\", \"comedy\", \"comedy\", \"comedy\", \"comedy_club\", \"comic_book\", \"comic_strip\", \"community\", \"community\", \"community\", \"community\", \"community\", \"compassion\", \"compassion\", \"complicate\", \"compose\", \"concentration\", \"concert\", \"concert\", \"concert\", \"conclusion\", \"confident\", \"confident\", \"confident\", \"confident\", \"confident\", \"confident\", \"connect\", \"connect\", \"connect\", \"connect\", \"connect\", \"connected\", \"connection\", \"connection\", \"connection\", \"connection\", \"connection\", \"considerate\", \"considerate\", \"considerate\", \"consumer\", \"contradict\", \"contrast\", \"conversation\", \"conversation\", \"conversation\", \"conversation\", \"conversation\", \"conversation\", \"conversation\", \"conversation\", \"conversation\", \"conversation\", \"conversation\", \"conversation\", \"conversation\", \"cook\", \"cook\", \"cook\", \"cook\", \"cook\", \"cook\", \"cook\", \"cook\", \"cook\", \"cook\", \"cook\", \"cooking\", \"cooking\", \"cooking\", \"cooking\", \"cooking\", \"cooking\", \"cooking\", \"cool\", \"cool\", \"cool\", \"cool\", \"cool\", \"cool\", \"cool\", \"cool\", \"cool\", \"cool\", \"cool\", \"cool\", \"country\", \"country\", \"country\", \"country\", \"country\", \"country\", \"country\", \"country\", \"country\", \"country\", \"county\", \"couple\", \"couple\", \"couple\", \"couple\", \"couple\", \"couple\", \"couple\", \"couple\", \"couple\", \"couple\", \"couple\", \"cow\", \"crap\", \"crap\", \"crap\", \"crap\", \"crass\", \"create\", \"create\", \"create\", \"create\", \"create\", \"create\", \"create\", \"create\", \"create\", \"create\", \"create\", \"create\", \"creative\", \"creative\", \"creative\", \"creative\", \"creative\", \"creative\", \"creative\", \"creative\", \"creativity\", \"creativity\", \"creativity\", \"crisp\", \"cult\", \"cupcake\", \"cupid\", \"curiosity\", \"curiosity\", \"curious\", \"curious\", \"curious\", \"curious\", \"curious\", \"curious\", \"curious\", \"curious\", \"curious\", \"curious\", \"curious\", \"currently\", \"currently\", \"currently\", \"currently\", \"currently\", \"currently\", \"currently\", \"curvy\", \"cuss\", \"custom\", \"cycling\", \"cycling\", \"cycling\", \"cycling\", \"dance\", \"dance\", \"dance\", \"dance\", \"dance\", \"dance\", \"dance\", \"dance\", \"dance\", \"dance\", \"dance\", \"dance\", \"dance\", \"dance\", \"danger\", \"dark\", \"dark\", \"dark\", \"dark\", \"dark\", \"dark\", \"dark\", \"dart\", \"date\", \"date\", \"date\", \"date\", \"date\", \"date\", \"date\", \"date\", \"dating\", \"dating\", \"dating_site\", \"datum\", \"day\", \"day\", \"day\", \"day\", \"day\", \"day\", \"day\", \"day\", \"day\", \"day\", \"day\", \"day\", \"day\", \"day\", \"day\", \"debate\", \"debate\", \"debate\", \"debate\", \"debate\", \"debate\", \"debate\", \"debate\", \"deck\", \"deep\", \"deep\", \"deep\", \"deep\", \"deep\", \"deep\", \"deep\", \"deep\", \"deep\", \"deeply\", \"deeply\", \"deeply\", \"deeply\", \"deeply\", \"degree\", \"degree\", \"degree\", \"degree\", \"degree\", \"degree\", \"degree\", \"dependable\", \"depth\", \"depth\", \"descent\", \"describe\", \"describe\", \"describe\", \"describe\", \"describe\", \"describe\", \"describe\", \"describe\", \"describe\", \"describe\", \"design\", \"designer\", \"desk\", \"dictate\", \"die\", \"die\", \"die\", \"die\", \"die\", \"die\", \"die\", \"die\", \"difficulty\", \"digital\", \"digital\", \"digital\", \"digital\", \"dining\", \"dining\", \"dining\", \"dinner_partie\", \"dinner_partie\", \"diplomatic\", \"disagree\", \"disagree\", \"disagree\", \"discussion\", \"discussion\", \"discussion\", \"discussion\", \"discussion\", \"disney\", \"divorce\", \"divorce\", \"divorce\", \"dog\", \"dog\", \"dog\", \"dog\", \"dog\", \"dog\", \"dog\", \"dog\", \"dog\", \"dog\", \"dog\", \"dog\", \"dollar\", \"dolores_park\", \"dorky\", \"dot\", \"down\", \"downtown\", \"dramatic\", \"dream\", \"dream\", \"dream\", \"dream\", \"dream\", \"dream\", \"dream\", \"dream\", \"dream\", \"dream\", \"dream\", \"dress\", \"dress\", \"dress\", \"dress\", \"dress\", \"dress\", \"dress\", \"dress\", \"dress\", \"drink\", \"drink\", \"drink\", \"drink\", \"drink\", \"drink\", \"drink\", \"drink\", \"drink\", \"drink\", \"drink\", \"drive\", \"drive\", \"drive\", \"drive\", \"drive\", \"drive\", \"drive\", \"drive\", \"drive\", \"drive\", \"drive\", \"drive\", \"driving\", \"drum\", \"drum\", \"drum\", \"dry\", \"dry\", \"dry\", \"dry\", \"dry\", \"dry\", \"dry\", \"eachother\", \"earth\", \"earth\", \"earth\", \"earth\", \"earth\", \"earth\", \"earth\", \"earth\", \"earthy\", \"east\", \"east_coast\", \"east_coast\", \"east_coast\", \"east_coast\", \"easy\", \"easy\", \"easy\", \"easy\", \"easy\", \"easy\", \"easy\", \"easy\", \"easy\", \"easy\", \"eat\", \"eat\", \"eat\", \"eat\", \"eat\", \"eat\", \"eat\", \"eat\", \"eat\", \"eat\", \"eat_meat\", \"eating\", \"economic\", \"economic\", \"economic\", \"ect\", \"edgy\", \"embarrass\", \"empathy\", \"employ\", \"enemy\", \"enemy\", \"energize\", \"engaged\", \"enjoy\", \"enjoy\", \"enjoy\", \"enjoy\", \"enjoy\", \"enjoy\", \"enjoy\", \"enjoy\", \"enjoy\", \"enjoy\", \"enjoy\", \"enjoy\", \"enjoy\", \"enjoy\", \"enough\", \"enough\", \"enough\", \"enough\", \"enough\", \"enough\", \"enough\", \"enough\", \"enough\", \"enough\", \"enough\", \"enough\", \"enough\", \"enrich\", \"entertainment_industry\", \"entp\", \"essay\", \"even\", \"even\", \"even\", \"even\", \"even\", \"even\", \"even\", \"even\", \"even\", \"even\", \"even\", \"even\", \"even\", \"even\", \"even\", \"evolution\", \"exact\", \"exception\", \"exercise\", \"exercise\", \"exercise\", \"exercise\", \"exercise\", \"exercise\", \"exhaust\", \"exist\", \"exist\", \"exist\", \"exist\", \"exist\", \"experience\", \"experience\", \"experience\", \"experience\", \"experience\", \"experience\", \"experience\", \"experience\", \"experience\", \"experience\", \"experience\", \"explain\", \"explain\", \"explain\", \"explain\", \"explain\", \"explain\", \"exploration\", \"exploration\", \"exploration\", \"explore\", \"explore\", \"explore\", \"explore\", \"explore\", \"explore\", \"explore\", \"explore\", \"extent\", \"eye\", \"eye\", \"eye\", \"eye\", \"eye\", \"eye\", \"eye\", \"eye\", \"face\", \"face\", \"face\", \"face\", \"face\", \"face\", \"face\", \"face\", \"face\", \"face\", \"face\", \"fail\", \"fail\", \"fail\", \"failure\", \"failure\", \"fair_warne\", \"fairly\", \"fairly\", \"fairly\", \"fairly\", \"fairly\", \"fairly\", \"fairly\", \"fairly\", \"faithful\", \"family\", \"family\", \"family\", \"family\", \"family\", \"family\", \"family\", \"fan\", \"fan\", \"fan\", \"fan\", \"fan\", \"fan\", \"fan\", \"fan\", \"fan\", \"fan\", \"fate\", \"favorite\", \"favorite\", \"favorite\", \"favorite\", \"favorite\", \"favorite\", \"favorite\", \"favorite\", \"favorite\", \"favorite\", \"favorite\", \"favorite\", \"favorite\", \"feel\", \"feel\", \"feel\", \"feel\", \"feel\", \"feel\", \"feel\", \"feel\", \"feel\", \"feel\", \"feel\", \"feel\", \"feel\", \"feel\", \"female\", \"female\", \"female\", \"female\", \"femme\", \"festival\", \"festival\", \"festival\", \"festival\", \"fiercely\", \"fight\", \"fight\", \"fight\", \"fight\", \"fight\", \"fight\", \"fight\", \"fiji\", \"film\", \"film\", \"film\", \"film\", \"film\", \"film\", \"filmmaker\", \"financially\", \"financially\", \"financially_stable\", \"find\", \"find\", \"find\", \"find\", \"find\", \"find\", \"find\", \"find\", \"find\", \"find\", \"find\", \"find\", \"find\", \"find\", \"find\", \"fine_dine\", \"first\", \"first\", \"first\", \"first\", \"first\", \"first\", \"first\", \"first\", \"first\", \"first\", \"first\", \"first\", \"first\", \"first\", \"first\", \"first_impression\", \"fle\", \"flea_market\", \"flick\", \"fling\", \"flip_flop\", \"flute\", \"food\", \"food\", \"food\", \"food\", \"food\", \"food\", \"food\", \"food\", \"food\", \"food\", \"food\", \"foot\", \"foot\", \"foot\", \"foot\", \"foot\", \"foot\", \"foot\", \"foot\", \"foot\", \"foot\", \"football\", \"forgot\", \"frankly\", \"free\", \"free\", \"free\", \"free\", \"free\", \"free\", \"free\", \"free\", \"free\", \"free\", \"free\", \"free\", \"free\", \"freelance\", \"fresh\", \"fresh\", \"fresh\", \"fresh\", \"fresh_air\", \"friend\", \"friend\", \"friend\", \"friend\", \"friend\", \"friend\", \"friend\", \"friend\", \"friend\", \"friend\", \"friend\", \"friend\", \"friend\", \"friend\", \"friend\", \"friendly\", \"friendly\", \"friendly\", \"friendly\", \"friendly\", \"friendly\", \"friendly\", \"friendly\", \"friendly\", \"friendly\", \"friendly\", \"friendly\", \"friendship\", \"friendship\", \"friendship\", \"friendship\", \"friendship\", \"frisbee\", \"fuck\", \"fuck\", \"fuck\", \"fucking\", \"fucking\", \"full\", \"full\", \"full\", \"full\", \"full\", \"full\", \"full\", \"full\", \"full\", \"full\", \"full\", \"full\", \"full\", \"fullest\", \"fun\", \"fun\", \"fun\", \"fun\", \"fun\", \"fun\", \"fun\", \"fun\", \"fun\", \"fun\", \"fun\", \"fun\", \"fun\", \"fun\", \"functional\", \"fund\", \"funny\", \"funny\", \"funny\", \"funny\", \"funny\", \"funny\", \"funny\", \"game\", \"game\", \"game\", \"game\", \"game\", \"game\", \"game\", \"game\", \"game\", \"game\", \"gay\", \"gay\", \"geek\", \"geek\", \"geek\", \"geek\", \"geek\", \"geek\", \"geek\", \"geek\", \"geeky\", \"geeky\", \"geeky\", \"geeky\", \"genderqueer\", \"generous\", \"generous\", \"generous\", \"generous\", \"genre\", \"genre\", \"genre\", \"gentleman\", \"gentleman\", \"gentleman\", \"gentleman\", \"gentleman\", \"gentleman\", \"gentleman\", \"genuine\", \"genuine\", \"genuine\", \"genuine\", \"genuine\", \"genuine\", \"genuine\", \"german\", \"german\", \"get\", \"get\", \"get\", \"get\", \"get\", \"get\", \"get\", \"get\", \"get\", \"get\", \"get\", \"get\", \"get\", \"get\", \"get\", \"giant\", \"giant\", \"giant\", \"giant\", \"giant\", \"giants_niner\", \"giggle\", \"giggle\", \"girl\", \"girl\", \"girl\", \"girl\", \"girl\", \"girl\", \"girl\", \"girl\", \"girl\", \"girl\", \"girl\", \"girlfriend\", \"girlfriend\", \"girlfriend\", \"girlfriend\", \"give\", \"give\", \"give\", \"give\", \"give\", \"give\", \"give\", \"give\", \"give\", \"give\", \"give\", \"give\", \"give\", \"give\", \"glass\", \"glass\", \"glass\", \"glass\", \"glass\", \"go\", \"go\", \"go\", \"go\", \"go\", \"go\", \"go\", \"go\", \"go\", \"go\", \"go\", \"go\", \"go\", \"go\", \"go\", \"golfing\", \"good\", \"good\", \"good\", \"good\", \"good\", \"good\", \"good\", \"good\", \"good\", \"good\", \"good\", \"good\", \"good\", \"good\", \"good\", \"gossip\", \"graduate\", \"graduate\", \"graduate\", \"graduating\", \"grammar\", \"grammar\", \"grammar\", \"grandma\", \"graphic_design\", \"gratitude\", \"great\", \"great\", \"great\", \"great\", \"great\", \"great\", \"great\", \"great\", \"great\", \"great\", \"great\", \"great\", \"great\", \"great\", \"great\", \"greece\", \"group\", \"group\", \"group\", \"group\", \"group\", \"group\", \"group\", \"group\", \"group\", \"group\", \"group\", \"groupon\", \"grow\", \"grow\", \"grow\", \"grow\", \"grow\", \"grow\", \"grow\", \"grow\", \"grow\", \"grow\", \"grow\", \"grow\", \"grow\", \"growth\", \"guitar\", \"gut\", \"guy\", \"guy\", \"guy\", \"guy\", \"guy\", \"guy\", \"guy\", \"guy\", \"guy\", \"gym\", \"gym\", \"gym\", \"gym\", \"gym\", \"hacker\", \"haha\", \"hair\", \"hair\", \"hair\", \"hair\", \"hair\", \"hair\", \"half\", \"half\", \"half\", \"half\", \"half\", \"half\", \"half\", \"half\", \"half\", \"half\", \"half\", \"half\", \"hand\", \"hand\", \"hand\", \"hand\", \"hand\", \"hand\", \"hand\", \"hand\", \"hand\", \"hand\", \"hand\", \"hand\", \"hand\", \"hang\", \"hang\", \"hang\", \"hang\", \"hang\", \"hang\", \"hang\", \"hang\", \"hang\", \"hangout\", \"happy\", \"happy\", \"happy\", \"happy\", \"happy\", \"happy\", \"happy\", \"happy\", \"happy\", \"happy\", \"happy\", \"happy\", \"happy\", \"happy\", \"hard\", \"hard\", \"hard\", \"hard\", \"hard\", \"hard\", \"hard\", \"hard\", \"hard\", \"hard\", \"hard\", \"hardworke\", \"harm\", \"harmony\", \"hate\", \"hate\", \"hate\", \"hate\", \"hate\", \"hate\", \"healing\", \"heart\", \"heart\", \"heart\", \"heart\", \"heart\", \"heart\", \"heart\", \"heart\", \"heart\", \"heart\", \"heart\", \"heart\", \"hectic\", \"hedonist\", \"hero\", \"hero\", \"hi\", \"high\", \"high\", \"high\", \"high\", \"high\", \"high\", \"high\", \"high\", \"high\", \"high\", \"high\", \"high\", \"high\", \"high\", \"hike\", \"hike\", \"hike\", \"hike\", \"hike\", \"hike\", \"hiking\", \"hiking\", \"hiking\", \"hiking\", \"hilarious\", \"history\", \"history\", \"history\", \"history\", \"history\", \"history\", \"history\", \"history\", \"hmm\", \"hockey\", \"hold\", \"hold\", \"hold\", \"hold\", \"hold\", \"hold\", \"hold\", \"hold\", \"hold\", \"hold\", \"hold\", \"hold\", \"hold\", \"hometown\", \"hometown\", \"honest\", \"honest\", \"honest\", \"honest\", \"honest\", \"honest\", \"honest\", \"honest\", \"hopeful\", \"horse\", \"horse\", \"horse\", \"horse\", \"hot_spring\", \"hour\", \"hour\", \"hour\", \"hour\", \"hour\", \"hour\", \"hour\", \"hour\", \"hour\", \"hour\", \"hour\", \"hour\", \"hour\", \"house\", \"house\", \"house\", \"house\", \"house\", \"house\", \"house\", \"house\", \"house\", \"house\", \"house\", \"however\", \"however\", \"however\", \"however\", \"however\", \"however\", \"however\", \"however\", \"however\", \"however\", \"however\", \"however\", \"however\", \"however\", \"however\", \"huge\", \"huge\", \"huge\", \"huge\", \"huge\", \"huge\", \"huge\", \"huge\", \"huge\", \"huge\", \"huge\", \"huge\", \"huge\", \"human\", \"human\", \"human\", \"human\", \"human\", \"human\", \"human\", \"human_condition\", \"humor\", \"humor\", \"humor\", \"humor\", \"humor\", \"humor\", \"humor\", \"humor\", \"ice_cream\", \"ice_cream\", \"ice_cream\", \"idealistic\", \"ill\", \"ill\", \"impact\", \"impact\", \"imply\", \"important\", \"important\", \"important\", \"important\", \"important\", \"important\", \"important\", \"important\", \"important\", \"important\", \"important\", \"important\", \"important\", \"independent\", \"independent\", \"independent\", \"independent\", \"independent\", \"independent\", \"independent\", \"independent\", \"independent\", \"indoor_rock\", \"industrial\", \"infj\", \"informed\", \"initiate\", \"insanely\", \"insight\", \"insight\", \"insight\", \"insight\", \"inspire\", \"inspire\", \"inspire\", \"inspire\", \"inspire\", \"instance\", \"instrument\", \"instrument\", \"intellect\", \"intellectually_stimulate\", \"intelligent\", \"intelligent\", \"intelligent\", \"intelligent\", \"intelligent\", \"intelligent\", \"intelligent\", \"interactive\", \"interest\", \"interest\", \"interest\", \"interest\", \"interest\", \"interest\", \"interest\", \"interest\", \"interest\", \"interest\", \"interest\", \"interest\", \"interested\", \"interested\", \"interested\", \"interested\", \"interested\", \"interested\", \"interested\", \"interested\", \"interested\", \"interested\", \"internship\", \"interpret\", \"introspection\", \"intuitive\", \"intuitive\", \"irish\", \"irish\", \"irish\", \"ish\", \"italian\", \"italian\", \"italian\", \"italian\", \"italian\", \"itch\", \"job\", \"job\", \"job\", \"job\", \"job\", \"job\", \"job\", \"job\", \"job\", \"joke\", \"joke\", \"joke\", \"joke\", \"joke\", \"joke\", \"joke\", \"joke\", \"journalism\", \"joy\", \"joy\", \"joy\", \"joy\", \"joy\", \"joyful\", \"juggle\", \"junk\", \"justice\", \"kayak\", \"kayaking\", \"keep\", \"keep\", \"keep\", \"keep\", \"keep\", \"keep\", \"keep\", \"keep\", \"keep\", \"keep\", \"keep\", \"keep\", \"keep\", \"keep\", \"kid\", \"kid\", \"kid\", \"kid\", \"kid\", \"kid\", \"kid\", \"kid\", \"kid\", \"kid\", \"kid\", \"kid\", \"kid\", \"kid\", \"kid\", \"kind\", \"kind\", \"kind\", \"kind\", \"kind\", \"kind\", \"kind\", \"kind\", \"kind\", \"kind\", \"kind\", \"kind\", \"kind\", \"kind\", \"kind\", \"kinda\", \"kinda\", \"kinda\", \"kinda\", \"kinda\", \"kinky\", \"kinky\", \"knife\", \"know\", \"know\", \"know\", \"know\", \"know\", \"know\", \"know\", \"know\", \"know\", \"know\", \"know\", \"know\", \"know\", \"know\", \"know\", \"korean\", \"laid_back\", \"laid_back\", \"laid_back\", \"laid_back\", \"laid_back\", \"laid_back\", \"laid_back\", \"laidback\", \"language\", \"language\", \"language\", \"language\", \"language\", \"language\", \"language\", \"language\", \"language\", \"language\", \"language\", \"language\", \"last\", \"last\", \"last\", \"last\", \"last\", \"last\", \"last\", \"last\", \"last\", \"last\", \"last\", \"last\", \"last\", \"last\", \"last\", \"laugh\", \"laugh\", \"laugh\", \"laugh\", \"laugh\", \"laugh\", \"laugh\", \"laugh\", \"laugh\", \"league\", \"lean_toward\", \"learn\", \"learn\", \"learn\", \"learn\", \"learn\", \"learn\", \"learn\", \"learn\", \"learn\", \"learn\", \"learn\", \"learn\", \"learn\", \"learn\", \"learn\", \"leave\", \"leave\", \"leave\", \"leave\", \"leave\", \"leave\", \"leave\", \"leave\", \"leave\", \"leave\", \"leave\", \"legit\", \"leisure\", \"less\", \"less\", \"less\", \"less\", \"less\", \"less\", \"less\", \"less\", \"less\", \"less\", \"less\", \"less\", \"let\", \"let\", \"let\", \"let\", \"let\", \"let\", \"let\", \"let\", \"let\", \"let\", \"let\", \"let\", \"let\", \"let\", \"life\", \"life\", \"life\", \"life\", \"life\", \"life\", \"life\", \"life\", \"life\", \"life\", \"life\", \"life\", \"life\", \"life\", \"life\", \"light\", \"light\", \"light\", \"light\", \"light\", \"light\", \"light\", \"light\", \"light\", \"linguistic\", \"listen\", \"listen\", \"listen\", \"listen\", \"listen\", \"listen\", \"listen\", \"listen\", \"listen\", \"listen\", \"listen\", \"listen\", \"listen\", \"listen\", \"literary\", \"literature\", \"literature\", \"literature\", \"little\", \"little\", \"little\", \"little\", \"little\", \"little\", \"little\", \"little\", \"little\", \"little\", \"little\", \"little\", \"little\", \"little\", \"little\", \"live\", \"live\", \"live\", \"live\", \"live\", \"live\", \"live\", \"live\", \"live\", \"live\", \"live\", \"live\", \"live\", \"live\", \"lol\", \"lol\", \"lol\", \"lol\", \"long\", \"long\", \"long\", \"long\", \"long\", \"long\", \"long\", \"long\", \"long\", \"long\", \"long\", \"long\", \"long\", \"long\", \"long\", \"look\", \"look\", \"look\", \"look\", \"look\", \"look\", \"look\", \"look\", \"look\", \"look\", \"look\", \"look\", \"look\", \"look\", \"look\", \"lookin\", \"lookin\", \"los_angele\", \"lot\", \"lot\", \"lot\", \"lot\", \"lot\", \"lot\", \"lot\", \"lot\", \"lot\", \"lot\", \"lot\", \"lot\", \"lot\", \"lot\", \"lot\", \"loudly\", \"love\", \"love\", \"love\", \"love\", \"love\", \"love\", \"love\", \"love\", \"love\", \"love\", \"love\", \"love\", \"love\", \"love\", \"love\", \"low_key\", \"low_key\", \"loyal\", \"loyal\", \"loyal\", \"loyal\", \"loyal\", \"ltr\", \"lust\", \"m\", \"major\", \"major\", \"major\", \"major\", \"major\", \"major\", \"major\", \"major\", \"major\", \"major\", \"make\", \"make\", \"make\", \"make\", \"make\", \"make\", \"make\", \"make\", \"make\", \"make\", \"make\", \"make\", \"make\", \"make\", \"make\", \"makeup\", \"male\", \"man\", \"man\", \"man\", \"man\", \"man\", \"man\", \"man\", \"man\", \"man\", \"many\", \"many\", \"many\", \"many\", \"many\", \"many\", \"many\", \"many\", \"many\", \"many\", \"many\", \"many\", \"many\", \"many\", \"many\", \"marina\", \"marine\", \"marriage\", \"married\", \"married\", \"married\", \"marry\", \"marry\", \"marry\", \"marry\", \"martini\", \"masculine\", \"masculine\", \"match\", \"match\", \"match\", \"match\", \"match\", \"match\", \"match\", \"match\", \"match\", \"mean\", \"mean\", \"mean\", \"mean\", \"mean\", \"mean\", \"mean\", \"mean\", \"mean\", \"mean\", \"mean\", \"mean\", \"mean\", \"mean\", \"mean\", \"meaningful_conversation\", \"meat\", \"meat\", \"meat\", \"mediocre\", \"meditation\", \"medium\", \"medium\", \"meet\", \"meet\", \"meet\", \"meet\", \"meet\", \"meet\", \"meet\", \"meet\", \"meet\", \"meeting\", \"meeting\", \"meeting\", \"meeting\", \"meeting\", \"meeting\", \"meeting\", \"mellow\", \"mellow\", \"mellow\", \"mellow\", \"mentor\", \"message\", \"message\", \"message\", \"metal\", \"metal\", \"midwest\", \"midwest\", \"midwest\", \"migrate\", \"milk\", \"mindful\", \"miracle\", \"monkey\", \"monogamous\", \"monster\", \"month\", \"month\", \"month\", \"month\", \"month\", \"month\", \"month\", \"month\", \"morning\", \"morning\", \"morning\", \"morning\", \"morning\", \"morning\", \"mountain_bike\", \"move\", \"move\", \"move\", \"move\", \"move\", \"move\", \"move\", \"move\", \"move\", \"move\", \"move\", \"move\", \"moved\", \"movie\", \"movie\", \"movie\", \"movie\", \"movie\", \"movie\", \"movie\", \"movie\", \"movie\", \"movie\", \"movie\", \"much\", \"much\", \"much\", \"much\", \"much\", \"much\", \"much\", \"much\", \"much\", \"much\", \"much\", \"much\", \"much\", \"much\", \"much\", \"multitude\", \"muni\", \"muscular\", \"museum\", \"museum\", \"museum\", \"museum\", \"museum\", \"music\", \"music\", \"music\", \"music\", \"music\", \"music\", \"music\", \"music\", \"music\", \"music\", \"music\", \"music\", \"music\", \"musician\", \"musician\", \"musician\", \"musician\", \"mutual\", \"mutual\", \"mutual\", \"myers_brigg\", \"nail\", \"naked\", \"name\", \"name\", \"name\", \"name\", \"name\", \"name\", \"name\", \"name\", \"name\", \"name\", \"name\", \"name\", \"narcissistic\", \"nasty\", \"nature\", \"nature\", \"nature\", \"nature\", \"nature\", \"nature\", \"nature\", \"nature\", \"nature\", \"nature\", \"nature\", \"nature\", \"need\", \"need\", \"need\", \"need\", \"need\", \"need\", \"need\", \"need\", \"need\", \"need\", \"need\", \"need\", \"need\", \"need\", \"need\", \"nerd\", \"nerd\", \"nerd\", \"nerd\", \"nerd\", \"nerd\", \"nerd\", \"nerdy\", \"nerdy\", \"nerdy\", \"nerdy\", \"nerdy\", \"neurotic\", \"never\", \"never\", \"never\", \"never\", \"never\", \"never\", \"never\", \"never\", \"never\", \"never\", \"never\", \"never\", \"never\", \"never\", \"new\", \"new\", \"new\", \"new\", \"new\", \"new\", \"new\", \"new\", \"new\", \"new\", \"new\", \"new\", \"new\", \"newspaper\", \"nice\", \"nice\", \"nice\", \"nice\", \"nice\", \"nice\", \"nice\", \"nice\", \"nice\", \"nice\", \"night\", \"night\", \"night\", \"night\", \"night\", \"night\", \"night\", \"night\", \"night\", \"night\", \"night\", \"night\", \"non_monogamous\", \"nonfiction\", \"nonsense\", \"notion\", \"nut\", \"nuts\", \"object\", \"obnoxious\", \"observer\", \"obsessed\", \"often\", \"often\", \"often\", \"often\", \"often\", \"often\", \"often\", \"often\", \"often\", \"often\", \"often\", \"often\", \"often\", \"okcupid\", \"okcupid\", \"okcupid\", \"okcupid\", \"okcupid\", \"okcupid\", \"old\", \"old\", \"old\", \"old\", \"old\", \"old\", \"old\", \"old\", \"old\", \"old\", \"old\", \"old\", \"old\", \"old\", \"old\", \"one\", \"one\", \"one\", \"one\", \"one\", \"one\", \"one\", \"one\", \"one\", \"one\", \"one\", \"one\", \"one\", \"one\", \"online\", \"online\", \"online\", \"online\", \"online\", \"online\", \"online\", \"online\", \"online\", \"online_date\", \"online_date\", \"online_date\", \"online_date\", \"online_date\", \"open\", \"open\", \"open\", \"open\", \"open\", \"open\", \"open\", \"open\", \"open\", \"open\", \"open\", \"open\", \"open\", \"open\", \"open\", \"orient\", \"orient\", \"orient\", \"orient\", \"orient\", \"originally\", \"originally\", \"originally\", \"other\", \"other\", \"other\", \"other\", \"other\", \"other\", \"other\", \"other\", \"other\", \"other\", \"other\", \"out\", \"outdoor\", \"outdoor\", \"outdoor\", \"outdoor\", \"outdoor_activitie\", \"outdoor_activitie\", \"outdoors\", \"outdoors\", \"outdoors\", \"outdoors\", \"outspoken\", \"pacific_northw\", \"painful\", \"painting\", \"painting_drawe\", \"pair\", \"pair\", \"pancake\", \"panda\", \"park\", \"park\", \"park\", \"park\", \"park\", \"park\", \"partner\", \"partner\", \"partner\", \"partner\", \"passion\", \"passion\", \"passion\", \"passion\", \"passion\", \"passion\", \"passion\", \"passion\", \"passionate\", \"passionate\", \"passionate\", \"passionate\", \"passionate\", \"passionate\", \"passionate\", \"passionate\", \"passionate\", \"passionate\", \"passionate\", \"passive\", \"past\", \"past\", \"past\", \"past\", \"past\", \"past\", \"past\", \"past\", \"past\", \"past\", \"past\", \"peaceful\", \"pen\", \"pensive\", \"people\", \"people\", \"people\", \"people\", \"people\", \"people\", \"people\", \"people\", \"people\", \"people\", \"people\", \"people\", \"people\", \"people\", \"people\", \"perhaps\", \"perhaps\", \"perhaps\", \"perhaps\", \"perhaps\", \"perhaps\", \"perhaps\", \"perhaps\", \"perhaps\", \"perhaps\", \"perhaps\", \"permanent\", \"permit\", \"person\", \"person\", \"person\", \"person\", \"person\", \"person\", \"person\", \"person\", \"person\", \"person\", \"person\", \"person\", \"person\", \"person\", \"person\", \"personal_growth\", \"personality\", \"personality\", \"personality\", \"personality\", \"personality\", \"personality\", \"personality\", \"personality\", \"personality\", \"personality\", \"perspective\", \"perspective\", \"perspective\", \"perspective\", \"philly\", \"philosophy\", \"philosophy\", \"philosophy\", \"philosophy\", \"philosophy\", \"philosophy\", \"photograph\", \"photograph\", \"photographer\", \"photography\", \"photography\", \"photography\", \"photography\", \"photography\", \"photography\", \"physical_activity\", \"physics\", \"piano\", \"piano\", \"pickle\", \"pie\", \"ping_pong\", \"piss\", \"place\", \"place\", \"place\", \"place\", \"place\", \"place\", \"place\", \"place\", \"place\", \"place\", \"place\", \"place\", \"platonic\", \"play\", \"play\", \"play\", \"play\", \"play\", \"play\", \"play\", \"play\", \"play\", \"play\", \"play\", \"play\", \"play\", \"play\", \"play\", \"playful\", \"playful\", \"playful\", \"playful\", \"playful\", \"playfulness\", \"playing\", \"playing\", \"playing\", \"poem\", \"poet\", \"poetic\", \"poker\", \"poker\", \"politic\", \"politic\", \"politic\", \"politic\", \"politic\", \"politic\", \"politic\", \"politic\", \"politic\", \"politic\", \"politic\", \"political_science\", \"poly\", \"polyamorous\", \"polyamory\", \"poor\", \"poor\", \"poor\", \"popular\", \"popular\", \"popular\", \"portland\", \"portuguese\", \"positive\", \"positive\", \"positive\", \"positive\", \"positive\", \"positive\", \"positive\", \"positive\", \"positive\", \"positive\", \"positive_outlook\", \"possession\", \"possible\", \"possible\", \"possible\", \"possible\", \"possible\", \"possible\", \"possible\", \"possible\", \"possible\", \"possible\", \"pour\", \"practice\", \"practice\", \"practice\", \"practice\", \"practice\", \"practice\", \"practice\", \"practice\", \"prayer\", \"pretty\", \"pretty\", \"pretty\", \"pretty\", \"pretty\", \"pretty\", \"pretty\", \"pretty\", \"pretty\", \"pretty\", \"pretty\", \"pretty\", \"pretty\", \"price\", \"prize\", \"probably\", \"probably\", \"probably\", \"probably\", \"probably\", \"probably\", \"probably\", \"probably\", \"probably\", \"probably\", \"probably\", \"probably\", \"probably\", \"problem\", \"problem\", \"problem\", \"problem\", \"problem\", \"problem\", \"problem\", \"problem\", \"problem\", \"problem\", \"procrastinate\", \"production\", \"profile\", \"profile\", \"profile\", \"profile\", \"profile\", \"profile\", \"profile\", \"profile\", \"profile\", \"program\", \"program\", \"program\", \"program\", \"project\", \"project\", \"project\", \"promote\", \"proof\", \"ps\", \"psychic\", \"psychologist\", \"psychology\", \"psychology\", \"psychology\", \"psychology\", \"pun\", \"punk\", \"punk_rock\", \"queer\", \"queer\", \"quest\", \"question\", \"question\", \"question\", \"question\", \"question\", \"question\", \"question\", \"question\", \"quiet\", \"quiet\", \"quiet\", \"quiet\", \"quiet\", \"quiet\", \"quirky\", \"quirky\", \"quirky\", \"quirky\", \"quirky\", \"quirky\", \"quirky\", \"quite\", \"quite\", \"quite\", \"quite\", \"quite\", \"quite\", \"quite\", \"quite\", \"quite\", \"quite\", \"quite\", \"quite\", \"quite\", \"quite\", \"rabbit\", \"racing\", \"rage\", \"rage\", \"raider\", \"rain\", \"rain\", \"rain\", \"rain\", \"rain\", \"rain\", \"raise\", \"raise\", \"raise\", \"raise\", \"raise\", \"raise\", \"raise\", \"raise\", \"raise\", \"raise\", \"raise\", \"raise\", \"random_fact\", \"random_fact\", \"randomness\", \"rather\", \"rather\", \"rather\", \"rather\", \"rather\", \"rather\", \"rather\", \"rather\", \"rather\", \"rather\", \"rather\", \"rather\", \"rather\", \"rather\", \"rather\", \"rational\", \"rational\", \"re\", \"read\", \"read\", \"read\", \"read\", \"read\", \"read\", \"read\", \"read\", \"read\", \"read\", \"read\", \"read\", \"read\", \"read\", \"really\", \"really\", \"really\", \"really\", \"really\", \"really\", \"really\", \"really\", \"really\", \"really\", \"really\", \"really\", \"really\", \"really\", \"really\", \"recent_transplant\", \"recently\", \"recently\", \"recently\", \"recently\", \"recently\", \"recently\", \"recently\", \"recently\", \"recently\", \"recently\", \"recently\", \"recently\", \"recently\", \"recording\", \"reddit\", \"reflective\", \"reflective\", \"relationship\", \"relationship\", \"relationship\", \"relationship\", \"relocate\", \"relocate\", \"remember\", \"remember\", \"remember\", \"remember\", \"remember\", \"remember\", \"remember\", \"remember\", \"replace\", \"reply\", \"reply\", \"requirement\", \"requirement\", \"requirement\", \"reserve\", \"reserve\", \"reserve\", \"reserve\", \"respectful\", \"respectful\", \"responsible\", \"responsible\", \"responsible\", \"restaurant\", \"restaurant\", \"restaurant\", \"restaurant\", \"restaurant\", \"restless\", \"result\", \"result\", \"result\", \"result\", \"result\", \"result\", \"result\", \"result\", \"rewrite\", \"ride\", \"ride\", \"ride\", \"ride\", \"ride\", \"riding_motorcycle\", \"right\", \"right\", \"right\", \"right\", \"right\", \"right\", \"right\", \"right\", \"right\", \"right\", \"right\", \"right\", \"right\", \"right\", \"right\", \"roadtrip\", \"rock\", \"rock\", \"rock\", \"rock\", \"rock\", \"rock\", \"rock\", \"rock\", \"rugby\", \"run\", \"run\", \"run\", \"run\", \"run\", \"run\", \"run\", \"run\", \"run\", \"run\", \"run\", \"run\", \"run\", \"russian\", \"s\", \"s\", \"sad\", \"sad\", \"sad\", \"sad\", \"san_diego\", \"san_fran\", \"sand\", \"sand\", \"sandwich\", \"sandwich\", \"sandwich\", \"sarcasm\", \"sarcasm\", \"sarcasm\", \"sarcasm\", \"sarcasm\", \"sarcasm\", \"sarcasm\", \"sarcasm\", \"sarcasm\", \"sarcastic\", \"sarcastic\", \"sarcastic\", \"sarcastic\", \"sarcastic\", \"sarcastic\", \"savor\", \"say\", \"say\", \"say\", \"say\", \"say\", \"say\", \"say\", \"say\", \"say\", \"say\", \"say\", \"say\", \"say\", \"say\", \"say\", \"scar\", \"schedule\", \"schedule\", \"school\", \"school\", \"school\", \"school\", \"school\", \"school\", \"school\", \"school\", \"science\", \"science\", \"science\", \"science\", \"science\", \"science\", \"science\", \"science\", \"scientific\", \"scientist\", \"scientist\", \"scientist\", \"screen_name\", \"scuba_dive\", \"scuba_dive\", \"scuba_diving\", \"scuba_diving\", \"sculpture\", \"sea\", \"sea\", \"sea\", \"sea\", \"sea\", \"seafood\", \"seasonal\", \"secondary\", \"secure\", \"secure\", \"secure\", \"see\", \"see\", \"see\", \"see\", \"see\", \"see\", \"see\", \"see\", \"see\", \"see\", \"see\", \"see\", \"see\", \"see\", \"see\", \"seek\", \"seek\", \"seek\", \"seek\", \"seek\", \"seek\", \"seem\", \"seem\", \"seem\", \"seem\", \"seem\", \"seem\", \"seem\", \"seem\", \"seem\", \"seem\", \"seem\", \"seem\", \"seem\", \"self\", \"self\", \"self\", \"self\", \"self\", \"self\", \"self\", \"self\", \"self\", \"self\", \"self_sufficient\", \"self_sufficient\", \"self_summary\", \"self_summary\", \"self_summary\", \"self_summary\", \"self_summary\", \"self_summary\", \"sence\", \"send\", \"send\", \"send\", \"senior\", \"sense\", \"sense\", \"sense\", \"sense\", \"sense\", \"sense\", \"sense\", \"sense\", \"sense\", \"sense\", \"sensuality\", \"sentimental\", \"seriously\", \"seriously\", \"seriously\", \"seriously\", \"seriously\", \"seriously\", \"seriously\", \"seriously\", \"seriously\", \"seriously\", \"seriously\", \"sewing\", \"sex\", \"sexual\", \"sexuality\", \"sexually\", \"sf\", \"sf\", \"shadow\", \"shadow\", \"share\", \"share\", \"share\", \"share\", \"share\", \"share\", \"share\", \"share\", \"shave\", \"shine\", \"shine\", \"shine\", \"shirt\", \"shirt\", \"shit\", \"shit\", \"shit\", \"shit\", \"shit\", \"shoe\", \"shoe\", \"shoe\", \"show\", \"show\", \"show\", \"show\", \"show\", \"show\", \"show\", \"show\", \"show\", \"show\", \"show\", \"show\", \"show\", \"show\", \"show\", \"shower\", \"shower\", \"shy\", \"shy\", \"shy\", \"shy\", \"shy\", \"shy\", \"side\", \"side\", \"side\", \"side\", \"side\", \"side\", \"side\", \"side\", \"side\", \"side\", \"side\", \"side\", \"side\", \"side\", \"side\", \"silly\", \"silly\", \"silly\", \"silly\", \"silly\", \"silly\", \"silly\", \"silly\", \"silly\", \"silver\", \"simpson\", \"sincere\", \"sincere\", \"sincere\", \"sincere\", \"sincere\", \"single\", \"single\", \"single\", \"single\", \"single\", \"single\", \"single\", \"single\", \"site\", \"site\", \"site\", \"site\", \"site\", \"ski\", \"ski\", \"ski\", \"skiing\", \"skiing\", \"skiing\", \"sky_dive\", \"sleep\", \"sleep\", \"sleep\", \"sleep\", \"sleep\", \"sleep\", \"sleep\", \"sleep\", \"sleep\", \"slim\", \"small_town\", \"small_town\", \"smart\", \"smart\", \"smart\", \"smart\", \"smart\", \"smart\", \"smart\", \"smart\", \"smart\", \"smart\", \"smart\", \"smell\", \"smell\", \"smell\", \"smell\", \"smile\", \"smile\", \"smile\", \"smile\", \"smile\", \"smile\", \"smile\", \"smile\", \"snake\", \"snowboard\", \"snowboard\", \"snowboard\", \"snowshoe\", \"socal\", \"soccer\", \"sociable\", \"sociable\", \"social\", \"social\", \"social\", \"social\", \"social\", \"social\", \"social\", \"social\", \"social\", \"social\", \"social\", \"social\", \"social\", \"sock\", \"softball\", \"software\", \"software\", \"software\", \"software_engineer\", \"solitary\", \"solve\", \"solve\", \"solve\", \"soma\", \"sometimes\", \"sometimes\", \"sometimes\", \"sometimes\", \"sometimes\", \"sometimes\", \"sometimes\", \"sometimes\", \"sometimes\", \"sometimes\", \"sometimes\", \"sometimes\", \"sometimes\", \"sometimes\", \"sonoma\", \"soul\", \"soul\", \"soul\", \"soul\", \"soul\", \"soul\", \"soul\", \"soulmate\", \"southern_california\", \"spare\", \"spare\", \"spare\", \"spare\", \"sparkle\", \"speak\", \"speak\", \"speak\", \"speak\", \"speak\", \"speak\", \"speak\", \"speak\", \"speak\", \"speak\", \"speak\", \"speak\", \"speak\", \"special\", \"special\", \"special\", \"special\", \"special\", \"special\", \"special\", \"special\", \"special\", \"special\", \"spelling\", \"spend\", \"spend\", \"spend\", \"spend\", \"spend\", \"spend\", \"spend\", \"spend\", \"spend\", \"spend\", \"spend\", \"spend\", \"spiritual\", \"spirituality\", \"sport\", \"sport\", \"sport\", \"spunky\", \"squash\", \"standard\", \"standard\", \"standard\", \"standard\", \"standard\", \"standard\", \"start\", \"start\", \"start\", \"start\", \"start\", \"start\", \"start\", \"start\", \"start\", \"start\", \"start\", \"start\", \"start\", \"start\", \"start\", \"state_university\", \"stay\", \"stay\", \"stay\", \"stay\", \"stay\", \"stay\", \"stay\", \"stay\", \"stay\", \"stay\", \"stay\", \"stay\", \"stay\", \"still\", \"still\", \"still\", \"still\", \"still\", \"still\", \"still\", \"still\", \"still\", \"still\", \"still\", \"still\", \"still\", \"still\", \"still\", \"stint\", \"stint\", \"stoke\", \"story\", \"story\", \"story\", \"story\", \"story\", \"story\", \"story\", \"story\", \"story\", \"story\", \"story\", \"story\", \"story\", \"story\", \"straight_forward\", \"straight_forward\", \"stressful\", \"stroke\", \"student\", \"student\", \"student\", \"student\", \"student\", \"student\", \"student\", \"student\", \"study\", \"study\", \"study\", \"study\", \"study\", \"study\", \"stunning\", \"stupid\", \"summarize\", \"summarize\", \"summarize\", \"summarize\", \"superficial\", \"supply\", \"sure\", \"sure\", \"sure\", \"sure\", \"sure\", \"sure\", \"sure\", \"sure\", \"sure\", \"sure\", \"sure\", \"surfing\", \"surfing\", \"surgery\", \"sushi\", \"swimming\", \"swimming\", \"swimming\", \"swimming\", \"swimming\", \"sydney\", \"taco\", \"tad\", \"tahoe\", \"tahoe\", \"tahoe\", \"take\", \"take\", \"take\", \"take\", \"take\", \"take\", \"take\", \"take\", \"take\", \"take\", \"take\", \"take\", \"take\", \"take\", \"take\", \"taking_advantage\", \"tale\", \"talk\", \"talk\", \"talk\", \"talk\", \"talk\", \"talk\", \"talk\", \"talk\", \"talk\", \"talk\", \"talk\", \"talk\", \"talk\", \"talk\", \"talkative\", \"talkative\", \"talkative\", \"tea\", \"tea\", \"tea\", \"tea\", \"teach\", \"teach\", \"teach\", \"teach\", \"teach\", \"teach\", \"teach\", \"teach\", \"teach\", \"teach\", \"teach\", \"teach\", \"teach\", \"team\", \"team\", \"team\", \"team\", \"team\", \"team\", \"technically\", \"technology\", \"technology\", \"technology\", \"technology\", \"technology\", \"technology\", \"tell\", \"tell\", \"tell\", \"tell\", \"tell\", \"tell\", \"tell\", \"tell\", \"tell\", \"tell\", \"tell\", \"tell\", \"tell\", \"tell\", \"tend\", \"tend\", \"tend\", \"tend\", \"tend\", \"tend\", \"tend\", \"tend\", \"tend\", \"tend\", \"tend\", \"tend\", \"tender\", \"tennis\", \"tennis\", \"terrible\", \"terrible\", \"terrible\", \"terrible\", \"test\", \"test\", \"test\", \"test\", \"test\", \"test\", \"testing\", \"texting\", \"th_grade\", \"thing\", \"thing\", \"thing\", \"thing\", \"thing\", \"thing\", \"thing\", \"thing\", \"thing\", \"thing\", \"thing\", \"thing\", \"thing\", \"thing\", \"thing\", \"think\", \"think\", \"think\", \"think\", \"think\", \"think\", \"think\", \"think\", \"think\", \"think\", \"think\", \"think\", \"think\", \"think\", \"think\", \"tiger\", \"time\", \"time\", \"time\", \"time\", \"time\", \"time\", \"time\", \"time\", \"time\", \"time\", \"time\", \"time\", \"time\", \"time\", \"time\", \"tip\", \"tip\", \"together\", \"together\", \"together\", \"together\", \"together\", \"together\", \"together\", \"together\", \"together\", \"together\", \"together\", \"together\", \"tolerate\", \"tomatoe\", \"toy\", \"transplant\", \"transplant\", \"transplant\", \"transplant\", \"transplant\", \"trash\", \"travel\", \"travel\", \"travel\", \"travel\", \"travel\", \"travel\", \"travel\", \"travel\", \"travel\", \"travel\", \"traveling\", \"treat\", \"treat\", \"treat\", \"tree\", \"tree\", \"tree\", \"tree\", \"trouble\", \"trouble\", \"trouble\", \"trouble\", \"trouble\", \"trouble\", \"trouble\", \"trouble\", \"truck\", \"truck\", \"truck\", \"trumpet\", \"trustworthy\", \"try\", \"try\", \"try\", \"try\", \"try\", \"try\", \"try\", \"try\", \"try\", \"try\", \"try\", \"try\", \"try\", \"try\", \"tumblr\", \"tv\", \"tv\", \"tv\", \"tv\", \"tv\", \"tv\", \"tv\", \"tv\", \"twin\", \"type\", \"type\", \"type\", \"type\", \"type\", \"type\", \"type\", \"type\", \"type\", \"type\", \"type\", \"type\", \"type\", \"type\", \"ugly\", \"uncle\", \"unhealthy\", \"unnecessary\", \"unwind\", \"upfront\", \"upstate_ny\", \"uptight\", \"use\", \"use\", \"use\", \"use\", \"use\", \"use\", \"use\", \"use\", \"use\", \"use\", \"use\", \"use\", \"use\", \"usually\", \"usually\", \"usually\", \"usually\", \"usually\", \"usually\", \"usually\", \"usually\", \"usually\", \"usually\", \"usually\", \"usually\", \"value\", \"value\", \"value\", \"value\", \"value\", \"value\", \"ve\", \"vegan\", \"verbally\", \"version\", \"version\", \"version\", \"vice\", \"video\", \"video\", \"video\", \"video\", \"video\", \"video\", \"video_game\", \"video_game\", \"video_game\", \"videogame\", \"violence\", \"vivacious\", \"wake\", \"wake\", \"wake\", \"wake\", \"wake\", \"wake\", \"walk\", \"walk\", \"walk\", \"walk\", \"walk\", \"walk\", \"walk\", \"walk\", \"walk\", \"walk\", \"walk\", \"walk\", \"walk\", \"wanderlust\", \"wanna\", \"want\", \"want\", \"want\", \"want\", \"want\", \"want\", \"want\", \"want\", \"want\", \"want\", \"want\", \"want\", \"want\", \"want\", \"want\", \"washington_dc\", \"watch\", \"watch\", \"watch\", \"watch\", \"watch\", \"watch\", \"watch\", \"watch\", \"watch\", \"watch\", \"water\", \"water\", \"water\", \"water\", \"water\", \"water_rafte\", \"wave\", \"wave\", \"wave\", \"way\", \"way\", \"way\", \"way\", \"way\", \"way\", \"way\", \"way\", \"way\", \"way\", \"way\", \"way\", \"way\", \"way\", \"way\", \"wear\", \"wear\", \"wear\", \"wear\", \"wear\", \"wear\", \"wear_glasse\", \"website\", \"website\", \"website\", \"weed\", \"week\", \"week\", \"week\", \"week\", \"week\", \"week\", \"weekday\", \"weekend\", \"weekend\", \"weekend\", \"weekend\", \"weekend\", \"weekend_getaway\", \"weekly\", \"weeknight\", \"well\", \"well\", \"well\", \"well\", \"well\", \"well\", \"well\", \"well\", \"well\", \"well\", \"well\", \"well\", \"well\", \"well\", \"well\", \"west_coast\", \"west_coast\", \"wet\", \"whisper\", \"whistle\", \"white\", \"white\", \"white\", \"white\", \"white\", \"wine\", \"wine\", \"wine\", \"wine\", \"wine\", \"wine\", \"wine\", \"winery\", \"without_sounde\", \"woman\", \"woman\", \"woman\", \"woman\", \"word\", \"word\", \"word\", \"word\", \"word\", \"word\", \"word\", \"word\", \"word\", \"word\", \"word\", \"word\", \"work\", \"work\", \"work\", \"work\", \"work\", \"work\", \"work\", \"work\", \"work\", \"work\", \"work\", \"work\", \"work\", \"world\", \"world\", \"world\", \"world\", \"world\", \"world\", \"world\", \"world\", \"world\", \"world\", \"world\", \"world\", \"world\", \"world\", \"write\", \"write\", \"write\", \"write\", \"write\", \"write\", \"write\", \"write\", \"write\", \"write\", \"write\", \"write\", \"write\", \"writer\", \"writer\", \"writer\", \"wrong\", \"wrong\", \"wrong\", \"wrong\", \"wrong\", \"wrong\", \"wrong\", \"yard\", \"yard\", \"yard\", \"year\", \"year\", \"year\", \"year\", \"year\", \"year\", \"year\", \"year\", \"year\", \"year\", \"year\", \"year\", \"year\", \"year\", \"year\", \"yet\", \"yet\", \"yet\", \"yet\", \"yet\", \"yet\", \"yet\", \"yet\", \"yet\", \"yet\", \"yet\", \"yet\", \"yet\", \"yet\", \"yield\", \"youtube\", \"youtube\", \"yummy\", \"yummy\", \"zombie\", \"zombie\"]}, \"R\": 30, \"lambda.step\": 0.01, \"plot.opts\": {\"xlab\": \"PC1\", \"ylab\": \"PC2\"}, \"topic.order\": [12, 14, 7, 2, 10, 3, 1, 15, 11, 9, 8, 6, 5, 13, 4]};\n",
       "\n",
       "function LDAvis_load_lib(url, callback){\n",
       "  var s = document.createElement('script');\n",
       "  s.src = url;\n",
       "  s.async = true;\n",
       "  s.onreadystatechange = s.onload = callback;\n",
       "  s.onerror = function(){console.warn(\"failed to load library \" + url);};\n",
       "  document.getElementsByTagName(\"head\")[0].appendChild(s);\n",
       "}\n",
       "\n",
       "if(typeof(LDAvis) !== \"undefined\"){\n",
       "   // already loaded: just create the visualization\n",
       "   !function(LDAvis){\n",
       "       new LDAvis(\"#\" + \"ldavis_el20282814713837577447699360382\", ldavis_el20282814713837577447699360382_data);\n",
       "   }(LDAvis);\n",
       "}else if(typeof define === \"function\" && define.amd){\n",
       "   // require.js is available: use it to load d3/LDAvis\n",
       "   require.config({paths: {d3: \"https://d3js.org/d3.v5\"}});\n",
       "   require([\"d3\"], function(d3){\n",
       "      window.d3 = d3;\n",
       "      LDAvis_load_lib(\"https://cdn.jsdelivr.net/gh/bmabey/pyLDAvis@3.4.0/pyLDAvis/js/ldavis.v3.0.0.js\", function(){\n",
       "        new LDAvis(\"#\" + \"ldavis_el20282814713837577447699360382\", ldavis_el20282814713837577447699360382_data);\n",
       "      });\n",
       "    });\n",
       "}else{\n",
       "    // require.js not available: dynamically load d3 & LDAvis\n",
       "    LDAvis_load_lib(\"https://d3js.org/d3.v5.js\", function(){\n",
       "         LDAvis_load_lib(\"https://cdn.jsdelivr.net/gh/bmabey/pyLDAvis@3.4.0/pyLDAvis/js/ldavis.v3.0.0.js\", function(){\n",
       "                 new LDAvis(\"#\" + \"ldavis_el20282814713837577447699360382\", ldavis_el20282814713837577447699360382_data);\n",
       "            })\n",
       "         });\n",
       "}\n",
       "</script>"
      ],
      "text/plain": [
       "PreparedData(topic_coordinates=              x         y  topics  cluster       Freq\n",
       "topic                                                \n",
       "11     0.180164  0.147349       1        1  11.554440\n",
       "13     0.130506 -0.092593       2        1  11.180872\n",
       "6      0.023777 -0.151840       3        1  10.505292\n",
       "1     -0.024660 -0.006500       4        1   9.418998\n",
       "9      0.097962  0.075842       5        1   9.030718\n",
       "2     -0.030089  0.023589       6        1   8.227576\n",
       "0      0.103755  0.054360       7        1   6.749603\n",
       "14     0.145660 -0.098108       8        1   6.558255\n",
       "10     0.125055 -0.089503       9        1   4.913974\n",
       "8     -0.033596 -0.173388      10        1   4.597696\n",
       "7      0.064174  0.269788      11        1   4.214376\n",
       "5     -0.196677 -0.115950      12        1   4.151539\n",
       "4     -0.208163  0.242521      13        1   3.432148\n",
       "12    -0.125207 -0.117442      14        1   3.199329\n",
       "3     -0.252661  0.031876      15        1   2.265184, topic_info=             Term          Freq         Total Category  logprob  loglift\n",
       "238          play  10309.000000  10309.000000  Default  30.0000  30.0000\n",
       "81           year  16865.000000  16865.000000  Default  29.0000  29.0000\n",
       "104           new  20448.000000  20448.000000  Default  28.0000  28.0000\n",
       "254         music  11441.000000  11441.000000  Default  27.0000  27.0000\n",
       "80           work  20089.000000  20089.000000  Default  26.0000  26.0000\n",
       "..            ...           ...           ...      ...      ...      ...\n",
       "43           make    280.854027  19877.301785  Topic15  -5.3319  -0.4720\n",
       "175          side    212.044591   2792.381492  Topic15  -5.6129   1.2097\n",
       "8    conversation    215.160172   3857.759267  Topic15  -5.5984   0.9011\n",
       "17       favorite    206.319254   3930.247561  Topic15  -5.6403   0.8405\n",
       "42           love    211.387855  50632.802151  Topic15  -5.6160  -1.6911\n",
       "\n",
       "[1192 rows x 6 columns], token_table=      Topic      Freq     Term\n",
       "term                          \n",
       "990       2  0.180654  ability\n",
       "990       3  0.052950  ability\n",
       "990       4  0.281882  ability\n",
       "990       6  0.063852  ability\n",
       "990       9  0.007787  ability\n",
       "...     ...       ...      ...\n",
       "1193     13  0.970598  youtube\n",
       "5941      1  0.972748    yummy\n",
       "5941      8  0.009826    yummy\n",
       "3550      6  0.140710   zombie\n",
       "3550     15  0.851668   zombie\n",
       "\n",
       "[4306 rows x 3 columns], R=30, lambda_step=0.01, plot_opts={'xlab': 'PC1', 'ylab': 'PC2'}, topic_order=[12, 14, 7, 2, 10, 3, 1, 15, 11, 9, 8, 6, 5, 13, 4])"
      ]
     },
     "execution_count": 24,
     "metadata": {},
     "output_type": "execute_result"
    }
   ],
   "source": [
    "pyLDAvis.enable_notebook()\n",
    "\n",
    "LDAvis_prepared = gensimvis.prepare(lda_model, corpus, id2word)\n",
    "\n",
    "LDAvis_prepared\n"
   ]
  },
  {
   "cell_type": "markdown",
   "metadata": {},
   "source": [
    "## Section 4: Interpret Topics\n",
    "#### Some helper functions \n",
    "Don't worry about how these work right now. Just run them and scroll down. We'll use them to make our analysis easier later on."
   ]
  },
  {
   "cell_type": "code",
   "execution_count": 25,
   "metadata": {},
   "outputs": [],
   "source": [
    "def describe_topic(topic, n_words=10):\n",
    "    words = [word for word, _ in topic[:n_words]]  # Get top `n_words` words from the topic\n",
    "    return \" \".join(words)\n",
    "\n",
    "def display_topics(lda_model, n_words=10):\n",
    "    topics = lda_model.show_topics(num_topics=-1, num_words=n_words, formatted=False)\n",
    "    for topic_idx, topic in topics:\n",
    "        print(\"Topic {}: {}\".format(topic_idx, describe_topic(topic, n_words)))\n",
    "\n",
    "def get_topic_words(lda_model, topic_id, num_words=10):\n",
    "    # Get the top words for a specific topic\n",
    "    topic = lda_model.show_topic(topic_id, topn=num_words)\n",
    "    words = [word for word, _ in topic]  # Extract the words only\n",
    "    return set(words)\n",
    "\n",
    "def find_intersection(idxa, idxb, n):\n",
    "    a = set()\n",
    "    b = set()\n",
    "    both = set()\n",
    "    i = 0\n",
    "    while len(both) < n:\n",
    "        a.add(idxa[i])\n",
    "        b.add(idxb[i])\n",
    "        both = a.intersection(b)\n",
    "        i += 1\n",
    "    return list(both)\n",
    "\n",
    "def compare_topic_overlap(lda_model, topic_id_a, topic_id_b, num_words=nshow):\n",
    "    topic_a_words = get_topic_words(lda_model, topic_id_a, num_words)\n",
    "    topic_b_words = get_topic_words(lda_model, topic_id_b, num_words)\n",
    "    \n",
    "    # Find the intersection (overlap) between the two sets of words\n",
    "    overlap = topic_a_words.intersection(topic_b_words)\n",
    "    \n",
    "    print(f\"Common words between Topic {topic_id_a} and Topic {topic_id_b}:\")\n",
    "    print(overlap)\n",
    "\n",
    "def compare_topic_difference(lda_model, topic_id_a, topic_id_b, num_words=nshow):\n",
    "    topic_a_words = get_topic_words(lda_model, topic_id_a, num_words)\n",
    "    topic_b_words = get_topic_words(lda_model, topic_id_b, num_words)\n",
    "    \n",
    "    # Find the difference (words in Topic A but not in Topic B)\n",
    "    unique_to_a = topic_a_words.difference(topic_b_words)\n",
    "    unique_to_b = topic_b_words.difference(topic_a_words)\n",
    "    \n",
    "    print(f\"Words unique to Topic {topic_id_a}: {unique_to_a}\")\n",
    "    print(f\"Words unique to Topic {topic_id_b}: {unique_to_b}\")\n",
    "\n",
    "def blue_matrix(cells, xl, yl, t, x_labels=None):\n",
    "    n = cells.shape[0]\n",
    "    plt.figure()\n",
    "    fig, ax = plt.subplots(figsize=(8,8))\n",
    "    plt.imshow(cells, cmap='Blues')\n",
    "    ax.xaxis.tick_top()\n",
    "    ax.xaxis.set_label_position('top') \n",
    "    if x_labels is not None:\n",
    "        plt.xticks(range(n), x_labels)\n",
    "    else:\n",
    "        plt.xticks(range(n))\n",
    "    plt.yticks(range(n))\n",
    "    plt.ylabel(yl)\n",
    "    plt.xlabel(xl)\n",
    "    plt.title(t)\n",
    "    # show a colorbar legend\n",
    "    plt.colorbar()\n",
    "    return"
   ]
  },
  {
   "cell_type": "markdown",
   "metadata": {},
   "source": [
    "### Step 1: Show our topics with the top words in each"
   ]
  },
  {
   "cell_type": "code",
   "execution_count": 26,
   "metadata": {},
   "outputs": [
    {
     "name": "stdout",
     "output_type": "stream",
     "text": [
      "Topic 0: time work spend friend life day get enjoy try go\n",
      "Topic 1: life love people world live learn experience thing nature feel\n",
      "Topic 2: get day make love eat dog good go car ride\n",
      "Topic 3: read book half also nerdy nerd geeky geek language speak\n",
      "Topic 4: art work music study artist write design school creative film\n",
      "Topic 5: word well find self however often say also quite human\n",
      "Topic 6: thing think people make get say know really try good\n",
      "Topic 7: play love music watch movie sport go game also enjoy\n",
      "Topic 8: look relationship woman man want date open partner sex interested\n",
      "Topic 9: year move live love city work go grow travel back\n",
      "Topic 10: pretty go guy really get good person easy humor people\n",
      "Topic 11: love enjoy new go travel good thing friend try food\n",
      "Topic 12: heart come day know never man old eye see first\n",
      "Topic 13: love life good friend look fun person laugh family enjoy\n",
      "Topic 14: people new meet m know get look go want friend\n"
     ]
    }
   ],
   "source": [
    "display_topics(lda_model, n_words=10)"
   ]
  },
  {
   "cell_type": "markdown",
   "metadata": {},
   "source": [
    "<div class=\"alert-info\">\n",
    "    \n",
    "#### Short Answer No.4\n",
    "- Pick three topics.\n",
    "- Look at the words that make up each one. Say which one it is, and briefly answer these questions about it (3-5 sentences per topic):\n",
    "    - What does the topic seem to be about?\n",
    "    - Do any of the other topics seem similar to this one?\n",
    "    \n",
    "</div>"
   ]
  },
  {
   "cell_type": "markdown",
   "metadata": {},
   "source": [
    "🤔 **Write your response here:**\n",
    "...."
   ]
  },
  {
   "cell_type": "markdown",
   "metadata": {},
   "source": [
    "### Step 2: Examine the words that make two topics similar or different\n",
    "- We can also compare two topics to each other by looking at words that are common in both, or words that are common in one but not the other.\n",
    "- Try changing `topic_a` and `topic_b` to different topic numbers.\n",
    "- Notice the `how` option will let you see either the `overlap` or `difference` between two topics\n",
    "    - Notice also that the difference between topics a and b is not the same as between b and a"
   ]
  },
  {
   "cell_type": "code",
   "execution_count": 27,
   "metadata": {},
   "outputs": [
    {
     "name": "stdout",
     "output_type": "stream",
     "text": [
      "Common words between Topic 0 and Topic 2:\n",
      "{'get', 'go', 'day'}\n",
      "Words unique to Topic 0: {'friend', 'work', 'time', 'spend', 'try', 'enjoy', 'life'}\n",
      "Words unique to Topic 2: {'dog', 'make', 'car', 'good', 'ride', 'eat', 'love'}\n"
     ]
    }
   ],
   "source": [
    "topic_a = 0\n",
    "topic_b = 2\n",
    "\n",
    "compare_topic_overlap(lda_model, topic_a, topic_b)\n",
    "compare_topic_difference(lda_model, topic_a, topic_b)"
   ]
  },
  {
   "cell_type": "markdown",
   "metadata": {},
   "source": [
    "### Step 3: Interpret these topics\n",
    "<div class=\"alert-info\">\n",
    "    \n",
    "#### Short Answer No.5\n",
    "- This part is for you to do: code can't do it for you.\n",
    "- Try to come up with a short, catchy name for each topic and write it down.\n",
    "    - For example, if the words were \"san francisco city moved living born years raised lived live\", you might call it \"places lived\" because the topic seems to be about where people currently live (San Francisco) and where they were born / raised / moved from.  \n",
    "    \n",
    "    \n",
    "</div>"
   ]
  },
  {
   "cell_type": "markdown",
   "metadata": {},
   "source": [
    "🤔 **Write your response here:**\n",
    "...\n",
    "\n",
    "- Topic 0:\n",
    "- Topic 1: \n",
    "- Topic 2:\n",
    "- Topic 3: \n",
    "- Topic 4:\n",
    "- Topic 5: \n",
    "- Topic 6:\n",
    "- Topic 7: \n",
    "- Topic 8: \n",
    "- Topic 9:\n",
    "- Topic 10: \n",
    "- Topic 11:\n",
    "- Topic 12: \n",
    "- Topic 13:\n",
    "- Topic 14: \n",
    "\n",
    "..."
   ]
  },
  {
   "cell_type": "markdown",
   "metadata": {},
   "source": [
    "### Step 4: Check whether your interpretations match with the text\n",
    "\n",
    "#### Helper functions\n",
    "- Run this code and scroll down. \n",
    "- You don't need to understand these details right now."
   ]
  },
  {
   "cell_type": "code",
   "execution_count": 28,
   "metadata": {},
   "outputs": [],
   "source": [
    "def get_profiles_from_topics(data, transformed, topic_a, topic_b=None, pick_from=10):\n",
    "    #get our data ready\n",
    "    df = pd.DataFrame(transformed)\n",
    "    df = df.sort_values(by=topic_a, ascending=False)\n",
    "    n = df.shape[0]\n",
    "    \n",
    "    if topic_b is None:\n",
    "        #if we only want things high in one topic, take randomly from the top\n",
    "        keep = df.head(pick_from).sample(1)\n",
    "        pid = keep.index.values[0]\n",
    "    else:\n",
    "        #if we want things high in two topics, find them and pick one of the top\n",
    "        idxb = df.sort_values(by=topic_b, ascending=False).index.values\n",
    "        both = find_intersection(df.index.values, idxb, pick_from)\n",
    "        keep = df.loc[both, :].sample(1)\n",
    "        pid = keep.index.values[0]    \n",
    "        \n",
    "    #output text to show our results\n",
    "    match_text = 'Profile number ' + str(pid)\n",
    "    match_text += ' has more of topic ' + str(topic_a)\n",
    "    match_text += ' than {:.2f}%'.format(100 - (np.where(df.index==pid)[0][0] / n)*100)\n",
    "    match_text += ' of other profiles'\n",
    "    if topic_b is not None:\n",
    "        match_text += ' and more of topic ' + str(topic_b)\n",
    "        match_text += ' than {:.2f}%'.format(100 - (np.where(idxb==pid)[0][0] / n)*100)\n",
    "        match_text += ' of other profiles.'\n",
    "        \n",
    "    #print results\n",
    "    text = data[pid]\n",
    "    print(match_text)\n",
    "    print('Here is the text:\\n\\n', text)\n",
    "    return\n",
    "\n",
    "def visualize_profile(profile_topics, profile_id, num_topics):\n",
    "    # Extract the topic distribution for the given profile\n",
    "    topic_distribution = np.zeros(num_topics)\n",
    "    \n",
    "    for topic_id, prob in profile_topics[profile_id]:\n",
    "        topic_distribution[topic_id] = prob\n",
    "    \n",
    "    # Plot a stem diagram for the topic distribution\n",
    "    plt.figure(figsize=(8, 4))\n",
    "    plt.xticks(range(num_topics))\n",
    "    plt.xlabel('Topic number')\n",
    "    plt.ylabel('How much of profile is about each topic')\n",
    "    plt.title('Profile #'+str(profile_id))\n",
    "    plt.stem(range(num_topics), topic_distribution)\n",
    "    \n",
    "    plt.show()\n",
    "    return"
   ]
  },
  {
   "cell_type": "markdown",
   "metadata": {},
   "source": [
    "#### Calculate what portion of each profile is about each topic"
   ]
  },
  {
   "cell_type": "code",
   "execution_count": 29,
   "metadata": {},
   "outputs": [],
   "source": [
    "# Get topic distributions for each document\n",
    "\n",
    "profile_topics = [lda_model.get_document_topics(bow, minimum_probability=0) for bow in corpus]\n",
    "\n",
    "\n",
    "num_topics = lda_model.num_topics\n",
    "profile_topics_matrix = np.array([[prob for topic_id, prob in lda_model.get_document_topics(bow, minimum_probability=0)] for bow in corpus])\n"
   ]
  },
  {
   "cell_type": "markdown",
   "metadata": {},
   "source": [
    "#### Look at the text of a profile that has a lot of a particular topic\n",
    "- This function randomly picks one of the top few profiles for a topic, so each time you run it you will see a different example.\n",
    "    - If you want it to pick from more or less topics, change the value of `pick_from`\n",
    "    - If you want to see a different topic, change the value of `topic_a`\n",
    "    - **Hint:** you can press `ctrl`+`enter` over and over to keep re-running the code in this cell."
   ]
  },
  {
   "cell_type": "code",
   "execution_count": 30,
   "metadata": {},
   "outputs": [
    {
     "name": "stdout",
     "output_type": "stream",
     "text": [
      "Profile number 26661 has more of topic 7 than 98.89% of other profiles\n",
      "Here is the text:\n",
      "\n",
      " i'm an animation major who enjoys having fun but a book, movie and\n",
      "a nap is always good too. i love travel and have been out of the\n",
      "country a couple of times. before moving to california i had lived\n",
      "in hawaii the majority of my life.\n"
     ]
    }
   ],
   "source": [
    "get_profiles_from_topics(documents, profile_topics, topic_a=7, pick_from=1000)"
   ]
  },
  {
   "cell_type": "markdown",
   "metadata": {},
   "source": [
    "<div class=\"alert-info\">\n",
    "    \n",
    "#### Short Answer No.6\n",
    "    \n",
    "- For each of the 3 topics you chose in **Step 1**, use the function get_profiles_from_topics defined above to find a document that strongly aligns with the topic. \n",
    "- Then discuss if the document truly aligns with the topic? (3-5 sentences) \n",
    "    \n",
    "</div>"
   ]
  },
  {
   "cell_type": "markdown",
   "metadata": {},
   "source": [
    "🤔 **Write your response here:**\n",
    "..."
   ]
  },
  {
   "cell_type": "markdown",
   "metadata": {},
   "source": [
    "#### Look at the text of a profile that matches two topics well at the same time\n",
    "- Note that some topics might not happen together very often. If this is the case, the examples we find of both together might not be very good."
   ]
  },
  {
   "cell_type": "code",
   "execution_count": 31,
   "metadata": {},
   "outputs": [
    {
     "name": "stdout",
     "output_type": "stream",
     "text": [
      "Profile number 49964 has more of topic 1 than 97.77% of other profiles and more of topic 2 than 96.41% of other profiles.\n",
      "Here is the text:\n",
      "\n",
      " i am an adventurous bohemian soul seeking same for eclectic dining,\n",
      "witty banter, and outdoor excursions. my roots are in the wilds of\n",
      "montana but my curious ways have allowed me to live in multiple\n",
      "countries. this means i learned how to play poker and drink whiskey\n",
      "at an early age.. and now can order said whiskey (and wine) in\n",
      "multiple languages.\n",
      "\n",
      "although i've lived across the world i'm now a true sf gal full of\n",
      "contradictions: i belong to a fancy winery in sonoma but relish a\n",
      "1am hunt for burritos in the mission. i have high heels from j.\n",
      "choo but wear running shoes to work. i kick box but bring my\n",
      "punching partners homemade cookies. i'm strong and independent but\n",
      "also an affectionate romantic that relishes old fashioned chivalry.\n"
     ]
    }
   ],
   "source": [
    "get_profiles_from_topics(documents, profile_topics, topic_a=1, topic_b=2)"
   ]
  },
  {
   "cell_type": "markdown",
   "metadata": {},
   "source": [
    "#### See how much of a profile is about each topic\n",
    "- Try looking at some of the profiles you just found:\n",
    "    - Make the `pid` equal to the profile number from above."
   ]
  },
  {
   "cell_type": "code",
   "execution_count": 61,
   "metadata": {},
   "outputs": [
    {
     "data": {
      "image/png": "[encoded data removed]",
      "text/plain": [
       "<Figure size 800x400 with 1 Axes>"
      ]
     },
     "metadata": {},
     "output_type": "display_data"
    },
    {
     "data": {
      "text/plain": [
       "\"i am an adventurous bohemian soul seeking same for eclectic dining,\\nwitty banter, and outdoor excursions. my roots are in the wilds of\\nmontana but my curious ways have allowed me to live in multiple\\ncountries. this means i learned how to play poker and drink whiskey\\nat an early age.. and now can order said whiskey (and wine) in\\nmultiple languages.\\n\\nalthough i've lived across the world i'm now a true sf gal full of\\ncontradictions: i belong to a fancy winery in sonoma but relish a\\n1am hunt for burritos in the mission. i have high heels from j.\\nchoo but wear running shoes to work. i kick box but bring my\\npunching partners homemade cookies. i'm strong and independent but\\nalso an affectionate romantic that relishes old fashioned chivalry.\""
      ]
     },
     "execution_count": 61,
     "metadata": {},
     "output_type": "execute_result"
    }
   ],
   "source": [
    "pid = 49964\n",
    "visualize_profile(profile_topics, pid, num_topics) # visualizing the topic distribution for the profile with ID pid.\n",
    "\n",
    "\n",
    "### NEW\n",
    "documents[pid]"
   ]
  },
  {
   "cell_type": "markdown",
   "metadata": {},
   "source": [
    "<div class=\"alert-info\">\n",
    "    \n",
    "#### Short Answer No.7\n",
    "\n",
    "- Does the topic classification make sense to you? If so, which of the words in the example printed above are the most representitave of each of the topics? (3-5 sentences)\n",
    "    \n",
    "- Do your topic names match what you are seeing in the text? \n",
    "- Did any of your interpretations change after reading some profiles? (You would do so by changing pid and create several different charts. Then, based on the result, conclude if you want to make any changes to your topic names) \n",
    "    - If you need to update your topic names, do so here.\n",
    "    \n",
    "</div>"
   ]
  },
  {
   "cell_type": "markdown",
   "metadata": {},
   "source": [
    "🤔 **Write your response here:**\n",
    "..."
   ]
  },
  {
   "cell_type": "markdown",
   "metadata": {},
   "source": [
    "## Section 5: Topic Quality\n",
    "Let's see how good the topics we found are.\n",
    "\n",
    "### Step 1: See if the topics are each about different things.\n",
    "We want each topic to be about something different than the other topics. We can check this by comparing the words in each topic to the words in all the others. How to interpret:\n",
    "- Each square shows how similar two topics are. Darker means more similar, and lighter means more different.\n",
    "- The square in the very top left shows how similar topic 0 is to topic 0 (i.e. how similar it is to itself). \n",
    "- The square next to it in the top row shows how similar topic 0 is to topic 1, and so on. \n",
    "- For any two topics, you can see how similar they are by finding their numbers on the edges and seeing where they intersect."
   ]
  },
  {
   "cell_type": "code",
   "execution_count": 33,
   "metadata": {},
   "outputs": [
    {
     "data": {
      "text/plain": [
       "<Figure size 640x480 with 0 Axes>"
      ]
     },
     "metadata": {},
     "output_type": "display_data"
    },
    {
     "data": {
      "image/png": "[encoded data removed]",
      "text/plain": [
       "<Figure size 800x800 with 2 Axes>"
      ]
     },
     "metadata": {},
     "output_type": "display_data"
    }
   ],
   "source": [
    "def plot_topics(components):\n",
    "    sim = cosine_similarity(components)\n",
    "    blue_matrix(sim, xl='Topic number', yl='Topic number',\n",
    "                t = 'Word Similarity between Topics')  # heatmap\n",
    "    return\n",
    "\n",
    "plot_topics(lda_topics)"
   ]
  },
  {
   "cell_type": "markdown",
   "metadata": {},
   "source": [
    "### Step 2: See if different topics show up in different profiles\n",
    "The point is to tell profiles apart based on what topics they're about, so we need to check whether the topics appear in different profiles.\n",
    "- This shows us something that looks similar to the topic similarity we saw before, but this time:\n",
    "    - We **don't** compare topics based on which words they use\n",
    "    - We **do** compare topics based on how often they appear in the same profile as one another"
   ]
  },
  {
   "cell_type": "code",
   "execution_count": 34,
   "metadata": {},
   "outputs": [
    {
     "data": {
      "text/plain": [
       "<Figure size 640x480 with 0 Axes>"
      ]
     },
     "metadata": {},
     "output_type": "display_data"
    },
    {
     "data": {
      "image/png": "[encoded data removed]",
      "text/plain": [
       "<Figure size 800x800 with 2 Axes>"
      ]
     },
     "metadata": {},
     "output_type": "display_data"
    }
   ],
   "source": [
    "# Flatten the topic distributions for each profile into a matrix\n",
    "profile_topics_flattened = np.array([np.array([t[1] for t in profile]) for profile in profile_topics])\n",
    "\n",
    "# Convert to DataFrame and compute correlation\n",
    "def topic_cooccurance(topics):\n",
    "    co = pd.DataFrame(topics).corr()\n",
    "    blue_matrix(co, xl='Topic number', yl='Topic number', t='Topic Co-occurrence in Profiles')\n",
    "\n",
    "# Call the function with the flattened topic matrix\n",
    "topic_cooccurance(profile_topics_flattened)\n"
   ]
  },
  {
   "cell_type": "markdown",
   "metadata": {},
   "source": [
    "#### Note that the topics are mostly uncorrelated. \n",
    "- The cells in the figure above are mostly very light blue\n",
    "- This doesn't mean that, for instance, topic 1 and 2 never show up in the same profile.\n",
    "- It does mean, however, that seeing any particular topic doesn't mean we're especially likely to also see any other topic.\n",
    "\n",
    "<div class=\"alert-info\">\n",
    "    \n",
    "#### Short Answer No.8\n",
    "- Why is the diagonal line so dark? (1-2 sentences)\n",
    "\n",
    "- Would you say that this topic classification result is good? Why? (explain in 1-3 sentences)\n",
    "\n",
    "- Do you think that the two figures above are sufficient to conclude that the topic quality is perfect? Why? (3-5 sentences)\n",
    "\n",
    "</div>"
   ]
  },
  {
   "cell_type": "markdown",
   "metadata": {},
   "source": [
    "🤔 **Write your response here:**\n",
    "...."
   ]
  },
  {
   "cell_type": "markdown",
   "metadata": {},
   "source": [
    "## Section 6: Topic Popularity\n",
    "\n",
    "#### Helper functions to visualize and compare topics\n",
    "- Run this code and scroll down. The details of how it works aren't our focus right now."
   ]
  },
  {
   "cell_type": "code",
   "execution_count": 35,
   "metadata": {},
   "outputs": [],
   "source": [
    "def common_topics_bars(profile_topics):\n",
    "    df = pd.DataFrame([{t[0]: t[1] for t in topics} for topics in profile_topics])\n",
    "    \n",
    "    popularity = df.mean().rename_axis('Topic')\n",
    "    \n",
    "    popularity = popularity.sort_values(ascending=False)\n",
    "    \n",
    "    popularity.plot.bar(title='Topic Popularity')\n",
    "    plt.xlabel('Topic')\n",
    "    plt.ylabel('Average Probability')\n",
    "    plt.show()\n",
    "    return\n",
    "\n",
    "def rank_groups(data, trait, topic):\n",
    "    groups = data[trait].value_counts().index.values\n",
    "    result = {}\n",
    "    \n",
    "    # Rank groups by their mean for the specific topic\n",
    "    for g in groups:\n",
    "        result[g] = data[data[trait] == g][topic].mean()\n",
    "    \n",
    "    r = pd.DataFrame.from_dict(result, orient='index')\n",
    "    r.columns = [topic]\n",
    "    r = r.sort_values(by=topic, ascending=False)\n",
    "    \n",
    "    return r.round(3)\n",
    "\n",
    "def top_topics(data, trait, value, n_top_topics=3, distinctive=False):\n",
    "    topics = [col for col in data if col.startswith('topic_')]\n",
    "    vals = {}\n",
    "    means = {}\n",
    "    if distinctive:\n",
    "        for t in topics:\n",
    "            means[t] = data[t].mean()\n",
    "    else:\n",
    "        for t in topics:\n",
    "            means[t] = 1\n",
    "    \n",
    "    data = data[data[trait] == value]\n",
    "    \n",
    "    for t in topics:\n",
    "        vals[t] = data[t].mean() / means[t]\n",
    "    vals = pd.DataFrame.from_dict(vals, orient='index')    \n",
    "    vals = vals.sort_values(by=0, ascending=False).head(n_top_topics)\n",
    "\n",
    "    return list(vals.index.values)"
   ]
  },
  {
   "cell_type": "markdown",
   "metadata": {},
   "source": [
    "### Overall most common topics"
   ]
  },
  {
   "cell_type": "code",
   "execution_count": 36,
   "metadata": {},
   "outputs": [
    {
     "data": {
      "image/png": "[encoded data removed]",
      "text/plain": [
       "<Figure size 640x480 with 1 Axes>"
      ]
     },
     "metadata": {},
     "output_type": "display_data"
    }
   ],
   "source": [
    "common_topics_bars(profile_topics)"
   ]
  },
  {
   "cell_type": "markdown",
   "metadata": {},
   "source": [
    "### Who is a topic most popular with?"
   ]
  },
  {
   "cell_type": "markdown",
   "metadata": {},
   "source": [
    "#### Step 1: Merge our information about topics with our information about people"
   ]
  },
  {
   "cell_type": "code",
   "execution_count": 37,
   "metadata": {},
   "outputs": [
    {
     "data": {
      "text/html": [
       "<div>\n",
       "<style scoped>\n",
       "    .dataframe tbody tr th:only-of-type {\n",
       "        vertical-align: middle;\n",
       "    }\n",
       "\n",
       "    .dataframe tbody tr th {\n",
       "        vertical-align: top;\n",
       "    }\n",
       "\n",
       "    .dataframe thead th {\n",
       "        text-align: right;\n",
       "    }\n",
       "</style>\n",
       "<table border=\"1\" class=\"dataframe\">\n",
       "  <thead>\n",
       "    <tr style=\"text-align: right;\">\n",
       "      <th></th>\n",
       "      <th>age_group</th>\n",
       "      <th>age</th>\n",
       "      <th>body</th>\n",
       "      <th>alcohol_use</th>\n",
       "      <th>drug_use</th>\n",
       "      <th>edu</th>\n",
       "      <th>race_ethnicity</th>\n",
       "      <th>height_group</th>\n",
       "      <th>industry</th>\n",
       "      <th>kids</th>\n",
       "      <th>...</th>\n",
       "      <th>topic_5</th>\n",
       "      <th>topic_6</th>\n",
       "      <th>topic_7</th>\n",
       "      <th>topic_8</th>\n",
       "      <th>topic_9</th>\n",
       "      <th>topic_10</th>\n",
       "      <th>topic_11</th>\n",
       "      <th>topic_12</th>\n",
       "      <th>topic_13</th>\n",
       "      <th>topic_14</th>\n",
       "    </tr>\n",
       "  </thead>\n",
       "  <tbody>\n",
       "    <tr>\n",
       "      <th>0</th>\n",
       "      <td>20</td>\n",
       "      <td>22</td>\n",
       "      <td>overweight</td>\n",
       "      <td>yes</td>\n",
       "      <td>no</td>\n",
       "      <td>HS</td>\n",
       "      <td>multiple</td>\n",
       "      <td>over_6</td>\n",
       "      <td>other</td>\n",
       "      <td>no</td>\n",
       "      <td>...</td>\n",
       "      <td>0.000641</td>\n",
       "      <td>0.481732</td>\n",
       "      <td>0.000641</td>\n",
       "      <td>0.000641</td>\n",
       "      <td>0.000641</td>\n",
       "      <td>0.073849</td>\n",
       "      <td>0.000641</td>\n",
       "      <td>0.000641</td>\n",
       "      <td>0.056642</td>\n",
       "      <td>0.000641</td>\n",
       "    </tr>\n",
       "    <tr>\n",
       "      <th>1</th>\n",
       "      <td>30</td>\n",
       "      <td>35</td>\n",
       "      <td>average</td>\n",
       "      <td>yes</td>\n",
       "      <td>yes</td>\n",
       "      <td>unknown</td>\n",
       "      <td>White</td>\n",
       "      <td>under_6</td>\n",
       "      <td>other</td>\n",
       "      <td>no</td>\n",
       "      <td>...</td>\n",
       "      <td>0.001451</td>\n",
       "      <td>0.208464</td>\n",
       "      <td>0.033179</td>\n",
       "      <td>0.001451</td>\n",
       "      <td>0.001451</td>\n",
       "      <td>0.082837</td>\n",
       "      <td>0.390253</td>\n",
       "      <td>0.001451</td>\n",
       "      <td>0.270755</td>\n",
       "      <td>0.001451</td>\n",
       "    </tr>\n",
       "    <tr>\n",
       "      <th>2</th>\n",
       "      <td>30</td>\n",
       "      <td>38</td>\n",
       "      <td>thin</td>\n",
       "      <td>yes</td>\n",
       "      <td>yes</td>\n",
       "      <td>Grad_Pro</td>\n",
       "      <td>NaN</td>\n",
       "      <td>under_6</td>\n",
       "      <td>NaN</td>\n",
       "      <td>no</td>\n",
       "      <td>...</td>\n",
       "      <td>0.141563</td>\n",
       "      <td>0.256084</td>\n",
       "      <td>0.000670</td>\n",
       "      <td>0.000670</td>\n",
       "      <td>0.029052</td>\n",
       "      <td>0.091089</td>\n",
       "      <td>0.000670</td>\n",
       "      <td>0.052276</td>\n",
       "      <td>0.000670</td>\n",
       "      <td>0.226373</td>\n",
       "    </tr>\n",
       "    <tr>\n",
       "      <th>3</th>\n",
       "      <td>20</td>\n",
       "      <td>23</td>\n",
       "      <td>thin</td>\n",
       "      <td>yes</td>\n",
       "      <td>yes</td>\n",
       "      <td>HS</td>\n",
       "      <td>White</td>\n",
       "      <td>under_6</td>\n",
       "      <td>education</td>\n",
       "      <td>no</td>\n",
       "      <td>...</td>\n",
       "      <td>0.013335</td>\n",
       "      <td>0.013335</td>\n",
       "      <td>0.013335</td>\n",
       "      <td>0.013335</td>\n",
       "      <td>0.013335</td>\n",
       "      <td>0.013335</td>\n",
       "      <td>0.013335</td>\n",
       "      <td>0.013335</td>\n",
       "      <td>0.013335</td>\n",
       "      <td>0.013335</td>\n",
       "    </tr>\n",
       "    <tr>\n",
       "      <th>4</th>\n",
       "      <td>20</td>\n",
       "      <td>29</td>\n",
       "      <td>fit</td>\n",
       "      <td>yes</td>\n",
       "      <td>no</td>\n",
       "      <td>BA</td>\n",
       "      <td>multiple</td>\n",
       "      <td>under_6</td>\n",
       "      <td>creative</td>\n",
       "      <td>no</td>\n",
       "      <td>...</td>\n",
       "      <td>0.002902</td>\n",
       "      <td>0.002902</td>\n",
       "      <td>0.002902</td>\n",
       "      <td>0.002902</td>\n",
       "      <td>0.002902</td>\n",
       "      <td>0.089820</td>\n",
       "      <td>0.002902</td>\n",
       "      <td>0.002902</td>\n",
       "      <td>0.002902</td>\n",
       "      <td>0.746309</td>\n",
       "    </tr>\n",
       "  </tbody>\n",
       "</table>\n",
       "<p>5 rows × 34 columns</p>\n",
       "</div>"
      ],
      "text/plain": [
       "   age_group  age        body alcohol_use drug_use       edu race_ethnicity  \\\n",
       "0         20   22  overweight         yes       no        HS       multiple   \n",
       "1         30   35     average         yes      yes   unknown          White   \n",
       "2         30   38        thin         yes      yes  Grad_Pro            NaN   \n",
       "3         20   23        thin         yes      yes        HS          White   \n",
       "4         20   29         fit         yes       no        BA       multiple   \n",
       "\n",
       "  height_group   industry kids  ...   topic_5   topic_6   topic_7   topic_8  \\\n",
       "0       over_6      other   no  ...  0.000641  0.481732  0.000641  0.000641   \n",
       "1      under_6      other   no  ...  0.001451  0.208464  0.033179  0.001451   \n",
       "2      under_6        NaN   no  ...  0.141563  0.256084  0.000670  0.000670   \n",
       "3      under_6  education   no  ...  0.013335  0.013335  0.013335  0.013335   \n",
       "4      under_6   creative   no  ...  0.002902  0.002902  0.002902  0.002902   \n",
       "\n",
       "    topic_9  topic_10  topic_11  topic_12  topic_13  topic_14  \n",
       "0  0.000641  0.073849  0.000641  0.000641  0.056642  0.000641  \n",
       "1  0.001451  0.082837  0.390253  0.001451  0.270755  0.001451  \n",
       "2  0.029052  0.091089  0.000670  0.052276  0.000670  0.226373  \n",
       "3  0.013335  0.013335  0.013335  0.013335  0.013335  0.013335  \n",
       "4  0.002902  0.089820  0.002902  0.002902  0.002902  0.746309  \n",
       "\n",
       "[5 rows x 34 columns]"
      ]
     },
     "execution_count": 37,
     "metadata": {},
     "output_type": "execute_result"
    }
   ],
   "source": [
    "profile_topics_prob = [[prob for _, prob in doc] for doc in profile_topics]\n",
    "topic_info = pd.DataFrame(profile_topics_prob).add_prefix('topic_')\n",
    "together = profiles.merge(topic_info, left_index=True, right_index=True)\n",
    "together.head()"
   ]
  },
  {
   "cell_type": "markdown",
   "metadata": {},
   "source": [
    "#### Step 2: See the groups that have the most text about a given topic\n",
    "- The numbers here show how much of a profile, on average, is about a specific topic. For example, if you don't have a pet, you probably wouldn't be writing about your pet (topic X). \n",
    "\n",
    "#### Play around with the code in the next few cells:\n",
    "- Pick 3 of the traits we have data for. Here are the options (information we know about users from their profiles):\n",
    "    - `age_group` categories: ['10', '20', '30', '40', '50']\n",
    "    - `body` categories: ['average', 'fit', 'thin', 'overweight', 'unknown']\n",
    "    - `alcohol_use` categories: ['yes', 'no']\n",
    "    - `drug_use` categories: ['yes', 'no']\n",
    "    - `edu` (highest degree completed) categories: ['`<HS`', 'HS', 'BA', 'Grad_Pro', 'unknown'] \n",
    "    - `race_ethnicity` categories: ['Asian', 'Black', 'Latinx', 'White', 'multiple', 'other']\n",
    "    - `height_group` (whether someone is over or under six feet tall) categories: ['under_6', 'over_6']\n",
    "    - `industry` (what field they work in) categories: ['STEM', 'business', 'education', 'creative', 'med_law', 'other'] \n",
    "    - `kids` (whether they have children) categories: ['yes', 'no']\n",
    "    - `orientation` categories: ['straight', 'gay', 'bisexual']\n",
    "    - `pets_likes` (what pets they like) categories: ['both', 'dogs', 'cats', 'neither']\n",
    "    - `pets_has` (what pets they have) categories: ['both', 'dogs', 'cats', 'neither']\n",
    "    - `pets_any` (whether they have pets or not) categories: ['yes', 'no']\n",
    "    - `religion` categories: ['christianity', 'catholicism', 'judaism', 'buddhism', 'none', 'other'] \n",
    "    - `sex` categories: ['m', 'f']\n",
    "    - `smoker` categories: ['yes', 'no']\n",
    "    - `languages` categories: ['multiple', 'English_only'] \n",
    "- Change the topics and values in the code in the next few cells to explore how the trait you chose relates to the topics.\n",
    "    \n",
    "<div class=\"alert-info\">\n",
    "    \n",
    "#### Short Answer No.9\n",
    "\n",
    "- Before you run the code, predict what will the result be (1-2 sentences)\n",
    "\n",
    "- Write down which traits you chose to look at, and what you learned about different groups of people from the topics they used. What topics do they have in common? What topics make them different? Does this make sense given the groups? Why or why not? Remember: we interpreted the topics above, so explain your findings in terms of content, not just topic numbers. (1-2 paragraphs)\n",
    "\n",
    "- Does the actual result match your prediction? "
   ]
  },
  {
   "cell_type": "code",
   "execution_count": 38,
   "metadata": {},
   "outputs": [
    {
     "data": {
      "text/html": [
       "<div>\n",
       "<style scoped>\n",
       "    .dataframe tbody tr th:only-of-type {\n",
       "        vertical-align: middle;\n",
       "    }\n",
       "\n",
       "    .dataframe tbody tr th {\n",
       "        vertical-align: top;\n",
       "    }\n",
       "\n",
       "    .dataframe thead th {\n",
       "        text-align: right;\n",
       "    }\n",
       "</style>\n",
       "<table border=\"1\" class=\"dataframe\">\n",
       "  <thead>\n",
       "    <tr style=\"text-align: right;\">\n",
       "      <th></th>\n",
       "      <th>topic_5</th>\n",
       "    </tr>\n",
       "  </thead>\n",
       "  <tbody>\n",
       "    <tr>\n",
       "      <th>HS</th>\n",
       "      <td>0.040</td>\n",
       "    </tr>\n",
       "    <tr>\n",
       "      <th>unknown</th>\n",
       "      <td>0.038</td>\n",
       "    </tr>\n",
       "    <tr>\n",
       "      <th>Grad_Pro</th>\n",
       "      <td>0.038</td>\n",
       "    </tr>\n",
       "    <tr>\n",
       "      <th>&lt;HS</th>\n",
       "      <td>0.037</td>\n",
       "    </tr>\n",
       "    <tr>\n",
       "      <th>BA</th>\n",
       "      <td>0.037</td>\n",
       "    </tr>\n",
       "  </tbody>\n",
       "</table>\n",
       "</div>"
      ],
      "text/plain": [
       "          topic_5\n",
       "HS          0.040\n",
       "unknown     0.038\n",
       "Grad_Pro    0.038\n",
       "<HS         0.037\n",
       "BA          0.037"
      ]
     },
     "execution_count": 38,
     "metadata": {},
     "output_type": "execute_result"
    }
   ],
   "source": [
    "rank_groups(together, trait='edu', topic='topic_5') ## we use this as an example, and ask students to find 3 more"
   ]
  },
  {
   "cell_type": "markdown",
   "metadata": {},
   "source": [
    "#### Step 3: See the topics that are most common for a given group\n",
    "- This example shows most common topics for different education groups.\n",
    "- You can change the arguments to compare different groups."
   ]
  },
  {
   "cell_type": "code",
   "execution_count": 39,
   "metadata": {},
   "outputs": [
    {
     "data": {
      "text/plain": [
       "['topic_11', 'topic_13', 'topic_9']"
      ]
     },
     "execution_count": 39,
     "metadata": {},
     "output_type": "execute_result"
    }
   ],
   "source": [
    "#show most popular topics for High School graduates\n",
    "top_topics(data=together, trait='edu', value='HS', n_top_topics=3)"
   ]
  },
  {
   "cell_type": "code",
   "execution_count": 40,
   "metadata": {},
   "outputs": [
    {
     "data": {
      "text/plain": [
       "['topic_11', 'topic_13', 'topic_9']"
      ]
     },
     "execution_count": 40,
     "metadata": {},
     "output_type": "execute_result"
    }
   ],
   "source": [
    "#show most popular topics for High School graduates\n",
    "top_topics(data=together, trait='edu', value='BA', n_top_topics=3)"
   ]
  },
  {
   "cell_type": "markdown",
   "metadata": {},
   "source": [
    "#### Step 4: See the topics that distinguish a group from other groups\n",
    "- This example shows most distinctive topics for different education levels.\n",
    "- You can change the arguments to compare different groups"
   ]
  },
  {
   "cell_type": "code",
   "execution_count": 41,
   "metadata": {},
   "outputs": [
    {
     "data": {
      "text/plain": [
       "['topic_4', 'topic_5', 'topic_8']"
      ]
     },
     "execution_count": 41,
     "metadata": {},
     "output_type": "execute_result"
    }
   ],
   "source": [
    "top_topics(data=together, trait='edu', value='HS', n_top_topics=3, distinctive=True)"
   ]
  },
  {
   "cell_type": "code",
   "execution_count": 42,
   "metadata": {},
   "outputs": [
    {
     "data": {
      "text/plain": [
       "['topic_8', 'topic_4', 'topic_12']"
      ]
     },
     "execution_count": 42,
     "metadata": {},
     "output_type": "execute_result"
    }
   ],
   "source": [
    "top_topics(data=together, trait='edu', value='Grad_Pro', n_top_topics=3, distinctive=True)"
   ]
  },
  {
   "cell_type": "markdown",
   "metadata": {},
   "source": [
    "🤔 **Write your response here:**\n",
    "...."
   ]
  },
  {
   "cell_type": "markdown",
   "metadata": {},
   "source": [
    "# Section 7: NMF Topic Model\n",
    "- NMF is an alternative to LDA\n",
    "- NMF stands for Non-Negative Matrix Factorization. "
   ]
  },
  {
   "cell_type": "markdown",
   "metadata": {
    "heading_collapsed": true
   },
   "source": [
    "### Expand for more on how NMF works"
   ]
  },
  {
   "cell_type": "markdown",
   "metadata": {
    "hidden": true
   },
   "source": [
    "- `Factoring` is something you may have done in math class before, for example:\n",
    "    - $ 10 $ can be factored as $ 2 \\times 5 $\n",
    "    - $ x^2+3x+2 $ can be factored as $ (x+2)(x+1)$\n",
    "- When we convert the text into numbers for the computer, it gets stored as something called a `matrix`.\n",
    "    - The matrix is `non-negative` because we can't have negative numbers of words: all the word counts are zero or more.\n",
    "- It is not important right now how exactly we find factors for these matrices, but if you're curious, you can learn more about it in a Linear Algebra class.\n",
    "- It turns out that finding factors for text is a really good way of finding topics. This makes sense intuitively: factors are simple things we can combine to get the more complicated output, and topics are simple things people combine to write profiles.\n",
    "- [Learn more](https://en.wikipedia.org/wiki/Non-negative_matrix_factorization#Text_mining) about NMF."
   ]
  },
  {
   "cell_type": "markdown",
   "metadata": {},
   "source": [
    "### Step 1: Convert text to numbers the computer understands\n",
    "- NMF takes \"tf-idf vectors\" as input. Tf-idf stands for \"text frequency - inverse document frequency.\" \n",
    "    - Text frequency is the same as the count vectors we used for LDA above: how often does each word appear in the text?\n",
    "    - Inverse document frequency means we divide (\"inverse\") by the number of documents the word is in. (If everyone uses the word, it isn't very helpful for figuring out what makes people different. So this measurement looks for words that are used a lot in some documents, and not at all in others.)"
   ]
  },
  {
   "cell_type": "code",
   "execution_count": 43,
   "metadata": {},
   "outputs": [
    {
     "name": "stdout",
     "output_type": "stream",
     "text": [
      "Vectorizing text by TF-IDF...\n",
      "Our transformed text has 53396 rows and 1000 columns.\n"
     ]
    }
   ],
   "source": [
    "from sklearn.feature_extraction.text import TfidfVectorizer\n",
    "\n",
    "tfidf_vectorizer = TfidfVectorizer(max_features=1000, stop_words='english')\n",
    "\n",
    "print(\"Vectorizing text by TF-IDF...\")\n",
    "tfidf_text = tfidf_vectorizer.fit_transform(documents)\n",
    "\n",
    "tmp = tfidf_text.get_shape()\n",
    "print(\"Our transformed text has\", tmp[0], \"rows and\", tmp[1], \"columns.\")"
   ]
  },
  {
   "cell_type": "markdown",
   "metadata": {},
   "source": [
    "#### The features are mostly the same as count vectors, because they are just the common words in the text"
   ]
  },
  {
   "cell_type": "code",
   "execution_count": 44,
   "metadata": {},
   "outputs": [
    {
     "name": "stdout",
     "output_type": "stream",
     "text": [
      "The first few words (alphabetically) are:\n",
      " ['10' '11' '12' '15' '20' '30' 'ability' 'able' 'abroad' 'absolutely'\n",
      " 'act' 'active' 'activities' 'activity' 'actually' 'add' 'admit'\n",
      " 'adventure' 'adventures' 'adventurous']\n"
     ]
    }
   ],
   "source": [
    "tfidf_words = tfidf_vectorizer.get_feature_names_out()\n",
    "print(\"The first few words (alphabetically) are:\\n\", tfidf_words[:20])"
   ]
  },
  {
   "cell_type": "markdown",
   "metadata": {},
   "source": [
    "#### The values are different: the counts have been divided by the documents they show up in"
   ]
  },
  {
   "cell_type": "code",
   "execution_count": 45,
   "metadata": {},
   "outputs": [
    {
     "name": "stdout",
     "output_type": "stream",
     "text": [
      "Profile text:\n",
      " hey how's it going? currently vague on the profile i know, more to\n",
      "come soon. looking to meet new folks outside of my circle of\n",
      "friends. i'm pretty responsive on the reply tip, feel free to drop\n",
      "a line. cheers.\n",
      "\n",
      "TF-IDF vector:\n",
      "free \t 0.25\n",
      "feel \t 0.22\n",
      "outside \t 0.26\n",
      "folks \t 0.36\n",
      "meet \t 0.2\n",
      "soon \t 0.31\n",
      "come \t 0.25\n",
      "profile \t 0.26\n",
      "currently \t 0.26\n",
      "going \t 0.17\n",
      "hey \t 0.3\n",
      "pretty \t 0.19\n",
      "friends \t 0.15\n",
      "new \t 0.14\n",
      "looking \t 0.16\n",
      "line \t 0.33\n",
      "know \t 0.17\n"
     ]
    }
   ],
   "source": [
    "n = 4\n",
    "\n",
    "print('Profile text:\\n', documents[n])\n",
    "print('\\nTF-IDF vector:')\n",
    "\n",
    "def show_vector(x, words):\n",
    "    rows,cols = x.nonzero()\n",
    "    for row,col in zip(rows,cols):\n",
    "        print(words[col], '\\t', x[row,col].round(2))\n",
    "        \n",
    "show_vector(tfidf_text[n], words=tfidf_words)"
   ]
  },
  {
   "cell_type": "markdown",
   "metadata": {},
   "source": [
    "### Step 2: Build a topic model using NMF\n",
    "\n",
    "- NMF is faster than LDA and often works a little better for small documents like we have here."
   ]
  },
  {
   "cell_type": "code",
   "execution_count": 46,
   "metadata": {},
   "outputs": [
    {
     "name": "stdout",
     "output_type": "stream",
     "text": [
      "Performing NMF on vectors...\n",
      "Done!\n"
     ]
    }
   ],
   "source": [
    "import sklearn\n",
    "from sklearn.decomposition import NMF\n",
    "\n",
    "sklearn_major_ver = int(sklearn.__version__.split('.')[0])\n",
    "\n",
    "if (sklearn_major_ver < 1):\n",
    "    model = NMF(n_components=ntopics, alpha=.1, l1_ratio=.5, init='nndsvd', random_state= 7)\n",
    "else:\n",
    "    # after sklearn v1.0, parameter alpha was removed, alpha_W and alpha_H with different approach.  \n",
    "    model = NMF(n_components=ntopics, alpha_W=.0001, alpha_H='same', l1_ratio=.5, init='nndsvd', random_state= 7)\n",
    "\n",
    "print('Performing NMF on vectors...')\n",
    "nmf = model.fit(tfidf_text)\n",
    "nmf_topics = nmf.components_\n",
    "\n",
    "print('Done!')"
   ]
  },
  {
   "cell_type": "markdown",
   "metadata": {},
   "source": [
    "### Step 3: Show our topics with the top words in each"
   ]
  },
  {
   "cell_type": "code",
   "execution_count": 47,
   "metadata": {},
   "outputs": [
    {
     "name": "stdout",
     "output_type": "stream",
     "text": [
      "Topic 0: time people don things really friends know enjoy think person\n",
      "Topic 1: bay area moved years sf east ago born school grew\n",
      "Topic 2: just ask know moved want message meet really trying say\n",
      "Topic 3: new people meet meeting things trying places friends try city\n",
      "Topic 4: like things don movies stuff play people watch feel fun\n",
      "Topic 5: im dont lol chill guy thats person laid nice kinda\n",
      "Topic 6: love laugh travel outdoors family food cook dance sports hiking\n",
      "Topic 7: life live enjoy fullest share enjoying living simple short loving\n",
      "Topic 8: san francisco city moved living years born raised lived diego\n",
      "Topic 9: looking fun guy loving meet girl nice friends relationship share\n",
      "Topic 10: good food conversation time humor company sense enjoy wine friends\n",
      "Topic 11: going easy guy enjoy person laid pretty fun movies friends\n",
      "Topic 12: work hard play working time live job sf company school\n",
      "Topic 13: ve lived years got told past seen traveled spent far\n",
      "Topic 14: music art live movies listening listen food play playing dancing\n"
     ]
    }
   ],
   "source": [
    "def describe_NMF_topic(topic, feature_names, n_words=10):\n",
    "    words = []\n",
    "    # sort the words in the topic by importance\n",
    "    topic = topic.argsort() \n",
    "    # select the n_words most important words\n",
    "    topic = topic[:-n_words - 1:-1]\n",
    "    # for each important word, get it's name (i.e. the word) from our list of names\n",
    "    for i in topic:\n",
    "        words.append(feature_names[i])\n",
    "    # print the topic number and its most important words, separated by spaces\n",
    "    return \" \".join(words)\n",
    "\n",
    "\n",
    "def display_NMF_topics(components, feature_names, n_words=10):\n",
    "    # loop through each topic (component) in the model; show its top words\n",
    "    for topic_idx, topic in enumerate(components):\n",
    "        print(\"Topic {}:\".format(topic_idx), \n",
    "              describe_NMF_topic(topic, feature_names, n_words))\n",
    "    return\n",
    "    \n",
    "display_NMF_topics(nmf_topics, tfidf_words, nshow)"
   ]
  },
  {
   "cell_type": "markdown",
   "metadata": {},
   "source": [
    "### Step 4: Compare topics to each other\n",
    "We can compare topics visually by plotting the similarity of each topic's chosen words to each other topic."
   ]
  },
  {
   "cell_type": "code",
   "execution_count": 48,
   "metadata": {},
   "outputs": [
    {
     "data": {
      "text/plain": [
       "<Figure size 640x480 with 0 Axes>"
      ]
     },
     "metadata": {},
     "output_type": "display_data"
    },
    {
     "data": {
      "image/png": "[encoded data removed]",
      "text/plain": [
       "<Figure size 800x800 with 2 Axes>"
      ]
     },
     "metadata": {},
     "output_type": "display_data"
    }
   ],
   "source": [
    "plot_topics(nmf_topics)"
   ]
  },
  {
   "cell_type": "markdown",
   "metadata": {},
   "source": [
    "#### Examine the words that make two topics similar or different\n",
    "We can also compare two topics to each other by looking at words that are common in both, or words that are common in one but not the other. Try changing topic_a and topic_b to different topic numbers."
   ]
  },
  {
   "cell_type": "code",
   "execution_count": 49,
   "metadata": {},
   "outputs": [
    {
     "name": "stdout",
     "output_type": "stream",
     "text": [
      "overlap between 1 and 8: years year lived ago living raised moved college grew born\n",
      "difference between 1 and 8: outside past 10 running outdoors place pretty places recent playing\n",
      "difference between 8 and 1: picture play plus played poetry playful point plan pictures planning\n"
     ]
    }
   ],
   "source": [
    "def find_intersection(idxa, idxb, n):\n",
    "    a = set()\n",
    "    b = set()\n",
    "    both = set()\n",
    "    i = 0\n",
    "    while len(both) < n:\n",
    "        a.add(idxa[i])\n",
    "        b.add(idxb[i])\n",
    "        both = a.intersection(b)\n",
    "        i += 1\n",
    "    return list(both)\n",
    "\n",
    "def compare_topic_words(topics, a, b, words, how='overlap', n_words=nshow):\n",
    "    b_sort = False\n",
    "    if how == 'difference':\n",
    "        b_sort = True\n",
    "    \n",
    "    dfa = pd.DataFrame(topics, columns=words).T\n",
    "    idxa = dfa.sort_values(by=a, ascending=False).index.values\n",
    "    idxb = dfa.sort_values(by=b, ascending=b_sort).index.values\n",
    "    both = find_intersection(idxa, idxb, n=n_words)\n",
    "    \n",
    "    out = how + ' between ' + str(a) + ' and ' + str(b) + ':'\n",
    "    for w in both:\n",
    "        out += ' ' + w\n",
    "    print(out)\n",
    "    return\n",
    "\n",
    "topic_a = 1\n",
    "topic_b = 8\n",
    "\n",
    "compare_topic_words(nmf_topics, topic_a, topic_b, tfidf_words, n_words=nshow, how='overlap')\n",
    "compare_topic_words(nmf_topics, topic_a, topic_b, tfidf_words, n_words=nshow, how='difference')\n",
    "compare_topic_words(nmf_topics, topic_b, topic_a, tfidf_words, n_words=nshow, how='difference')"
   ]
  },
  {
   "cell_type": "markdown",
   "metadata": {},
   "source": [
    "### Step 5: Interpret these topics\n",
    "\n",
    "<div class=\"alert-info\">\n",
    "    \n",
    "#### Short Answer No.10\n",
    "    \n",
    "- This part is for you to do: code can't do it for you.\n",
    "- Look at the list of important words for each topic, and think about these questions.\n",
    "    - What do the words have in common?\n",
    "    - What could someone write that would use most of those words?\n",
    "    - What does this topic seem to be about?\n",
    "- Try to come up with a short, catchy name for each topic.\n",
    "    - For example, if the words were \"san francisco city moved living born years raised lived live\", you might call it \"places lived\" because the topic seems to be about where people currently live (San Francisco) and where they were born / raised / moved from. \n",
    "    \n",
    "</div>"
   ]
  },
  {
   "cell_type": "markdown",
   "metadata": {},
   "source": [
    "🤔 **Write your response here:**\n",
    "...."
   ]
  },
  {
   "cell_type": "markdown",
   "metadata": {},
   "source": [
    "### Step 6: Compare the topics from LDA and NMF\n",
    "\n",
    "#### Helper function to make a graph for us"
   ]
  },
  {
   "cell_type": "code",
   "execution_count": 50,
   "metadata": {},
   "outputs": [],
   "source": [
    "def plot_confusion(x, y, x_label='', y_label='', t_label = '', sort=True):\n",
    "    n = x.shape[0]\n",
    "    corrs = cosine_similarity(x, y)\n",
    "    topic_similarity = pd.DataFrame(corrs)\n",
    "    new_order=None\n",
    "    \n",
    "    if sort:\n",
    "        matches = []\n",
    "        pairs = {}\n",
    "\n",
    "        for i in range(n):\n",
    "            for j in range(n):\n",
    "                tmp = {}\n",
    "                tmp['i'] = i\n",
    "                tmp['j'] = j\n",
    "                tmp['match'] = corrs[i][j]\n",
    "                matches.append(tmp)\n",
    "\n",
    "        matches = pd.DataFrame(matches).sort_values(by='match', ascending=False)\n",
    "\n",
    "        for row in matches.iterrows():\n",
    "            i = row[1]['i']\n",
    "            j = row[1]['j']\n",
    "            if i not in pairs.keys():\n",
    "                if j not in pairs.values():\n",
    "                    pairs[i] = row[1]['j']\n",
    "\n",
    "        new_order = list(range(n))\n",
    "        for k in pairs.keys():\n",
    "            new_order[int(k)] = int(pairs[k])\n",
    "\n",
    "        topic_similarity = topic_similarity[new_order]\n",
    "\n",
    "    blue_matrix(topic_similarity, xl=x_label, yl=y_label,\n",
    "                t = t_label,\n",
    "                x_labels=new_order)\n",
    "    return"
   ]
  },
  {
   "cell_type": "markdown",
   "metadata": {},
   "source": [
    "#### See how similar the words in each topic from LDA are to the words in each topic from NMF\n",
    "- The NMF topics are along the X axis and the LDA are along the Y axis."
   ]
  },
  {
   "cell_type": "code",
   "execution_count": 51,
   "metadata": {},
   "outputs": [
    {
     "data": {
      "text/plain": [
       "<Figure size 640x480 with 0 Axes>"
      ]
     },
     "metadata": {},
     "output_type": "display_data"
    },
    {
     "data": {
      "image/png": "[encoded data removed]",
      "text/plain": [
       "<Figure size 800x800 with 2 Axes>"
      ]
     },
     "metadata": {},
     "output_type": "display_data"
    }
   ],
   "source": [
    "x_common = nmf_topics[:, :1000]\n",
    "y_common = lda_topics[:, :1000]\n",
    "\n",
    "plot_confusion(x = x_common, y = y_common, x_label='NMF topic number',\n",
    "               y_label='LDA topic number',\n",
    "               t_label = 'Word Similarity between LDA and NMF Topics',\n",
    "               sort=False)\n"
   ]
  },
  {
   "cell_type": "markdown",
   "metadata": {},
   "source": [
    "#### We can also sort the topics so that the most similar ones are aligned"
   ]
  },
  {
   "cell_type": "code",
   "execution_count": 52,
   "metadata": {},
   "outputs": [
    {
     "data": {
      "text/plain": [
       "<Figure size 640x480 with 0 Axes>"
      ]
     },
     "metadata": {},
     "output_type": "display_data"
    },
    {
     "data": {
      "image/png": "[encoded data removed]",
      "text/plain": [
       "<Figure size 800x800 with 2 Axes>"
      ]
     },
     "metadata": {},
     "output_type": "display_data"
    }
   ],
   "source": [
    "x_common = nmf_topics[:, :1000]\n",
    "y_common = lda_topics[:, :1000]\n",
    "\n",
    "plot_confusion(x = x_common, y = y_common, x_label='NMF topic number',\n",
    "               y_label='LDA topic number',\n",
    "               t_label = 'Word Similarity between LDA and NMF Topics',\n",
    "               sort=True)"
   ]
  },
  {
   "cell_type": "markdown",
   "metadata": {},
   "source": [
    "<div class=\"alert-info\">\n",
    "    \n",
    "#### Short Answer No.11\n",
    "\n",
    "Look at the LDA and NMF topic words and the confusion matrix, and consider the following questions:\n",
    "- Do any of the topics seem to be the same in both models?\n",
    "- Are some topics in one model but not the other?\n",
    "- Do the topics you get from one of the models make more sense than the ones you get from the other?\n",
    "\n",
    "</div>"
   ]
  },
  {
   "cell_type": "markdown",
   "metadata": {},
   "source": [
    "🤔 **Write your response here:**\n",
    "...."
   ]
  },
  {
   "cell_type": "markdown",
   "metadata": {},
   "source": [
    "## Section 8: What We Learned\n",
    "- Two statistical methods for topic modeling\n",
    "    - LDA\n",
    "    - NMF\n",
    "- How to think about and interpret the topics our models find\n",
    "- How to compare and relate different topics\n",
    "- Different ways to see the distribution of topics in profiles\n",
    "- Which topics are most popular with social categories of people\n",
    "- Which social categories of people discuss a topic most"
   ]
  },
  {
   "cell_type": "markdown",
   "metadata": {},
   "source": [
    "<div class=\"alert-warning\">\n",
    "\n",
    "#### Reflection Question 1:\n",
    "- How is what we learned in this lab, using topic modeling, different from what we learned in the last lab, using just word frequencies? How is it similar? Write a paragraph explaining. \n",
    "    \n",
    "</div>"
   ]
  },
  {
   "cell_type": "markdown",
   "metadata": {},
   "source": [
    "🤔 **Write your response here:**\n",
    "...."
   ]
  },
  {
   "cell_type": "markdown",
   "metadata": {},
   "source": [
    "<div class=\"alert-warning\">\n",
    "\n",
    "#### Reflection Question 2:\n",
    "- For both the LDA and NMF models, we specified 15 topics. Now, try running the LDA with other numbers of topics.\n",
    "    - If the topics seemed repetitive, you might want to try looking for fewer topics.\n",
    "    - If the topics seem confusing or vague, you might want to try looking for more topics (so that they can be more specific).\n",
    "- Run the code below and answer the following:\n",
    "    - What different numbers of topics did you try?\n",
    "    - How did your interpretations change in response to the number of topics? Were they it easier or more difficult to interpret?\n",
    "    - How did topic quality change in response to the number of topics? Were topics more similar or less similar?\n",
    "    \n",
    "</div>"
   ]
  },
  {
   "cell_type": "markdown",
   "metadata": {},
   "source": [
    "🤔 **Write your response here:**\n",
    "...."
   ]
  },
  {
   "cell_type": "markdown",
   "metadata": {},
   "source": [
    "#### Step 1: Decide how many topics we want to find\n",
    "- We must tell LDA how many topics we want it to look for (we did this above with the `ntopics` variable).\n",
    "    - We suggest picking a few values between 2-50."
   ]
  },
  {
   "cell_type": "code",
   "execution_count": 53,
   "metadata": {},
   "outputs": [],
   "source": [
    "#how many topics we want our model to find\n",
    "ntopics = 12\n",
    "\n",
    "#how many top words we want to display for each topic\n",
    "nshow = 10\n",
    "\n",
    "id2word = corpora.Dictionary(data_lemmatized)\n",
    "\n",
    "texts = data_lemmatized\n",
    "\n",
    "corpus = [id2word.doc2bow(text) for text in texts]"
   ]
  },
  {
   "cell_type": "markdown",
   "metadata": {},
   "source": [
    "#### Step 2: Run the LDA algorithm"
   ]
  },
  {
   "cell_type": "code",
   "execution_count": 54,
   "metadata": {},
   "outputs": [
    {
     "name": "stdout",
     "output_type": "stream",
     "text": [
      "Performing LDA on vectors. This may take a while...\n",
      "Done!\n"
     ]
    }
   ],
   "source": [
    "# Build LDA model\n",
    "print('Performing LDA on vectors. This may take a while...')\n",
    "lda_model = gensim.models.LdaMulticore(corpus=corpus,\n",
    "                                       id2word=id2word,\n",
    "                                       num_topics=ntopics, \n",
    "                                       random_state=100,\n",
    "                                       chunksize=100,\n",
    "                                       passes=10,\n",
    "                                       per_word_topics=True)\n",
    "\n",
    "lda_topics = lda_model.get_topics()\n",
    "\n",
    "print('Done!')"
   ]
  },
  {
   "cell_type": "markdown",
   "metadata": {},
   "source": [
    "#### Step 3: Show our topics with the top words in each"
   ]
  },
  {
   "cell_type": "code",
   "execution_count": 55,
   "metadata": {},
   "outputs": [
    {
     "name": "stdout",
     "output_type": "stream",
     "text": [
      "Topic 0: life love good friend people enjoy time person thing work\n",
      "Topic 1: people get thing know think really say make good want\n",
      "Topic 2: relationship love woman man open look also people well sex\n",
      "Topic 3: go love play time work get watch friend enjoy movie\n",
      "Topic 4: com asian youtube adjective watch feature san_franciscan link sadly tumblr\n",
      "Topic 5: love new enjoy people go thing travel try good friend\n",
      "Topic 6: get day make love good thing take eat live time\n",
      "Topic 7: work study learn school play currently student teach college also\n",
      "Topic 8: year move live work bear back city go grow ago\n",
      "Topic 9: m guy fun look girl go nice funny love easy\n",
      "Topic 10: music art love creative film movie read artist photography book\n",
      "Topic 11: life love live look want man woman share year old\n"
     ]
    }
   ],
   "source": [
    "display_topics(lda_model, n_words=10)"
   ]
  },
  {
   "cell_type": "markdown",
   "metadata": {},
   "source": [
    "#### Step 4: Examine the words that make two topics similar or different\n",
    "- We can also compare two topics to each other by looking at words that are common in both, or words that are common in one but not the other.\n",
    "- Try changing `topic_a` and `topic_b` to different topic numbers.\n",
    "- Notice the `how` option will let you see either the `overlap` or `difference` between two topics\n",
    "    - Notice also that the difference between topics a and b is not the same as between b and a"
   ]
  },
  {
   "cell_type": "code",
   "execution_count": 56,
   "metadata": {},
   "outputs": [
    {
     "name": "stdout",
     "output_type": "stream",
     "text": [
      "Common words between Topic 0 and Topic 1:\n",
      "{'thing', 'people', 'good'}\n",
      "Words unique to Topic 0: {'friend', 'work', 'time', 'person', 'love', 'enjoy', 'life'}\n",
      "Words unique to Topic 1: {'get', 'make', 'say', 'want', 'really', 'know', 'think'}\n"
     ]
    }
   ],
   "source": [
    "topic_a = 0\n",
    "topic_b = 1\n",
    "\n",
    "compare_topic_overlap(lda_model, topic_a, topic_b)\n",
    "compare_topic_difference(lda_model, topic_a, topic_b)"
   ]
  },
  {
   "cell_type": "markdown",
   "metadata": {},
   "source": [
    "#### Step 5: Interpret these topics\n",
    "- This part is for you to do: code can't do it for you.\n",
    "- Try to come up with a short, catchy name for each topic (no writing required)."
   ]
  },
  {
   "cell_type": "markdown",
   "metadata": {},
   "source": [
    "#### Step 6: Topic Quality\n",
    "Let's see how good the topics we found are.\n",
    "\n",
    "#### Step 6.1: See if the topics are each about different things.\n",
    "We want each topic to be about something different than the other topics. We can check this by comparing the words in each topic to the words in all the others. How to interpret:\n",
    "- Each square shows how similar two topics are. Darker means more similar, and lighter means more different.\n",
    "    - Notice that some topics may be negatively correlated.\n",
    "- The square in the very top left shows how similar topic 0 is to topic 0 (i.e. how similar it is to itself). \n",
    "- The square next to it in the top row shows how similar topic 0 is to topic 1, and so on. \n",
    "- For any two topics, you can see how similar they are by finding their numbers on the edges and seeing where they intersect."
   ]
  },
  {
   "cell_type": "code",
   "execution_count": 57,
   "metadata": {},
   "outputs": [
    {
     "data": {
      "text/plain": [
       "<Figure size 640x480 with 0 Axes>"
      ]
     },
     "metadata": {},
     "output_type": "display_data"
    },
    {
     "data": {
      "image/png": "[encoded data removed]",
      "text/plain": [
       "<Figure size 800x800 with 2 Axes>"
      ]
     },
     "metadata": {},
     "output_type": "display_data"
    }
   ],
   "source": [
    "def plot_topics(components):\n",
    "    sim = cosine_similarity(components)\n",
    "    blue_matrix(sim, xl='Topic number', yl='Topic number',\n",
    "                t = 'Word Similarity between Topics')\n",
    "    return\n",
    "\n",
    "plot_topics(lda_topics)"
   ]
  },
  {
   "cell_type": "markdown",
   "metadata": {},
   "source": [
    "#### Step 6.2: See if different topics show up in different profiles\n",
    "The point is to tell profiles apart based on what topics they're about, so we need to check whether the topics appear in different profiles.\n",
    "- This shows us something that looks similar to the topic similarity we saw before, but this time:\n",
    "    - We **don't** compare topics based on which words they use\n",
    "    - We **do** compare topics based on how often they appear in the same profile as one another"
   ]
  },
  {
   "cell_type": "code",
   "execution_count": 58,
   "metadata": {},
   "outputs": [],
   "source": [
    "profile_topics = [lda_model.get_document_topics(bow, minimum_probability=0) for bow in corpus]\n",
    "profile_topics_flattened = np.array([np.array([t[1] for t in profile]) for profile in profile_topics])"
   ]
  },
  {
   "cell_type": "code",
   "execution_count": 59,
   "metadata": {},
   "outputs": [
    {
     "data": {
      "text/plain": [
       "<Figure size 640x480 with 0 Axes>"
      ]
     },
     "metadata": {},
     "output_type": "display_data"
    },
    {
     "data": {
      "image/png": "[encoded data removed]",
      "text/plain": [
       "<Figure size 800x800 with 2 Axes>"
      ]
     },
     "metadata": {},
     "output_type": "display_data"
    }
   ],
   "source": [
    "def topic_cooccurance(topics):\n",
    "    co = pd.DataFrame(topics).corr()\n",
    "    blue_matrix(co, xl='Topic number', yl='Topic number',\n",
    "               t = 'Topic Co-occurance in Profiles')\n",
    "\n",
    "topic_cooccurance(profile_topics_flattened)"
   ]
  },
  {
   "cell_type": "code",
   "execution_count": 60,
   "metadata": {},
   "outputs": [
    {
     "name": "stdout",
     "output_type": "stream",
     "text": [
      "Current Time = 05:03:29\n"
     ]
    }
   ],
   "source": [
    "from datetime import datetime\n",
    "\n",
    "now = datetime.now()\n",
    "\n",
    "current_time = now.strftime(\"%H:%M:%S\")\n",
    "print(\"Current Time =\", current_time)"
   ]
  },
  {
   "cell_type": "code",
   "execution_count": null,
   "metadata": {},
   "outputs": [],
   "source": []
  }
 ],
 "metadata": {
  "kernelspec": {
   "display_name": "Python 3 (ipykernel)",
   "language": "python",
   "name": "python3"
  },
  "language_info": {
   "codemirror_mode": {
    "name": "ipython",
    "version": 3
   },
   "file_extension": ".py",
   "mimetype": "text/x-python",
   "name": "python",
   "nbconvert_exporter": "python",
   "pygments_lexer": "ipython3",
   "version": "3.11.7"
  }
 },
 "nbformat": 4,
 "nbformat_minor": 4
}
